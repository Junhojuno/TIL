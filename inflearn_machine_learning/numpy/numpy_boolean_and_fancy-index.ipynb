{
 "cells": [
  {
   "cell_type": "code",
   "execution_count": 2,
   "metadata": {},
   "outputs": [
    {
     "data": {
      "text/plain": [
       "array([[10, 14,  9, 10, 11, 15, 17, 10, 10],\n",
       "       [13, 17, 10, 14, 18, 19, 12,  9,  9],\n",
       "       [10, 16, 11, 11,  9, 14, 17, 13,  9],\n",
       "       [18, 15, 18, 16, 11, 18, 14, 15, 19],\n",
       "       [19,  9, 11, 19, 15, 20, 12, 12, 18],\n",
       "       [14, 11, 17, 17, 14, 11, 13, 15, 17],\n",
       "       [20,  9,  9,  9, 11, 19, 13,  9, 10],\n",
       "       [17, 19, 12, 14, 17, 19, 20, 16, 10],\n",
       "       [12,  9, 18, 17, 10, 13, 12, 10, 20],\n",
       "       [17, 13, 12, 15, 13,  9, 14, 17, 18],\n",
       "       [19, 17, 11, 10, 20, 12,  9, 15, 17],\n",
       "       [20, 16, 12, 17, 16, 16, 13, 13, 13],\n",
       "       [16, 11, 17, 18, 10, 10, 12, 11, 12],\n",
       "       [10, 10, 12, 18, 18, 19, 19, 18, 15],\n",
       "       [15, 19, 17, 16, 15, 11, 10, 13, 16]])"
      ]
     },
     "execution_count": 2,
     "metadata": {},
     "output_type": "execute_result"
    }
   ],
   "source": [
    "a = np.random.randint(9,21,size=(15,9))\n",
    "a"
   ]
  },
  {
   "cell_type": "code",
   "execution_count": 4,
   "metadata": {},
   "outputs": [
    {
     "data": {
      "text/plain": [
       "array([[0, 0, 0, 0, 0, 0, 1, 0, 0],\n",
       "       [0, 1, 0, 0, 1, 1, 0, 0, 0],\n",
       "       [0, 1, 0, 0, 0, 0, 1, 0, 0],\n",
       "       [1, 0, 1, 1, 0, 1, 0, 0, 1],\n",
       "       [1, 0, 0, 1, 0, 1, 0, 0, 1],\n",
       "       [0, 0, 1, 1, 0, 0, 0, 0, 1],\n",
       "       [1, 0, 0, 0, 0, 1, 0, 0, 0],\n",
       "       [1, 1, 0, 0, 1, 1, 1, 1, 0],\n",
       "       [0, 0, 1, 1, 0, 0, 0, 0, 1],\n",
       "       [1, 0, 0, 0, 0, 0, 0, 1, 1],\n",
       "       [1, 1, 0, 0, 1, 0, 0, 0, 1],\n",
       "       [1, 1, 0, 1, 1, 1, 0, 0, 0],\n",
       "       [1, 0, 1, 1, 0, 0, 0, 0, 0],\n",
       "       [0, 0, 0, 1, 1, 1, 1, 1, 0],\n",
       "       [0, 1, 1, 1, 0, 0, 0, 0, 1]])"
      ]
     },
     "execution_count": 4,
     "metadata": {},
     "output_type": "execute_result"
    }
   ],
   "source": [
    "b = a > 15\n",
    "b.astype(np.int) # True는 1로, False는 0으로 바꿔줌"
   ]
  },
  {
   "cell_type": "markdown",
   "metadata": {},
   "source": [
    "### fancy index\n",
    "- array를 index value로 사용"
   ]
  },
  {
   "cell_type": "code",
   "execution_count": 5,
   "metadata": {},
   "outputs": [
    {
     "data": {
      "text/plain": [
       "array([2, 2, 4, 6, 8, 4])"
      ]
     },
     "execution_count": 5,
     "metadata": {},
     "output_type": "execute_result"
    }
   ],
   "source": [
    "a = np.array([2,4,6,8])\n",
    "b = np.array([0,0,1,2,3,1]) # 반드시 integer로 선언\n",
    "a[b] # bracket index"
   ]
  },
  {
   "cell_type": "code",
   "execution_count": 6,
   "metadata": {},
   "outputs": [
    {
     "data": {
      "text/plain": [
       "array([2, 2, 4, 6, 8, 4])"
      ]
     },
     "execution_count": 6,
     "metadata": {},
     "output_type": "execute_result"
    }
   ],
   "source": [
    "a.take(b) # take 함수, 같은 효과 "
   ]
  },
  {
   "cell_type": "code",
   "execution_count": 7,
   "metadata": {},
   "outputs": [
    {
     "data": {
      "text/plain": [
       "array([ 1,  4, 16, 16,  4])"
      ]
     },
     "execution_count": 7,
     "metadata": {},
     "output_type": "execute_result"
    }
   ],
   "source": [
    "x = np.array([[1,4],[9,16]])\n",
    "y = np.array([0,0,1,1,0])\n",
    "z = np.array([0,1,1,1,1])\n",
    "\n",
    "x[y,z]"
   ]
  },
  {
   "cell_type": "code",
   "execution_count": null,
   "metadata": {},
   "outputs": [],
   "source": []
  }
 ],
 "metadata": {
  "kernelspec": {
   "display_name": "Python 3",
   "language": "python",
   "name": "python3"
  },
  "language_info": {
   "codemirror_mode": {
    "name": "ipython",
    "version": 3
   },
   "file_extension": ".py",
   "mimetype": "text/x-python",
   "name": "python",
   "nbconvert_exporter": "python",
   "pygments_lexer": "ipython3",
   "version": "3.6.4"
  }
 },
 "nbformat": 4,
 "nbformat_minor": 2
}
