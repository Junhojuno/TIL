{
 "cells": [
  {
   "cell_type": "markdown",
   "metadata": {},
   "source": [
    "## SciPy를 사용한 기초적인 검정¶\n",
    "- 이항 검정 (Binomial test)\n",
    "- 카이 제곱 검정 (Chi-square test)\n",
    "- 단일 표본 z-검정 (One-sample z-test)\n",
    "- 단일 표본 t-검정 (One-sample t-test)\n",
    "- 독립 표본 t-검정 (Independent-two-sample t-test)\n",
    "- 대응 표본 t-검정 (Paired-two-sample t-test)\n",
    "- 분산 검정 (Chi squared variance test)\n",
    "- 등분산 검정 (Equal-variance test)\n",
    "- 정규성 검정 (Normality test)"
   ]
  },
  {
   "cell_type": "markdown",
   "metadata": {},
   "source": [
    "##### binomial test"
   ]
  },
  {
   "cell_type": "code",
   "execution_count": 16,
   "metadata": {},
   "outputs": [
    {
     "data": {
      "text/plain": [
       "0.3437499999999999"
      ]
     },
     "execution_count": 16,
     "metadata": {},
     "output_type": "execute_result"
    }
   ],
   "source": [
    "N = 10\n",
    "theta_0 = 0.5 # 동전의 앞면이 나올 확률\n",
    "np.random.seed(0)\n",
    "x = sp.stats.bernoulli(theta_0).rvs(N) # 10번 던져보자\n",
    "n = np.count_nonzero(x) # 10번 던졌더니 7번 앞면나왔네?\n",
    "\n",
    "#10번 던졌는데 7번 앞면나왔어! 이거 fair한거냐?\n",
    "sp.stats.binom_test(n, N) \n",
    "# 응 fair하다고 볼 수 있어"
   ]
  },
  {
   "cell_type": "code",
   "execution_count": 18,
   "metadata": {},
   "outputs": [
    {
     "data": {
      "text/plain": [
       "0.9204107626128206"
      ]
     },
     "execution_count": 18,
     "metadata": {},
     "output_type": "execute_result"
    }
   ],
   "source": [
    "N = 100\n",
    "theta_0 = 0.5\n",
    "np.random.seed(0)\n",
    "x = sp.stats.bernoulli(theta_0).rvs(N)\n",
    "n = np.count_nonzero(x) # 100번 던져서 앞면이 49번 나왔어\n",
    "\n",
    "#얘는 fair한거야?\n",
    "sp.stats.binom_test(n, N)\n",
    "# 응 fair~"
   ]
  },
  {
   "cell_type": "code",
   "execution_count": 19,
   "metadata": {},
   "outputs": [
    {
     "data": {
      "text/plain": [
       "0.00018314322488235352"
      ]
     },
     "execution_count": 19,
     "metadata": {},
     "output_type": "execute_result"
    }
   ],
   "source": [
    "N = 100\n",
    "theta_0 = 0.35\n",
    "np.random.seed(0)\n",
    "x = sp.stats.bernoulli(theta_0).rvs(N)\n",
    "n = np.count_nonzero(x) # 100번중에 31번\n",
    "\n",
    "sp.stats.binom_test(n, N)\n",
    "# 얘는 fair다고 볼 수 없어"
   ]
  },
  {
   "cell_type": "markdown",
   "metadata": {},
   "source": [
    "##### 연습문제"
   ]
  },
  {
   "cell_type": "code",
   "execution_count": 20,
   "metadata": {},
   "outputs": [],
   "source": [
    "# N = 10이고 유의 수준이 10%라면 앞면이 나온 횟수가 몇 번이어야지 동전이 fair하지 않다고 이야기 할 수 있을까?"
   ]
  },
  {
   "cell_type": "code",
   "execution_count": 21,
   "metadata": {},
   "outputs": [
    {
     "data": {
      "text/plain": [
       "(0.10937500000000003, 0.10937500000000003)"
      ]
     },
     "execution_count": 21,
     "metadata": {},
     "output_type": "execute_result"
    }
   ],
   "source": [
    "N = 10\n",
    "theta = 0.5\n",
    "sp.stats.binom_test(2, N), sp.stats.binom_test(8, N)"
   ]
  },
  {
   "cell_type": "markdown",
   "metadata": {},
   "source": [
    "10번중 1번이하, 9번이상 나와야 fair하지 않다고 말할 수 있다."
   ]
  },
  {
   "cell_type": "markdown",
   "metadata": {},
   "source": [
    "N = 1000이고 유의 수준이 10%라면 앞면이 나온 횟수가 몇 번이어야지 동전이 fair하지 않다고 이야기 할 수 있을까? 이 때 fair하다고 이야기할 수 있는 경우의 범위는 N=10일 때와 비교하여 넓은가 혹은 좁은가?"
   ]
  },
  {
   "cell_type": "code",
   "execution_count": 22,
   "metadata": {},
   "outputs": [
    {
     "data": {
      "text/plain": [
       "(0.10674954203435372, 0.10674954203435372)"
      ]
     },
     "execution_count": 22,
     "metadata": {},
     "output_type": "execute_result"
    }
   ],
   "source": [
    "N = 1000\n",
    "theta = 0.5\n",
    "sp.stats.binom_test(474, N), sp.stats.binom_test(526, N)"
   ]
  },
  {
   "cell_type": "markdown",
   "metadata": {},
   "source": [
    "$ N=10일때보다 N=1000일때  fair한 경우의 범위가 더 좁다.  \\\\\n",
    "N이 엄청 커지면 특정 값에 범위가 한정되면서 웬만하면 reject된다. $ "
   ]
  },
  {
   "cell_type": "markdown",
   "metadata": {},
   "source": [
    "##### chisquare test\n",
    "- 카테고리 분포의 모수 $ theta $ vector에 대한 가설을 조사하는 검정 방법\n",
    "- 예를 들어 주사위를 6번 던졌을 때 주사위 1의 눈 $ x_1 $의 기댓값($ m_k$)은 1회다."
   ]
  },
  {
   "cell_type": "code",
   "execution_count": 25,
   "metadata": {},
   "outputs": [
    {
     "data": {
      "text/plain": [
       "(array([2, 2, 2, 2, 1, 2, 1, 3, 3, 1], dtype=int64),\n",
       " array([0, 3, 5, 2], dtype=int64))"
      ]
     },
     "execution_count": 25,
     "metadata": {},
     "output_type": "execute_result"
    }
   ],
   "source": [
    "N = 10\n",
    "K = 4\n",
    "theta_0 = np.ones(K)/K # [0.25, 0.25, 0.25, 0.25,]\n",
    "np.random.seed(0)\n",
    "x = np.random.choice(K, N, p=theta_0)\n",
    "n = np.bincount(x, minlength=K)\n",
    "x, n"
   ]
  },
  {
   "cell_type": "code",
   "execution_count": 26,
   "metadata": {},
   "outputs": [
    {
     "data": {
      "text/plain": [
       "Power_divergenceResult(statistic=5.199999999999999, pvalue=0.157724450396663)"
      ]
     },
     "execution_count": 26,
     "metadata": {},
     "output_type": "execute_result"
    }
   ],
   "source": [
    "sp.stats.chisquare(n)\n",
    "# 각 눈이 나올 확률은 fair하다고 볼 수 있다."
   ]
  },
  {
   "cell_type": "code",
   "execution_count": 27,
   "metadata": {},
   "outputs": [
    {
     "data": {
      "text/plain": [
       "Power_divergenceResult(statistic=16.56, pvalue=0.0008703471978912127)"
      ]
     },
     "execution_count": 27,
     "metadata": {},
     "output_type": "execute_result"
    }
   ],
   "source": [
    "N = 100\n",
    "K = 4\n",
    "theta_0 = np.array([0.35, 0.30, 0.20, 0.15])\n",
    "np.random.seed(0)\n",
    "x = np.random.choice(K, N, p=theta_0)\n",
    "n = np.bincount(x, minlength=K)\n",
    "\n",
    "sp.stats.chisquare(n)\n",
    "# 각 눈이 나올 확률이 fair다고 볼 수 없다."
   ]
  },
  {
   "cell_type": "markdown",
   "metadata": {},
   "source": [
    "##### 연습문제"
   ]
  },
  {
   "cell_type": "code",
   "execution_count": 28,
   "metadata": {},
   "outputs": [],
   "source": [
    "# 4면체 주사위를 10번 던졌다. 만약 10번 모두 1이 나왔다면 주사위가 공정하다는 귀무 가설의 유의 확률은 얼마인가?"
   ]
  },
  {
   "cell_type": "code",
   "execution_count": 29,
   "metadata": {},
   "outputs": [
    {
     "data": {
      "text/plain": [
       "Power_divergenceResult(statistic=30.0, pvalue=1.3800570312932553e-06)"
      ]
     },
     "execution_count": 29,
     "metadata": {},
     "output_type": "execute_result"
    }
   ],
   "source": [
    "sp.stats.chisquare([10,0,0,0])\n",
    "# 귀무가설 기각 : fair하다고 볼 수 없겠다."
   ]
  },
  {
   "cell_type": "markdown",
   "metadata": {},
   "source": [
    "##### 카이 제곱 검정은 어떤 카테고리 변수  X 가 다른 카테고리 변수  Y 와 상관 관계를 가지는가를 검증하는데 사용할 수도 있다."
   ]
  },
  {
   "cell_type": "code",
   "execution_count": 30,
   "metadata": {},
   "outputs": [
    {
     "data": {
      "text/plain": [
       "(2.7777777777777777, 0.24935220877729622, 2, array([[12., 12., 16.],\n",
       "        [18., 18., 24.]]))"
      ]
     },
     "execution_count": 30,
     "metadata": {},
     "output_type": "execute_result"
    }
   ],
   "source": [
    "# 예를 들어, X 가 0일 때 Y가 [10,10,20]이었고 X가 1일 때 Y가 [20,20,20]일때 \n",
    "# 상관관계가 있는지 보고싶다면?\n",
    "obs = np.array([[10, 10, 20], [20, 20, 20]])\n",
    "sp.stats.chi2_contingency(obs)"
   ]
  },
  {
   "cell_type": "markdown",
   "metadata": {},
   "source": [
    "- 첫번째 값은 test statistics, 두번째가 유의확률\n",
    "- 귀무가설은 두 확률변수사이에 상관관계가 없다(correlation이 0이다.)\n",
    "- 결과는 p-value가 0.249이므로 상관관계가 없다고 볼 수 있다.(accept)"
   ]
  },
  {
   "cell_type": "markdown",
   "metadata": {},
   "source": [
    "##### one-sample z-test\n",
    "- 분산을 정확하게 알고 있는 정규분포의 기댓값을 조사하는 검정방법\n",
    "- 분산을 알고 있는 경우는 거의 없음."
   ]
  },
  {
   "cell_type": "code",
   "execution_count": 33,
   "metadata": {},
   "outputs": [
    {
     "data": {
      "text/plain": [
       "array([ 1.76405235,  0.40015721,  0.97873798,  2.2408932 ,  1.86755799,\n",
       "       -0.97727788,  0.95008842, -0.15135721, -0.10321885,  0.4105985 ])"
      ]
     },
     "execution_count": 33,
     "metadata": {},
     "output_type": "execute_result"
    }
   ],
   "source": [
    "N = 10\n",
    "mu_0 = 0\n",
    "np.random.seed(0)\n",
    "x = sp.stats.norm(mu_0).rvs(N)\n",
    "x"
   ]
  },
  {
   "cell_type": "code",
   "execution_count": 34,
   "metadata": {},
   "outputs": [
    {
     "data": {
      "text/plain": [
       "(2.3338341854824276, 0.019604406021683538)"
      ]
     },
     "execution_count": 34,
     "metadata": {},
     "output_type": "execute_result"
    }
   ],
   "source": [
    "def ztest_1samp(x, sigma2=1, mu=0):\n",
    "    z = (x.mean() - mu)/ np.sqrt(sigma2/len(x))\n",
    "    return z, 2 * sp.stats.norm().sf(np.abs(z))\n",
    "ztest_1samp(x)"
   ]
  },
  {
   "cell_type": "markdown",
   "metadata": {},
   "source": [
    "유의확률이 0.0196이므로 귀무가설 기각(mu는 0이라 볼 수 없다.)하지만 실제 mu는 0이다. 데이터 수가 10개로 부족해서 나온 결과\n",
    "- 이처럼 귀무가설이 진실임에도 거짓으로 나온 경우를 Type 1 error라고 한다."
   ]
  },
  {
   "cell_type": "markdown",
   "metadata": {},
   "source": [
    "##### one-sample t-test\n",
    "- 정규분포의 표본에 대해 기댓값을 조사하는 검정방법"
   ]
  },
  {
   "cell_type": "code",
   "execution_count": 35,
   "metadata": {},
   "outputs": [
    {
     "data": {
      "image/png": "[encoded data removed]",
      "text/plain": [
       "<matplotlib.figure.Figure at 0x231c3b027f0>"
      ]
     },
     "metadata": {},
     "output_type": "display_data"
    }
   ],
   "source": [
    "N = 10\n",
    "mu_0 = 0\n",
    "np.random.seed(0)\n",
    "x = sp.stats.norm(mu_0).rvs(N)\n",
    "sns.distplot(x, kde=False, fit=sp.stats.norm)\n",
    "plt.show()"
   ]
  },
  {
   "cell_type": "code",
   "execution_count": 38,
   "metadata": {},
   "outputs": [
    {
     "data": {
      "text/plain": [
       "Ttest_1sampResult(statistic=2.28943967238967, pvalue=0.04781846490857058)"
      ]
     },
     "execution_count": 38,
     "metadata": {},
     "output_type": "execute_result"
    }
   ],
   "source": [
    "sp.stats.ttest_1samp(x, popmean=0)\n",
    "# mu를 0으로 가정하고 했는데 mu가 0이 아니라는 결과가 나옴(type 1 error)\n",
    "# 데이터 수가 10개로 부족해서 나온 결과"
   ]
  },
  {
   "cell_type": "code",
   "execution_count": 39,
   "metadata": {},
   "outputs": [
    {
     "data": {
      "image/png": "[encoded data removed]",
      "text/plain": [
       "<matplotlib.figure.Figure at 0x231c3885710>"
      ]
     },
     "metadata": {},
     "output_type": "display_data"
    }
   ],
   "source": [
    "N = 100\n",
    "mu_0 = 0\n",
    "np.random.seed(0)\n",
    "x = sp.stats.norm(mu_0).rvs(N)\n",
    "sns.distplot(x, kde=False, fit=sp.stats.norm)\n",
    "plt.show()\n"
   ]
  },
  {
   "cell_type": "code",
   "execution_count": 41,
   "metadata": {},
   "outputs": [
    {
     "data": {
      "text/plain": [
       "Ttest_1sampResult(statistic=0.5904283402851698, pvalue=0.5562489158694675)"
      ]
     },
     "execution_count": 41,
     "metadata": {},
     "output_type": "execute_result"
    }
   ],
   "source": [
    "sp.stats.ttest_1samp(x, popmean=0)\n",
    "# 귀무가설 accept"
   ]
  },
  {
   "cell_type": "code",
   "execution_count": null,
   "metadata": {},
   "outputs": [],
   "source": []
  },
  {
   "cell_type": "code",
   "execution_count": null,
   "metadata": {},
   "outputs": [],
   "source": []
  },
  {
   "cell_type": "code",
   "execution_count": null,
   "metadata": {},
   "outputs": [],
   "source": []
  },
  {
   "cell_type": "code",
   "execution_count": null,
   "metadata": {},
   "outputs": [],
   "source": []
  },
  {
   "cell_type": "code",
   "execution_count": null,
   "metadata": {},
   "outputs": [],
   "source": []
  }
 ],
 "metadata": {
  "kernelspec": {
   "display_name": "Python 3",
   "language": "python",
   "name": "python3"
  },
  "language_info": {
   "codemirror_mode": {
    "name": "ipython",
    "version": 3
   },
   "file_extension": ".py",
   "mimetype": "text/x-python",
   "name": "python",
   "nbconvert_exporter": "python",
   "pygments_lexer": "ipython3",
   "version": "3.6.4"
  }
 },
 "nbformat": 4,
 "nbformat_minor": 2
}
