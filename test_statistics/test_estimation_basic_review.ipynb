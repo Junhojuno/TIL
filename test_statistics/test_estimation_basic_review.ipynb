{
 "cells": [
  {
   "cell_type": "markdown",
   "metadata": {},
   "source": [
    "## 검정과 모수 추정\n",
    "``` 이 데이터는 어떠한 확률변수로부터 나온 sample이다!!\"```"
   ]
  },
  {
   "cell_type": "markdown",
   "metadata": {},
   "source": [
    "1. 해당 데이터가 특정한 분포 모형, 예를 들면 가우시안 정규 분포로부터 생성된 것인가?  : 분포 검정(distribution test), 정규성 검정(normality test)\n",
    "2. 만약 그렇다면 그 정규 분포의 기댓값  μ  와 분산  σ2 이 특정한 값을 가지고 있는가? 예를 들면  μ=0  인가 아닌가? : 모수 검정\n",
    "3. 정규 분포의 기댓값 모수  μ 가 0이 아니라면 구체적으로 어떤 값을 가질 것인가? 모수 추정"
   ]
  },
  {
   "cell_type": "markdown",
   "metadata": {},
   "source": [
    "##### 검정과 유의확률\n",
    "- 귀무가설 : 모수값이 특정한 값을 가진다고 가정한다.\n",
    "- 검정통계량(test statistics)\n",
    "- p-value : 주어진 귀무가설이 맞으면서도 계산된 검정통계량보다 더 극단적인 값이 나올 확률을 계산한다.(cdf의 개념이 사용된다.)\n",
    "- 유의수준 : 미리 정해놓은 기준값(유의수준)보다 작다면 이는 의심스럽다. 해당 검정통례치가 나올 확률이 아주 작다는 의미인데 sample로 나왔다는 건 기존의 귀무가설이 잘못되었다고 말할 수 있다. 이때는 귀무가설 기각(reject)\n",
    "- 반대로 유의수준보다 크다면 불가능하지많은 않은 값이 나왔다는 의미로 귀무가설을 채택(accept)"
   ]
  },
  {
   "cell_type": "markdown",
   "metadata": {},
   "source": [
    "##### example\n",
    "\"혈압이 정상이다(고혈압이 아니다)\"라는 귀무 가설을 증명하기 위한 검정에서 혈압 검사 결과를 사용하여 계산한 유의확률이 0.02%라는 의미는 실제로 혈압이 정상인 사람 중 혈압 검사 수치가 해당 환자의 혈압보다 우연히 더 높게 나온 사람은 0.02% 뿐이었다는 뜻\""
   ]
  },
  {
   "cell_type": "markdown",
   "metadata": {},
   "source": [
    "##### 귀무가설 vs 대립가설\n",
    "- 데이터가 따르는 분포가 어떤 특정 모수값으로 고정되어있다. ex) mu = 0\n",
    "- 귀무가설은 고정시킨상태를 말하며, 반드시 등식으로 표현되어야 한다.\n",
    "- 보통 목적, 사실임을 증명하고자하는 가설이 대립가설이 된다."
   ]
  },
  {
   "cell_type": "markdown",
   "metadata": {},
   "source": [
    "##### 양측검정\n",
    "$$ H_0:θ=0,\\\\ H_a:θ≠0 $$"
   ]
  },
  {
   "cell_type": "markdown",
   "metadata": {},
   "source": [
    "- 양측 유의 확률은 귀무 가설이 맞음에도 불구하고 실제로 나온 검정통계량과 같거나 더 희귀한 값이 나올 수 있는 확률이다. "
   ]
  },
  {
   "cell_type": "markdown",
   "metadata": {},
   "source": [
    "##### 단측검정\n",
    "$$ H_0:θ=0,H_a:θ>0 \\\\\n",
    "H_0:θ=0,H_a:θ<0 $$"
   ]
  }
 ],
 "metadata": {
  "kernelspec": {
   "display_name": "Python 3",
   "language": "python",
   "name": "python3"
  },
  "language_info": {
   "codemirror_mode": {
    "name": "ipython",
    "version": 3
   },
   "file_extension": ".py",
   "mimetype": "text/x-python",
   "name": "python",
   "nbconvert_exporter": "python",
   "pygments_lexer": "ipython3",
   "version": "3.6.4"
  }
 },
 "nbformat": 4,
 "nbformat_minor": 2
}
