{
 "cells": [
  {
   "cell_type": "code",
   "execution_count": 1,
   "metadata": {},
   "outputs": [],
   "source": [
    "import requests"
   ]
  },
  {
   "cell_type": "markdown",
   "metadata": {},
   "source": [
    "### 1. API를 이용하여 json포맷으로 데이터를 받기\n",
    "- string타입으로 받아서 json object로 parsing"
   ]
  },
  {
   "cell_type": "markdown",
   "metadata": {},
   "source": [
    "##### example 1: 네이버 주식데이터 크롤링"
   ]
  },
  {
   "cell_type": "code",
   "execution_count": 5,
   "metadata": {},
   "outputs": [],
   "source": [
    "from pandas.io.json import json_normalize"
   ]
  },
  {
   "cell_type": "code",
   "execution_count": 6,
   "metadata": {},
   "outputs": [
    {
     "data": {
      "text/plain": [
       "'http://m.stock.naver.com/api/json/sise/siseListJson.nhn?    menu=market_sum&sosok=0&pageSize=10&page=1'"
      ]
     },
     "execution_count": 6,
     "metadata": {},
     "output_type": "execute_result"
    }
   ],
   "source": [
    "def make_url(pageSize=10, page=1):\n",
    "    return \"http://m.stock.naver.com/api/json/sise/siseListJson.nhn?\\\n",
    "    menu=market_sum&sosok=0&pageSize=\" + str(pageSize) + \"&page=\" + str(page)\n",
    "make_url()"
   ]
  },
  {
   "cell_type": "code",
   "execution_count": 10,
   "metadata": {},
   "outputs": [
    {
     "data": {
      "text/html": [
       "<div>\n",
       "<style scoped>\n",
       "    .dataframe tbody tr th:only-of-type {\n",
       "        vertical-align: middle;\n",
       "    }\n",
       "\n",
       "    .dataframe tbody tr th {\n",
       "        vertical-align: top;\n",
       "    }\n",
       "\n",
       "    .dataframe thead th {\n",
       "        text-align: right;\n",
       "    }\n",
       "</style>\n",
       "<table border=\"1\" class=\"dataframe\">\n",
       "  <thead>\n",
       "    <tr style=\"text-align: right;\">\n",
       "      <th></th>\n",
       "      <th>aa</th>\n",
       "      <th>aq</th>\n",
       "      <th>cd</th>\n",
       "      <th>cr</th>\n",
       "      <th>cv</th>\n",
       "      <th>mks</th>\n",
       "      <th>mt</th>\n",
       "      <th>nm</th>\n",
       "      <th>nv</th>\n",
       "      <th>pcv</th>\n",
       "      <th>rf</th>\n",
       "    </tr>\n",
       "  </thead>\n",
       "  <tbody>\n",
       "    <tr>\n",
       "      <th>0</th>\n",
       "      <td>713265</td>\n",
       "      <td>15174988</td>\n",
       "      <td>005930</td>\n",
       "      <td>0.86</td>\n",
       "      <td>400</td>\n",
       "      <td>3017083</td>\n",
       "      <td>0</td>\n",
       "      <td>삼성전자</td>\n",
       "      <td>47000</td>\n",
       "      <td>46600</td>\n",
       "      <td>2</td>\n",
       "    </tr>\n",
       "    <tr>\n",
       "      <th>1</th>\n",
       "      <td>323195</td>\n",
       "      <td>3810122</td>\n",
       "      <td>000660</td>\n",
       "      <td>0.12</td>\n",
       "      <td>100</td>\n",
       "      <td>612250</td>\n",
       "      <td>0</td>\n",
       "      <td>SK하이닉스</td>\n",
       "      <td>84100</td>\n",
       "      <td>84000</td>\n",
       "      <td>2</td>\n",
       "    </tr>\n",
       "    <tr>\n",
       "      <th>2</th>\n",
       "      <td>371409</td>\n",
       "      <td>1266890</td>\n",
       "      <td>068270</td>\n",
       "      <td>-5.74</td>\n",
       "      <td>-17500</td>\n",
       "      <td>360513</td>\n",
       "      <td>0</td>\n",
       "      <td>셀트리온</td>\n",
       "      <td>287500</td>\n",
       "      <td>305000</td>\n",
       "      <td>5</td>\n",
       "    </tr>\n",
       "    <tr>\n",
       "      <th>3</th>\n",
       "      <td>57115</td>\n",
       "      <td>1541365</td>\n",
       "      <td>005935</td>\n",
       "      <td>-0.54</td>\n",
       "      <td>-200</td>\n",
       "      <td>334343</td>\n",
       "      <td>0</td>\n",
       "      <td>삼성전자우</td>\n",
       "      <td>37000</td>\n",
       "      <td>37200</td>\n",
       "      <td>5</td>\n",
       "    </tr>\n",
       "    <tr>\n",
       "      <th>4</th>\n",
       "      <td>103542</td>\n",
       "      <td>298893</td>\n",
       "      <td>005490</td>\n",
       "      <td>-4.49</td>\n",
       "      <td>-16000</td>\n",
       "      <td>296435</td>\n",
       "      <td>0</td>\n",
       "      <td>POSCO</td>\n",
       "      <td>340000</td>\n",
       "      <td>356000</td>\n",
       "      <td>5</td>\n",
       "    </tr>\n",
       "    <tr>\n",
       "      <th>5</th>\n",
       "      <td>97988</td>\n",
       "      <td>739540</td>\n",
       "      <td>005380</td>\n",
       "      <td>-2.59</td>\n",
       "      <td>-3500</td>\n",
       "      <td>289664</td>\n",
       "      <td>0</td>\n",
       "      <td>현대차</td>\n",
       "      <td>131500</td>\n",
       "      <td>135000</td>\n",
       "      <td>5</td>\n",
       "    </tr>\n",
       "    <tr>\n",
       "      <th>6</th>\n",
       "      <td>93234</td>\n",
       "      <td>239152</td>\n",
       "      <td>207940</td>\n",
       "      <td>-6.50</td>\n",
       "      <td>-26500</td>\n",
       "      <td>252089</td>\n",
       "      <td>0</td>\n",
       "      <td>삼성바이오로직스</td>\n",
       "      <td>381000</td>\n",
       "      <td>407500</td>\n",
       "      <td>5</td>\n",
       "    </tr>\n",
       "    <tr>\n",
       "      <th>7</th>\n",
       "      <td>104845</td>\n",
       "      <td>294913</td>\n",
       "      <td>051910</td>\n",
       "      <td>-4.64</td>\n",
       "      <td>-17000</td>\n",
       "      <td>246720</td>\n",
       "      <td>0</td>\n",
       "      <td>LG화학</td>\n",
       "      <td>349500</td>\n",
       "      <td>366500</td>\n",
       "      <td>5</td>\n",
       "    </tr>\n",
       "    <tr>\n",
       "      <th>8</th>\n",
       "      <td>56925</td>\n",
       "      <td>1041320</td>\n",
       "      <td>105560</td>\n",
       "      <td>-0.72</td>\n",
       "      <td>-400</td>\n",
       "      <td>230379</td>\n",
       "      <td>0</td>\n",
       "      <td>KB금융</td>\n",
       "      <td>55100</td>\n",
       "      <td>55500</td>\n",
       "      <td>5</td>\n",
       "    </tr>\n",
       "    <tr>\n",
       "      <th>9</th>\n",
       "      <td>76132</td>\n",
       "      <td>110287</td>\n",
       "      <td>035420</td>\n",
       "      <td>-0.86</td>\n",
       "      <td>-6000</td>\n",
       "      <td>226783</td>\n",
       "      <td>0</td>\n",
       "      <td>NAVER</td>\n",
       "      <td>688000</td>\n",
       "      <td>694000</td>\n",
       "      <td>5</td>\n",
       "    </tr>\n",
       "  </tbody>\n",
       "</table>\n",
       "</div>"
      ],
      "text/plain": [
       "       aa        aq      cd    cr     cv      mks mt        nm      nv  \\\n",
       "0  713265  15174988  005930  0.86    400  3017083  0      삼성전자   47000   \n",
       "1  323195   3810122  000660  0.12    100   612250  0    SK하이닉스   84100   \n",
       "2  371409   1266890  068270 -5.74 -17500   360513  0      셀트리온  287500   \n",
       "3   57115   1541365  005935 -0.54   -200   334343  0     삼성전자우   37000   \n",
       "4  103542    298893  005490 -4.49 -16000   296435  0     POSCO  340000   \n",
       "5   97988    739540  005380 -2.59  -3500   289664  0       현대차  131500   \n",
       "6   93234    239152  207940 -6.50 -26500   252089  0  삼성바이오로직스  381000   \n",
       "7  104845    294913  051910 -4.64 -17000   246720  0      LG화학  349500   \n",
       "8   56925   1041320  105560 -0.72   -400   230379  0      KB금융   55100   \n",
       "9   76132    110287  035420 -0.86  -6000   226783  0     NAVER  688000   \n",
       "\n",
       "      pcv rf  \n",
       "0   46600  2  \n",
       "1   84000  2  \n",
       "2  305000  5  \n",
       "3   37200  5  \n",
       "4  356000  5  \n",
       "5  135000  5  \n",
       "6  407500  5  \n",
       "7  366500  5  \n",
       "8   55500  5  \n",
       "9  694000  5  "
      ]
     },
     "execution_count": 10,
     "metadata": {},
     "output_type": "execute_result"
    }
   ],
   "source": [
    "# 데이터를 가져와서 pandas의 dataframe으로 만드는 함수1\n",
    "def get_data(url):\n",
    "    response = requests.get(url) # >>> <Response [200]> \n",
    "    json_info = response.json() # >>> 커다란 key, value의 집합\n",
    "    companys = json_info['result']['itemList'] # 주식정보만 뽑아낸다.\n",
    "    return json_normalize(companys) # 바로 dataframe으로 만들어줌.\n",
    "\n",
    "get_data(make_url())"
   ]
  },
  {
   "cell_type": "code",
   "execution_count": 12,
   "metadata": {},
   "outputs": [
    {
     "data": {
      "text/html": [
       "<div>\n",
       "<style scoped>\n",
       "    .dataframe tbody tr th:only-of-type {\n",
       "        vertical-align: middle;\n",
       "    }\n",
       "\n",
       "    .dataframe tbody tr th {\n",
       "        vertical-align: top;\n",
       "    }\n",
       "\n",
       "    .dataframe thead th {\n",
       "        text-align: right;\n",
       "    }\n",
       "</style>\n",
       "<table border=\"1\" class=\"dataframe\">\n",
       "  <thead>\n",
       "    <tr style=\"text-align: right;\">\n",
       "      <th></th>\n",
       "      <th>종목</th>\n",
       "      <th>시세</th>\n",
       "      <th>전일비</th>\n",
       "      <th>등락율</th>\n",
       "      <th>시가총액</th>\n",
       "      <th>거래량</th>\n",
       "    </tr>\n",
       "  </thead>\n",
       "  <tbody>\n",
       "    <tr>\n",
       "      <th>0</th>\n",
       "      <td>삼성전자</td>\n",
       "      <td>47000</td>\n",
       "      <td>400</td>\n",
       "      <td>0.86</td>\n",
       "      <td>NaN</td>\n",
       "      <td>15174988</td>\n",
       "    </tr>\n",
       "    <tr>\n",
       "      <th>1</th>\n",
       "      <td>SK하이닉스</td>\n",
       "      <td>84100</td>\n",
       "      <td>100</td>\n",
       "      <td>0.12</td>\n",
       "      <td>NaN</td>\n",
       "      <td>3810122</td>\n",
       "    </tr>\n",
       "    <tr>\n",
       "      <th>2</th>\n",
       "      <td>셀트리온</td>\n",
       "      <td>287500</td>\n",
       "      <td>-17500</td>\n",
       "      <td>-5.74</td>\n",
       "      <td>NaN</td>\n",
       "      <td>1266890</td>\n",
       "    </tr>\n",
       "    <tr>\n",
       "      <th>3</th>\n",
       "      <td>삼성전자우</td>\n",
       "      <td>37000</td>\n",
       "      <td>-200</td>\n",
       "      <td>-0.54</td>\n",
       "      <td>NaN</td>\n",
       "      <td>1541365</td>\n",
       "    </tr>\n",
       "    <tr>\n",
       "      <th>4</th>\n",
       "      <td>POSCO</td>\n",
       "      <td>340000</td>\n",
       "      <td>-16000</td>\n",
       "      <td>-4.49</td>\n",
       "      <td>NaN</td>\n",
       "      <td>298893</td>\n",
       "    </tr>\n",
       "    <tr>\n",
       "      <th>5</th>\n",
       "      <td>현대차</td>\n",
       "      <td>131500</td>\n",
       "      <td>-3500</td>\n",
       "      <td>-2.59</td>\n",
       "      <td>NaN</td>\n",
       "      <td>739540</td>\n",
       "    </tr>\n",
       "    <tr>\n",
       "      <th>6</th>\n",
       "      <td>삼성바이오로직스</td>\n",
       "      <td>381000</td>\n",
       "      <td>-26500</td>\n",
       "      <td>-6.50</td>\n",
       "      <td>NaN</td>\n",
       "      <td>239152</td>\n",
       "    </tr>\n",
       "    <tr>\n",
       "      <th>7</th>\n",
       "      <td>LG화학</td>\n",
       "      <td>349500</td>\n",
       "      <td>-17000</td>\n",
       "      <td>-4.64</td>\n",
       "      <td>NaN</td>\n",
       "      <td>294913</td>\n",
       "    </tr>\n",
       "    <tr>\n",
       "      <th>8</th>\n",
       "      <td>KB금융</td>\n",
       "      <td>55100</td>\n",
       "      <td>-400</td>\n",
       "      <td>-0.72</td>\n",
       "      <td>NaN</td>\n",
       "      <td>1041320</td>\n",
       "    </tr>\n",
       "    <tr>\n",
       "      <th>9</th>\n",
       "      <td>NAVER</td>\n",
       "      <td>688000</td>\n",
       "      <td>-6000</td>\n",
       "      <td>-0.86</td>\n",
       "      <td>NaN</td>\n",
       "      <td>110287</td>\n",
       "    </tr>\n",
       "  </tbody>\n",
       "</table>\n",
       "</div>"
      ],
      "text/plain": [
       "         종목      시세     전일비   등락율  시가총액       거래량\n",
       "0      삼성전자   47000     400  0.86   NaN  15174988\n",
       "1    SK하이닉스   84100     100  0.12   NaN   3810122\n",
       "2      셀트리온  287500  -17500 -5.74   NaN   1266890\n",
       "3     삼성전자우   37000    -200 -0.54   NaN   1541365\n",
       "4     POSCO  340000  -16000 -4.49   NaN    298893\n",
       "5       현대차  131500   -3500 -2.59   NaN    739540\n",
       "6  삼성바이오로직스  381000  -26500 -6.50   NaN    239152\n",
       "7      LG화학  349500  -17000 -4.64   NaN    294913\n",
       "8      KB금융   55100    -400 -0.72   NaN   1041320\n",
       "9     NAVER  688000   -6000 -0.86   NaN    110287"
      ]
     },
     "execution_count": 12,
     "metadata": {},
     "output_type": "execute_result"
    }
   ],
   "source": [
    "# 데이터를 가져와서 pandas의 dataframe으로 만드는 함수2\n",
    "def get_data2(url):\n",
    "    response = requests.get(url) # >>> <Response [200]> \n",
    "    json_info = response.json() # >>> 커다란 key, value의 집합\n",
    "    companys = json_info['result']['itemList'] # 주식정보만 뽑아낸다.\n",
    "    \n",
    "    df = pd.DataFrame(columns=[\"종목\",\"시세\",\"전일비\",\"등락율\",\"시가총액\",\"거래량\"])\n",
    "    for company in companys:\n",
    "        df.loc[len(df)] = {\n",
    "            \"종목\" : company['nm'],\n",
    "            \"시세\" : company['nv'],\n",
    "            \"전일비\" : company['cv'],\n",
    "            \"등락율\" : company['cr'],\n",
    "            \"시자총액\" : company['mks'],\n",
    "            \"거래량\" : company['aq'],\n",
    "        }\n",
    "    return df\n",
    "\n",
    "get_data2(make_url())"
   ]
  },
  {
   "cell_type": "markdown",
   "metadata": {},
   "source": [
    "##### example 2: dark sky api로 날씨 데이터 크롤링(api json, forecastio 사용)"
   ]
  },
  {
   "cell_type": "markdown",
   "metadata": {},
   "source": [
    "##### dark sky api\n",
    "- 위도와 경도를 입력하면 날씨 정보를 보내주는 api"
   ]
  },
  {
   "cell_type": "code",
   "execution_count": 14,
   "metadata": {},
   "outputs": [],
   "source": [
    "FORECAST_TOKEN = \"1da567ab436e650c7af58441bd4bdbae\" # 나에게 부여된 dark sky 토큰값"
   ]
  },
  {
   "cell_type": "code",
   "execution_count": 18,
   "metadata": {},
   "outputs": [],
   "source": [
    "def forecast(lat, lng): # 위도, 경도 \n",
    "    url = url = \"https://api.darksky.net/forecast/{}/{},{}\".format(FORECAST_TOKEN, lat, lng)\n",
    "    response = requests.get(url)\n",
    "    json_info = response.json()\n",
    "    return json_info['timezone'], json_info['hourly']['summary']\n"
   ]
  },
  {
   "cell_type": "code",
   "execution_count": 19,
   "metadata": {},
   "outputs": [
    {
     "data": {
      "text/plain": [
       "('Asia/Seoul', 'Mostly cloudy until tomorrow afternoon.')"
      ]
     },
     "execution_count": 19,
     "metadata": {},
     "output_type": "execute_result"
    }
   ],
   "source": [
    "lat = 37.512\n",
    "lng = 126.954\n",
    "forecast(lat, lng)"
   ]
  },
  {
   "cell_type": "markdown",
   "metadata": {},
   "source": [
    "##### forecastio를 이용하여 날씨데이터 가져오기"
   ]
  },
  {
   "cell_type": "code",
   "execution_count": 22,
   "metadata": {},
   "outputs": [
    {
     "data": {
      "text/plain": [
       "'Mostly cloudy until tomorrow afternoon.'"
      ]
     },
     "execution_count": 22,
     "metadata": {},
     "output_type": "execute_result"
    }
   ],
   "source": [
    "def forecast2(lat, lng):\n",
    "    forecast = forecastio.load_forecast(FORECAST_TOKEN, lat, lng) # 객체 생성\n",
    "    byHourly = forecast.hourly()\n",
    "    return byHourly.summary\n",
    "forecast2(37.512, 126.954)"
   ]
  },
  {
   "cell_type": "markdown",
   "metadata": {},
   "source": [
    "## 2. HTML코드를 이용하기\n",
    "- HTML코드를 string으로 가져와 css셀렉터로 데이터를 select\n",
    "- selecting한 데이터를 bs4로 parsing"
   ]
  },
  {
   "cell_type": "code",
   "execution_count": 27,
   "metadata": {},
   "outputs": [],
   "source": [
    "import requests"
   ]
  },
  {
   "cell_type": "code",
   "execution_count": 28,
   "metadata": {},
   "outputs": [],
   "source": [
    "from bs4 import BeautifulSoup"
   ]
  },
  {
   "cell_type": "markdown",
   "metadata": {},
   "source": [
    "##### example : 네이버 인기검색어 크롤링"
   ]
  },
  {
   "cell_type": "code",
   "execution_count": 29,
   "metadata": {},
   "outputs": [
    {
     "ename": "TypeError",
     "evalue": "'NoneType' object is not callable",
     "output_type": "error",
     "traceback": [
      "\u001b[1;31m---------------------------------------------------------------------------\u001b[0m",
      "\u001b[1;31mTypeError\u001b[0m                                 Traceback (most recent call last)",
      "\u001b[1;32m<ipython-input-29-80d6a5caa18c>\u001b[0m in \u001b[0;36m<module>\u001b[1;34m()\u001b[0m\n\u001b[0;32m     15\u001b[0m     \u001b[1;32mreturn\u001b[0m \u001b[0mdf\u001b[0m\u001b[1;33m\u001b[0m\u001b[0m\n\u001b[0;32m     16\u001b[0m \u001b[1;33m\u001b[0m\u001b[0m\n\u001b[1;32m---> 17\u001b[1;33m \u001b[0mnaver_df\u001b[0m \u001b[1;33m=\u001b[0m \u001b[0mnaver\u001b[0m\u001b[1;33m(\u001b[0m\u001b[1;33m)\u001b[0m\u001b[1;33m\u001b[0m\u001b[0m\n\u001b[0m\u001b[0;32m     18\u001b[0m \u001b[0mnaver_df\u001b[0m\u001b[1;33m[\u001b[0m\u001b[1;34m\"keywords\"\u001b[0m\u001b[1;33m]\u001b[0m\u001b[1;33m\u001b[0m\u001b[0m\n",
      "\u001b[1;32m<ipython-input-29-80d6a5caa18c>\u001b[0m in \u001b[0;36mnaver\u001b[1;34m()\u001b[0m\n\u001b[0;32m      9\u001b[0m     \u001b[1;32mfor\u001b[0m \u001b[0mkeyword\u001b[0m \u001b[1;32min\u001b[0m \u001b[0mkeywords\u001b[0m\u001b[1;33m:\u001b[0m\u001b[1;33m\u001b[0m\u001b[0m\n\u001b[0;32m     10\u001b[0m         df.loc[len(df)] = {\n\u001b[1;32m---> 11\u001b[1;33m             \u001b[1;34m\"rank\"\u001b[0m \u001b[1;33m:\u001b[0m \u001b[0mkeyword\u001b[0m\u001b[1;33m.\u001b[0m\u001b[0mselet_one\u001b[0m\u001b[1;33m(\u001b[0m\u001b[1;34m\".ah_r\"\u001b[0m\u001b[1;33m)\u001b[0m\u001b[1;33m.\u001b[0m\u001b[0mtext\u001b[0m\u001b[1;33m,\u001b[0m\u001b[1;33m\u001b[0m\u001b[0m\n\u001b[0m\u001b[0;32m     12\u001b[0m             \u001b[1;34m\"keywords\"\u001b[0m \u001b[1;33m:\u001b[0m \u001b[0mkeyword\u001b[0m\u001b[1;33m.\u001b[0m\u001b[0mselect_one\u001b[0m\u001b[1;33m(\u001b[0m\u001b[1;34m\".ah_k\"\u001b[0m\u001b[1;33m)\u001b[0m\u001b[1;33m.\u001b[0m\u001b[0mtext\u001b[0m\u001b[1;33m,\u001b[0m\u001b[1;33m\u001b[0m\u001b[0m\n\u001b[0;32m     13\u001b[0m         }\n",
      "\u001b[1;31mTypeError\u001b[0m: 'NoneType' object is not callable"
     ]
    }
   ],
   "source": [
    "def naver():\n",
    "    df = pd.DataFrame(columns=[\"rank\",\"keywords\"])\n",
    "    response = requests.get(\"https://www.naver.com/\")\n",
    "#     print(response.content)\n",
    "    dom = BeautifulSoup(response.content, \"html.parser\")\n",
    "#     print(dom)\n",
    "    keywords = dom.select(\".ah_roll_area > .ah_l > .ah_item\")\n",
    "#     print(keywords[0].select_one(\".ah_r\").text)\n",
    "    for keyword in keywords:\n",
    "        df.loc[len(df)] = {\n",
    "            \"rank\" : keyword.selet_one(\".ah_r\").text,\n",
    "            \"keywords\" : keyword.select_one(\".ah_k\").text,\n",
    "        }\n",
    "        \n",
    "    return df\n",
    "        \n",
    "naver_df = naver()\n",
    "naver_df[\"keywords\"]"
   ]
  },
  {
   "cell_type": "code",
   "execution_count": null,
   "metadata": {},
   "outputs": [],
   "source": []
  }
 ],
 "metadata": {
  "kernelspec": {
   "display_name": "Python 3",
   "language": "python",
   "name": "python3"
  },
  "language_info": {
   "codemirror_mode": {
    "name": "ipython",
    "version": 3
   },
   "file_extension": ".py",
   "mimetype": "text/x-python",
   "name": "python",
   "nbconvert_exporter": "python",
   "pygments_lexer": "ipython3",
   "version": "3.6.4"
  }
 },
 "nbformat": 4,
 "nbformat_minor": 2
}
