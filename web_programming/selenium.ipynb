{
 "cells": [
  {
   "cell_type": "code",
   "execution_count": 4,
   "metadata": {},
   "outputs": [],
   "source": [
    "from selenium import webdriver"
   ]
  },
  {
   "cell_type": "markdown",
   "metadata": {},
   "source": [
    "## Selenium\n",
    "- https://www.seleniumhq.org\n",
    "- 기본 사용법\n",
    "- 파일 업로드 다운로드\n",
    "    - google vision api 웹페이지에서 실습\n",
    "\n",
    "- 스크래핑\n",
    "    - gmarket 베스트셀러 200 아이템 정보 수집\n",
    "    - 네이버 메일(본인계정) 데이터 수집\n",
    "    \n",
    "- 자동화\n",
    "    - 워드프레스 블로그에 자동으로 댓글을 작성\n",
    "    \n",
    "- 이미지 스크린샷\n",
    "    - youtube 페이지로 실습(동영상 부분만 html 좌표로 자르기)\n",
    "    - pillow 활용 : python 이미지 처리 패키지"
   ]
  },
  {
   "cell_type": "markdown",
   "metadata": {},
   "source": [
    "##### 기본 사용법"
   ]
  },
  {
   "cell_type": "code",
   "execution_count": 6,
   "metadata": {},
   "outputs": [],
   "source": [
    "# 브라우저 열기"
   ]
  },
  {
   "cell_type": "code",
   "execution_count": 7,
   "metadata": {},
   "outputs": [],
   "source": [
    "driver = webdriver.Chrome() # browser 객체"
   ]
  },
  {
   "cell_type": "code",
   "execution_count": 8,
   "metadata": {},
   "outputs": [],
   "source": [
    "# 페이지 이동\n",
    "driver.get(\"http://naver.com\")"
   ]
  },
  {
   "cell_type": "code",
   "execution_count": 12,
   "metadata": {},
   "outputs": [],
   "source": [
    "# browser 윈도우 사이즈 조절\n",
    "driver.set_window_size(800,600) # (가로, 세로)"
   ]
  },
  {
   "cell_type": "code",
   "execution_count": 15,
   "metadata": {},
   "outputs": [],
   "source": [
    "# 스크롤 조절 by javascript\n",
    "script = \"window.scrollTo(500,300);\" # (가로, 세로)\n",
    "driver.execute_script(script)"
   ]
  },
  {
   "cell_type": "code",
   "execution_count": 16,
   "metadata": {},
   "outputs": [
    {
     "data": {
      "text/plain": [
       "'CDwindow-D244928D076CF8187B03E93653939942'"
      ]
     },
     "execution_count": 16,
     "metadata": {},
     "output_type": "execute_result"
    }
   ],
   "source": [
    "# 현재 윈도우 객체를 저장\n",
    "main_window = driver.current_window_handle\n",
    "main_window"
   ]
  },
  {
   "cell_type": "code",
   "execution_count": 17,
   "metadata": {},
   "outputs": [],
   "source": [
    "# 새로운 윈도우 탭열기 by java script\n",
    "script = \"window.open('http://google.com');\"\n",
    "driver.execute_script(script)"
   ]
  },
  {
   "cell_type": "code",
   "execution_count": 18,
   "metadata": {},
   "outputs": [
    {
     "data": {
      "text/plain": [
       "'CDwindow-D244928D076CF8187B03E93653939942'"
      ]
     },
     "execution_count": 18,
     "metadata": {},
     "output_type": "execute_result"
    }
   ],
   "source": [
    "driver.current_window_handle # 아직 현재 윈도우 객체가 네이버에 있음."
   ]
  },
  {
   "cell_type": "code",
   "execution_count": 20,
   "metadata": {},
   "outputs": [
    {
     "data": {
      "text/plain": [
       "['CDwindow-D244928D076CF8187B03E93653939942',\n",
       " 'CDwindow-3853AE8F8416DCD9608BDB5F99C051EF']"
      ]
     },
     "execution_count": 20,
     "metadata": {},
     "output_type": "execute_result"
    }
   ],
   "source": [
    "# 윈도우 탭 객체확인\n",
    "windows = driver.window_handles # 열려있는 윈도우가 리스트로 저장\n",
    "windows # naver, google 두개가 리스트로 묶여뜸"
   ]
  },
  {
   "cell_type": "code",
   "execution_count": 50,
   "metadata": {},
   "outputs": [],
   "source": [
    "# 현재 윈도우 탭 설정\n",
    "driver.switch_to_window(windows[0]) # 0은 네이버, 1은 구글"
   ]
  },
  {
   "cell_type": "code",
   "execution_count": 24,
   "metadata": {},
   "outputs": [],
   "source": [
    "driver.switch_to_window(main_window) # 이것도 네이버"
   ]
  },
  {
   "cell_type": "code",
   "execution_count": 30,
   "metadata": {},
   "outputs": [],
   "source": [
    "# 페이지 새로고침 by javascript\n",
    "script = \"location.reload();\"\n",
    "driver.execute_script(script)"
   ]
  },
  {
   "cell_type": "code",
   "execution_count": 47,
   "metadata": {},
   "outputs": [],
   "source": [
    "# alert : 확인버튼만 있음\n",
    "script = \"alert('data science');\"\n",
    "driver.execute_script(script)"
   ]
  },
  {
   "cell_type": "code",
   "execution_count": 42,
   "metadata": {},
   "outputs": [
    {
     "data": {
      "text/plain": [
       "'data science'"
      ]
     },
     "execution_count": 42,
     "metadata": {},
     "output_type": "execute_result"
    }
   ],
   "source": [
    "alert = driver.switch_to_alert() \n",
    "alert.text"
   ]
  },
  {
   "cell_type": "code",
   "execution_count": 49,
   "metadata": {},
   "outputs": [],
   "source": [
    "alert.accept() # 없애기"
   ]
  },
  {
   "cell_type": "code",
   "execution_count": 44,
   "metadata": {},
   "outputs": [],
   "source": [
    "# confirm : 취소버튼, 확인버튼 모두 있음.\n",
    "script = \"confirm('test selenium')\"\n",
    "driver.execute_script(script)"
   ]
  },
  {
   "cell_type": "code",
   "execution_count": 45,
   "metadata": {},
   "outputs": [
    {
     "data": {
      "text/plain": [
       "'test selenium'"
      ]
     },
     "execution_count": 45,
     "metadata": {},
     "output_type": "execute_result"
    }
   ],
   "source": [
    "confirm = driver.switch_to_alert()\n",
    "confirm.text"
   ]
  },
  {
   "cell_type": "code",
   "execution_count": 46,
   "metadata": {},
   "outputs": [],
   "source": [
    "confirm.dismiss() # 취소버튼 클릭\n",
    "# confirm.accept() # 확인버튼 클릭"
   ]
  },
  {
   "cell_type": "code",
   "execution_count": 51,
   "metadata": {},
   "outputs": [],
   "source": [
    "# input엘리먼트에 문자열 입력하기\n",
    "driver.find_element_by_css_selector('#query').send_keys(\"패스트 캠퍼스\")"
   ]
  },
  {
   "cell_type": "code",
   "execution_count": 52,
   "metadata": {},
   "outputs": [],
   "source": [
    "# 검색버튼 클릭\n",
    "driver.find_element_by_css_selector(\"#search_btn\").click()"
   ]
  },
  {
   "cell_type": "code",
   "execution_count": 53,
   "metadata": {},
   "outputs": [],
   "source": [
    "# 현재 윈도우 닫기\n",
    "driver.close() # 탭이 하나라면 close시 브라우저도 동시에 닫힘."
   ]
  },
  {
   "cell_type": "code",
   "execution_count": 56,
   "metadata": {},
   "outputs": [],
   "source": [
    "# 브라우저 닫기\n",
    "driver.quit()"
   ]
  },
  {
   "cell_type": "markdown",
   "metadata": {},
   "source": [
    "#### 파일 업로드\n",
    "- google vision api 페이지 활용\n",
    "- vision api 페이지로 이동\n",
    "- iframe으로 frame을 변경\n",
    "- 이미지 파일을 업로드\n",
    "- 웹데이터와 문자열 데이터(document) 수집"
   ]
  },
  {
   "cell_type": "code",
   "execution_count": 57,
   "metadata": {},
   "outputs": [],
   "source": [
    "# 구글 비전 api 페이지 이동\n",
    "url = \"https://cloud.google.com/vision/\"\n",
    "driver = webdriver.Chrome()\n",
    "driver.get(url)"
   ]
  },
  {
   "cell_type": "code",
   "execution_count": 58,
   "metadata": {},
   "outputs": [],
   "source": [
    "# 메인프레임에서 iframe 영역으로 frame을 변경\n",
    "iframe = driver.find_element_by_css_selector('#vision_demo_section > iframe')\n",
    "driver.switch_to_frame(iframe)"
   ]
  },
  {
   "cell_type": "code",
   "execution_count": 59,
   "metadata": {},
   "outputs": [],
   "source": [
    "# 메인프레임으로 다시 돌아오기\n",
    "# driver.switch_to_default_content()"
   ]
  },
  {
   "cell_type": "code",
   "execution_count": 60,
   "metadata": {},
   "outputs": [],
   "source": [
    "# 파일 업로드\n",
    "# 파일 경로를 쓸때는 절대경로로 사용해야 합니다.\n",
    "file_path = \"C:/dss/dev/TIL/web_programming/dog.png\"\n",
    "driver.find_element_by_css_selector(\"#input\").send_keys(file_path)"
   ]
  },
  {
   "cell_type": "code",
   "execution_count": 61,
   "metadata": {},
   "outputs": [],
   "source": [
    "# web 데이터를 가져오자\n",
    "# web 버튼 클릭부터!\n",
    "driver.find_element_by_css_selector(\"#webDetection\").click()"
   ]
  },
  {
   "cell_type": "code",
   "execution_count": 65,
   "metadata": {},
   "outputs": [
    {
     "name": "stdout",
     "output_type": "stream",
     "text": [
      "French Bulldog 1.29047\n",
      "Boston Terrier 1.28066\n",
      "Bulldog 1.27885\n",
      "Bull Terrier 1.07139\n",
      "Soft-coated Wheaten Terrier 0.98682\n",
      "Puppy 0.8898\n",
      "Border Collie 0.78608\n",
      "Terrier 0.6546\n",
      "Pet 0.6301\n",
      "Brindle 0.5639\n",
      "Dog breed 0.4977\n",
      "Breed 0.4297\n",
      "Veterinarian 0.4175\n",
      "Black Brindle 0.4112\n",
      "Dog 0\n"
     ]
    }
   ],
   "source": [
    "# data가 여러개이므로 elements\n",
    "results = driver.find_elements_by_css_selector(\"#card .container > .row\")[:15]\n",
    "# 상위 15개만 필요 & 출력\n",
    "for result in results:\n",
    "    print(\n",
    "    result.find_element_by_css_selector('.name').text,\n",
    "    result.find_element_by_css_selector('.score').text,\n",
    "    )"
   ]
  },
  {
   "cell_type": "code",
   "execution_count": 66,
   "metadata": {},
   "outputs": [],
   "source": [
    "# 문자열 데이터 가져오기(document부분 클릭)\n",
    "driver.find_element_by_css_selector(\"#fullTextAnnotation\").click()"
   ]
  },
  {
   "cell_type": "code",
   "execution_count": 69,
   "metadata": {},
   "outputs": [
    {
     "data": {
      "text/plain": [
       "2"
      ]
     },
     "execution_count": 69,
     "metadata": {},
     "output_type": "execute_result"
    }
   ],
   "source": [
    "fieldsets = driver.find_elements_by_css_selector\\\n",
    "(\".page > .container.style-scope.vs-document > fieldset\")\n",
    "len(fieldsets)"
   ]
  },
  {
   "cell_type": "code",
   "execution_count": 73,
   "metadata": {},
   "outputs": [
    {
     "data": {
      "text/plain": [
       "['In dog the house', ' 인기를 잃다 , 면목을 잃다']"
      ]
     },
     "execution_count": 73,
     "metadata": {},
     "output_type": "execute_result"
    }
   ],
   "source": [
    "documents = [] # 문장 2개가 들어갑니다.\n",
    "\n",
    "for fieldset in fieldsets:\n",
    "    words = fieldset.find_elements_by_css_selector(\".container .word\")\n",
    "#     print(len(words))\n",
    "    word_list = []\n",
    "    for word in words:\n",
    "        word = word.text.replace(\" \",\"\").replace(\"'\",\"\")\n",
    "        word_list.append(word)\n",
    "    documents.append(\" \".join(word_list))\n",
    "    \n",
    "documents    "
   ]
  },
  {
   "cell_type": "code",
   "execution_count": 74,
   "metadata": {},
   "outputs": [],
   "source": [
    "driver.quit()"
   ]
  },
  {
   "cell_type": "markdown",
   "metadata": {},
   "source": [
    "#### 스크래핑\n",
    "- gmarket 베스트 200 데이터 수집\n",
    "- http://corners.gmarket.co.kr/Bestsellers"
   ]
  },
  {
   "cell_type": "code",
   "execution_count": 2,
   "metadata": {},
   "outputs": [],
   "source": [
    "from selenium import webdriver"
   ]
  },
  {
   "cell_type": "code",
   "execution_count": 3,
   "metadata": {},
   "outputs": [],
   "source": [
    "url = \"http://corners.gmarket.co.kr/Bestsellers\"\n",
    "driver = webdriver.Chrome()\n",
    "driver.get(url)"
   ]
  },
  {
   "cell_type": "code",
   "execution_count": 6,
   "metadata": {},
   "outputs": [
    {
     "data": {
      "text/plain": [
       "200"
      ]
     },
     "execution_count": 6,
     "metadata": {},
     "output_type": "execute_result"
    }
   ],
   "source": [
    "items = driver.find_elements_by_css_selector(\".best-list:nth-child(3) > ul > li\")\n",
    "\n",
    "# dict_list = []\n",
    "\n",
    "# for item in items:\n",
    "#     dict_list.append(\n",
    "#     {\n",
    "#         \"title\" : item.find_element_by_css_selector(\".itemname\").text,\n",
    "#         \"link\" : item.find_element_by_css_selector(\".itemname\").get_attribute(\"href\"),\n",
    "#         \"o-price\": item.find_element_by_css_selector(\".o-price\").text.replace(\",\",\"\")[:-1],\n",
    "#         \"s-price\": item.find_element_by_css_selector(\".s-price\").text.split(\" \")[0].replace(\",\",\"\")[:-1], \n",
    "#     })\n",
    "\n",
    "\n",
    "    \n",
    "# df\n",
    "len(items)"
   ]
  },
  {
   "cell_type": "code",
   "execution_count": 94,
   "metadata": {},
   "outputs": [],
   "source": [
    "df = pd.DataFrame(dict_list)"
   ]
  },
  {
   "cell_type": "code",
   "execution_count": 97,
   "metadata": {},
   "outputs": [],
   "source": [
    "idxs = df['o-price'] == \"\"\n",
    "df[\"o-price\"][idxs] = df[\"s-price\"][idxs]"
   ]
  },
  {
   "cell_type": "code",
   "execution_count": 99,
   "metadata": {},
   "outputs": [
    {
     "data": {
      "text/html": [
       "<div>\n",
       "<style scoped>\n",
       "    .dataframe tbody tr th:only-of-type {\n",
       "        vertical-align: middle;\n",
       "    }\n",
       "\n",
       "    .dataframe tbody tr th {\n",
       "        vertical-align: top;\n",
       "    }\n",
       "\n",
       "    .dataframe thead th {\n",
       "        text-align: right;\n",
       "    }\n",
       "</style>\n",
       "<table border=\"1\" class=\"dataframe\">\n",
       "  <thead>\n",
       "    <tr style=\"text-align: right;\">\n",
       "      <th></th>\n",
       "      <th>link</th>\n",
       "      <th>o-price</th>\n",
       "      <th>s-price</th>\n",
       "      <th>title</th>\n",
       "    </tr>\n",
       "  </thead>\n",
       "  <tbody>\n",
       "    <tr>\n",
       "      <th>195</th>\n",
       "      <td>http://item.gmarket.co.kr/Item?goodscode=62686...</td>\n",
       "      <td>66000</td>\n",
       "      <td>30200</td>\n",
       "      <td>(공식판매처/QR발송) 캐리비안 베이 종일권/자켓/방수팩패키지</td>\n",
       "    </tr>\n",
       "    <tr>\n",
       "      <th>196</th>\n",
       "      <td>http://item.gmarket.co.kr/Item?goodscode=83569...</td>\n",
       "      <td>19500</td>\n",
       "      <td>5900</td>\n",
       "      <td>[에이블린]여름 신상 가득~ 린넨/티셔츠/원피스/빅사이즈</td>\n",
       "    </tr>\n",
       "    <tr>\n",
       "      <th>197</th>\n",
       "      <td>http://item.gmarket.co.kr/Item?goodscode=11630...</td>\n",
       "      <td>26200</td>\n",
       "      <td>7900</td>\n",
       "      <td>푸마바디웨어 푸마 드로즈/브라/팬티 택일</td>\n",
       "    </tr>\n",
       "    <tr>\n",
       "      <th>198</th>\n",
       "      <td>http://item.gmarket.co.kr/Item?goodscode=12867...</td>\n",
       "      <td>29900</td>\n",
       "      <td>9500</td>\n",
       "      <td>[송월타월]여름세면수건 10장 무료배송</td>\n",
       "    </tr>\n",
       "    <tr>\n",
       "      <th>199</th>\n",
       "      <td>http://item.gmarket.co.kr/Item?goodscode=87247...</td>\n",
       "      <td>26300</td>\n",
       "      <td>7900</td>\n",
       "      <td>블링샵 원피스/블라우스/스키니/스커트/핫팬츠</td>\n",
       "    </tr>\n",
       "  </tbody>\n",
       "</table>\n",
       "</div>"
      ],
      "text/plain": [
       "                                                  link o-price s-price  \\\n",
       "195  http://item.gmarket.co.kr/Item?goodscode=62686...   66000   30200   \n",
       "196  http://item.gmarket.co.kr/Item?goodscode=83569...   19500    5900   \n",
       "197  http://item.gmarket.co.kr/Item?goodscode=11630...   26200    7900   \n",
       "198  http://item.gmarket.co.kr/Item?goodscode=12867...   29900    9500   \n",
       "199  http://item.gmarket.co.kr/Item?goodscode=87247...   26300    7900   \n",
       "\n",
       "                                  title  \n",
       "195  (공식판매처/QR발송) 캐리비안 베이 종일권/자켓/방수팩패키지  \n",
       "196     [에이블린]여름 신상 가득~ 린넨/티셔츠/원피스/빅사이즈  \n",
       "197              푸마바디웨어 푸마 드로즈/브라/팬티 택일  \n",
       "198               [송월타월]여름세면수건 10장 무료배송  \n",
       "199            블링샵 원피스/블라우스/스키니/스커트/핫팬츠  "
      ]
     },
     "execution_count": 99,
     "metadata": {},
     "output_type": "execute_result"
    }
   ],
   "source": [
    "df.tail()"
   ]
  },
  {
   "cell_type": "code",
   "execution_count": 105,
   "metadata": {},
   "outputs": [],
   "source": [
    "# 할인율 컬럼 추가(27%)\n",
    "df[\"dc_rate\"] = \\\n",
    "round((1 - df[\"s-price\"].astype('int') / df[\"o-price\"].astype('int'))* 100,0)\n",
    "df[\"dc_rate\"] = df[\"dc_rate\"].astype('int')\n",
    "df[\"dc_rate\"] = df[\"dc_rate\"].astype('str')\n",
    "df[\"dc_rate\"] += \"%\""
   ]
  },
  {
   "cell_type": "code",
   "execution_count": 107,
   "metadata": {},
   "outputs": [
    {
     "data": {
      "text/html": [
       "<div>\n",
       "<style scoped>\n",
       "    .dataframe tbody tr th:only-of-type {\n",
       "        vertical-align: middle;\n",
       "    }\n",
       "\n",
       "    .dataframe tbody tr th {\n",
       "        vertical-align: top;\n",
       "    }\n",
       "\n",
       "    .dataframe thead th {\n",
       "        text-align: right;\n",
       "    }\n",
       "</style>\n",
       "<table border=\"1\" class=\"dataframe\">\n",
       "  <thead>\n",
       "    <tr style=\"text-align: right;\">\n",
       "      <th></th>\n",
       "      <th>link</th>\n",
       "      <th>o-price</th>\n",
       "      <th>s-price</th>\n",
       "      <th>title</th>\n",
       "      <th>dc_rate</th>\n",
       "    </tr>\n",
       "  </thead>\n",
       "  <tbody>\n",
       "    <tr>\n",
       "      <th>0</th>\n",
       "      <td>http://item.gmarket.co.kr/Item?goodscode=62724...</td>\n",
       "      <td>19500</td>\n",
       "      <td>5900</td>\n",
       "      <td>더다다/원피스형 롱티/신상/루즈/박시/빅사이즈</td>\n",
       "      <td>70%</td>\n",
       "    </tr>\n",
       "    <tr>\n",
       "      <th>1</th>\n",
       "      <td>http://item.gmarket.co.kr/Item?goodscode=14301...</td>\n",
       "      <td>39000</td>\n",
       "      <td>28470</td>\n",
       "      <td>[아디다스]니짜 CQ2332외 4종 택1 G/ 아디다스</td>\n",
       "      <td>27%</td>\n",
       "    </tr>\n",
       "    <tr>\n",
       "      <th>2</th>\n",
       "      <td>http://item.gmarket.co.kr/Item?goodscode=63617...</td>\n",
       "      <td>30000</td>\n",
       "      <td>12900</td>\n",
       "      <td>[동원샘물미네마인]동원 샘물 2Lx9병x3팩(총 27병) /생수</td>\n",
       "      <td>57%</td>\n",
       "    </tr>\n",
       "    <tr>\n",
       "      <th>3</th>\n",
       "      <td>http://item.gmarket.co.kr/Item?goodscode=41037...</td>\n",
       "      <td>24000</td>\n",
       "      <td>4900</td>\n",
       "      <td>[아망떼]1+1여름베개커버/인견/순면/30x50/40x60/50x70</td>\n",
       "      <td>80%</td>\n",
       "    </tr>\n",
       "    <tr>\n",
       "      <th>4</th>\n",
       "      <td>http://item.gmarket.co.kr/Item?goodscode=14365...</td>\n",
       "      <td>39900</td>\n",
       "      <td>32900</td>\n",
       "      <td>[하기스]2018년형 에어솔솔 썸머 팬티 / 밴드 기저귀 2팩</td>\n",
       "      <td>18%</td>\n",
       "    </tr>\n",
       "  </tbody>\n",
       "</table>\n",
       "</div>"
      ],
      "text/plain": [
       "                                                link o-price s-price  \\\n",
       "0  http://item.gmarket.co.kr/Item?goodscode=62724...   19500    5900   \n",
       "1  http://item.gmarket.co.kr/Item?goodscode=14301...   39000   28470   \n",
       "2  http://item.gmarket.co.kr/Item?goodscode=63617...   30000   12900   \n",
       "3  http://item.gmarket.co.kr/Item?goodscode=41037...   24000    4900   \n",
       "4  http://item.gmarket.co.kr/Item?goodscode=14365...   39900   32900   \n",
       "\n",
       "                                    title dc_rate  \n",
       "0               더다다/원피스형 롱티/신상/루즈/박시/빅사이즈     70%  \n",
       "1          [아디다스]니짜 CQ2332외 4종 택1 G/ 아디다스     27%  \n",
       "2     [동원샘물미네마인]동원 샘물 2Lx9병x3팩(총 27병) /생수     57%  \n",
       "3  [아망떼]1+1여름베개커버/인견/순면/30x50/40x60/50x70     80%  \n",
       "4      [하기스]2018년형 에어솔솔 썸머 팬티 / 밴드 기저귀 2팩     18%  "
      ]
     },
     "execution_count": 107,
     "metadata": {},
     "output_type": "execute_result"
    }
   ],
   "source": [
    "df.head()"
   ]
  },
  {
   "cell_type": "code",
   "execution_count": 7,
   "metadata": {},
   "outputs": [],
   "source": [
    "driver.quit()"
   ]
  },
  {
   "cell_type": "markdown",
   "metadata": {},
   "source": [
    "#### 네이버 메일 크롤링\n",
    "- 네이버 페이지로 이동\n",
    "- 아이디, 패스워드를 입력\n",
    "- 로그인 버튼 클릭\n",
    "- 메일 페이지로 이동\n",
    "- 메일 페이지에서 메일 데이터를 수집"
   ]
  },
  {
   "cell_type": "code",
   "execution_count": 109,
   "metadata": {},
   "outputs": [],
   "source": [
    "main_url = \"http:/naver.com\"\n",
    "mail_url = \"http:/mail.naver.com\""
   ]
  },
  {
   "cell_type": "code",
   "execution_count": 110,
   "metadata": {},
   "outputs": [],
   "source": [
    "# 네이버 페이지로 이동\n",
    "driver = webdriver.Chrome()\n",
    "driver.get(main_url)"
   ]
  },
  {
   "cell_type": "code",
   "execution_count": 111,
   "metadata": {},
   "outputs": [],
   "source": [
    "# 아이디 패스워드 입력\n",
    "driver.find_element_by_css_selector(\"#id\").send_keys(\"wnsgh2245\")\n",
    "driver.find_element_by_css_selector(\"#pw\").send_keys(\"rlawnsgh0879\")"
   ]
  },
  {
   "cell_type": "code",
   "execution_count": 112,
   "metadata": {},
   "outputs": [],
   "source": [
    "# 로그인 클릭\n",
    "driver.find_element_by_css_selector(\".btn_login > input[type=submit]\").click()"
   ]
  },
  {
   "cell_type": "code",
   "execution_count": 113,
   "metadata": {},
   "outputs": [],
   "source": [
    "# 메일 페이지로 이동\n",
    "driver.get(mail_url)"
   ]
  },
  {
   "cell_type": "code",
   "execution_count": 114,
   "metadata": {},
   "outputs": [],
   "source": [
    "# 메일 데이터 수집\n",
    "mails = driver.find_elements_by_css_selector(\".mailList > li\")"
   ]
  },
  {
   "cell_type": "code",
   "execution_count": 116,
   "metadata": {},
   "outputs": [
    {
     "name": "stdout",
     "output_type": "stream",
     "text": [
      "아이디스 / 화천그룹 / 메가박스 / 네이버 등 시선집중 신입채용 공고 모음!!\n",
      "아직도 토익점수 발 사이즈라고? (땀) 10일만에 800 받아볼래?\n",
      "(광고)상반기에 광탈한 취업전략으로 하반기 재도전해도 될까요..?\n",
      "★정말 엿 먹이고싶은 회사에 다니고 있어요★\n",
      "대졸초임 4,140만원! ★동국제약★ 신입 채용 외 오늘 뜬 공고&이번주 마감리스트\n",
      "준호, get 50% off Academia Premium — 3 days only\n",
      "(광고) 한알로 모두해결 당뇨, 혈압 걱정끝! 무료체험 신청하세요~\n",
      "(광고) 결재후 최고 100% 까지 추가할인 받는, 흥정을 할 수 있는 쇼핑몰입니다. 코인 선물도 받아 가세요\n",
      "[KDI E-Mail] 「금융안정보고서」(2018년 6월) 국회 제출 (한국은행)\n",
      "김준호님! 싱코에 입사지원을 제의합니다.\n",
      "마케팅, 비즈니스, 신입, ... - 13개 새 채용정보 📌 / 더 메인즈, 믹스앤픽스 등\n",
      "마케팅, 비즈니스, 신입 - 11개 새 채용정보 📌 / 더 메인즈, 믹스앤픽스 등\n",
      "누리랩, 칸그림, 무니 스튜디오, 데이터블, 멘토릿 소식\n",
      "[마케팅]김준호님의 맞춤채용정보가 5건 업데이트 되었습니다.\n",
      "(광고) 창업, 시작이 절반의 성공입니다. 성공창업을 위한 무점포1인창업과 창업정보 및 다양한 창업아이템 무료시식 및 무료창업설명회\n"
     ]
    }
   ],
   "source": [
    "for mail in mails:\n",
    "    name = mail.find_element_by_css_selector(\".name > a\").text\n",
    "    title = mail.find_element_by_css_selector(\".mail_title\").text\n",
    "    print(title)"
   ]
  },
  {
   "cell_type": "code",
   "execution_count": null,
   "metadata": {},
   "outputs": [],
   "source": []
  },
  {
   "cell_type": "code",
   "execution_count": null,
   "metadata": {},
   "outputs": [],
   "source": []
  },
  {
   "cell_type": "code",
   "execution_count": null,
   "metadata": {},
   "outputs": [],
   "source": []
  },
  {
   "cell_type": "code",
   "execution_count": null,
   "metadata": {},
   "outputs": [],
   "source": []
  },
  {
   "cell_type": "code",
   "execution_count": null,
   "metadata": {},
   "outputs": [],
   "source": []
  },
  {
   "cell_type": "code",
   "execution_count": null,
   "metadata": {},
   "outputs": [],
   "source": []
  }
 ],
 "metadata": {
  "kernelspec": {
   "display_name": "Python 3",
   "language": "python",
   "name": "python3"
  },
  "language_info": {
   "codemirror_mode": {
    "name": "ipython",
    "version": 3
   },
   "file_extension": ".py",
   "mimetype": "text/x-python",
   "name": "python",
   "nbconvert_exporter": "python",
   "pygments_lexer": "ipython3",
   "version": "3.6.4"
  }
 },
 "nbformat": 4,
 "nbformat_minor": 2
}
