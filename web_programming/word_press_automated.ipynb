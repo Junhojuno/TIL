{
 "cells": [
  {
   "cell_type": "markdown",
   "metadata": {},
   "source": [
    "##### 자동화\n",
    "- https://radajin661456067.wordpress.com\n",
    "- 2개의 계정, 2개의 메세지, 2개의 게시글에 총 8개의 댓글을 자동으로 작성\n",
    "- 게시물의 링크를 크롤링\n",
    "- 각 게시물로 가서 댓글 작성\n",
    "    - 댓글 작성 레이어 클릭\n",
    "    - 댓글 작성\n",
    "    - 이메일, 이름 추가\n",
    "    - 댓글 작성 버튼 클릭"
   ]
  },
  {
   "cell_type": "code",
   "execution_count": 1,
   "metadata": {},
   "outputs": [],
   "source": [
    "from selenium import webdriver"
   ]
  },
  {
   "cell_type": "code",
   "execution_count": 2,
   "metadata": {},
   "outputs": [],
   "source": [
    "url = \"https://radajin661456067.wordpress.com\"\n",
    "driver = webdriver.Chrome()\n",
    "driver.get(url)"
   ]
  },
  {
   "cell_type": "code",
   "execution_count": 4,
   "metadata": {},
   "outputs": [
    {
     "data": {
      "text/plain": [
       "['https://radajin661456067.wordpress.com/2018/06/21/%ed%85%8c%ec%8a%a4%ed%8a%b8/',\n",
       " 'https://radajin661456067.wordpress.com/2018/06/21/%ec%b2%ab-%eb%b2%88%ec%a7%b8-%eb%b8%94%eb%a1%9c%ea%b7%b8-%ea%b8%80/']"
      ]
     },
     "execution_count": 4,
     "metadata": {},
     "output_type": "execute_result"
    }
   ],
   "source": [
    "# 게시글 링크 데이터 수집\n",
    "links = []\n",
    "articles = driver.find_elements_by_css_selector(\"#main > article\")\n",
    "for article in articles:\n",
    "    links.append(article.find_element_by_css_selector(\".entry-title > a\").get_attribute(\"href\"))\n",
    "links"
   ]
  },
  {
   "cell_type": "code",
   "execution_count": 6,
   "metadata": {},
   "outputs": [],
   "source": [
    "# 링크 이동\n",
    "driver.get(links[0])"
   ]
  },
  {
   "cell_type": "code",
   "execution_count": 7,
   "metadata": {},
   "outputs": [],
   "source": [
    "# 스크롤 아래로 내리기\n",
    "script = \"window.scrollTo(0,10000);\"\n",
    "driver.execute_script(script)"
   ]
  },
  {
   "cell_type": "code",
   "execution_count": 8,
   "metadata": {},
   "outputs": [],
   "source": [
    "# 댓글 작성 영역 클릭\n",
    "driver.find_element_by_css_selector(\"#comment-form-comment\").click()"
   ]
  },
  {
   "cell_type": "code",
   "execution_count": 9,
   "metadata": {},
   "outputs": [],
   "source": [
    "# 댓글 작성\n",
    "driver.find_element_by_css_selector(\"#comment\").send_keys(\"오반아 휘파람을 불어라~\")"
   ]
  },
  {
   "cell_type": "code",
   "execution_count": 10,
   "metadata": {},
   "outputs": [],
   "source": [
    "# 이메일 이름 입력 \n",
    "# 입력 전 clear해줄 것!!\n",
    "driver.find_element_by_css_selector(\"#email\").clear()\n",
    "driver.find_element_by_css_selector(\"#email\").send_keys(\"wnsgh2245@naver.com\")\n",
    "driver.find_element_by_css_selector(\"#author\").clear()\n",
    "driver.find_element_by_css_selector(\"#author\").send_keys(\"손고쿠\")"
   ]
  },
  {
   "cell_type": "code",
   "execution_count": 11,
   "metadata": {},
   "outputs": [],
   "source": [
    "# 댓글달기 클릭\n",
    "driver.find_element_by_css_selector(\"#comment-submit\").click()"
   ]
  },
  {
   "cell_type": "code",
   "execution_count": 12,
   "metadata": {},
   "outputs": [],
   "source": [
    "import time\n",
    "\n",
    "def write_comment(driver, link, msg, email, name):\n",
    "    driver.get(link)\n",
    "    script = \"window.scrollTo(0,10000);\"\n",
    "    driver.execute_script(script)\n",
    "    time.sleep(1)\n",
    "    driver.find_element_by_css_selector(\"#comment-form-comment\").click()\n",
    "    time.sleep(1)\n",
    "    driver.find_element_by_css_selector(\"#comment\").send_keys(msg)\n",
    "    time.sleep(1)\n",
    "    script = \"window.scrollTo(0,10000);\"\n",
    "    driver.execute_script(script)\n",
    "    time.sleep(1)\n",
    "    driver.find_element_by_css_selector(\"#email\").clear()\n",
    "    driver.find_element_by_css_selector(\"#email\").send_keys(email)\n",
    "    time.sleep(1)\n",
    "    driver.find_element_by_css_selector(\"#author\").clear()\n",
    "    driver.find_element_by_css_selector(\"#author\").send_keys(name)\n",
    "    time.sleep(1)\n",
    "    driver.find_element_by_css_selector(\"#comment-submit\").click()"
   ]
  },
  {
   "cell_type": "code",
   "execution_count": 13,
   "metadata": {},
   "outputs": [
    {
     "name": "stdout",
     "output_type": "stream",
     "text": [
      "rlawnsgh2245@naver.com Kim1 오반아 휘파람을 불어라~ - 성공\n",
      "rlawnsgh2245@naver.com Kim1 오반아 휘파람을 불어라~ - 성공\n",
      "rlawnsgh2245@naver.com Kim1 삐삐삐삐 - 성공\n",
      "rlawnsgh2245@naver.com Kim1 삐삐삐삐 - 성공\n",
      "rlawnsgh2245@gmail.com Kim2 오반아 휘파람을 불어라~ - 성공\n",
      "rlawnsgh2245@gmail.com Kim2 오반아 휘파람을 불어라~ - 성공\n",
      "rlawnsgh2245@gmail.com Kim2 삐삐삐삐 - 성공\n",
      "rlawnsgh2245@gmail.com Kim2 삐삐삐삐 - 성공\n"
     ]
    }
   ],
   "source": [
    "users = [\n",
    "    {\"name\":\"Kim1\", \"email\": \"rlawnsgh2245@naver.com\"},\n",
    "    {\"name\":\"Kim2\", \"email\": \"rlawnsgh2245@gmail.com\"},\n",
    "]\n",
    "msgs = [\"오반아 휘파람을 불어라~\",\"삐삐삐삐\"]\n",
    "\n",
    "for user in users:\n",
    "    for msg in msgs:\n",
    "        for link in links:\n",
    "            print(user[\"email\"], user[\"name\"], msg, end=\" - \")\n",
    "            try:\n",
    "                write_comment(driver, link, msg, user[\"email\"], user[\"name\"])\n",
    "                print(\"성공\")\n",
    "            except:\n",
    "                print(\"실패\")\n",
    "            "
   ]
  },
  {
   "cell_type": "code",
   "execution_count": 14,
   "metadata": {},
   "outputs": [],
   "source": [
    "driver.quit()"
   ]
  },
  {
   "cell_type": "markdown",
   "metadata": {},
   "source": [
    "#### 이미지 스크린샷\n",
    "- youtube 페이지"
   ]
  },
  {
   "cell_type": "code",
   "execution_count": null,
   "metadata": {},
   "outputs": [],
   "source": []
  },
  {
   "cell_type": "code",
   "execution_count": null,
   "metadata": {},
   "outputs": [],
   "source": []
  },
  {
   "cell_type": "code",
   "execution_count": null,
   "metadata": {},
   "outputs": [],
   "source": []
  },
  {
   "cell_type": "code",
   "execution_count": null,
   "metadata": {},
   "outputs": [],
   "source": []
  }
 ],
 "metadata": {
  "kernelspec": {
   "display_name": "Python 3",
   "language": "python",
   "name": "python3"
  },
  "language_info": {
   "codemirror_mode": {
    "name": "ipython",
    "version": 3
   },
   "file_extension": ".py",
   "mimetype": "text/x-python",
   "name": "python",
   "nbconvert_exporter": "python",
   "pygments_lexer": "ipython3",
   "version": "3.6.4"
  }
 },
 "nbformat": 4,
 "nbformat_minor": 2
}
