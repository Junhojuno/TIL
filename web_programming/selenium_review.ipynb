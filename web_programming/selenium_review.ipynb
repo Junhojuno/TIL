{
 "cells": [
  {
   "cell_type": "code",
   "execution_count": 2,
   "metadata": {},
   "outputs": [],
   "source": [
    "from selenium import webdriver"
   ]
  },
  {
   "cell_type": "markdown",
   "metadata": {},
   "source": [
    "#### 파일 업로드\n",
    "- google vision api 페이지 활용\n",
    "- vision api 페이지로 이동\n",
    "- iframe으로 frame을 변경\n",
    "- 이미지 파일을 업로드\n",
    "- 웹데이터와 문자열 데이터(document) 수집"
   ]
  },
  {
   "cell_type": "code",
   "execution_count": 3,
   "metadata": {},
   "outputs": [],
   "source": [
    "# google vision api 페이지 이동\n",
    "url = \"https://cloud.google.com/vision/\"\n",
    "driver = webdriver.Chrome()\n",
    "driver.get(url)"
   ]
  },
  {
   "cell_type": "code",
   "execution_count": 5,
   "metadata": {},
   "outputs": [],
   "source": [
    "# main frame --> iframe으로 영역 변경\n",
    "iframe = driver.find_element_by_css_selector(\"#vision_demo_section > iframe\")\n",
    "driver.switch_to_frame(iframe)"
   ]
  },
  {
   "cell_type": "code",
   "execution_count": 6,
   "metadata": {},
   "outputs": [],
   "source": [
    "# 다시 메인 frame으로 돌아오기 : driver.switch_to_default_content()"
   ]
  },
  {
   "cell_type": "code",
   "execution_count": 7,
   "metadata": {},
   "outputs": [],
   "source": [
    "# 파일 업로드(절대경로)\n",
    "# 관리자도구에서 \"input file\"키워드 찾기\n",
    "file_path = \"C:/dss/dev/TIL/web_programming/dog.png\"\n",
    "driver.find_element_by_css_selector(\"#input\").send_keys(file_path)"
   ]
  },
  {
   "cell_type": "code",
   "execution_count": 8,
   "metadata": {},
   "outputs": [],
   "source": [
    "# web버튼 클릭하자\n",
    "driver.find_element_by_css_selector(\"#webDetection\").click()"
   ]
  },
  {
   "cell_type": "code",
   "execution_count": 21,
   "metadata": {},
   "outputs": [
    {
     "name": "stdout",
     "output_type": "stream",
     "text": [
      "French Bulldog 1.29119\n",
      "Bulldog 1.27994\n",
      "Boston Terrier 1.27595\n",
      "Soft-coated Wheaten Terrier 1.04689\n",
      "Puppy 0.98325\n",
      "Bull Terrier 0.9654\n",
      "Border Collie 0.82782\n",
      "Terrier 0.6867\n",
      "Pet 0.6386\n",
      "Coat 0.5719\n",
      "Brindle 0.5711\n",
      "Dog breed 0.5109\n",
      "Breed 0.4445\n",
      "Black Brindle 0.4197\n",
      "Dog 0\n"
     ]
    }
   ],
   "source": [
    "results = driver.find_elements_by_css_selector(\"#card > .container > .row\")[:15]\n",
    "\n",
    "for result in results:\n",
    "    print(\n",
    "    result.find_element_by_css_selector('.name').text,\n",
    "    result.find_element_by_css_selector('.score').text\n",
    "    )"
   ]
  },
  {
   "cell_type": "code",
   "execution_count": 22,
   "metadata": {},
   "outputs": [],
   "source": [
    "# document 클릭하여 문자열 데이터 가져오기\n",
    "driver.find_element_by_css_selector(\"#fullTextAnnotation\").click()"
   ]
  },
  {
   "cell_type": "code",
   "execution_count": 23,
   "metadata": {},
   "outputs": [
    {
     "data": {
      "text/plain": [
       "2"
      ]
     },
     "execution_count": 23,
     "metadata": {},
     "output_type": "execute_result"
    }
   ],
   "source": [
    "fieldsets = driver.find_elements_by_css_selector(\".page > .container > .block\")\n",
    "len(fieldsets)"
   ]
  },
  {
   "cell_type": "code",
   "execution_count": 38,
   "metadata": {},
   "outputs": [
    {
     "data": {
      "text/plain": [
       "['In the dog house', ' 인기를 잃다 , 면목을 잃다']"
      ]
     },
     "execution_count": 38,
     "metadata": {},
     "output_type": "execute_result"
    }
   ],
   "source": [
    "documents = []\n",
    "\n",
    "for fieldset in fieldsets:\n",
    "    words = fieldset.find_elements_by_css_selector(\".paragraph > .container > .word\")\n",
    "#     print(len(words))\n",
    "    word_list = []\n",
    "    for word in words:\n",
    "#         print(word.text)\n",
    "        word = word.text.replace(\" \",\"\").replace(\"'\",\"\")\n",
    "#         print(word)\n",
    "        word_list.append(word)\n",
    "    documents.append(\" \".join(word_list))\n",
    "documents"
   ]
  },
  {
   "cell_type": "code",
   "execution_count": 39,
   "metadata": {},
   "outputs": [],
   "source": [
    "driver.quit()"
   ]
  },
  {
   "cell_type": "markdown",
   "metadata": {},
   "source": [
    "##### gmarket 베스트 200 데이터 수집"
   ]
  },
  {
   "cell_type": "code",
   "execution_count": 41,
   "metadata": {},
   "outputs": [],
   "source": [
    "url = \"http://corners.gmarket.co.kr/Bestsellers\"\n",
    "driver = webdriver.Chrome()\n",
    "driver.get(url)"
   ]
  },
  {
   "cell_type": "code",
   "execution_count": 47,
   "metadata": {},
   "outputs": [
    {
     "data": {
      "text/plain": [
       "200"
      ]
     },
     "execution_count": 47,
     "metadata": {},
     "output_type": "execute_result"
    }
   ],
   "source": [
    "items = driver.find_elements_by_css_selector(\".best-list:nth-child(3) > ul >  li \")\n",
    "len(items)"
   ]
  },
  {
   "cell_type": "code",
   "execution_count": null,
   "metadata": {},
   "outputs": [],
   "source": [
    "#gBestWrap > div > div:nth-child(6) > div:nth-child(3)"
   ]
  }
 ],
 "metadata": {
  "kernelspec": {
   "display_name": "Python 3",
   "language": "python",
   "name": "python3"
  },
  "language_info": {
   "codemirror_mode": {
    "name": "ipython",
    "version": 3
   },
   "file_extension": ".py",
   "mimetype": "text/x-python",
   "name": "python",
   "nbconvert_exporter": "python",
   "pygments_lexer": "ipython3",
   "version": "3.6.4"
  }
 },
 "nbformat": 4,
 "nbformat_minor": 2
}
