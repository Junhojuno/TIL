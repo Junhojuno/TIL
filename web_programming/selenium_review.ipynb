{
 "cells": [
  {
   "cell_type": "code",
   "execution_count": 1,
   "metadata": {},
   "outputs": [],
   "source": [
    "from selenium import webdriver"
   ]
  },
  {
   "cell_type": "markdown",
   "metadata": {},
   "source": [
    "#### 파일 업로드\n",
    "- google vision api 페이지 활용\n",
    "- vision api 페이지로 이동\n",
    "- iframe으로 frame을 변경\n",
    "- 이미지 파일을 업로드\n",
    "- 웹데이터와 문자열 데이터(document) 수집"
   ]
  },
  {
   "cell_type": "code",
   "execution_count": 3,
   "metadata": {},
   "outputs": [],
   "source": [
    "# google vision api 페이지 이동\n",
    "url = \"https://cloud.google.com/vision/\"\n",
    "driver = webdriver.Chrome()\n",
    "driver.get(url)"
   ]
  },
  {
   "cell_type": "code",
   "execution_count": 5,
   "metadata": {},
   "outputs": [],
   "source": [
    "# main frame --> iframe으로 영역 변경\n",
    "iframe = driver.find_element_by_css_selector(\"#vision_demo_section > iframe\")\n",
    "driver.switch_to_frame(iframe)"
   ]
  },
  {
   "cell_type": "code",
   "execution_count": 6,
   "metadata": {},
   "outputs": [],
   "source": [
    "# 다시 메인 frame으로 돌아오기 : driver.switch_to_default_content()"
   ]
  },
  {
   "cell_type": "code",
   "execution_count": 7,
   "metadata": {},
   "outputs": [],
   "source": [
    "# 파일 업로드(절대경로)\n",
    "# 관리자도구에서 \"input file\"키워드 찾기\n",
    "file_path = \"C:/dss/dev/TIL/web_programming/dog.png\"\n",
    "driver.find_element_by_css_selector(\"#input\").send_keys(file_path)"
   ]
  },
  {
   "cell_type": "code",
   "execution_count": 8,
   "metadata": {},
   "outputs": [],
   "source": [
    "# web버튼 클릭하자\n",
    "driver.find_element_by_css_selector(\"#webDetection\").click()"
   ]
  },
  {
   "cell_type": "code",
   "execution_count": 21,
   "metadata": {},
   "outputs": [
    {
     "name": "stdout",
     "output_type": "stream",
     "text": [
      "French Bulldog 1.29119\n",
      "Bulldog 1.27994\n",
      "Boston Terrier 1.27595\n",
      "Soft-coated Wheaten Terrier 1.04689\n",
      "Puppy 0.98325\n",
      "Bull Terrier 0.9654\n",
      "Border Collie 0.82782\n",
      "Terrier 0.6867\n",
      "Pet 0.6386\n",
      "Coat 0.5719\n",
      "Brindle 0.5711\n",
      "Dog breed 0.5109\n",
      "Breed 0.4445\n",
      "Black Brindle 0.4197\n",
      "Dog 0\n"
     ]
    }
   ],
   "source": [
    "results = driver.find_elements_by_css_selector(\"#card > .container > .row\")[:15]\n",
    "\n",
    "for result in results:\n",
    "    print(\n",
    "    result.find_element_by_css_selector('.name').text,\n",
    "    result.find_element_by_css_selector('.score').text\n",
    "    )"
   ]
  },
  {
   "cell_type": "code",
   "execution_count": 22,
   "metadata": {},
   "outputs": [],
   "source": [
    "# document 클릭하여 문자열 데이터 가져오기\n",
    "driver.find_element_by_css_selector(\"#fullTextAnnotation\").click()"
   ]
  },
  {
   "cell_type": "code",
   "execution_count": 23,
   "metadata": {},
   "outputs": [
    {
     "data": {
      "text/plain": [
       "2"
      ]
     },
     "execution_count": 23,
     "metadata": {},
     "output_type": "execute_result"
    }
   ],
   "source": [
    "fieldsets = driver.find_elements_by_css_selector(\".page > .container > .block\")\n",
    "len(fieldsets)"
   ]
  },
  {
   "cell_type": "code",
   "execution_count": 38,
   "metadata": {},
   "outputs": [
    {
     "data": {
      "text/plain": [
       "['In the dog house', ' 인기를 잃다 , 면목을 잃다']"
      ]
     },
     "execution_count": 38,
     "metadata": {},
     "output_type": "execute_result"
    }
   ],
   "source": [
    "documents = []\n",
    "\n",
    "for fieldset in fieldsets:\n",
    "    words = fieldset.find_elements_by_css_selector(\".paragraph > .container > .word\")\n",
    "#     print(len(words))\n",
    "    word_list = []\n",
    "    for word in words:\n",
    "#         print(word.text)\n",
    "        word = word.text.replace(\" \",\"\").replace(\"'\",\"\")\n",
    "#         print(word)\n",
    "        word_list.append(word)\n",
    "    documents.append(\" \".join(word_list))\n",
    "documents"
   ]
  },
  {
   "cell_type": "code",
   "execution_count": 39,
   "metadata": {},
   "outputs": [],
   "source": [
    "driver.quit()"
   ]
  },
  {
   "cell_type": "markdown",
   "metadata": {},
   "source": [
    "##### gmarket 베스트 200 데이터 수집"
   ]
  },
  {
   "cell_type": "code",
   "execution_count": 2,
   "metadata": {},
   "outputs": [],
   "source": [
    "url = \"http://corners.gmarket.co.kr/Bestsellers\"\n",
    "driver = webdriver.Chrome()\n",
    "driver.get(url)"
   ]
  },
  {
   "cell_type": "code",
   "execution_count": 10,
   "metadata": {},
   "outputs": [
    {
     "data": {
      "text/plain": [
       "200"
      ]
     },
     "execution_count": 10,
     "metadata": {},
     "output_type": "execute_result"
    }
   ],
   "source": [
    "items = driver.find_elements_by_css_selector(\".best-list:nth-child(3) > ul >  li \")\n",
    "len(items)"
   ]
  },
  {
   "cell_type": "code",
   "execution_count": 20,
   "metadata": {},
   "outputs": [],
   "source": [
    "best_list = []\n",
    "for item in items:\n",
    "    best_list.append({\n",
    "        'link' : item.find_element_by_css_selector(\".itemname\").get_attribute(\"href\"),\n",
    "        'title' : item.find_element_by_css_selector(\".itemname\").text,\n",
    "        'o_price' : item.find_element_by_css_selector(\".item_price > .o-price\").text.replace(\",\",\"\")[:-1],\n",
    "        's_price' : item.find_element_by_css_selector(\".item_price > .s-price > strong > span\").text.replace(\",\",\"\")[:-1],\n",
    "    }) \n"
   ]
  },
  {
   "cell_type": "code",
   "execution_count": 26,
   "metadata": {},
   "outputs": [
    {
     "data": {
      "text/html": [
       "<div>\n",
       "<style scoped>\n",
       "    .dataframe tbody tr th:only-of-type {\n",
       "        vertical-align: middle;\n",
       "    }\n",
       "\n",
       "    .dataframe tbody tr th {\n",
       "        vertical-align: top;\n",
       "    }\n",
       "\n",
       "    .dataframe thead th {\n",
       "        text-align: right;\n",
       "    }\n",
       "</style>\n",
       "<table border=\"1\" class=\"dataframe\">\n",
       "  <thead>\n",
       "    <tr style=\"text-align: right;\">\n",
       "      <th></th>\n",
       "      <th>link</th>\n",
       "      <th>o_price</th>\n",
       "      <th>s_price</th>\n",
       "      <th>title</th>\n",
       "    </tr>\n",
       "  </thead>\n",
       "  <tbody>\n",
       "    <tr>\n",
       "      <th>0</th>\n",
       "      <td>http://item.gmarket.co.kr/Item?goodscode=67170...</td>\n",
       "      <td>30000</td>\n",
       "      <td>9900</td>\n",
       "      <td>르까프 케이스위스 7부팬츠 반바지 티셔츠 가격다운</td>\n",
       "    </tr>\n",
       "    <tr>\n",
       "      <th>1</th>\n",
       "      <td>http://item.gmarket.co.kr/Item?goodscode=97974...</td>\n",
       "      <td>80000</td>\n",
       "      <td>16900</td>\n",
       "      <td>[벨리에르]소프트플라넬 워싱 스프레드 1+1 (퀸)</td>\n",
       "    </tr>\n",
       "    <tr>\n",
       "      <th>2</th>\n",
       "      <td>http://item.gmarket.co.kr/Item?goodscode=12188...</td>\n",
       "      <td>24900</td>\n",
       "      <td>14900</td>\n",
       "      <td>[웅진]빅토리아 탄산수 탄산음료 500mlx40 350mlx48캔 택2</td>\n",
       "    </tr>\n",
       "    <tr>\n",
       "      <th>3</th>\n",
       "      <td>http://item.gmarket.co.kr/Item?goodscode=22627...</td>\n",
       "      <td>38900</td>\n",
       "      <td>34900</td>\n",
       "      <td>2018년 에어솔솔 썸머팬티 / 밴드 2팩 +신세계상품권</td>\n",
       "    </tr>\n",
       "    <tr>\n",
       "      <th>4</th>\n",
       "      <td>http://item.gmarket.co.kr/Item?goodscode=12854...</td>\n",
       "      <td>21600</td>\n",
       "      <td>6500</td>\n",
       "      <td>국산 면스판 나시/속바지 3매</td>\n",
       "    </tr>\n",
       "  </tbody>\n",
       "</table>\n",
       "</div>"
      ],
      "text/plain": [
       "                                                link o_price s_price  \\\n",
       "0  http://item.gmarket.co.kr/Item?goodscode=67170...   30000    9900   \n",
       "1  http://item.gmarket.co.kr/Item?goodscode=97974...   80000   16900   \n",
       "2  http://item.gmarket.co.kr/Item?goodscode=12188...   24900   14900   \n",
       "3  http://item.gmarket.co.kr/Item?goodscode=22627...   38900   34900   \n",
       "4  http://item.gmarket.co.kr/Item?goodscode=12854...   21600    6500   \n",
       "\n",
       "                                     title  \n",
       "0              르까프 케이스위스 7부팬츠 반바지 티셔츠 가격다운  \n",
       "1             [벨리에르]소프트플라넬 워싱 스프레드 1+1 (퀸)  \n",
       "2  [웅진]빅토리아 탄산수 탄산음료 500mlx40 350mlx48캔 택2  \n",
       "3          2018년 에어솔솔 썸머팬티 / 밴드 2팩 +신세계상품권  \n",
       "4                         국산 면스판 나시/속바지 3매  "
      ]
     },
     "execution_count": 26,
     "metadata": {},
     "output_type": "execute_result"
    }
   ],
   "source": [
    "df = pd.DataFrame(best_list)\n",
    "df.head()"
   ]
  },
  {
   "cell_type": "code",
   "execution_count": 30,
   "metadata": {},
   "outputs": [
    {
     "data": {
      "text/plain": [
       "28      5000\n",
       "34     19400\n",
       "46     96000\n",
       "60     11800\n",
       "68      5900\n",
       "83     19800\n",
       "87     79000\n",
       "107     7900\n",
       "117    12500\n",
       "118     5900\n",
       "130    23500\n",
       "149     7000\n",
       "157     6900\n",
       "Name: o_price, dtype: object"
      ]
     },
     "execution_count": 30,
     "metadata": {},
     "output_type": "execute_result"
    }
   ],
   "source": [
    "idx = df['o_price'] == \"\"\n",
    "df['o_price'][idx] = df['s_price'][idx]\n",
    "df['o_price'][idx]"
   ]
  },
  {
   "cell_type": "code",
   "execution_count": 48,
   "metadata": {},
   "outputs": [],
   "source": [
    "df['discount'] = \\\n",
    "(1 - round((df['s_price'].astype('int') / df['o_price'].astype('int')),2))* 100 "
   ]
  },
  {
   "cell_type": "code",
   "execution_count": 51,
   "metadata": {},
   "outputs": [
    {
     "data": {
      "text/plain": [
       "0      67%\n",
       "1      79%\n",
       "2      40%\n",
       "3       9%\n",
       "4      70%\n",
       "5      70%\n",
       "6      70%\n",
       "7      63%\n",
       "8      52%\n",
       "9      63%\n",
       "10     70%\n",
       "11     70%\n",
       "12     69%\n",
       "13     70%\n",
       "14     35%\n",
       "15     69%\n",
       "16     69%\n",
       "17     70%\n",
       "18     17%\n",
       "19      9%\n",
       "20      9%\n",
       "21     70%\n",
       "22     70%\n",
       "23     43%\n",
       "24     69%\n",
       "25     70%\n",
       "26     70%\n",
       "27     50%\n",
       "28      0%\n",
       "29     25%\n",
       "      ... \n",
       "170    70%\n",
       "171    70%\n",
       "172    70%\n",
       "173    12%\n",
       "174    70%\n",
       "175    18%\n",
       "176    19%\n",
       "177    35%\n",
       "178    70%\n",
       "179     6%\n",
       "180    59%\n",
       "181    70%\n",
       "182    70%\n",
       "183    70%\n",
       "184    14%\n",
       "185    21%\n",
       "186    70%\n",
       "187     7%\n",
       "188     2%\n",
       "189    70%\n",
       "190    70%\n",
       "191    70%\n",
       "192    70%\n",
       "193    70%\n",
       "194     6%\n",
       "195    54%\n",
       "196    70%\n",
       "197     5%\n",
       "198    55%\n",
       "199    15%\n",
       "Name: discount, Length: 200, dtype: object"
      ]
     },
     "execution_count": 51,
     "metadata": {},
     "output_type": "execute_result"
    }
   ],
   "source": [
    "df['discount'] = df['discount'].astype('int')\n",
    "df['discount'] = df['discount'].astype('str') + \"%\"\n",
    "df['discount']"
   ]
  },
  {
   "cell_type": "code",
   "execution_count": 52,
   "metadata": {},
   "outputs": [
    {
     "data": {
      "text/html": [
       "<div>\n",
       "<style scoped>\n",
       "    .dataframe tbody tr th:only-of-type {\n",
       "        vertical-align: middle;\n",
       "    }\n",
       "\n",
       "    .dataframe tbody tr th {\n",
       "        vertical-align: top;\n",
       "    }\n",
       "\n",
       "    .dataframe thead th {\n",
       "        text-align: right;\n",
       "    }\n",
       "</style>\n",
       "<table border=\"1\" class=\"dataframe\">\n",
       "  <thead>\n",
       "    <tr style=\"text-align: right;\">\n",
       "      <th></th>\n",
       "      <th>link</th>\n",
       "      <th>o_price</th>\n",
       "      <th>s_price</th>\n",
       "      <th>title</th>\n",
       "      <th>discount</th>\n",
       "    </tr>\n",
       "  </thead>\n",
       "  <tbody>\n",
       "    <tr>\n",
       "      <th>195</th>\n",
       "      <td>http://item.gmarket.co.kr/Item?goodscode=62686...</td>\n",
       "      <td>66000</td>\n",
       "      <td>30200</td>\n",
       "      <td>(공식판매처/QR발송) 캐리비안 베이 종일권/자켓/방수팩패키지</td>\n",
       "      <td>54%</td>\n",
       "    </tr>\n",
       "    <tr>\n",
       "      <th>196</th>\n",
       "      <td>http://item.gmarket.co.kr/Item?goodscode=25604...</td>\n",
       "      <td>33000</td>\n",
       "      <td>9900</td>\n",
       "      <td>힐슈빌 여성샌들 여름샌들 샌들 스트랩 웨지 플랫샌들</td>\n",
       "      <td>70%</td>\n",
       "    </tr>\n",
       "    <tr>\n",
       "      <th>197</th>\n",
       "      <td>http://item.gmarket.co.kr/Item?goodscode=14020...</td>\n",
       "      <td>168000</td>\n",
       "      <td>159000</td>\n",
       "      <td>[휴스톰]듀얼라이팅 무선 물걸레청소기 HS-9000 TV CF동일상품</td>\n",
       "      <td>5%</td>\n",
       "    </tr>\n",
       "    <tr>\n",
       "      <th>198</th>\n",
       "      <td>http://item.gmarket.co.kr/Item?goodscode=87419...</td>\n",
       "      <td>39900</td>\n",
       "      <td>17900</td>\n",
       "      <td>닥터방기원 탈모샴푸 탈모증상완화 임상시험완료</td>\n",
       "      <td>55%</td>\n",
       "    </tr>\n",
       "    <tr>\n",
       "      <th>199</th>\n",
       "      <td>http://item.gmarket.co.kr/Item?goodscode=15138...</td>\n",
       "      <td>48000</td>\n",
       "      <td>40900</td>\n",
       "      <td>[맥심]쿠폰가36900원~/화이트/모카골드 420T/400T/커피믹스</td>\n",
       "      <td>15%</td>\n",
       "    </tr>\n",
       "  </tbody>\n",
       "</table>\n",
       "</div>"
      ],
      "text/plain": [
       "                                                  link o_price s_price  \\\n",
       "195  http://item.gmarket.co.kr/Item?goodscode=62686...   66000   30200   \n",
       "196  http://item.gmarket.co.kr/Item?goodscode=25604...   33000    9900   \n",
       "197  http://item.gmarket.co.kr/Item?goodscode=14020...  168000  159000   \n",
       "198  http://item.gmarket.co.kr/Item?goodscode=87419...   39900   17900   \n",
       "199  http://item.gmarket.co.kr/Item?goodscode=15138...   48000   40900   \n",
       "\n",
       "                                      title discount  \n",
       "195      (공식판매처/QR발송) 캐리비안 베이 종일권/자켓/방수팩패키지      54%  \n",
       "196            힐슈빌 여성샌들 여름샌들 샌들 스트랩 웨지 플랫샌들      70%  \n",
       "197  [휴스톰]듀얼라이팅 무선 물걸레청소기 HS-9000 TV CF동일상품       5%  \n",
       "198                닥터방기원 탈모샴푸 탈모증상완화 임상시험완료      55%  \n",
       "199  [맥심]쿠폰가36900원~/화이트/모카골드 420T/400T/커피믹스      15%  "
      ]
     },
     "execution_count": 52,
     "metadata": {},
     "output_type": "execute_result"
    }
   ],
   "source": [
    "df.tail()"
   ]
  },
  {
   "cell_type": "code",
   "execution_count": 53,
   "metadata": {},
   "outputs": [],
   "source": [
    "driver.quit()"
   ]
  },
  {
   "cell_type": "code",
   "execution_count": null,
   "metadata": {},
   "outputs": [],
   "source": []
  }
 ],
 "metadata": {
  "kernelspec": {
   "display_name": "Python 3",
   "language": "python",
   "name": "python3"
  },
  "language_info": {
   "codemirror_mode": {
    "name": "ipython",
    "version": 3
   },
   "file_extension": ".py",
   "mimetype": "text/x-python",
   "name": "python",
   "nbconvert_exporter": "python",
   "pygments_lexer": "ipython3",
   "version": "3.6.4"
  }
 },
 "nbformat": 4,
 "nbformat_minor": 2
}
