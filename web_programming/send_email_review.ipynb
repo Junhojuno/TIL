{
 "cells": [
  {
   "cell_type": "markdown",
   "metadata": {},
   "source": [
    "### Send Email"
   ]
  },
  {
   "cell_type": "code",
   "execution_count": 11,
   "metadata": {},
   "outputs": [],
   "source": [
    "import smtplib, os, pickle\n",
    "from email import encoders\n",
    "from email.mime.text import MIMEText\n",
    "from email.mime.multipart import MIMEMultipart\n",
    "from email.mime.base import MIMEBase"
   ]
  },
  {
   "cell_type": "code",
   "execution_count": 2,
   "metadata": {},
   "outputs": [],
   "source": [
    "toAddr = [\"wnsgh2245@naver.com\",\"rlawnsgh2245@gmail.com\",\"slsl0879@hanmail.net\"]"
   ]
  },
  {
   "cell_type": "code",
   "execution_count": 3,
   "metadata": {},
   "outputs": [],
   "source": [
    "pw = \"rlacodms~2\"\n",
    "pickle.dump(pw, open(\"../pw.pickle\", 'wb'))"
   ]
  },
  {
   "cell_type": "code",
   "execution_count": 4,
   "metadata": {},
   "outputs": [],
   "source": [
    "smtp = smtplib.SMTP('smtp.gmail.com',587)"
   ]
  },
  {
   "cell_type": "code",
   "execution_count": 5,
   "metadata": {},
   "outputs": [
    {
     "data": {
      "text/plain": [
       "(235, b'2.7.0 Accepted')"
      ]
     },
     "execution_count": 5,
     "metadata": {},
     "output_type": "execute_result"
    }
   ],
   "source": [
    "smtp.ehlo()\n",
    "smtp.starttls()\n",
    "smtp.login('rlawnsgh2245@gmail.com', pickle.load(open('../pw.pickle','rb')))"
   ]
  },
  {
   "cell_type": "code",
   "execution_count": 6,
   "metadata": {},
   "outputs": [],
   "source": [
    "msg = MIMEMultipart()\n",
    "msg['subject'] = \"SMTP 전송 텍스트(제목)\""
   ]
  },
  {
   "cell_type": "code",
   "execution_count": 7,
   "metadata": {},
   "outputs": [],
   "source": [
    "part = MIMEText(\"SMTP TEXT 메세지 보내기\")\n",
    "msg.attach(part)"
   ]
  },
  {
   "cell_type": "code",
   "execution_count": 8,
   "metadata": {},
   "outputs": [
    {
     "data": {
      "text/plain": [
       "<email.mime.multipart.MIMEMultipart at 0x28df56cf588>"
      ]
     },
     "execution_count": 8,
     "metadata": {},
     "output_type": "execute_result"
    }
   ],
   "source": [
    "msg"
   ]
  },
  {
   "cell_type": "code",
   "execution_count": 9,
   "metadata": {},
   "outputs": [],
   "source": [
    "for addr in toAddr:\n",
    "    msg['To'] = addr\n",
    "    smtp.sendmail('rlawnsgh2245@gmail.com',addr,msg.as_string())"
   ]
  },
  {
   "cell_type": "code",
   "execution_count": 10,
   "metadata": {},
   "outputs": [
    {
     "data": {
      "text/plain": [
       "(221, b'2.0.0 closing connection t67-v6sm10179216pfg.51 - gsmtp')"
      ]
     },
     "execution_count": 10,
     "metadata": {},
     "output_type": "execute_result"
    }
   ],
   "source": [
    "smtp.quit()"
   ]
  },
  {
   "cell_type": "markdown",
   "metadata": {},
   "source": [
    "### Send HTML"
   ]
  },
  {
   "cell_type": "code",
   "execution_count": 12,
   "metadata": {},
   "outputs": [],
   "source": [
    "def get_smtp():\n",
    "    smtp = smtplib.SMTP('smtp.gmail.com',587)\n",
    "    smtp.ehlo()\n",
    "    smtp.starttls()\n",
    "    smtp.login('rlawnsgh2245@gmail.com', pickle.load(open('../pw.pickle','rb')))\n",
    "    return smtp"
   ]
  },
  {
   "cell_type": "code",
   "execution_count": 13,
   "metadata": {},
   "outputs": [
    {
     "data": {
      "text/plain": [
       "<smtplib.SMTP at 0x28df5eb2828>"
      ]
     },
     "execution_count": 13,
     "metadata": {},
     "output_type": "execute_result"
    }
   ],
   "source": [
    "smtp = get_smtp()\n",
    "smtp"
   ]
  },
  {
   "cell_type": "code",
   "execution_count": 14,
   "metadata": {},
   "outputs": [
    {
     "data": {
      "text/plain": [
       "<email.mime.multipart.MIMEMultipart at 0x28df5712e80>"
      ]
     },
     "execution_count": 14,
     "metadata": {},
     "output_type": "execute_result"
    }
   ],
   "source": [
    "msg = MIMEMultipart()\n",
    "\n",
    "msg['subject'] = \"HTML 전송 테스트\"\n",
    "part = MIMEText(\"HTML 코드 보내기\")\n",
    "msg.attach(part)\n",
    "\n",
    "part_html = MIMEText('<br><a href=\"http://www.fastcampus.co.kr/>패스트 캠퍼스</a>', 'html')\n",
    "msg.attach(part_html)\n",
    "\n",
    "msg"
   ]
  },
  {
   "cell_type": "code",
   "execution_count": 15,
   "metadata": {},
   "outputs": [],
   "source": [
    "def send_email(smtp, toAddr, msg):\n",
    "    for addr in toAddr:\n",
    "        msg['To'] = addr\n",
    "        smtp.sendmail(\"rlawnsgh2245@gmail.com\", addr, msg.as_string())\n",
    "    smtp.quit()"
   ]
  },
  {
   "cell_type": "code",
   "execution_count": 16,
   "metadata": {},
   "outputs": [
    {
     "data": {
      "text/plain": [
       "(<smtplib.SMTP at 0x28df5eb2828>,\n",
       " ['wnsgh2245@naver.com', 'rlawnsgh2245@gmail.com', 'slsl0879@hanmail.net'],\n",
       " <email.mime.multipart.MIMEMultipart at 0x28df5712e80>)"
      ]
     },
     "execution_count": 16,
     "metadata": {},
     "output_type": "execute_result"
    }
   ],
   "source": [
    "smtp, toAddr, msg"
   ]
  },
  {
   "cell_type": "code",
   "execution_count": 17,
   "metadata": {},
   "outputs": [],
   "source": [
    "send_email(smtp, toAddr, msg)"
   ]
  },
  {
   "cell_type": "markdown",
   "metadata": {},
   "source": [
    "### Send file"
   ]
  },
  {
   "cell_type": "code",
   "execution_count": 18,
   "metadata": {},
   "outputs": [],
   "source": [
    "smtp = get_smtp()"
   ]
  },
  {
   "cell_type": "code",
   "execution_count": 19,
   "metadata": {},
   "outputs": [],
   "source": [
    "msg = MIMEMultipart()\n",
    "msg['subject'] = \"Send file test\"\n",
    "part = MIMEText('파일 전송 테스트')\n",
    "msg.attach(part)"
   ]
  },
  {
   "cell_type": "code",
   "execution_count": 21,
   "metadata": {},
   "outputs": [],
   "source": [
    "file_name = \"horror.mp4\"\n",
    "maintype, subtype = \"application\", \"octet-stream\"\n",
    "with open(file_name, 'rb') as fp:\n",
    "    part = MIMEBase(maintype, subtype)\n",
    "    part.set_payload(fp.read())\n",
    "    encoders.encode_base64(part)\n",
    "\n",
    "part.add_header(\"Content-Disposition\",\"attachment\", filename=file_name)\n",
    "msg.attach(part)"
   ]
  },
  {
   "cell_type": "code",
   "execution_count": 22,
   "metadata": {},
   "outputs": [],
   "source": [
    "send_email(smtp, toAddr, msg)"
   ]
  }
 ],
 "metadata": {
  "kernelspec": {
   "display_name": "Python 3",
   "language": "python",
   "name": "python3"
  },
  "language_info": {
   "codemirror_mode": {
    "name": "ipython",
    "version": 3
   },
   "file_extension": ".py",
   "mimetype": "text/x-python",
   "name": "python",
   "nbconvert_exporter": "python",
   "pygments_lexer": "ipython3",
   "version": "3.6.4"
  }
 },
 "nbformat": 4,
 "nbformat_minor": 2
}
