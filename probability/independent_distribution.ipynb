{
 "cells": [
  {
   "cell_type": "markdown",
   "metadata": {},
   "source": [
    "## pdf의 독립\n",
    "- 두 확률변수 X, Y가 있을때, X의 값이 달라지면 Y의 조건부 분포가 달라지는 것 : 상관관계가 있다.\n",
    "- 즉, 앞선 내용(결합 확률분포)에서 한 확률변수를 특정값으로 고정했을 때 생기는 분포의 단면의 모양이 달라지는 것을 의미한다.\n",
    "- 두 확률변수 X, Y가 있을때, X의 값이 달라지는데 Y의 조건부 분포가 달라지지 않는다면 두 확률변수 X, Y는 서로 독립이라고 한다."
   ]
  },
  {
   "cell_type": "markdown",
   "metadata": {},
   "source": [
    "$$ f_{XY}(x, y) = f_X(x)f_Y(y) $$"
   ]
  },
  {
   "cell_type": "markdown",
   "metadata": {},
   "source": [
    "##### 1. 반복시행\n",
    "$$ f(x_1, x_2, x_3, \\cdots, x_N ) = \\prod_{i=1}^N f(x_i) $$  \n",
    "\n",
    "이는 $ X $에서 나온 $ x_1, x_2 $는 개별 독립적인 확률변수로 볼 수 있고, 각각 $ x_1, x_2 $ 을 스칼라 확률변수로 볼 수 있고, $ X $를 이들이 모여있는 벡터 확률변수로 볼 수 있다."
   ]
  },
  {
   "cell_type": "markdown",
   "metadata": {},
   "source": [
    "##### 2. 독립일 때 Conditional probability distribution\n",
    "$$ f_{X \\mid Y} (x | y) = \\dfrac{f_{XY}(x, y)}{f_{Y}(y)} = \\dfrac{f_{X}(x) f_{Y}(y)}{f_{Y}(y)} = f_{X}(x) $$\n",
    "\n",
    "$$ f_{Y \\mid X} (y | x) = \\dfrac{f_{XY}(x, y)}{f_{X}(x)} = \\dfrac{f_{X}(x) f_{Y}(y)}{f_{X}(x)} = f_{Y}(y) $$\n",
    "\n",
    " $y_1$일 때와 $y_2$일 때의 조건부 확률 분포 $f(x \\mid y_1)$과 $f(x \\mid y_2)$이 같다"
   ]
  },
  {
   "cell_type": "code",
   "execution_count": 1,
   "metadata": {},
   "outputs": [
    {
     "data": {
      "text/plain": [
       "array([[ 0.0111,  0.0222,  0.0333,  0.0222,  0.0111],\n",
       "       [ 0.0222,  0.0444,  0.0667,  0.0444,  0.0222],\n",
       "       [ 0.0444,  0.0889,  0.1333,  0.0889,  0.0444],\n",
       "       [ 0.0222,  0.0444,  0.0667,  0.0444,  0.0222],\n",
       "       [ 0.0111,  0.0222,  0.0333,  0.0222,  0.0111]])"
      ]
     },
     "execution_count": 1,
     "metadata": {},
     "output_type": "execute_result"
    }
   ],
   "source": [
    "# example : pmf\n",
    "np.set_printoptions(precision=4)\n",
    "pmf1 = np.array([[1, 2, 3, 2, 1],\n",
    "                 [2, 4, 6, 4, 2],\n",
    "                 [4, 8,12, 8, 4],\n",
    "                 [2, 4, 6, 4, 2],\n",
    "                 [1, 2, 3, 2, 1]])\n",
    "pmf1 = pmf1/pmf1.sum()\n",
    "pmf1"
   ]
  },
  {
   "cell_type": "code",
   "execution_count": 2,
   "metadata": {},
   "outputs": [
    {
     "data": {
      "image/png": "[encoded data removed]",
      "text/plain": [
       "<matplotlib.figure.Figure at 0x251b3b2fe10>"
      ]
     },
     "metadata": {},
     "output_type": "display_data"
    }
   ],
   "source": [
    "# 이산확률변수 X 이산확률변수의 조합이므로 heatmap을 그려본다.\n",
    "sns.heatmap(pmf1, cmap=mpl.cm.bone_r)\n",
    "plt.xlabel(\"x\")\n",
    "plt.ylabel(\"y\")\n",
    "plt.title(\"Joint Probability (Independent)\")\n",
    "plt.show()"
   ]
  },
  {
   "cell_type": "code",
   "execution_count": 4,
   "metadata": {},
   "outputs": [
    {
     "data": {
      "text/plain": [
       "(array([[ 0.0111,  0.0222,  0.0333,  0.0222,  0.0111],\n",
       "        [ 0.0222,  0.0444,  0.0667,  0.0444,  0.0222],\n",
       "        [ 0.0444,  0.0889,  0.1333,  0.0889,  0.0444],\n",
       "        [ 0.0222,  0.0444,  0.0667,  0.0444,  0.0222],\n",
       "        [ 0.0111,  0.0222,  0.0333,  0.0222,  0.0111]]), 1.0)"
      ]
     },
     "execution_count": 4,
     "metadata": {},
     "output_type": "execute_result"
    }
   ],
   "source": [
    "# pmf는 marginal x와 marginal y의 곱으로 표현된다.\n",
    "pmf1_marginal_x = pmf1.sum(axis=0)\n",
    "pmf1_marginal_y = pmf1.sum(axis=1)\n",
    "\n",
    "pmf = pmf1_marginal_x * pmf1_marginal_y[:, np.newaxis]\n",
    "pmf, pmf.sum()"
   ]
  },
  {
   "cell_type": "code",
   "execution_count": 5,
   "metadata": {},
   "outputs": [
    {
     "data": {
      "text/plain": [
       "array([ 0.1111,  0.2222,  0.3333,  0.2222,  0.1111])"
      ]
     },
     "execution_count": 5,
     "metadata": {},
     "output_type": "execute_result"
    }
   ],
   "source": [
    "pmf1_marginal_x"
   ]
  },
  {
   "cell_type": "code",
   "execution_count": 6,
   "metadata": {},
   "outputs": [
    {
     "data": {
      "text/plain": [
       "array([ 0.1,  0.2,  0.4,  0.2,  0.1])"
      ]
     },
     "execution_count": 6,
     "metadata": {},
     "output_type": "execute_result"
    }
   ],
   "source": [
    "pmf1_marginal_y"
   ]
  },
  {
   "cell_type": "code",
   "execution_count": 7,
   "metadata": {},
   "outputs": [
    {
     "data": {
      "text/plain": [
       "array([ 0.1111,  0.2222,  0.3333,  0.2222,  0.1111])"
      ]
     },
     "execution_count": 7,
     "metadata": {},
     "output_type": "execute_result"
    }
   ],
   "source": [
    "# Y값을 바꾸어도 조건부확률은 그대로다.\n",
    "# P(x)와 같다. 스케일링 때문에\n",
    "cond_x_y0 = pmf1[0, :]/pmf1_marginal_y[0]\n",
    "cond_x_y0"
   ]
  },
  {
   "cell_type": "code",
   "execution_count": 16,
   "metadata": {},
   "outputs": [
    {
     "data": {
      "text/plain": [
       "array([0.1111, 0.2222, 0.3333, 0.2222, 0.1111])"
      ]
     },
     "execution_count": 16,
     "metadata": {},
     "output_type": "execute_result"
    }
   ],
   "source": [
    "cond_x_y1 = pmf1[1, :]/pmf1_marginal_y[1]\n",
    "cond_x_y1"
   ]
  },
  {
   "cell_type": "code",
   "execution_count": 17,
   "metadata": {},
   "outputs": [
    {
     "data": {
      "text/plain": [
       "array([[0.  , 0.  , 0.  , 0.04, 0.04],\n",
       "       [0.  , 0.  , 0.08, 0.12, 0.04],\n",
       "       [0.  , 0.08, 0.2 , 0.08, 0.  ],\n",
       "       [0.04, 0.12, 0.08, 0.  , 0.  ],\n",
       "       [0.04, 0.04, 0.  , 0.  , 0.  ]])"
      ]
     },
     "execution_count": 17,
     "metadata": {},
     "output_type": "execute_result"
    }
   ],
   "source": [
    "# 독립조건이 성립하지 않는 경우를 보자\n",
    "pmf2 = np.array([[0, 0, 0, 1, 1],\n",
    "                 [0, 0, 2, 3, 1],\n",
    "                 [0, 2, 5, 2, 0],\n",
    "                 [1, 3, 2, 0, 0],\n",
    "                 [1, 1, 0, 0, 0]])\n",
    "pmf2 = pmf2/pmf2.sum()\n",
    "pmf2"
   ]
  },
  {
   "cell_type": "code",
   "execution_count": 18,
   "metadata": {},
   "outputs": [
    {
     "data": {
      "image/png": "[encoded data removed]",
      "text/plain": [
       "<matplotlib.figure.Figure at 0x1e02695b4a8>"
      ]
     },
     "metadata": {},
     "output_type": "display_data"
    }
   ],
   "source": [
    "sns.heatmap(pmf2, cmap=mpl.cm.bone_r)\n",
    "plt.xlabel(\"x\")\n",
    "plt.ylabel(\"y\")\n",
    "plt.title(\"Joint Probability (Dependent)\")\n",
    "plt.show()"
   ]
  },
  {
   "cell_type": "code",
   "execution_count": 19,
   "metadata": {},
   "outputs": [
    {
     "data": {
      "text/plain": [
       "array([0. , 0. , 0. , 0.5, 0.5])"
      ]
     },
     "execution_count": 19,
     "metadata": {},
     "output_type": "execute_result"
    }
   ],
   "source": [
    "pmf2_marginal_x = pmf2.sum(axis=0)\n",
    "pmf2_marginal_y = pmf2.sum(axis=1)\n",
    "\n",
    "cond_x_y0 = pmf2[0,:]/pmf2_marginal_y[0]\n",
    "cond_x_y0"
   ]
  },
  {
   "cell_type": "code",
   "execution_count": 20,
   "metadata": {},
   "outputs": [
    {
     "data": {
      "text/plain": [
       "array([0.    , 0.    , 0.3333, 0.5   , 0.1667])"
      ]
     },
     "execution_count": 20,
     "metadata": {},
     "output_type": "execute_result"
    }
   ],
   "source": [
    "cond_x_y1 = pmf2[1, :]/pmf2_marginal_y[1]\n",
    "cond_x_y1"
   ]
  },
  {
   "cell_type": "markdown",
   "metadata": {},
   "source": [
    "##### 3. 모멘트\n",
    "$$ \\text{E}[XY] = \\text{E}[X]\\text{E}[Y] $$\n",
    "\n",
    "$$ \\text{E}[(X - \\mu_X)(Y-\\mu_Y)] = 0 $$\n",
    "\n",
    "$$ \\text{Var}[X+Y] = \\text{Var}[X] + \\text{Var}[Y] $$"
   ]
  }
 ],
 "metadata": {
  "kernelspec": {
   "display_name": "Python 3",
   "language": "python",
   "name": "python3"
  },
  "language_info": {
   "codemirror_mode": {
    "name": "ipython",
    "version": 3
   },
   "file_extension": ".py",
   "mimetype": "text/x-python",
   "name": "python",
   "nbconvert_exporter": "python",
   "pygments_lexer": "ipython3",
   "version": "3.6.6"
  }
 },
 "nbformat": 4,
 "nbformat_minor": 2
}
