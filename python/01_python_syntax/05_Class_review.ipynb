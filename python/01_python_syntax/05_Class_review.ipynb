{
 "cells": [
  {
   "cell_type": "code",
   "execution_count": 1,
   "metadata": {},
   "outputs": [],
   "source": [
    "class Calculator:\n",
    "    \n",
    "    def setData(self, num1, num2):\n",
    "        self.num1 = num1\n",
    "        self.num2 = num2\n",
    "    \n",
    "    def add(self):\n",
    "        return self.num1 + self.num2\n",
    "    \n",
    "    def sub(self):\n",
    "        return self.num1 - self.num2\n",
    "    \n",
    "    def mul(self):\n",
    "        return self.num1 * self.num2\n",
    "    \n",
    "    def div(self):\n",
    "        return self.num1 / self.num2\n",
    "    "
   ]
  },
  {
   "cell_type": "code",
   "execution_count": 2,
   "metadata": {},
   "outputs": [
    {
     "name": "stdout",
     "output_type": "stream",
     "text": [
      "12\n",
      "-2\n"
     ]
    }
   ],
   "source": [
    "# Calculator 클래스로 객체를 생성해서 변수를 저장하고 계산하는 함수를 호출\n",
    "c1 = Calculator() #객체 생성\n",
    "c1.setData(5,7) #객체의 함수에 접근\n",
    "\n",
    "result = c1.add()\n",
    "print(result)\n",
    "result = c1.sub()\n",
    "print(result)"
   ]
  },
  {
   "cell_type": "code",
   "execution_count": 3,
   "metadata": {},
   "outputs": [
    {
     "data": {
      "text/plain": [
       "(5, 7)"
      ]
     },
     "execution_count": 3,
     "metadata": {},
     "output_type": "execute_result"
    }
   ],
   "source": [
    "# 객체의 변수에 접근\n",
    "c1.num1, c1.num2"
   ]
  },
  {
   "cell_type": "code",
   "execution_count": 4,
   "metadata": {},
   "outputs": [
    {
     "name": "stdout",
     "output_type": "stream",
     "text": [
      "15\n",
      "0.875\n"
     ]
    }
   ],
   "source": [
    "# self는 객체를 의미, 클래스의 함수에 self 파라미터로 객체를 넘겨 \n",
    "# 해당 객체의 변수를 변경할 수 있습니다.\n",
    "c2 = Calculator()\n",
    "\n",
    "# Calculator 클래스에 c2 객체를 self로 넣어주면 c2객체에 7, 8이 파라미터로 들어갑니다.\n",
    "# c2.setData(7,8)과 같은 의미\n",
    "Calculator.setData(c2, 7, 8)\n",
    "\n",
    "result = Calculator.add(c2)\n",
    "print(result)\n",
    "\n",
    "result = Calculator.div(c2)\n",
    "print(result)"
   ]
  },
  {
   "cell_type": "code",
   "execution_count": 6,
   "metadata": {},
   "outputs": [
    {
     "ename": "AttributeError",
     "evalue": "'Calculator' object has no attribute 'num1'",
     "output_type": "error",
     "traceback": [
      "\u001b[1;31m---------------------------------------------------------------------------\u001b[0m",
      "\u001b[1;31mAttributeError\u001b[0m                            Traceback (most recent call last)",
      "\u001b[1;32m<ipython-input-6-aa044cc29d58>\u001b[0m in \u001b[0;36m<module>\u001b[1;34m()\u001b[0m\n\u001b[0;32m      3\u001b[0m \u001b[1;31m#클래스에서 사용하는 변수값이 설정되자 않아 에러 발생\u001b[0m\u001b[1;33m\u001b[0m\u001b[1;33m\u001b[0m\u001b[0m\n\u001b[0;32m      4\u001b[0m \u001b[0mc3\u001b[0m \u001b[1;33m=\u001b[0m \u001b[0mCalculator\u001b[0m\u001b[1;33m(\u001b[0m\u001b[1;33m)\u001b[0m\u001b[1;33m\u001b[0m\u001b[0m\n\u001b[1;32m----> 5\u001b[1;33m \u001b[0mresult\u001b[0m \u001b[1;33m=\u001b[0m \u001b[0mc3\u001b[0m\u001b[1;33m.\u001b[0m\u001b[0madd\u001b[0m\u001b[1;33m(\u001b[0m\u001b[1;33m)\u001b[0m\u001b[1;33m\u001b[0m\u001b[0m\n\u001b[0m\u001b[0;32m      6\u001b[0m \u001b[0mprint\u001b[0m\u001b[1;33m(\u001b[0m\u001b[0mresult\u001b[0m\u001b[1;33m)\u001b[0m\u001b[1;33m\u001b[0m\u001b[0m\n",
      "\u001b[1;32m<ipython-input-1-7141142f6cc9>\u001b[0m in \u001b[0;36madd\u001b[1;34m(self)\u001b[0m\n\u001b[0;32m      6\u001b[0m \u001b[1;33m\u001b[0m\u001b[0m\n\u001b[0;32m      7\u001b[0m     \u001b[1;32mdef\u001b[0m \u001b[0madd\u001b[0m\u001b[1;33m(\u001b[0m\u001b[0mself\u001b[0m\u001b[1;33m)\u001b[0m\u001b[1;33m:\u001b[0m\u001b[1;33m\u001b[0m\u001b[0m\n\u001b[1;32m----> 8\u001b[1;33m         \u001b[1;32mreturn\u001b[0m \u001b[0mself\u001b[0m\u001b[1;33m.\u001b[0m\u001b[0mnum1\u001b[0m \u001b[1;33m+\u001b[0m \u001b[0mself\u001b[0m\u001b[1;33m.\u001b[0m\u001b[0mnum2\u001b[0m\u001b[1;33m\u001b[0m\u001b[0m\n\u001b[0m\u001b[0;32m      9\u001b[0m \u001b[1;33m\u001b[0m\u001b[0m\n\u001b[0;32m     10\u001b[0m     \u001b[1;32mdef\u001b[0m \u001b[0msub\u001b[0m\u001b[1;33m(\u001b[0m\u001b[0mself\u001b[0m\u001b[1;33m)\u001b[0m\u001b[1;33m:\u001b[0m\u001b[1;33m\u001b[0m\u001b[0m\n",
      "\u001b[1;31mAttributeError\u001b[0m: 'Calculator' object has no attribute 'num1'"
     ]
    }
   ],
   "source": [
    "# Constructor - 생성자\n",
    "\n",
    "#클래스에서 사용하는 변수값이 설정되자 않아 에러 발생\n",
    "c3 = Calculator()\n",
    "result = c3.add()\n",
    "print(result)"
   ]
  },
  {
   "cell_type": "code",
   "execution_count": 20,
   "metadata": {},
   "outputs": [],
   "source": [
    "class Calculator2:\n",
    "    \n",
    "    def __init__(self, num1, num2):\n",
    "        self.num1 = num1\n",
    "        self.num2 = num2\n",
    "    \n",
    "    def setData(self, num1, num2):\n",
    "        self.num1 = num1\n",
    "        self.num2 = num2\n",
    "    \n",
    "    def add(self):\n",
    "        return self.num1 + self.num2\n",
    "    \n",
    "    def sub(self):\n",
    "        return self.num1 - self.num2\n",
    "    \n",
    "    def mul(self):\n",
    "        return self.num1 * self.num2\n",
    "    \n",
    "    def div(self):\n",
    "        return self.num1 / self.num2"
   ]
  },
  {
   "cell_type": "code",
   "execution_count": 21,
   "metadata": {},
   "outputs": [
    {
     "ename": "TypeError",
     "evalue": "__init__() missing 2 required positional arguments: 'num1' and 'num2'",
     "output_type": "error",
     "traceback": [
      "\u001b[1;31m---------------------------------------------------------------------------\u001b[0m",
      "\u001b[1;31mTypeError\u001b[0m                                 Traceback (most recent call last)",
      "\u001b[1;32m<ipython-input-21-0b7d73ce63e1>\u001b[0m in \u001b[0;36m<module>\u001b[1;34m()\u001b[0m\n\u001b[0;32m      1\u001b[0m \u001b[1;31m#생성자가 선언되어있는 클래스에 초기값을 설정하지 않아 에러 발생\u001b[0m\u001b[1;33m\u001b[0m\u001b[1;33m\u001b[0m\u001b[0m\n\u001b[1;32m----> 2\u001b[1;33m \u001b[0mc3\u001b[0m \u001b[1;33m=\u001b[0m \u001b[0mCalculator2\u001b[0m\u001b[1;33m(\u001b[0m\u001b[1;33m)\u001b[0m\u001b[1;33m\u001b[0m\u001b[0m\n\u001b[0m",
      "\u001b[1;31mTypeError\u001b[0m: __init__() missing 2 required positional arguments: 'num1' and 'num2'"
     ]
    }
   ],
   "source": [
    "#생성자가 선언되어있는 클래스에 초기값을 설정하지 않아 에러 발생\n",
    "c3 = Calculator2()"
   ]
  },
  {
   "cell_type": "code",
   "execution_count": 22,
   "metadata": {},
   "outputs": [
    {
     "name": "stdout",
     "output_type": "stream",
     "text": [
      "12\n"
     ]
    }
   ],
   "source": [
    "# 초기 변수값을 설정하여 객체를 만듦\n",
    "c3 = Calculator2(5,7)\n",
    "result = c3.add()\n",
    "print(result)"
   ]
  },
  {
   "cell_type": "code",
   "execution_count": 23,
   "metadata": {},
   "outputs": [
    {
     "name": "stdout",
     "output_type": "stream",
     "text": [
      "7\n"
     ]
    }
   ],
   "source": [
    "# setData 함수를 이용하여 변수값 변경\n",
    "c3.setData(3,4)\n",
    "result = c3.add()\n",
    "print(result)"
   ]
  },
  {
   "cell_type": "code",
   "execution_count": 24,
   "metadata": {},
   "outputs": [],
   "source": [
    "# Inheritance - 상속"
   ]
  },
  {
   "cell_type": "code",
   "execution_count": 25,
   "metadata": {},
   "outputs": [],
   "source": [
    "# Calculator에 제곱 함수 추가하여 ImprovedCalculator 생성\n",
    "class ImprovedCalculator:\n",
    "    \n",
    "    def __init__(self, num1, num2):\n",
    "        self.num1 = num1\n",
    "        self.num2 = num2\n",
    "        \n",
    "    def setData(self, num1, num2):\n",
    "        self.num1 = num2\n",
    "        self.num2 = num2\n",
    "        \n",
    "    def add(self):\n",
    "        return self.num1 + self.num2\n",
    "    \n",
    "    def sub(self):\n",
    "        return self.num1 - self.num2\n",
    "    \n",
    "    def mul(self):\n",
    "        return self.num1 * self.num2\n",
    "    \n",
    "    def div(self):\n",
    "        return self.num1 / self.num2\n",
    "    \n",
    "    def pow(self):\n",
    "        return self.num1 ** self.num2"
   ]
  },
  {
   "cell_type": "code",
   "execution_count": 30,
   "metadata": {},
   "outputs": [],
   "source": [
    "# Calculator 클래스를 상속 받아 제곱기능 추가\n",
    "class ImprovedCalculator(Calculator2):\n",
    "    def pow(self):\n",
    "        return self.num1 ** self.num2"
   ]
  },
  {
   "cell_type": "code",
   "execution_count": 32,
   "metadata": {},
   "outputs": [
    {
     "name": "stdout",
     "output_type": "stream",
     "text": [
      "243\n",
      "8\n"
     ]
    }
   ],
   "source": [
    "# ImprovedCalculator 객체를 생성하여 제곱함수를 호출해서 실행\n",
    "ic = ImprovedCalculator(3,5)\n",
    "result = ic.pow()\n",
    "print(result)\n",
    "\n",
    "result = ic.add()\n",
    "print(result)"
   ]
  },
  {
   "cell_type": "code",
   "execution_count": 33,
   "metadata": {},
   "outputs": [],
   "source": [
    "# Multiful Inheritance - 다중상속"
   ]
  },
  {
   "cell_type": "code",
   "execution_count": 34,
   "metadata": {},
   "outputs": [],
   "source": [
    "class Human:\n",
    "    def walk(self):\n",
    "        print(\"walking\")\n",
    "        \n",
    "class Korean:\n",
    "    def eat(self):\n",
    "        print(\"eat kimchi\")\n",
    "\n",
    "class Indian:\n",
    "    def eat(self):\n",
    "        print(\"eat curry\")"
   ]
  },
  {
   "cell_type": "code",
   "execution_count": 35,
   "metadata": {},
   "outputs": [],
   "source": [
    "# Human, Korean 두개의 클래스를 상속 받음\n",
    "class Jin(Human, Korean):\n",
    "    def skill(self):\n",
    "        print(\"coding\")\n",
    "        \n",
    "    def eat(self): # 오버라이딩 : 상위 클래스의 함수를 새롭게 정의\n",
    "        print(\"eat noodle\")"
   ]
  },
  {
   "cell_type": "code",
   "execution_count": 37,
   "metadata": {},
   "outputs": [],
   "source": [
    "# Human, Indian 두개의 클래스를 상속 받음\n",
    "class Anchal(Human, Indian):\n",
    "    def skill(self):\n",
    "        print(\"speak english\")\n",
    "        \n",
    "    def eat(self, place=None):# 오버로딩: argument의 갯수 차이로 다르게 코드 실행\n",
    "        if place is None:\n",
    "            print(\"eat curry\")\n",
    "        else:\n",
    "            print(\"eat noodle in {}\".format(place))"
   ]
  },
  {
   "cell_type": "code",
   "execution_count": 38,
   "metadata": {},
   "outputs": [
    {
     "name": "stdout",
     "output_type": "stream",
     "text": [
      "walking\n",
      "eat noodle\n",
      "coding\n",
      "walking\n",
      "eat curry\n",
      "speak english\n",
      "eat noodle in Delhi\n"
     ]
    }
   ],
   "source": [
    "j = Jin()\n",
    "a = Anchal()\n",
    "\n",
    "j.walk()\n",
    "j.eat()\n",
    "j.skill()\n",
    "\n",
    "a.walk()\n",
    "a.eat()\n",
    "a.skill()\n",
    "a.eat(\"Delhi\")"
   ]
  },
  {
   "cell_type": "code",
   "execution_count": 40,
   "metadata": {},
   "outputs": [],
   "source": [
    "# Super - 상위 클래스의 생성자를 받아옵니다."
   ]
  },
  {
   "cell_type": "code",
   "execution_count": 43,
   "metadata": {},
   "outputs": [
    {
     "name": "stdout",
     "output_type": "stream",
     "text": [
      "D.__init__\n",
      "B.__init__\n",
      "A.__init__\n",
      "C.__init__\n",
      "A.__init__\n"
     ]
    }
   ],
   "source": [
    "# D 객체를 만들 때 A 생성자를 두 번 호출합니다.\n",
    "class A:\n",
    "    def __init__(self):\n",
    "        print(\"A.__init__\")\n",
    "        \n",
    "class B(A):\n",
    "    def __init__(self):\n",
    "        print(\"B.__init__\")\n",
    "        A.__init__(self)\n",
    "        \n",
    "class C(A):\n",
    "    def __init__(self):\n",
    "        print(\"C.__init__\")\n",
    "        A.__init__(self)\n",
    "        \n",
    "class D(B, C):\n",
    "    def __init__(self):\n",
    "        print(\"D.__init__\")\n",
    "        B.__init__(self)\n",
    "        C.__init__(self)\n",
    "        \n",
    "d = D()   "
   ]
  },
  {
   "cell_type": "code",
   "execution_count": 44,
   "metadata": {},
   "outputs": [
    {
     "name": "stdout",
     "output_type": "stream",
     "text": [
      "D.__init__\n",
      "B.__init__\n",
      "C.__init__\n",
      "A.__init__\n"
     ]
    }
   ],
   "source": [
    "# super를 사용하면 한번만 A를 호출(알아서 중복 제거)\n",
    "class A:\n",
    "    def __init__(self):\n",
    "        print(\"A.__init__\")\n",
    "        \n",
    "class B(A):\n",
    "    def __init__(self):\n",
    "        print(\"B.__init__\")\n",
    "        super(B,self).__init__()\n",
    "        \n",
    "class C(A):\n",
    "    def __init__(self):\n",
    "        print(\"C.__init__\")\n",
    "        super(C,self).__init__()\n",
    "        \n",
    "class D(B, C):\n",
    "    def __init__(self):\n",
    "        print(\"D.__init__\")\n",
    "        super(D,self).__init__()\n",
    "\n",
    "d = D()"
   ]
  },
  {
   "cell_type": "code",
   "execution_count": 45,
   "metadata": {},
   "outputs": [],
   "source": [
    "# Getter & Setter 구현 - property, decorator활용"
   ]
  },
  {
   "cell_type": "code",
   "execution_count": 50,
   "metadata": {},
   "outputs": [],
   "source": [
    "# property 함수 이용\n",
    "class Person:\n",
    "    def __init__(self, hidden_name1, hidden_name2):\n",
    "        self.hidden_name1 = hidden_name1\n",
    "        self.hidden_name2 = hidden_name2\n",
    "        \n",
    "    def disp_name1(self):\n",
    "        return self.hidden_name1\n",
    "    \n",
    "    def disp_name2(self):\n",
    "        return self.hidden_name2\n",
    "    \n",
    "    def setter1(self, input_name):\n",
    "        if len(input_name) < 5:\n",
    "            print(\"too short name\")\n",
    "        else:\n",
    "            self.hidden_name1 = input_name\n",
    "            \n",
    "    def setter2(self, input_name):\n",
    "        self.hidden_name2 = input_name.upper()\n",
    "        \n",
    "    name1 = property(disp_name1, setter1)\n",
    "    name2 = property(disp_name2, setter2)"
   ]
  },
  {
   "cell_type": "code",
   "execution_count": 53,
   "metadata": {},
   "outputs": [
    {
     "data": {
      "text/plain": [
       "'LEE'"
      ]
     },
     "execution_count": 53,
     "metadata": {},
     "output_type": "execute_result"
    }
   ],
   "source": [
    "p = Person(\"junho\",\"kim\")\n",
    "p.name2 = \"lee\" # setter\n",
    "p.name2 # getter"
   ]
  },
  {
   "cell_type": "code",
   "execution_count": 54,
   "metadata": {},
   "outputs": [],
   "source": [
    "# decorator\n",
    "class Person2:\n",
    "    def __init__(self, input_name):\n",
    "        self.hidden_name = input_name\n",
    "        \n",
    "    @property\n",
    "    def name(self):\n",
    "        print(\"inside the getter\")\n",
    "        return self.hidden_name\n",
    "    \n",
    "    @name.setter\n",
    "    def name(self, input_name):\n",
    "        print(\"inside the setter\")\n",
    "        self.hidden_name = input_name"
   ]
  },
  {
   "cell_type": "code",
   "execution_count": 56,
   "metadata": {},
   "outputs": [
    {
     "name": "stdout",
     "output_type": "stream",
     "text": [
      "inside the getter\n",
      "juno\n",
      "inside the setter\n",
      "inside the getter\n",
      "sulhyeon\n"
     ]
    }
   ],
   "source": [
    "# 객체를 생성하고 getter와 setter를 이용하여 변수를 저장하고 가져옵니다.\n",
    "p2 = Person2(\"juno\")\n",
    "print(p2.name) # getter\n",
    "\n",
    "p2.name = \"sulhyeon\" # setter\n",
    "print(p2.name) # getter"
   ]
  },
  {
   "cell_type": "code",
   "execution_count": 58,
   "metadata": {},
   "outputs": [],
   "source": [
    "# private - mangling(맹글링)"
   ]
  },
  {
   "cell_type": "code",
   "execution_count": 62,
   "metadata": {},
   "outputs": [],
   "source": [
    "class Person3:\n",
    "    def __init__(self, input_name):\n",
    "        self.__hidden_name = input_name\n",
    "        \n",
    "    def mod(self):\n",
    "        self.__hidden_name = \"test\"\n",
    "        \n",
    "    @property\n",
    "    def name(self):\n",
    "        print(\"inside the getter\")\n",
    "        return self.__hidden_name\n",
    "\n",
    "    @name.setter\n",
    "    def name(self, input_name):\n",
    "        print(\"inside the setter\")\n",
    "        self.__hidden_name = input_name"
   ]
  },
  {
   "cell_type": "code",
   "execution_count": 63,
   "metadata": {},
   "outputs": [
    {
     "ename": "AttributeError",
     "evalue": "'Person3' object has no attribute '__hidden_name'",
     "output_type": "error",
     "traceback": [
      "\u001b[1;31m---------------------------------------------------------------------------\u001b[0m",
      "\u001b[1;31mAttributeError\u001b[0m                            Traceback (most recent call last)",
      "\u001b[1;32m<ipython-input-63-a83e77728669>\u001b[0m in \u001b[0;36m<module>\u001b[1;34m()\u001b[0m\n\u001b[0;32m      1\u001b[0m \u001b[1;31m# 객체를 생성하고 다이렉트로 변수에 접근하면 에러가 발생합니다.\u001b[0m\u001b[1;33m\u001b[0m\u001b[1;33m\u001b[0m\u001b[0m\n\u001b[0;32m      2\u001b[0m \u001b[0mp3\u001b[0m \u001b[1;33m=\u001b[0m \u001b[0mPerson3\u001b[0m\u001b[1;33m(\u001b[0m\u001b[1;34m\"junho\"\u001b[0m\u001b[1;33m)\u001b[0m\u001b[1;33m\u001b[0m\u001b[0m\n\u001b[1;32m----> 3\u001b[1;33m \u001b[0mp3\u001b[0m\u001b[1;33m.\u001b[0m\u001b[0m__hidden_name\u001b[0m\u001b[1;33m\u001b[0m\u001b[0m\n\u001b[0m",
      "\u001b[1;31mAttributeError\u001b[0m: 'Person3' object has no attribute '__hidden_name'"
     ]
    }
   ],
   "source": [
    "# 객체를 생성하고 다이렉트로 변수에 접근하면 에러가 발생합니다.\n",
    "p3 = Person3(\"junho\")\n",
    "p3.__hidden_name"
   ]
  },
  {
   "cell_type": "code",
   "execution_count": 64,
   "metadata": {},
   "outputs": [
    {
     "data": {
      "text/plain": [
       "'junho'"
      ]
     },
     "execution_count": 64,
     "metadata": {},
     "output_type": "execute_result"
    }
   ],
   "source": [
    "# 완벽하게 private는 아님, _class 명을 앞에 추가시켜 접근 가능\n",
    "p3._Person3__hidden_name"
   ]
  },
  {
   "cell_type": "code",
   "execution_count": 65,
   "metadata": {},
   "outputs": [],
   "source": [
    "# is a & has a"
   ]
  },
  {
   "cell_type": "code",
   "execution_count": 66,
   "metadata": {},
   "outputs": [
    {
     "name": "stdout",
     "output_type": "stream",
     "text": [
      "juno rlawnsgh2245@gmail.com\n"
     ]
    }
   ],
   "source": [
    "# is a - Person5 is a Person4\n",
    "class Person4:\n",
    "    def __init__(self, name, email):\n",
    "        self.name = name\n",
    "        self.email = email\n",
    "        \n",
    "class Person5(Person4):\n",
    "    \n",
    "    def about(self):\n",
    "        print(self.name, self.email)\n",
    "\n",
    "p5 = Person5(\"juno\",\"rlawnsgh2245@gmail.com\")\n",
    "p5.about()"
   ]
  },
  {
   "cell_type": "code",
   "execution_count": 67,
   "metadata": {},
   "outputs": [
    {
     "name": "stdout",
     "output_type": "stream",
     "text": [
      "juno rlawnsgh2245@gmail.com\n"
     ]
    }
   ],
   "source": [
    "# has a - person has a name, email\n",
    "class Name:\n",
    "    def __init__(self, name):\n",
    "        self.name_str = name\n",
    "\n",
    "class Email:\n",
    "    def __init__(self, email):\n",
    "        self.email_str = email\n",
    "        \n",
    "class Person6:\n",
    "    def __init__(self, name, email):\n",
    "        self.name = name\n",
    "        self.email = email\n",
    "        \n",
    "    def about(self):\n",
    "        print(self.name.name_str, self.email.email_str)\n",
    "\n",
    "name = Name(\"juno\")\n",
    "email = Email(\"rlawnsgh2245@gmail.com\")\n",
    "p6 = Person6(name, email)\n",
    "p6.about()   "
   ]
  },
  {
   "cell_type": "code",
   "execution_count": null,
   "metadata": {},
   "outputs": [],
   "source": [
    "# magic(spacial) Method"
   ]
  },
  {
   "cell_type": "code",
   "execution_count": 69,
   "metadata": {},
   "outputs": [],
   "source": [
    "# __eq__\n",
    "class Txt:\n",
    "    def __init__(self, txt):\n",
    "        self.txt = txt\n",
    "        \n",
    "    def __eq__(self, txt_obj):\n",
    "        return self.txt.lower() == txt_obj.txt.lower()\n",
    "    \n",
    "txt1 = Txt(\"fastcampus\")\n",
    "txt2 = Txt(\"FastCampus\")\n",
    "txt3 = Txt(\"dataScience\")\n",
    "txt4 = Txt(\"fastcampus\")\n",
    "txt5 = txt1    "
   ]
  },
  {
   "cell_type": "code",
   "execution_count": 70,
   "metadata": {},
   "outputs": [
    {
     "data": {
      "text/plain": [
       "(True, False, True, True)"
      ]
     },
     "execution_count": 70,
     "metadata": {},
     "output_type": "execute_result"
    }
   ],
   "source": [
    "txt1 == txt2, txt1 == txt3, txt1 == txt4, txt1 == txt5"
   ]
  },
  {
   "cell_type": "code",
   "execution_count": 72,
   "metadata": {},
   "outputs": [
    {
     "name": "stdout",
     "output_type": "stream",
     "text": [
      "['Python', 'Python', 'Python']\n"
     ]
    }
   ],
   "source": [
    "# __ne__\n",
    "ls = [\"Hello\",\"Python\",\"Hello\",\"Python\",\"Hello\",\"Python\"]\n",
    "s = \"Hello\"\n",
    "print(list(filter(s.__ne__,ls)))"
   ]
  },
  {
   "cell_type": "code",
   "execution_count": null,
   "metadata": {},
   "outputs": [],
   "source": []
  },
  {
   "cell_type": "code",
   "execution_count": null,
   "metadata": {},
   "outputs": [],
   "source": []
  },
  {
   "cell_type": "code",
   "execution_count": null,
   "metadata": {},
   "outputs": [],
   "source": []
  },
  {
   "cell_type": "code",
   "execution_count": null,
   "metadata": {},
   "outputs": [],
   "source": []
  },
  {
   "cell_type": "code",
   "execution_count": null,
   "metadata": {},
   "outputs": [],
   "source": []
  },
  {
   "cell_type": "code",
   "execution_count": null,
   "metadata": {},
   "outputs": [],
   "source": []
  },
  {
   "cell_type": "code",
   "execution_count": null,
   "metadata": {},
   "outputs": [],
   "source": []
  },
  {
   "cell_type": "code",
   "execution_count": null,
   "metadata": {},
   "outputs": [],
   "source": []
  },
  {
   "cell_type": "code",
   "execution_count": null,
   "metadata": {},
   "outputs": [],
   "source": []
  }
 ],
 "metadata": {
  "kernelspec": {
   "display_name": "Python 3",
   "language": "python",
   "name": "python3"
  },
  "language_info": {
   "codemirror_mode": {
    "name": "ipython",
    "version": 3
   },
   "file_extension": ".py",
   "mimetype": "text/x-python",
   "name": "python",
   "nbconvert_exporter": "python",
   "pygments_lexer": "ipython3",
   "version": "3.6.4"
  }
 },
 "nbformat": 4,
 "nbformat_minor": 2
}
