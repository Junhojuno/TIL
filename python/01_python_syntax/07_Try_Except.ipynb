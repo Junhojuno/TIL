{
 "cells": [
  {
   "cell_type": "markdown",
   "metadata": {},
   "source": [
    "#### 예외처리\n",
    "- 코드에 에러가 발생하는 경우를 대비해서 예외처리를 설정해주면, 에러가 발생해도 아래 코드가 수행됩니다.\n",
    "- try, except, finally\n",
    "- try : 코드 구문\n",
    "- except : 에러가 발생했을 때 실행되는 구문\n",
    "- finally : try, except 구문이 실행되고 마지막에 항상 실행되는 코드 구문"
   ]
  },
  {
   "cell_type": "code",
   "execution_count": 1,
   "metadata": {},
   "outputs": [
    {
     "name": "stdout",
     "output_type": "stream",
     "text": [
      "3\n",
      "done\n"
     ]
    }
   ],
   "source": [
    "ls = [1,2,3]\n",
    "print(ls[2])\n",
    "print(\"done\")"
   ]
  },
  {
   "cell_type": "code",
   "execution_count": 2,
   "metadata": {},
   "outputs": [
    {
     "ename": "IndexError",
     "evalue": "list index out of range",
     "output_type": "error",
     "traceback": [
      "\u001b[1;31m---------------------------------------------------------------------------\u001b[0m",
      "\u001b[1;31mIndexError\u001b[0m                                Traceback (most recent call last)",
      "\u001b[1;32m<ipython-input-2-bc53f97bfb95>\u001b[0m in \u001b[0;36m<module>\u001b[1;34m()\u001b[0m\n\u001b[1;32m----> 1\u001b[1;33m \u001b[0mls\u001b[0m\u001b[1;33m[\u001b[0m\u001b[1;36m3\u001b[0m\u001b[1;33m]\u001b[0m\u001b[1;33m\u001b[0m\u001b[0m\n\u001b[0m",
      "\u001b[1;31mIndexError\u001b[0m: list index out of range"
     ]
    }
   ],
   "source": [
    "ls[3]"
   ]
  },
  {
   "cell_type": "code",
   "execution_count": 4,
   "metadata": {},
   "outputs": [
    {
     "name": "stdout",
     "output_type": "stream",
     "text": [
      "error\n",
      "done\n"
     ]
    }
   ],
   "source": [
    "ls = [1,2,3]\n",
    "try:\n",
    "    print(ls[3])\n",
    "except:\n",
    "    print(\"error\")\n",
    "print(\"done\")"
   ]
  },
  {
   "cell_type": "code",
   "execution_count": 7,
   "metadata": {},
   "outputs": [
    {
     "name": "stdout",
     "output_type": "stream",
     "text": [
      "list index out of range\n",
      "done\n"
     ]
    }
   ],
   "source": [
    "# except에서 특정 에러 검출\n",
    "ls = [1,2,3]\n",
    "try:\n",
    "    print(ls[3])\n",
    "\n",
    "except IndexError as e:\n",
    "    print(e)\n",
    "print(\"done\")"
   ]
  },
  {
   "cell_type": "code",
   "execution_count": null,
   "metadata": {},
   "outputs": [],
   "source": [
    "# except에서 특정 에러 검출 (여러개)\n",
    "ls = [1,2,3]\n",
    "try:\n",
    "#     print(ls[3])\n",
    "    1 / 0\n",
    "except IndexError as e:\n",
    "    print(e)\n",
    "except ZeroDivisionError as e:\n",
    "    print(\"zero\")\n",
    "    print(e)\n",
    "    \n",
    "print(\"done\")"
   ]
  },
  {
   "cell_type": "code",
   "execution_count": 10,
   "metadata": {},
   "outputs": [
    {
     "name": "stdout",
     "output_type": "stream",
     "text": [
      "division by zero\n",
      "done\n"
     ]
    }
   ],
   "source": [
    "# except에서 특정 에러 검출 (묶기)\n",
    "ls = [1,2,3]\n",
    "try:\n",
    "#     print(ls[3])\n",
    "    1 / 0\n",
    "except (ZeroDivisionError, IndexError) as e:\n",
    "    print(e)\n",
    "    \n",
    "print(\"done\")"
   ]
  },
  {
   "cell_type": "code",
   "execution_count": 11,
   "metadata": {},
   "outputs": [
    {
     "name": "stdout",
     "output_type": "stream",
     "text": [
      "division by zero\n",
      "done\n"
     ]
    }
   ],
   "source": [
    "# except에서 특정 에러 검출 - 모든 경우\n",
    "ls = [1,2,3]\n",
    "try:\n",
    "#     print(ls[3])\n",
    "    1 / 0\n",
    "except Exception as e:\n",
    "    print(e)\n",
    "    \n",
    "print(\"done\")"
   ]
  },
  {
   "cell_type": "code",
   "execution_count": 15,
   "metadata": {},
   "outputs": [
    {
     "name": "stdout",
     "output_type": "stream",
     "text": [
      "is error:  True\n"
     ]
    }
   ],
   "source": [
    "is_error = False\n",
    "ls = [1,2,3]\n",
    "\n",
    "try:\n",
    "    print(ls[3])\n",
    "except:\n",
    "    is_error = True\n",
    "finally:\n",
    "    print(\"is error: \",is_error) #error와 상관없이 print"
   ]
  },
  {
   "cell_type": "markdown",
   "metadata": {},
   "source": [
    "#### 에러 만들기\n",
    "- 'raise' 에러를 강제로 발생"
   ]
  },
  {
   "cell_type": "code",
   "execution_count": 16,
   "metadata": {},
   "outputs": [],
   "source": [
    "# 10이상의 숫자를 입력받았을 때, 에러를 발생시키는 에러를 만들자\n",
    "class Upper10Error(Exception):\n",
    "    def __str__(self):\n",
    "        return \"insert under 10 number\""
   ]
  },
  {
   "cell_type": "code",
   "execution_count": 17,
   "metadata": {},
   "outputs": [],
   "source": [
    "def input_number(num):\n",
    "    if num > 10:\n",
    "        raise Upper10Error()\n",
    "    print(num)"
   ]
  },
  {
   "cell_type": "code",
   "execution_count": 19,
   "metadata": {},
   "outputs": [
    {
     "ename": "Upper10Error",
     "evalue": "insert under 10 number",
     "output_type": "error",
     "traceback": [
      "\u001b[1;31m---------------------------------------------------------------------------\u001b[0m",
      "\u001b[1;31mUpper10Error\u001b[0m                              Traceback (most recent call last)",
      "\u001b[1;32m<ipython-input-19-1b50f27b028c>\u001b[0m in \u001b[0;36m<module>\u001b[1;34m()\u001b[0m\n\u001b[1;32m----> 1\u001b[1;33m \u001b[0minput_number\u001b[0m\u001b[1;33m(\u001b[0m\u001b[1;36m15\u001b[0m\u001b[1;33m)\u001b[0m\u001b[1;33m\u001b[0m\u001b[0m\n\u001b[0m",
      "\u001b[1;32m<ipython-input-17-99d6542cbd2c>\u001b[0m in \u001b[0;36minput_number\u001b[1;34m(num)\u001b[0m\n\u001b[0;32m      1\u001b[0m \u001b[1;32mdef\u001b[0m \u001b[0minput_number\u001b[0m\u001b[1;33m(\u001b[0m\u001b[0mnum\u001b[0m\u001b[1;33m)\u001b[0m\u001b[1;33m:\u001b[0m\u001b[1;33m\u001b[0m\u001b[0m\n\u001b[0;32m      2\u001b[0m     \u001b[1;32mif\u001b[0m \u001b[0mnum\u001b[0m \u001b[1;33m>\u001b[0m \u001b[1;36m10\u001b[0m\u001b[1;33m:\u001b[0m\u001b[1;33m\u001b[0m\u001b[0m\n\u001b[1;32m----> 3\u001b[1;33m         \u001b[1;32mraise\u001b[0m \u001b[0mUpper10Error\u001b[0m\u001b[1;33m(\u001b[0m\u001b[1;33m)\u001b[0m\u001b[1;33m\u001b[0m\u001b[0m\n\u001b[0m\u001b[0;32m      4\u001b[0m     \u001b[0mprint\u001b[0m\u001b[1;33m(\u001b[0m\u001b[0mnum\u001b[0m\u001b[1;33m)\u001b[0m\u001b[1;33m\u001b[0m\u001b[0m\n",
      "\u001b[1;31mUpper10Error\u001b[0m: insert under 10 number"
     ]
    }
   ],
   "source": [
    "input_number(15)"
   ]
  }
 ],
 "metadata": {
  "kernelspec": {
   "display_name": "Python 3",
   "language": "python",
   "name": "python3"
  },
  "language_info": {
   "codemirror_mode": {
    "name": "ipython",
    "version": 3
   },
   "file_extension": ".py",
   "mimetype": "text/x-python",
   "name": "python",
   "nbconvert_exporter": "python",
   "pygments_lexer": "ipython3",
   "version": "3.6.4"
  }
 },
 "nbformat": 4,
 "nbformat_minor": 2
}
