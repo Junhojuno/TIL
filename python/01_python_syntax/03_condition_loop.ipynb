{
 "cells": [
  {
   "cell_type": "markdown",
   "metadata": {},
   "source": [
    "## Input, Output, Condition, Loop\n",
    "\n",
    "#### Input\n",
    "- (문자열 데이터타입만 가능)데이터를 받을때 사용"
   ]
  },
  {
   "cell_type": "code",
   "execution_count": 2,
   "metadata": {},
   "outputs": [
    {
     "name": "stdout",
     "output_type": "stream",
     "text": [
      "insert string : 123\n",
      "<class 'str'> 123\n"
     ]
    }
   ],
   "source": [
    "s = input(\"insert string : \")\n",
    "print(type(s),s)"
   ]
  },
  {
   "cell_type": "code",
   "execution_count": 3,
   "metadata": {},
   "outputs": [
    {
     "name": "stdout",
     "output_type": "stream",
     "text": [
      "insert number : 1234\n",
      "<class 'int'> 1234\n"
     ]
    }
   ],
   "source": [
    "n = int(input(\"insert number : \"))\n",
    "print(type(n), n)"
   ]
  },
  {
   "cell_type": "code",
   "execution_count": 5,
   "metadata": {},
   "outputs": [
    {
     "name": "stdout",
     "output_type": "stream",
     "text": [
      "insert list (sep=' ') : 1 2 3 4 5 \n",
      "<class 'list'> ['1', '2', '3', '4', '5', '']\n"
     ]
    }
   ],
   "source": [
    "ls = input(\"insert list (sep=' ') : \")\n",
    "ls = ls.split(\" \")\n",
    "print(type(ls), ls)"
   ]
  },
  {
   "cell_type": "code",
   "execution_count": 6,
   "metadata": {},
   "outputs": [
    {
     "name": "stdout",
     "output_type": "stream",
     "text": [
      "0 1\n"
     ]
    }
   ],
   "source": [
    "# 출력 - print\n",
    "a , b = 0, 1\n",
    "print(a, b)"
   ]
  },
  {
   "cell_type": "code",
   "execution_count": 3,
   "metadata": {},
   "outputs": [
    {
     "name": "stdout",
     "output_type": "stream",
     "text": [
      "{1: 'one', 2: 'two'}\n"
     ]
    }
   ],
   "source": [
    "# pprint : 딕셔너리 형태의 큰 데이터를 보기 편하게 출력(이거 안쓰면 더럽게 나옴)\n",
    "from pprint import pprint\n",
    "\n",
    "dic = {1: \"one\", 2: \"two\"}\n",
    "pprint(dic)"
   ]
  },
  {
   "cell_type": "code",
   "execution_count": 4,
   "metadata": {},
   "outputs": [
    {
     "name": "stdout",
     "output_type": "stream",
     "text": [
      "{'A': 90, 'B': 70, 'C': 100, 'D': 90, 'E': 70, 'F': 100, 'G': 90, 'H': 70, 'I': 100}\n",
      "{'A': 90,\n",
      " 'B': 70,\n",
      " 'C': 100,\n",
      " 'D': 90,\n",
      " 'E': 70,\n",
      " 'F': 100,\n",
      " 'G': 90,\n",
      " 'H': 70,\n",
      " 'I': 100}\n"
     ]
    }
   ],
   "source": [
    "dic = {\"A\":90, \"B\":70, \"C\":100, \"D\":90, \"E\":70, \"F\":100, \"G\":90, \"H\":70, \"I\":100}\n",
    "print(dic)\n",
    "pprint(dic)"
   ]
  },
  {
   "cell_type": "markdown",
   "metadata": {},
   "source": [
    "# 조건 : if, elif, else\n",
    "\n",
    "if <조건>:\n",
    "    '< code >'\n"
   ]
  },
  {
   "cell_type": "code",
   "execution_count": 10,
   "metadata": {},
   "outputs": [
    {
     "name": "stdout",
     "output_type": "stream",
     "text": [
      "good\n"
     ]
    }
   ],
   "source": [
    "star1 = 4\n",
    "star2 = 2\n",
    "\n",
    "if star1 > 3:\n",
    "    print(\"good\")\n",
    "else:\n",
    "    print(\"bad\")"
   ]
  },
  {
   "cell_type": "code",
   "execution_count": 12,
   "metadata": {},
   "outputs": [
    {
     "name": "stdout",
     "output_type": "stream",
     "text": [
      "good\n"
     ]
    }
   ],
   "source": [
    "if star1 > 3:\n",
    "    print(\"good\")\n",
    "if star1 <= 3:\n",
    "    print(\"bad\")"
   ]
  },
  {
   "cell_type": "code",
   "execution_count": 14,
   "metadata": {},
   "outputs": [
    {
     "name": "stdout",
     "output_type": "stream",
     "text": [
      "C\n"
     ]
    }
   ],
   "source": [
    "# elif\n",
    "# 학점\n",
    "# 60 이하 F, 61~70: D, 71~80: C, 81~90: B, 91~100: A\n",
    "point = 74\n",
    "\n",
    "if point > 90:\n",
    "    print(\"A\")\n",
    "elif point > 80:\n",
    "    print(\"B\")\n",
    "elif point > 70:\n",
    "    print(\"C\")\n",
    "elif point > 60:\n",
    "    print(\"D\")\n",
    "else:\n",
    "    print(\"F\")"
   ]
  },
  {
   "cell_type": "code",
   "execution_count": 17,
   "metadata": {},
   "outputs": [
    {
     "name": "stdout",
     "output_type": "stream",
     "text": [
      "insert a number: 0\n",
      "Even\n"
     ]
    }
   ],
   "source": [
    "# Quiz : 숫자를 입력받아서 짝수면 even,홀수면 odd를 출력하는 프로그램(형변환, 연산자 사용)\n",
    "num = int(input(\"insert a number: \"))\n",
    "\n",
    "if num % 2 == 0:\n",
    "    print(\"Even\")\n",
    "else:\n",
    "    print(\"Odd\")"
   ]
  },
  {
   "cell_type": "code",
   "execution_count": 18,
   "metadata": {},
   "outputs": [],
   "source": [
    "# 삼항연산\n",
    "# result = (Trun인 경우의 조건) if <조건> else (False인 경우)"
   ]
  },
  {
   "cell_type": "code",
   "execution_count": 19,
   "metadata": {},
   "outputs": [
    {
     "name": "stdout",
     "output_type": "stream",
     "text": [
      "even\n"
     ]
    }
   ],
   "source": [
    "number = 12\n",
    "result = \"even\" if number % 2 == 0 else \"odd\"\n",
    "print(result)"
   ]
  },
  {
   "cell_type": "markdown",
   "metadata": {},
   "source": [
    "### 반복문 \n",
    "- while, for, break, continue, list comprehension"
   ]
  },
  {
   "cell_type": "markdown",
   "metadata": {},
   "source": [
    "'''\n",
    "while <조건>:\n",
    "    code\n",
    "    '''\n",
    "   "
   ]
  },
  {
   "cell_type": "code",
   "execution_count": 20,
   "metadata": {},
   "outputs": [
    {
     "name": "stdout",
     "output_type": "stream",
     "text": [
      "3\n",
      "2\n",
      "1\n"
     ]
    },
    {
     "data": {
      "text/plain": [
       "0"
      ]
     },
     "execution_count": 20,
     "metadata": {},
     "output_type": "execute_result"
    }
   ],
   "source": [
    "a = 3\n",
    "while a > 0:\n",
    "    print(a)\n",
    "    a -= 1\n",
    "a"
   ]
  },
  {
   "cell_type": "code",
   "execution_count": 21,
   "metadata": {},
   "outputs": [
    {
     "name": "stdout",
     "output_type": "stream",
     "text": [
      "0\n",
      "1\n",
      "2\n",
      "3\n"
     ]
    }
   ],
   "source": [
    "# break\n",
    "a = 0\n",
    "while True:\n",
    "    print(a)\n",
    "    if a == 3:\n",
    "        break\n",
    "    a += 1"
   ]
  },
  {
   "cell_type": "code",
   "execution_count": 6,
   "metadata": {},
   "outputs": [
    {
     "name": "stdout",
     "output_type": "stream",
     "text": [
      "even 4\n",
      "even 2\n",
      "even 0\n"
     ]
    }
   ],
   "source": [
    "# continue : continue 아래를 실행하지 않고 반복문으로 올라감.\n",
    "a = 5\n",
    "while a > 0:\n",
    "    a -= 1\n",
    "    if a % 2 != 0:\n",
    "        continue\n",
    "        \n",
    "    print(\"even\", a)"
   ]
  },
  {
   "cell_type": "code",
   "execution_count": 8,
   "metadata": {},
   "outputs": [
    {
     "name": "stdout",
     "output_type": "stream",
     "text": [
      "1\n",
      "3\n"
     ]
    },
    {
     "data": {
      "text/plain": [
       "5"
      ]
     },
     "execution_count": 8,
     "metadata": {},
     "output_type": "execute_result"
    }
   ],
   "source": [
    "a = [1,2,3,4,\"q\"]\n",
    "idx = 0\n",
    "while True:\n",
    "    data = a[idx]\n",
    "    idx += 1\n",
    "    if data == \"q\":\n",
    "        break\n",
    "    elif data % 2 == 0:\n",
    "        continue\n",
    "    print(data)\n",
    "idx"
   ]
  },
  {
   "cell_type": "markdown",
   "metadata": {},
   "source": [
    "#### for\n",
    "'''\n",
    "for <var> in <list>:\n",
    "    <code>\n",
    "'''"
   ]
  },
  {
   "cell_type": "code",
   "execution_count": 25,
   "metadata": {},
   "outputs": [
    {
     "name": "stdout",
     "output_type": "stream",
     "text": [
      "1\n"
     ]
    }
   ],
   "source": [
    "ls = [1,2,3]\n",
    "for value in ls:\n",
    "    if value == 2:\n",
    "        break\n",
    "    print(value)"
   ]
  },
  {
   "cell_type": "code",
   "execution_count": 26,
   "metadata": {},
   "outputs": [
    {
     "name": "stdout",
     "output_type": "stream",
     "text": [
      "1\n",
      "3\n"
     ]
    }
   ],
   "source": [
    "ls = [1,2,3]\n",
    "for value in ls:\n",
    "    if value % 2 == 0:\n",
    "        continue\n",
    "    print(value)"
   ]
  },
  {
   "cell_type": "code",
   "execution_count": 14,
   "metadata": {},
   "outputs": [
    {
     "name": "stdout",
     "output_type": "stream",
     "text": [
      "range(0, 5)\n"
     ]
    },
    {
     "data": {
      "text/plain": [
       "(range(0, 5), [0, 1, 2, 3, 4])"
      ]
     },
     "execution_count": 14,
     "metadata": {},
     "output_type": "execute_result"
    }
   ],
   "source": [
    "##range\n",
    "print(range(5))\n",
    "range(5),list(range(5)) "
   ]
  },
  {
   "cell_type": "code",
   "execution_count": 30,
   "metadata": {},
   "outputs": [
    {
     "data": {
      "text/plain": [
       "[0, 2, 4]"
      ]
     },
     "execution_count": 30,
     "metadata": {},
     "output_type": "execute_result"
    }
   ],
   "source": [
    "list(range(0,5,2))"
   ]
  },
  {
   "cell_type": "code",
   "execution_count": 34,
   "metadata": {},
   "outputs": [
    {
     "data": {
      "text/plain": [
       "[5, 4, 3, 2, 1]"
      ]
     },
     "execution_count": 34,
     "metadata": {},
     "output_type": "execute_result"
    }
   ],
   "source": [
    "list(range(5,0,-1))"
   ]
  },
  {
   "cell_type": "code",
   "execution_count": 35,
   "metadata": {},
   "outputs": [
    {
     "name": "stdout",
     "output_type": "stream",
     "text": [
      "dss\n",
      "dss\n",
      "dss\n",
      "dss\n",
      "dss\n"
     ]
    }
   ],
   "source": [
    "for _ in range(5):\n",
    "    print(\"dss\")"
   ]
  },
  {
   "cell_type": "code",
   "execution_count": 36,
   "metadata": {},
   "outputs": [],
   "source": [
    "# zip : 2개의 리스트를 key, value 형태로 묶어주는 함수"
   ]
  },
  {
   "cell_type": "code",
   "execution_count": 15,
   "metadata": {},
   "outputs": [
    {
     "data": {
      "text/plain": [
       "{'korean': 80, 'math': 100, 'science': 90}"
      ]
     },
     "execution_count": 15,
     "metadata": {},
     "output_type": "execute_result"
    }
   ],
   "source": [
    "subs = [\"math\", \"korean\", \"science\"]\n",
    "points = [100, 80, 90]\n",
    "\n",
    "dic = {}\n",
    "for idx in range(len(subs)):\n",
    "    dic[subs[idx]] = points[idx]\n",
    "dic"
   ]
  },
  {
   "cell_type": "code",
   "execution_count": 39,
   "metadata": {},
   "outputs": [
    {
     "data": {
      "text/plain": [
       "{'korean': 80, 'math': 100, 'science': 90}"
      ]
     },
     "execution_count": 39,
     "metadata": {},
     "output_type": "execute_result"
    }
   ],
   "source": [
    "for sub, point in zip(subs, points): #subs의 0번째와 points의 0번째가 같이 첨에 나옴(이후에도 1번째, 2번째)\n",
    "    dic[subs[idx]] = points[idx]\n",
    "dic"
   ]
  },
  {
   "cell_type": "code",
   "execution_count": 18,
   "metadata": {},
   "outputs": [
    {
     "data": {
      "text/plain": [
       "(<zip at 0x2615ed49688>, {'korean': 80, 'math': 100, 'science': 90})"
      ]
     },
     "execution_count": 18,
     "metadata": {},
     "output_type": "execute_result"
    }
   ],
   "source": [
    "zip(subs,points), dict(zip(subs, points))"
   ]
  },
  {
   "cell_type": "code",
   "execution_count": 2,
   "metadata": {},
   "outputs": [
    {
     "name": "stdout",
     "output_type": "stream",
     "text": [
      "0 data\n",
      "1 dss\n",
      "2 science\n",
      "3 dss\n"
     ]
    }
   ],
   "source": [
    "# enumerate : list 형태의 데이터를 index와 value를 동시에 사용하고 싶을 때 사용\n",
    "ls = [\"data\", \"dss\", \"science\", \"dss\"]\n",
    "i = 0\n",
    "for idx, value in enumerate(ls):\n",
    "    print(idx, value)"
   ]
  },
  {
   "cell_type": "code",
   "execution_count": 3,
   "metadata": {
    "scrolled": true
   },
   "outputs": [
    {
     "name": "stdout",
     "output_type": "stream",
     "text": [
      "0 data\n",
      "1 dss\n",
      "2 science\n",
      "3 dss\n"
     ]
    },
    {
     "data": {
      "text/plain": [
       "[1, 3]"
      ]
     },
     "execution_count": 3,
     "metadata": {},
     "output_type": "execute_result"
    }
   ],
   "source": [
    "dss_index = []\n",
    "for idx, value in enumerate(ls):\n",
    "    if value == \"dss\":\n",
    "        dss_index.append(idx)\n",
    "    print(idx, value)\n",
    "dss_index"
   ]
  },
  {
   "cell_type": "code",
   "execution_count": 5,
   "metadata": {},
   "outputs": [
    {
     "data": {
      "text/plain": [
       "25"
      ]
     },
     "execution_count": 5,
     "metadata": {},
     "output_type": "execute_result"
    }
   ],
   "source": [
    "# for 문을 이용해서 리스트안에 있는 모든 숫자를 더하는 코딩\n",
    "ls = [1,3,5,7,9]\n",
    "result = 0\n",
    "\n",
    "for i in ls:\n",
    "    result += i\n",
    "result"
   ]
  },
  {
   "cell_type": "markdown",
   "metadata": {},
   "source": [
    "### List Comprehension\n",
    "- 반복문의 리스트 결과를 한줄로 코딩하여 바로 만들어주는 방법.\n",
    "- 리스트 데이터를 만들때 for문보다 속도가 빠름.\n",
    "```\n",
    "ls = [<value>+1 for <value> in <list> (if <condition>)] ****if문은 선택사항\n",
    "```"
   ]
  },
  {
   "cell_type": "code",
   "execution_count": 19,
   "metadata": {},
   "outputs": [
    {
     "name": "stdout",
     "output_type": "stream",
     "text": [
      "[1, 2, 3, 4, 5]\n",
      "[1, 2, 3]\n",
      "[1, 2, 3, 4, 5]\n",
      "[1, 2, 3, 4, 5]\n"
     ]
    }
   ],
   "source": [
    "# method 1\n",
    "ls = []\n",
    "ls = [1,2,3,4,5]\n",
    "print(ls)\n",
    "\n",
    "# method 2\n",
    "ls = []\n",
    "ls.append(1)\n",
    "ls.append(2)\n",
    "ls.append(3)\n",
    "print(ls)\n",
    "\n",
    "# method 3\n",
    "ls = []\n",
    "for num in range(1,6):\n",
    "    ls.append(num)\n",
    "print(ls)\n",
    "\n",
    "# method 4\n",
    "ls = [num for num in range(1,6)]\n",
    "print(ls)"
   ]
  },
  {
   "cell_type": "code",
   "execution_count": 24,
   "metadata": {},
   "outputs": [
    {
     "name": "stdout",
     "output_type": "stream",
     "text": [
      "671 µs ± 8.89 µs per loop (mean ± std. dev. of 7 runs, 1000 loops each)\n"
     ]
    }
   ],
   "source": [
    "%%timeit\n",
    "ls = []\n",
    "for num in range(1,10000):\n",
    "    ls.append(num)\n",
    "len(ls)"
   ]
  },
  {
   "cell_type": "code",
   "execution_count": 26,
   "metadata": {},
   "outputs": [
    {
     "name": "stdout",
     "output_type": "stream",
     "text": [
      "268 µs ± 2.26 µs per loop (mean ± std. dev. of 7 runs, 1000 loops each)\n"
     ]
    }
   ],
   "source": [
    "%%timeit\n",
    "ls = [num for num in range(1,10000)]\n",
    "len(ls)"
   ]
  },
  {
   "cell_type": "code",
   "execution_count": 28,
   "metadata": {},
   "outputs": [
    {
     "name": "stdout",
     "output_type": "stream",
     "text": [
      "['0:even', '1:odd', '2:even', '3:odd', '4:even', '5:odd', '6:even', '7:odd', '8:even', '9:odd', '10:even']\n"
     ]
    }
   ],
   "source": [
    "# 0~10까지 숫자를 출력, 출력되는 숫자 뒤에 홀수인지 짝수인지 문자열을 붙여서 출력하는 코드 by 삼항연산\n",
    "ls = [str(num) + \":even\" if num % 2 == 0 else str(num)+ \":odd\" for num in range(11)]\n",
    "print(ls)"
   ]
  },
  {
   "cell_type": "code",
   "execution_count": 30,
   "metadata": {},
   "outputs": [
    {
     "data": {
      "text/plain": [
       "[1, 3, 5, 7, 9]"
      ]
     },
     "execution_count": 30,
     "metadata": {},
     "output_type": "execute_result"
    }
   ],
   "source": [
    "# 0~10까지 홀수만 출력\n",
    "ls = [num for num in range(11) if num % 2 != 0]\n",
    "ls"
   ]
  },
  {
   "cell_type": "code",
   "execution_count": 32,
   "metadata": {},
   "outputs": [
    {
     "data": {
      "text/plain": [
       "[0, 2, 4, 6, 8, 10]"
      ]
     },
     "execution_count": 32,
     "metadata": {},
     "output_type": "execute_result"
    }
   ],
   "source": [
    "# 0~10까지 짝수만 출력\n",
    "ls = [num for num in range(11) if num % 2 == 0]\n",
    "ls"
   ]
  },
  {
   "cell_type": "code",
   "execution_count": 2,
   "metadata": {},
   "outputs": [
    {
     "data": {
      "text/plain": [
       "['kim dss', 'data', 'school', 'jung science']"
      ]
     },
     "execution_count": 2,
     "metadata": {},
     "output_type": "execute_result"
    }
   ],
   "source": [
    "# Quiz 이씨성을 가진 사람 제거\n",
    "names = [\"kim dss\", \"park python\", \"lee data\", \"lee school\", \"jung science\"]\n",
    "result1 = [i[3:] if \"lee\" in i else i for i in names ]\n",
    "result1\n",
    "\n",
    "# result1(강사님 코드)\n",
    "result1 = [\n",
    "    name.split(\" \")[1] if name.split(\" \")[0] == \"lee\" else name \n",
    "    for name in names\n",
    "]\n",
    "\n",
    "#park씨 성 데이터 삭제\n",
    "result2 = [name for name in result1 if \"park\" not in name]\n",
    "result2\n",
    "\n",
    "#result2(강사님 코드)\n",
    "result2 = [\n",
    "    name.split(\" \")[1] if name.split(\" \")[0] == \"lee\" else name \n",
    "    for name in names\n",
    "    if name.split(\" \")[0] != \"park\"\n",
    "]\n",
    "result2"
   ]
  }
 ],
 "metadata": {
  "kernelspec": {
   "display_name": "Python 3",
   "language": "python",
   "name": "python3"
  },
  "language_info": {
   "codemirror_mode": {
    "name": "ipython",
    "version": 3
   },
   "file_extension": ".py",
   "mimetype": "text/x-python",
   "name": "python",
   "nbconvert_exporter": "python",
   "pygments_lexer": "ipython3",
   "version": "3.6.4"
  }
 },
 "nbformat": 4,
 "nbformat_minor": 2
}
