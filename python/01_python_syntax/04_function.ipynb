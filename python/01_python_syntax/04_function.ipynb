{
 "cells": [
  {
   "cell_type": "markdown",
   "metadata": {},
   "source": [
    "### Function\n",
    "- 선언, 호출\n",
    "- parameter, argument 개념\n",
    "- return 개념\n",
    "- `*args`, `**kargs`\n",
    "- docstring (shift + tab 키) : 만들어놓은 함수에 대한 설명...이것을 쓰는 방법에 대해\n",
    "- scope (glbal, local)\n",
    "- inner function : 함수안에 함수 사용하는 법\n",
    "- lambda function\n",
    "- map, filter, reduce 함수 : list 수정시 간단하게 하는 방법\n",
    "- decorlator"
   ]
  },
  {
   "cell_type": "markdown",
   "metadata": {},
   "source": [
    "#### 선언\n",
    "```\n",
    "def <function_name>():\n",
    "    code\n",
    "```\n",
    "#### 호출\n",
    "```\n",
    "<function_name>()\n",
    "```"
   ]
  },
  {
   "cell_type": "code",
   "execution_count": 1,
   "metadata": {},
   "outputs": [
    {
     "name": "stdout",
     "output_type": "stream",
     "text": [
      "this is test function!\n"
     ]
    }
   ],
   "source": [
    "#선언\n",
    "def test():\n",
    "    print(\"this is test function!\")\n",
    "test()"
   ]
  },
  {
   "cell_type": "markdown",
   "metadata": {},
   "source": [
    "#### parameter & argument"
   ]
  },
  {
   "cell_type": "code",
   "execution_count": 2,
   "metadata": {},
   "outputs": [
    {
     "name": "stdout",
     "output_type": "stream",
     "text": [
      "7\n",
      "7\n"
     ]
    }
   ],
   "source": [
    "# parameter(받는 값)\n",
    "def sum_func(a, b):\n",
    "    print(a+b)\n",
    "# argument(넘겨주는 값)\n",
    "sum_func(2, 5)\n",
    "num1, num2 = 2, 5\n",
    "sum_func(num1, num2)"
   ]
  },
  {
   "cell_type": "code",
   "execution_count": 3,
   "metadata": {},
   "outputs": [
    {
     "name": "stdout",
     "output_type": "stream",
     "text": [
      "0.2\n"
     ]
    }
   ],
   "source": [
    "# keyword argument : 순서에 상관없이 집어 넣기\n",
    "def div_func(a, b):\n",
    "    print(a / b)\n",
    "    \n",
    "div_func(b = 10, a = 2)"
   ]
  },
  {
   "cell_type": "code",
   "execution_count": 4,
   "metadata": {},
   "outputs": [
    {
     "name": "stdout",
     "output_type": "stream",
     "text": [
      "3\n",
      "8\n"
     ]
    }
   ],
   "source": [
    "# default parameter :  default parameter가 아닌 parameter를 default parameter앞쪽에 써줘야함\n",
    "def sum_func(num1, num2=0):\n",
    "    print(num1 + num2)\n",
    "    \n",
    "sum_func(3)\n",
    "sum_func(3, 5)"
   ]
  },
  {
   "cell_type": "code",
   "execution_count": 5,
   "metadata": {},
   "outputs": [
    {
     "ename": "SyntaxError",
     "evalue": "non-default argument follows default argument (<ipython-input-5-8d78485696fe>, line 3)",
     "output_type": "error",
     "traceback": [
      "\u001b[1;36m  File \u001b[1;32m\"<ipython-input-5-8d78485696fe>\"\u001b[1;36m, line \u001b[1;32m3\u001b[0m\n\u001b[1;33m    def minus(num1=3, num2=2, num3):\u001b[0m\n\u001b[1;37m             ^\u001b[0m\n\u001b[1;31mSyntaxError\u001b[0m\u001b[1;31m:\u001b[0m non-default argument follows default argument\n"
     ]
    }
   ],
   "source": [
    "#default로 설정되어있는 parameter는 항상 뒤쪽으로!!\n",
    "#아래 코드는 앞에 있어서 error\n",
    "def minus(num1=3, num2=2, num3):\n",
    "    print(num1 - num2 - num3)\n",
    "minus(5)"
   ]
  },
  {
   "cell_type": "code",
   "execution_count": 6,
   "metadata": {},
   "outputs": [
    {
     "name": "stdout",
     "output_type": "stream",
     "text": [
      "-4\n"
     ]
    }
   ],
   "source": [
    "#이렇게 해야 error 안남!!\n",
    "def minus(num3, num1=3, num2=2):\n",
    "    print(num1 - num2 - num3)\n",
    "minus(5)"
   ]
  },
  {
   "cell_type": "code",
   "execution_count": 7,
   "metadata": {},
   "outputs": [
    {
     "ename": "SyntaxError",
     "evalue": "non-default argument follows default argument (<ipython-input-7-d41df0486078>, line 1)",
     "output_type": "error",
     "traceback": [
      "\u001b[1;36m  File \u001b[1;32m\"<ipython-input-7-d41df0486078>\"\u001b[1;36m, line \u001b[1;32m1\u001b[0m\n\u001b[1;33m    def sum_func(num1=0, num2):\u001b[0m\n\u001b[1;37m                ^\u001b[0m\n\u001b[1;31mSyntaxError\u001b[0m\u001b[1;31m:\u001b[0m non-default argument follows default argument\n"
     ]
    }
   ],
   "source": [
    "def sum_func(num1=0, num2):\n",
    "    print(num1 + num2)\n",
    "sum_func(3) # error뜸, num2를 num1앞에 써줘야함."
   ]
  },
  {
   "cell_type": "markdown",
   "metadata": {},
   "source": [
    "##### Return\n",
    "- 함수를 호출했을 때 결과를 반환하는 용도로 사용."
   ]
  },
  {
   "cell_type": "code",
   "execution_count": 8,
   "metadata": {},
   "outputs": [],
   "source": [
    "def sum_func(num1, num2):\n",
    "    return num1 + num2"
   ]
  },
  {
   "cell_type": "code",
   "execution_count": 9,
   "metadata": {},
   "outputs": [
    {
     "data": {
      "text/plain": [
       "3"
      ]
     },
     "execution_count": 9,
     "metadata": {},
     "output_type": "execute_result"
    }
   ],
   "source": [
    "result = sum_func(1,2)\n",
    "result"
   ]
  },
  {
   "cell_type": "code",
   "execution_count": 10,
   "metadata": {},
   "outputs": [],
   "source": [
    "def calc_func(num1, num2):\n",
    "    return num1 + num2, num1 - num2"
   ]
  },
  {
   "cell_type": "code",
   "execution_count": 11,
   "metadata": {},
   "outputs": [
    {
     "data": {
      "text/plain": [
       "(7, 3)"
      ]
     },
     "execution_count": 11,
     "metadata": {},
     "output_type": "execute_result"
    }
   ],
   "source": [
    "calc_func(5, 2) #Tuple 형태로 return"
   ]
  },
  {
   "cell_type": "code",
   "execution_count": 12,
   "metadata": {},
   "outputs": [
    {
     "name": "stdout",
     "output_type": "stream",
     "text": [
      "7 3\n"
     ]
    }
   ],
   "source": [
    "result_1, result_2 = calc_func(5, 2) # 나누어 넣을 수도 있음.\n",
    "print(result_1, result_2)"
   ]
  },
  {
   "cell_type": "markdown",
   "metadata": {},
   "source": [
    "##### ```*args, **kwargs```\n",
    "- `*` : 전부, 모두, All 의미"
   ]
  },
  {
   "cell_type": "code",
   "execution_count": 13,
   "metadata": {},
   "outputs": [
    {
     "name": "stdout",
     "output_type": "stream",
     "text": [
      "(1, 3, 4, 5)\n",
      "1 3 4 5\n",
      "<class 'tuple'>\n",
      "1 3\n"
     ]
    },
    {
     "data": {
      "text/plain": [
       "13"
      ]
     },
     "execution_count": 13,
     "metadata": {},
     "output_type": "execute_result"
    }
   ],
   "source": [
    "# *args : 하나로 parameter를 뭉쳐서 tuple로 봄, 몇개의 parameter를 받을지 모를때 사용.\n",
    "def sum_func(*args):\n",
    "    print(args)\n",
    "    print(*args)\n",
    "    print(type(args))\n",
    "    print(args[0], args[1])\n",
    "    return sum(args)\n",
    "\n",
    "sum_func(1, 3, 4, 5)"
   ]
  },
  {
   "cell_type": "code",
   "execution_count": 14,
   "metadata": {},
   "outputs": [
    {
     "name": "stdout",
     "output_type": "stream",
     "text": [
      "1\n",
      "(2, 3, 4, 5)\n",
      "2 3 4 5\n",
      "<class 'int'> <class 'tuple'>\n"
     ]
    },
    {
     "data": {
      "text/plain": [
       "14"
      ]
     },
     "execution_count": 14,
     "metadata": {},
     "output_type": "execute_result"
    }
   ],
   "source": [
    "def sum_func2(a, *args):\n",
    "    print(a)\n",
    "    print(args)\n",
    "    print(*args)\n",
    "    print(type(a) ,type(args))\n",
    "    return sum(args)\n",
    "\n",
    "sum_func2(1,2,3,4,5)"
   ]
  },
  {
   "cell_type": "code",
   "execution_count": 15,
   "metadata": {},
   "outputs": [
    {
     "name": "stdout",
     "output_type": "stream",
     "text": [
      "avg: 82.0\n"
     ]
    }
   ],
   "source": [
    "# *args로 평균구하기\n",
    "def avg_func(*args):\n",
    "    return sum(args)/len(args)\n",
    "\n",
    "a = avg_func(100,70,80,99,85,60,80)\n",
    "print(\"avg: {}\".format(round(a,2)))"
   ]
  },
  {
   "cell_type": "code",
   "execution_count": 16,
   "metadata": {},
   "outputs": [
    {
     "name": "stdout",
     "output_type": "stream",
     "text": [
      "100 70 80 99 85 60 80\n",
      "avg: 82.0\n"
     ]
    },
    {
     "data": {
      "text/plain": [
       "<method 'get' of 'dict' objects>"
      ]
     },
     "execution_count": 16,
     "metadata": {},
     "output_type": "execute_result"
    }
   ],
   "source": [
    "# *args로 평균구하기-argument에 *넣기\n",
    "def avg_func(*args):\n",
    "    return sum(args)/len(args)\n",
    "\n",
    "ls = [100,70,80,99,85,60,80]\n",
    "print(*ls) # argument에 *를 넣으면 괄호가 벗겨진다 \n",
    "a = avg_func(*ls)\n",
    "print(\"avg: {}\".format(round(a,2)))\n",
    "dict.get"
   ]
  },
  {
   "cell_type": "code",
   "execution_count": 17,
   "metadata": {},
   "outputs": [
    {
     "name": "stdout",
     "output_type": "stream",
     "text": [
      "{'num1': 1, 'num2': 3}\n",
      "<class 'dict'>\n",
      "1 3\n"
     ]
    }
   ],
   "source": [
    "# **kwargs : dict타입으로 받는다. *args는 tuple이었다는..!\n",
    "def sum_func(**kwargs):\n",
    "    print(kwargs)\n",
    "    print(type(kwargs))\n",
    "    print(kwargs[\"num1\"], kwargs[\"num2\"])\n",
    "\n",
    "sum_func(num1=1, num2=3)"
   ]
  },
  {
   "cell_type": "code",
   "execution_count": 18,
   "metadata": {},
   "outputs": [
    {
     "name": "stdout",
     "output_type": "stream",
     "text": [
      "(1, 2, 3)\n",
      "{'num1': 4, 'num2': 5}\n"
     ]
    }
   ],
   "source": [
    "#키워드가 없는 argument들은 args로 받아지고,\n",
    "#키워드가 있는 argument들은 kwargs로 받아짐.\n",
    "#parameter의 순서를 고려해서 argument 배치해야함!\n",
    "def func(*args, **kwargs):\n",
    "    print(args)\n",
    "    print(kwargs)\n",
    "    \n",
    "func(1,2,3,num1=4, num2=5)"
   ]
  },
  {
   "cell_type": "code",
   "execution_count": 19,
   "metadata": {},
   "outputs": [
    {
     "name": "stdout",
     "output_type": "stream",
     "text": [
      "(1, 2, 3)\n",
      "([1, 2, 3],)\n"
     ]
    }
   ],
   "source": [
    "# argument에 * 사용\n",
    "def test(*args):\n",
    "    print(args)\n",
    "    \n",
    "ls = [1,2,3]  \n",
    "test(*ls) # 이건 test(1,2,3)과 같음\n",
    "test(ls) # 이건 ([1,2,3],)이렇게 뜰걸?"
   ]
  },
  {
   "cell_type": "code",
   "execution_count": 20,
   "metadata": {},
   "outputs": [
    {
     "name": "stdout",
     "output_type": "stream",
     "text": [
      "{'korean': 100, 'english': 90, 'math': 80}\n",
      "<class 'dict'>\n",
      "korean 100\n",
      "english 90\n",
      "math 80\n",
      "90.0\n"
     ]
    }
   ],
   "source": [
    "def avg_func(**kwargs):\n",
    "    print(kwargs)\n",
    "    print(type(kwargs))\n",
    "    total, count = 0, 0\n",
    "    for subject, point in kwargs.items():\n",
    "        print(subject, point)\n",
    "        total += point\n",
    "        count += 1\n",
    "    return total/count\n",
    "\n",
    "a = avg_func(korean=100, english=90, math=80)\n",
    "print(a)"
   ]
  },
  {
   "cell_type": "markdown",
   "metadata": {},
   "source": [
    "##### docstring\n",
    "- 함수를 설명할 때 사용\n",
    "```\n",
    "def <function_name>():\n",
    "    \"\"\"\n",
    "    description\n",
    "    \"\"\"\n",
    "```\n",
    "- PEP20 : Zen of python\n",
    " - readability counts : 가독성은 중요하다\n",
    "- PEP8 : coding convention"
   ]
  },
  {
   "cell_type": "code",
   "execution_count": 21,
   "metadata": {},
   "outputs": [
    {
     "name": "stdout",
     "output_type": "stream",
     "text": [
      "The Zen of Python, by Tim Peters\n",
      "\n",
      "Beautiful is better than ugly.\n",
      "Explicit is better than implicit.\n",
      "Simple is better than complex.\n",
      "Complex is better than complicated.\n",
      "Flat is better than nested.\n",
      "Sparse is better than dense.\n",
      "Readability counts.\n",
      "Special cases aren't special enough to break the rules.\n",
      "Although practicality beats purity.\n",
      "Errors should never pass silently.\n",
      "Unless explicitly silenced.\n",
      "In the face of ambiguity, refuse the temptation to guess.\n",
      "There should be one-- and preferably only one --obvious way to do it.\n",
      "Although that way may not be obvious at first unless you're Dutch.\n",
      "Now is better than never.\n",
      "Although never is often better than *right* now.\n",
      "If the implementation is hard to explain, it's a bad idea.\n",
      "If the implementation is easy to explain, it may be a good idea.\n",
      "Namespaces are one honking great idea -- let's do more of those!\n"
     ]
    }
   ],
   "source": [
    "import this"
   ]
  },
  {
   "cell_type": "code",
   "execution_count": 22,
   "metadata": {},
   "outputs": [],
   "source": [
    "def echo(anything):\n",
    "    \"\"\"\n",
    "    echo returns its input argument\n",
    "    the operation is:\n",
    "        1. print (anything)\n",
    "        2. return (anything)\n",
    "    \"\"\"\n",
    "    print(anything)\n"
   ]
  },
  {
   "cell_type": "code",
   "execution_count": 23,
   "metadata": {},
   "outputs": [
    {
     "name": "stdout",
     "output_type": "stream",
     "text": [
      "dss\n"
     ]
    }
   ],
   "source": [
    "#shift + tab\n",
    "#docstring : 함수에 대한 설명, parameter에 대한 설명, 테스트 코드 등등\n",
    "echo(\"dss\") "
   ]
  },
  {
   "cell_type": "code",
   "execution_count": 24,
   "metadata": {},
   "outputs": [],
   "source": [
    "# only docstring\n",
    "echo?"
   ]
  },
  {
   "cell_type": "code",
   "execution_count": 25,
   "metadata": {},
   "outputs": [],
   "source": [
    "## docstring with code\n",
    "echo??"
   ]
  },
  {
   "cell_type": "code",
   "execution_count": 26,
   "metadata": {},
   "outputs": [
    {
     "name": "stdout",
     "output_type": "stream",
     "text": [
      "Help on function echo in module __main__:\n",
      "\n",
      "echo(anything)\n",
      "    echo returns its input argument\n",
      "    the operation is:\n",
      "        1. print (anything)\n",
      "        2. return (anything)\n",
      "\n"
     ]
    }
   ],
   "source": [
    "# help()\n",
    "help(echo)"
   ]
  },
  {
   "cell_type": "markdown",
   "metadata": {},
   "source": [
    "##### Scope\n",
    "- global, local"
   ]
  },
  {
   "cell_type": "code",
   "execution_count": 27,
   "metadata": {},
   "outputs": [
    {
     "name": "stdout",
     "output_type": "stream",
     "text": [
      "10\n"
     ]
    }
   ],
   "source": [
    "# global\n",
    "gv = 10\n",
    "def print_gv():\n",
    "    print(gv)\n",
    "print_gv()"
   ]
  },
  {
   "cell_type": "code",
   "execution_count": 28,
   "metadata": {},
   "outputs": [
    {
     "name": "stdout",
     "output_type": "stream",
     "text": [
      "100\n"
     ]
    }
   ],
   "source": [
    "gv = 10\n",
    "def print_gv():\n",
    "    gv = 100\n",
    "    print(gv)\n",
    "print_gv()"
   ]
  },
  {
   "cell_type": "code",
   "execution_count": 29,
   "metadata": {},
   "outputs": [
    {
     "data": {
      "text/plain": [
       "10"
      ]
     },
     "execution_count": 29,
     "metadata": {},
     "output_type": "execute_result"
    }
   ],
   "source": [
    "gv"
   ]
  },
  {
   "cell_type": "code",
   "execution_count": 30,
   "metadata": {},
   "outputs": [
    {
     "name": "stdout",
     "output_type": "stream",
     "text": [
      "10 20\n"
     ]
    }
   ],
   "source": [
    "# global영역의 변수 보기\n",
    "gv = 10\n",
    "gv2 = 20\n",
    "def print_gv():\n",
    "    gv = 100\n",
    "    gv2 = 200\n",
    "    print(globals()[\"gv\"], globals()[\"gv2\"])\n",
    "print_gv()"
   ]
  },
  {
   "cell_type": "code",
   "execution_count": 31,
   "metadata": {},
   "outputs": [
    {
     "name": "stdout",
     "output_type": "stream",
     "text": [
      "{'gv2': 200, 'gv': 100, 'test': <function print_gv.<locals>.test at 0x0000020BE27A31E0>}\n"
     ]
    }
   ],
   "source": [
    "# local영역의 변수 보기\n",
    "gv = 10\n",
    "gv2 = 20\n",
    "def print_gv():\n",
    "    def test():\n",
    "        print(1)\n",
    "    gv = 100\n",
    "    gv2 = 200\n",
    "    print(locals())\n",
    "print_gv()"
   ]
  },
  {
   "cell_type": "code",
   "execution_count": 32,
   "metadata": {},
   "outputs": [
    {
     "name": "stdout",
     "output_type": "stream",
     "text": [
      "100\n"
     ]
    }
   ],
   "source": [
    "#local 영역에서 global영역에서 선언된 변수를 사용하고 싶다면?\n",
    "# global영역의 변수 보기\n",
    "gv = 10\n",
    "def change_gv():\n",
    "    global gv\n",
    "    gv = 100\n",
    "    print(gv)\n",
    "change_gv()"
   ]
  },
  {
   "cell_type": "markdown",
   "metadata": {},
   "source": [
    "#### inner function\n",
    "- global : 전역 --> 전역함수, 전역변수\n",
    "- local : 지역 --> 지역함수, 지역변수\n",
    "- 지역함수, 익명함수(코드를 노출시키면 안될때)"
   ]
  },
  {
   "cell_type": "code",
   "execution_count": 33,
   "metadata": {},
   "outputs": [],
   "source": [
    "def outer(a, b):\n",
    "    def inner(c, d):\n",
    "        return c + d\n",
    "    \n",
    "    return inner(a, b)"
   ]
  },
  {
   "cell_type": "code",
   "execution_count": 34,
   "metadata": {},
   "outputs": [
    {
     "data": {
      "text/plain": [
       "3"
      ]
     },
     "execution_count": 34,
     "metadata": {},
     "output_type": "execute_result"
    }
   ],
   "source": [
    "outer(1, 2)"
   ]
  },
  {
   "cell_type": "code",
   "execution_count": 35,
   "metadata": {},
   "outputs": [],
   "source": [
    "def outer(a, b):\n",
    "    def inner(c, d):\n",
    "        return c + d\n",
    "    \n",
    "    return inner"
   ]
  },
  {
   "cell_type": "code",
   "execution_count": 36,
   "metadata": {},
   "outputs": [
    {
     "data": {
      "text/plain": [
       "function"
      ]
     },
     "execution_count": 36,
     "metadata": {},
     "output_type": "execute_result"
    }
   ],
   "source": [
    "func = outer(1, 2)\n",
    "type(func)"
   ]
  },
  {
   "cell_type": "code",
   "execution_count": 37,
   "metadata": {},
   "outputs": [
    {
     "data": {
      "text/plain": [
       "3"
      ]
     },
     "execution_count": 37,
     "metadata": {},
     "output_type": "execute_result"
    }
   ],
   "source": [
    "func(1,2)"
   ]
  },
  {
   "cell_type": "markdown",
   "metadata": {},
   "source": [
    "#### lambda function\n",
    "- 간단한 함수를 선언하지 않고 함수처럼 사용하는 함수\n",
    "- 메모리 절약할 수 있음.\n",
    "- default parameter, 삼항연산 사용 가능\n",
    "- ```lambda <parameters> : <return_value>```"
   ]
  },
  {
   "cell_type": "code",
   "execution_count": 38,
   "metadata": {},
   "outputs": [
    {
     "data": {
      "text/plain": [
       "3"
      ]
     },
     "execution_count": 38,
     "metadata": {},
     "output_type": "execute_result"
    }
   ],
   "source": [
    "def sum_func(x, y):\n",
    "    return x + y\n",
    "sum_func(1, 2)"
   ]
  },
  {
   "cell_type": "code",
   "execution_count": 39,
   "metadata": {},
   "outputs": [
    {
     "data": {
      "text/plain": [
       "3"
      ]
     },
     "execution_count": 39,
     "metadata": {},
     "output_type": "execute_result"
    }
   ],
   "source": [
    "sum_func2 = lambda x, y : x + y\n",
    "sum_func2(1, 2)"
   ]
  },
  {
   "cell_type": "code",
   "execution_count": 40,
   "metadata": {},
   "outputs": [
    {
     "data": {
      "text/plain": [
       "(function, function)"
      ]
     },
     "execution_count": 40,
     "metadata": {},
     "output_type": "execute_result"
    }
   ],
   "source": [
    "type(sum_func), type(sum_func2)"
   ]
  },
  {
   "cell_type": "code",
   "execution_count": 41,
   "metadata": {},
   "outputs": [
    {
     "data": {
      "text/plain": [
       "(3, 3)"
      ]
     },
     "execution_count": 41,
     "metadata": {},
     "output_type": "execute_result"
    }
   ],
   "source": [
    "def test(func, num1, num2):\n",
    "    return func(num1, num2)\n",
    "\n",
    "test(sum_func, 1, 2), test(lambda x, y: x + y, 1,2)"
   ]
  },
  {
   "cell_type": "markdown",
   "metadata": {},
   "source": [
    "#### Map & Filter & Reduce\n",
    "- 리스트(순서가 있는 타입을 대표해 말함) 형태의 데이터를 함수와 함께 가공해주기 위해서 사용되는 함수.\n",
    "- map : 리스트 안의 모든 value에 함수를 적용해서 결과 데이터를 리스트 형태로 반환.\n",
    "- filter : 리스트 안에 있는 value 데이터를 특정 함수로 필터링해주는 함수.\n",
    "- reduce : 리스트 안에 있는 value 데이털를 하나씩 함수에 적용해서 하나의 결과를 얻는 함수. 내장함수가 아니어서 import 필요"
   ]
  },
  {
   "cell_type": "code",
   "execution_count": 42,
   "metadata": {},
   "outputs": [
    {
     "data": {
      "text/plain": [
       "(<map at 0x20be99de208>, [0, 1, 2, 3])"
      ]
     },
     "execution_count": 42,
     "metadata": {},
     "output_type": "execute_result"
    }
   ],
   "source": [
    "# map #shift + tab\n",
    "ls = [1,2,3,4]\n",
    "def sum_func(num):\n",
    "    return num - 1\n",
    "map(sum_func, ls), list(map(sum_func, ls))"
   ]
  },
  {
   "cell_type": "code",
   "execution_count": 43,
   "metadata": {},
   "outputs": [
    {
     "data": {
      "text/plain": [
       "['Kim', 'Lee', 'Park', 'Kim', 'Lee']"
      ]
     },
     "execution_count": 43,
     "metadata": {},
     "output_type": "execute_result"
    }
   ],
   "source": [
    "# quiz - map1 : 사람의 성만 출력\n",
    "man_list = [\"Kim kildong\", \"Lee jeawoo\", \"Park sangjin\", \"Kim kilsoo\", \"Lee sungsim\"]\n",
    "\n",
    "# def name_func(man):\n",
    "#     return man.split(\" \")[0]\n",
    "# list(map(name_func, man_list))\n",
    "\n",
    "list(map(lambda x : x.split(\" \")[0], man_list))"
   ]
  },
  {
   "cell_type": "code",
   "execution_count": 44,
   "metadata": {},
   "outputs": [
    {
     "data": {
      "text/plain": [
       "{1: 'odd',\n",
       " 2: 'even',\n",
       " 3: 'odd',\n",
       " 4: 'even',\n",
       " 5: 'odd',\n",
       " 6: 'even',\n",
       " 7: 'odd',\n",
       " 8: 'even',\n",
       " 9: 'odd',\n",
       " 10: 'even'}"
      ]
     },
     "execution_count": 44,
     "metadata": {},
     "output_type": "execute_result"
    }
   ],
   "source": [
    "# quiz - map2 : 1~10 홀짝나누고 dict타입으로 출력\n",
    "num_list = list(range(1,11))\n",
    "dict(map(lambda x: (x, \"even\") if x % 2 == 0 else (x,\"odd\"), num_list))"
   ]
  },
  {
   "cell_type": "code",
   "execution_count": 45,
   "metadata": {},
   "outputs": [
    {
     "data": {
      "text/plain": [
       "[15, 18, 21]"
      ]
     },
     "execution_count": 45,
     "metadata": {},
     "output_type": "execute_result"
    }
   ],
   "source": [
    "# quiz - map3 : map함수를 구현하세요.\n",
    "ls_1 = [1,2,3]\n",
    "ls_2 = [5,6,7,8]\n",
    "ls_3 = [9,10,11,12]\n",
    "\n",
    "# def sum_func1(*args):\n",
    "#     result = [sum(i) for i in args]\n",
    "#     return result\n",
    "\n",
    "# def map_func(func, *args):\n",
    "#     result = list(zip(*args))\n",
    "#     return func(*result)\n",
    "\n",
    "## 강사님 코드 - 리스트 안의 원소(?) 갯수까지 고려\n",
    "def sum_func(*args):\n",
    "    return sum(args)\n",
    "    \n",
    "def map_func(func, *args):\n",
    "    result = []\n",
    "    \n",
    "    # TODO\n",
    "    values_count = len(args[0]) # 4\n",
    "    for idx in range(len(args)):\n",
    "        values_count = values_count if values_count < len(args[idx]) else len(args[idx])\n",
    "        \n",
    "    params_count = len(args) # 3\n",
    "    \n",
    "    for idx1 in range(values_count):\n",
    "        params = []\n",
    "        for idx2 in range(params_count):\n",
    "            params.append(args[idx2][idx1])\n",
    "        result.append(func(*params))\n",
    "    \n",
    "    return result\n",
    "        \n",
    "    \n",
    "map_func(sum_func, ls_1, ls_2, ls_3)"
   ]
  },
  {
   "cell_type": "markdown",
   "metadata": {},
   "source": [
    "#### Filter\n",
    "- 리스트 데이터에서 조건에 맞는 value 데이터만 남기는 필터링 기능을 하는 함수\n",
    "- filter의 아규먼트로 들어가는 함수는 항상 리턴값이 True 아니면 False로 리턴되어야함\n",
    "- True 값인 데이터는 남기고 False 값인 데이터는 제거\n",
    "- ```filter(<function>,<list(iterable)>)```"
   ]
  },
  {
   "cell_type": "code",
   "execution_count": 46,
   "metadata": {},
   "outputs": [
    {
     "data": {
      "text/plain": [
       "[2, 4, 6, 8, 10]"
      ]
     },
     "execution_count": 46,
     "metadata": {},
     "output_type": "execute_result"
    }
   ],
   "source": [
    "# filter를 사용하여 리스트에서 짝수 데이터만 남기는 코드 작성\n",
    "ls  = list(range(1,11))\n",
    "\n",
    "list(filter(lambda num: num % 2 == 0, ls))"
   ]
  },
  {
   "cell_type": "code",
   "execution_count": 47,
   "metadata": {},
   "outputs": [
    {
     "data": {
      "text/plain": [
       "[2, 4, 6, 8, 10]"
      ]
     },
     "execution_count": 47,
     "metadata": {},
     "output_type": "execute_result"
    }
   ],
   "source": [
    "#filter #shift + tab\n",
    "def is_even(num):\n",
    "    return True if num % 2 == 0 else False\n",
    "list(filter(is_even, ls))"
   ]
  },
  {
   "cell_type": "code",
   "execution_count": 48,
   "metadata": {},
   "outputs": [
    {
     "data": {
      "text/plain": [
       "['Lee jeawoo', 'Lee sungsim']"
      ]
     },
     "execution_count": 48,
     "metadata": {},
     "output_type": "execute_result"
    }
   ],
   "source": [
    "# quiz - filter1 : 성이 \"Lee\"인 사람만 출력하기\n",
    "name_list = [\"Kim kildong\", \"Lee jeawoo\", \"Park sangjin\", \"Kim kilsoo\", \"Lee sungsim\"]\n",
    "\n",
    "# method 1\n",
    "# family_name = \"Lee\"\n",
    "# def family(name):\n",
    "#     return name.split(\" \")[0] == \"Lee\"\n",
    "# list(filter(family, name_list))\n",
    "\n",
    "#method 2\n",
    "list(filter(lambda num: num.split()[0] == \"Lee\", name_list))\n",
    "\n",
    "\n",
    "#method 3 - List comprehension으로 풀기\n",
    "result = [name for name in name_list if name.split()[0] == \"Lee\"]\n",
    "result"
   ]
  },
  {
   "cell_type": "code",
   "execution_count": 49,
   "metadata": {},
   "outputs": [
    {
     "data": {
      "text/plain": [
       "([1, 3, 5, 7, 9], [2, 4, 6, 8, 10])"
      ]
     },
     "execution_count": 49,
     "metadata": {},
     "output_type": "execute_result"
    }
   ],
   "source": [
    "# quiz - filter2 : 홀짝 구분, filter 구현\n",
    "ls_5 = list(range(1,11))\n",
    "is_odd_even = {\n",
    "    \"odd\": lambda num : num % 2 == 1,\n",
    "    \"even\": lambda num : num % 2 == 0,\n",
    "}\n",
    "def filter_func(func, data_list):\n",
    "    result = []\n",
    "    for x in data_list:\n",
    "        if func(x):\n",
    "            result.append(x)\n",
    "    return result\n",
    "    \n",
    "    \n",
    "    \n",
    "\n",
    "result_1 = filter_func(is_odd_even[\"odd\"], ls_5)\n",
    "result_2 = filter_func(is_odd_even[\"even\"], ls_5)\n",
    "result_1, result_2"
   ]
  },
  {
   "cell_type": "markdown",
   "metadata": {},
   "source": [
    "#### Reduce\n",
    "- 리스트 데이터를 처음부터 순서대로 특정 함수를 실행하여 나온 결과를 다음 데이터와 함께 또 다시 함수를 실행하여\n",
    "- 마지막에 하나의 데이터를 남기는 함수\n",
    "- ```reduce(<function>, <list(iterable)>)```"
   ]
  },
  {
   "cell_type": "code",
   "execution_count": 50,
   "metadata": {},
   "outputs": [
    {
     "data": {
      "text/plain": [
       "15"
      ]
     },
     "execution_count": 50,
     "metadata": {},
     "output_type": "execute_result"
    }
   ],
   "source": [
    "from functools import reduce\n",
    "\n",
    "ls = [1,2,3,4,5]\n",
    "reduce(lambda num1, num2: num1 + num2, ls)"
   ]
  },
  {
   "cell_type": "code",
   "execution_count": 51,
   "metadata": {},
   "outputs": [
    {
     "data": {
      "text/plain": [
       "15"
      ]
     },
     "execution_count": 51,
     "metadata": {},
     "output_type": "execute_result"
    }
   ],
   "source": [
    "# reduce # shift + tab\n",
    "from functools import reduce\n",
    "\n",
    "def sum_func2(num1, num2):\n",
    "    return num1 + num2\n",
    "\n",
    "reduce(sum_func2, ls)"
   ]
  },
  {
   "cell_type": "code",
   "execution_count": 52,
   "metadata": {},
   "outputs": [
    {
     "data": {
      "text/plain": [
       "7"
      ]
     },
     "execution_count": 52,
     "metadata": {},
     "output_type": "execute_result"
    }
   ],
   "source": [
    "# 가장 큰 수를 구하는 코드 작성\n",
    "ls = [1,3,5,7,2]\n",
    "reduce(lambda num1, num2: num1 if num1 > num2 else num2, ls)"
   ]
  },
  {
   "cell_type": "code",
   "execution_count": 53,
   "metadata": {},
   "outputs": [
    {
     "data": {
      "text/plain": [
       "'Park sangjin'"
      ]
     },
     "execution_count": 53,
     "metadata": {},
     "output_type": "execute_result"
    }
   ],
   "source": [
    "# quiz - reduce1 : 이름이 가장 긴 사람 출력.\n",
    "name_list = [\"Kim kildong\", \"Lee jeawoo\", \"Park sangjin\", \"Kim kilsoo\", \"Lee sungsim\"]\n",
    "reduce(lambda x,y: x if len(x) > len(y) else y, name_list)"
   ]
  },
  {
   "cell_type": "code",
   "execution_count": 54,
   "metadata": {},
   "outputs": [
    {
     "data": {
      "text/plain": [
       "15"
      ]
     },
     "execution_count": 54,
     "metadata": {},
     "output_type": "execute_result"
    }
   ],
   "source": [
    "# quiz - reduce2 : reduce 함수 직접 구현하기.\n",
    "ls = [1,2,3,4,5]\n",
    "# total = 0\n",
    "# def reduce_func(func, ls):\n",
    "#     total = 0\n",
    "#     for i in ls:\n",
    "#         total += i\n",
    "#     return total\n",
    "\n",
    "def reduce_func(func, data_list):\n",
    "    result = data_list[0]\n",
    "    del data_list[0]\n",
    "    \n",
    "    for data in data_list:\n",
    "        result = func(result,data)\n",
    "\n",
    "    return result\n",
    "\n",
    "reduce_func(lambda x,y: x+y, ls)"
   ]
  },
  {
   "cell_type": "markdown",
   "metadata": {},
   "source": [
    "#### Decolator\n",
    "- 코드를 바꾸지 않고 함수의 기능을 추가할 때 사용.\n",
    "- 여러개의 함수에서 공통된 기능을 뽑아서 하나의 함수로 만들어서 사용할 때 사용.\n",
    "- inner function, ```*args, **kwargs```\n",
    "- `@<function_name>`\n",
    "\n",
    "```\n",
    "def A():\n",
    "    code1\n",
    "    code2\n",
    "    code3\n",
    "    \n",
    "def B():\n",
    "    code1\n",
    "    code4\n",
    "    code3\n",
    "```\n",
    "\n",
    "```    \n",
    "def C(func):\n",
    "    def wrapper(*args, **kwargs):\n",
    "        code1\n",
    "        result = func(*args, **kwargs)\n",
    "        code3\n",
    "        return result\n",
    "    return wrapper\n",
    "    \n",
    "    \n",
    "@C\n",
    "def A():\n",
    "    result = code2\n",
    "    return result\n",
    "\n",
    "C(A)(params)로 실행!\n",
    "A(params) 하면 code1, code2, code3, return result 순으로 실행됨\n",
    "\n",
    "@C\n",
    "def B():\n",
    "    code4\n",
    "    "
   ]
  },
  {
   "cell_type": "code",
   "execution_count": 55,
   "metadata": {},
   "outputs": [],
   "source": [
    "# display를 해주는 decolator 만들기\n",
    "\n",
    "# 위의 C를 대표하는 함수 disp()\n",
    "def disp(func):\n",
    "    def wrapper(*args, **kwargs):\n",
    "        # code1\n",
    "        print(\"running function name:\", func.__name__)\n",
    "        print(\"args : \", args)\n",
    "        print(\"kwargs : \", kwargs)\n",
    "        \n",
    "        #code2(A), code4(B)\n",
    "        result = func(*args, **kwargs)\n",
    "        \n",
    "        #code3\n",
    "        print(\"result : \", result)\n",
    "        return result\n",
    "    \n",
    "    return wrapper"
   ]
  },
  {
   "cell_type": "code",
   "execution_count": 56,
   "metadata": {},
   "outputs": [],
   "source": [
    "# A\n",
    "def sum_func(a,b):\n",
    "    # code1  - print(function name, args, kwargs)\n",
    "    print(\"{}+{}={}\".format(a,b,a+b))\n",
    "\n",
    "    #code3 - print(\"result :\", a + b )\n",
    "    return a + b"
   ]
  },
  {
   "cell_type": "code",
   "execution_count": 57,
   "metadata": {},
   "outputs": [
    {
     "name": "stdout",
     "output_type": "stream",
     "text": [
      "1+2=3\n"
     ]
    },
    {
     "data": {
      "text/plain": [
       "3"
      ]
     },
     "execution_count": 57,
     "metadata": {},
     "output_type": "execute_result"
    }
   ],
   "source": [
    "sum_func(1,2)"
   ]
  },
  {
   "cell_type": "code",
   "execution_count": 58,
   "metadata": {},
   "outputs": [],
   "source": [
    "# B\n",
    "def minus_func(a,b):\n",
    "    # code1  - print(function name, args, kwargs)\n",
    "    print(\"{}+{}={}\".format(a,b,a+b))\n",
    "\n",
    "    #code3 - print(\"result :\", a - b )\n",
    "    return a - b"
   ]
  },
  {
   "cell_type": "code",
   "execution_count": 59,
   "metadata": {},
   "outputs": [
    {
     "name": "stdout",
     "output_type": "stream",
     "text": [
      "1+2=3\n"
     ]
    },
    {
     "data": {
      "text/plain": [
       "-1"
      ]
     },
     "execution_count": 59,
     "metadata": {},
     "output_type": "execute_result"
    }
   ],
   "source": [
    "minus_func(1,2)"
   ]
  },
  {
   "cell_type": "code",
   "execution_count": 60,
   "metadata": {},
   "outputs": [],
   "source": [
    "@disp\n",
    "def sum_func(a,b):\n",
    "    # code1  - print(function name, args, kwargs)\n",
    "#     print(\"{}+{}={}\".format(a,b,a+b))\n",
    "\n",
    "    #code3 - print(\"result :\", a + b )\n",
    "    return a + b"
   ]
  },
  {
   "cell_type": "code",
   "execution_count": 61,
   "metadata": {},
   "outputs": [
    {
     "name": "stdout",
     "output_type": "stream",
     "text": [
      "running function name: sum_func\n",
      "args :  (2,)\n",
      "kwargs :  {'b': 1}\n",
      "result :  3\n"
     ]
    },
    {
     "data": {
      "text/plain": [
       "3"
      ]
     },
     "execution_count": 61,
     "metadata": {},
     "output_type": "execute_result"
    }
   ],
   "source": [
    "sum_func(2, b = 1)"
   ]
  },
  {
   "cell_type": "code",
   "execution_count": 62,
   "metadata": {},
   "outputs": [],
   "source": [
    "# timer decolator - 함수가 실행되는 시간을 측정하는 데코레이터\n",
    "import time\n",
    "def timer(func):\n",
    "    def wrapper(*args, **kwargs):\n",
    "        start_time = time.time()\n",
    "        result = func(*args, **kwargs)\n",
    "        end_time = time.time()\n",
    "        print(\"running time:\", end_time - start_time)\n",
    "        return result\n",
    "    return wrapper"
   ]
  },
  {
   "cell_type": "code",
   "execution_count": 63,
   "metadata": {},
   "outputs": [],
   "source": [
    "@timer\n",
    "def pow_func(num1, num2):\n",
    "#     start_time = time.time()\n",
    "    result = num1 ** num2\n",
    "#     end_time = time.time()\n",
    "#     print(\"running time:\", end_time - start_time)\n",
    "    return result"
   ]
  },
  {
   "cell_type": "code",
   "execution_count": 64,
   "metadata": {},
   "outputs": [
    {
     "name": "stdout",
     "output_type": "stream",
     "text": [
      "running time: 0.0\n"
     ]
    },
    {
     "data": {
      "text/plain": [
       "1024"
      ]
     },
     "execution_count": 64,
     "metadata": {},
     "output_type": "execute_result"
    }
   ],
   "source": [
    "pow_func(2,10)"
   ]
  },
  {
   "cell_type": "code",
   "execution_count": 65,
   "metadata": {},
   "outputs": [],
   "source": [
    "# decolator를 사용하여 관리자 계정이면 패스워드를 출력, 아니면 패스워드 출력하지 않는 코드 만들기\n",
    "admin_ls = [\"pdj\", \"dss\"]\n",
    "pw = \"dss8\"\n",
    "\n",
    "def admin(func):\n",
    "    def wrapper(*args, **kwargs):\n",
    "        is_admin = False\n",
    "        user_id = func(*args, **kwargs)\n",
    "        if user_id in admin_ls:\n",
    "            is_admin = True\n",
    "        if is_admin:\n",
    "            print(\"password : \", pw)\n",
    "        else:\n",
    "            print(\"you're not admin!\")\n",
    "        return is_admin\n",
    "    \n",
    "    return wrapper\n",
    "    "
   ]
  },
  {
   "cell_type": "code",
   "execution_count": 66,
   "metadata": {},
   "outputs": [],
   "source": [
    "@admin\n",
    "def input_user():\n",
    "    return input(\"insert user id : \")"
   ]
  },
  {
   "cell_type": "code",
   "execution_count": 67,
   "metadata": {},
   "outputs": [
    {
     "name": "stdout",
     "output_type": "stream",
     "text": [
      "insert user id : \n",
      "you're not admin!\n"
     ]
    },
    {
     "data": {
      "text/plain": [
       "False"
      ]
     },
     "execution_count": 67,
     "metadata": {},
     "output_type": "execute_result"
    }
   ],
   "source": [
    "input_user()"
   ]
  },
  {
   "cell_type": "code",
   "execution_count": 68,
   "metadata": {},
   "outputs": [],
   "source": [
    "user_id = {\n",
    "    1:\"dss\",\n",
    "    2:\"data\",\n",
    "    3:\"science\",\n",
    "}\n",
    "@admin\n",
    "def input_id(input_number):\n",
    "    return user_id[input_number]"
   ]
  },
  {
   "cell_type": "code",
   "execution_count": 53,
   "metadata": {},
   "outputs": [
    {
     "name": "stdout",
     "output_type": "stream",
     "text": [
      "password :  dss8\n"
     ]
    },
    {
     "data": {
      "text/plain": [
       "True"
      ]
     },
     "execution_count": 53,
     "metadata": {},
     "output_type": "execute_result"
    }
   ],
   "source": [
    "input_id(1)"
   ]
  }
 ],
 "metadata": {
  "kernelspec": {
   "display_name": "Python 3",
   "language": "python",
   "name": "python3"
  },
  "language_info": {
   "codemirror_mode": {
    "name": "ipython",
    "version": 3
   },
   "file_extension": ".py",
   "mimetype": "text/x-python",
   "name": "python",
   "nbconvert_exporter": "python",
   "pygments_lexer": "ipython3",
   "version": "3.6.4"
  }
 },
 "nbformat": 4,
 "nbformat_minor": 2
}
