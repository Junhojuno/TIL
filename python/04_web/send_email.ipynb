{
 "cells": [
  {
   "cell_type": "markdown",
   "metadata": {},
   "source": [
    "## Send Email"
   ]
  },
  {
   "cell_type": "code",
   "execution_count": 1,
   "metadata": {},
   "outputs": [],
   "source": [
    "import smtplib, os, pickle\n",
    "from email import encoders\n",
    "from email.mime.text import MIMEText\n",
    "from email.mime.multipart import MIMEMultipart\n",
    "from email.mime.base import MIMEBase"
   ]
  },
  {
   "cell_type": "code",
   "execution_count": 3,
   "metadata": {},
   "outputs": [],
   "source": [
    "toAddr = [\"wnsgh2245@naver.com\", \"slsl0879@hanmail.net\", \"rlawnsgh2245@gmail.com\"]"
   ]
  },
  {
   "cell_type": "code",
   "execution_count": 4,
   "metadata": {},
   "outputs": [],
   "source": [
    "# 비밀번호 저장 공개되면 안되니까(?)\n",
    "pw = \"rlacodms~2\"\n",
    "pickle.dump(pw, open(\"../pw.pickle\", 'wb'))"
   ]
  },
  {
   "cell_type": "code",
   "execution_count": 9,
   "metadata": {},
   "outputs": [
    {
     "data": {
      "text/plain": [
       "(235, b'2.7.0 Accepted')"
      ]
     },
     "execution_count": 9,
     "metadata": {},
     "output_type": "execute_result"
    }
   ],
   "source": [
    "# Access smtp server\n",
    "smtp = smtplib.SMTP('smtp.gmail.com', 587) # 객체 생성 : 구글 smtp사용과 포트번호 587 \n",
    "smtp.ehlo() # 정상적으로 서버가 존재하는지 에코를 날려본다.\n",
    "smtp.starttls() # smtp로 접속하는 방식 : tls\n",
    "smtp.login('rlawnsgh2245@gmail.com', pickle.load( open('../pw.pickle', 'rb') ))\n",
    "# smtp.login(email, pw)"
   ]
  },
  {
   "cell_type": "code",
   "execution_count": 10,
   "metadata": {},
   "outputs": [],
   "source": [
    "# 전송할 message 작성\n",
    "msg = MIMEMultipart()\n",
    "msg['subject'] = \"SMTP 전송 테스트(제목)\""
   ]
  },
  {
   "cell_type": "code",
   "execution_count": 11,
   "metadata": {},
   "outputs": [],
   "source": [
    "part = MIMEText(\"SMTP TEXT 메세지 보내기\")\n",
    "msg.attach(part)"
   ]
  },
  {
   "cell_type": "code",
   "execution_count": 12,
   "metadata": {},
   "outputs": [
    {
     "data": {
      "text/plain": [
       "<email.mime.multipart.MIMEMultipart at 0x10eaf95a6a0>"
      ]
     },
     "execution_count": 12,
     "metadata": {},
     "output_type": "execute_result"
    }
   ],
   "source": [
    "msg # 제목, 본문(part)이 추가됨"
   ]
  },
  {
   "cell_type": "code",
   "execution_count": 14,
   "metadata": {},
   "outputs": [],
   "source": [
    "# 메일 전송\n",
    "for addr in toAddr:\n",
    "    msg['To'] = addr\n",
    "    # (보내는 사람 메일, 받는 사람 메일, 메세지)\n",
    "    smtp.sendmail('rlawnsgh2245@gmail.com', addr, msg.as_string())\n",
    "    # 메세지를 string으로 바꿔줘야함"
   ]
  },
  {
   "cell_type": "code",
   "execution_count": 15,
   "metadata": {},
   "outputs": [
    {
     "data": {
      "text/plain": [
       "(221, b'2.0.0 closing connection x24-v6sm7980930pfj.104 - gsmtp')"
      ]
     },
     "execution_count": 15,
     "metadata": {},
     "output_type": "execute_result"
    }
   ],
   "source": [
    "# close smtp object\n",
    "smtp.quit()"
   ]
  },
  {
   "cell_type": "markdown",
   "metadata": {},
   "source": [
    "## send html"
   ]
  },
  {
   "cell_type": "code",
   "execution_count": 5,
   "metadata": {},
   "outputs": [],
   "source": [
    "def get_smtp():\n",
    "    smtp = smtplib.SMTP('smtp.gmail.com', 587) # 객체 생성 : 구글 smtp사용과 포트번호 587 \n",
    "    smtp.ehlo() # 정상적으로 서버가 존재하는지 에코를 날려본다.\n",
    "    smtp.starttls() # smtp로 접속하는 방식 : tls\n",
    "    smtp.login('rlawnsgh2245@gmail.com', pickle.load( open('../pw.pickle', 'rb') ))\n",
    "    return smtp"
   ]
  },
  {
   "cell_type": "code",
   "execution_count": 36,
   "metadata": {},
   "outputs": [
    {
     "data": {
      "text/plain": [
       "<smtplib.SMTP at 0x10eb01e7400>"
      ]
     },
     "execution_count": 36,
     "metadata": {},
     "output_type": "execute_result"
    }
   ],
   "source": [
    "smtp = get_smtp()\n",
    "smtp"
   ]
  },
  {
   "cell_type": "code",
   "execution_count": 37,
   "metadata": {},
   "outputs": [
    {
     "data": {
      "text/plain": [
       "<email.mime.multipart.MIMEMultipart at 0x10eb01d9240>"
      ]
     },
     "execution_count": 37,
     "metadata": {},
     "output_type": "execute_result"
    }
   ],
   "source": [
    "msg = MIMEMultipart()\n",
    "\n",
    "# 제목\n",
    "msg['subject'] = \"HTML 전송 테스트\"\n",
    "\n",
    "# 내용\n",
    "part = MIMEText(\"Html 코드 보내기\")\n",
    "msg.attach(part)\n",
    "\n",
    "# HTML\n",
    "part_html = MIMEText('<br><a href=\"http://www.fastcampus.co.kr/\">패스트 캠퍼스</a>','html')\n",
    "msg.attach(part_html)\n",
    "\n",
    "msg # 제목 ,내용 ,HTML 코드"
   ]
  },
  {
   "cell_type": "code",
   "execution_count": 12,
   "metadata": {},
   "outputs": [],
   "source": [
    "# 전송\n",
    "def send_mails(smtp, toAddr, msg):\n",
    "    for addr in toAddr:\n",
    "        msg[\"To\"] = addr\n",
    "        smtp.sendmail(\"wnsgh2245@naver.com\", addr, msg.as_string())\n",
    "    smtp.quit()"
   ]
  },
  {
   "cell_type": "code",
   "execution_count": 39,
   "metadata": {},
   "outputs": [
    {
     "data": {
      "text/plain": [
       "(<smtplib.SMTP at 0x10eb01e7400>,\n",
       " ['wnsgh2245@naver.com', 'slsl0879@hanmail.net', 'rlawnsgh2245@gmail.com'],\n",
       " <email.mime.multipart.MIMEMultipart at 0x10eb01d9240>)"
      ]
     },
     "execution_count": 39,
     "metadata": {},
     "output_type": "execute_result"
    }
   ],
   "source": [
    "smtp, toAddr, msg"
   ]
  },
  {
   "cell_type": "code",
   "execution_count": 40,
   "metadata": {},
   "outputs": [],
   "source": [
    "send_mails(smtp, toAddr, msg)"
   ]
  },
  {
   "cell_type": "markdown",
   "metadata": {},
   "source": [
    "## send file"
   ]
  },
  {
   "cell_type": "code",
   "execution_count": 6,
   "metadata": {},
   "outputs": [],
   "source": [
    "smtp = get_smtp()"
   ]
  },
  {
   "cell_type": "code",
   "execution_count": 7,
   "metadata": {},
   "outputs": [],
   "source": [
    "msg = MIMEMultipart()\n",
    "# 제목 생성\n",
    "msg['subject'] = \"Send file test\"\n",
    "# 내용 생성\n",
    "part = MIMEText(\"파일 전송 테스트\")\n",
    "msg.attach(part)"
   ]
  },
  {
   "cell_type": "code",
   "execution_count": 9,
   "metadata": {},
   "outputs": [],
   "source": [
    "# file attach - video\n",
    "file_name = \"horror.mp4\"\n",
    "maintype, subtype = \"application\", \"octet-stream\"\n",
    "with open(file_name, \"rb\") as fp:\n",
    "    part = MIMEBase(maintype, subtype)\n",
    "    part.set_payload(fp.read()) # part에 mp4 파일이 들어감\n",
    "    encoders.encode_base64(part) # 영상이나 이미지를 문자열 형태로 변환\n",
    "    \n",
    "part.add_header(\"Content-Disposition\",\"attachment\", filename=file_name)\n",
    "msg.attach(part)"
   ]
  },
  {
   "cell_type": "code",
   "execution_count": 10,
   "metadata": {},
   "outputs": [
    {
     "data": {
      "text/plain": [
       "<email.mime.multipart.MIMEMultipart at 0x24aa3b63f28>"
      ]
     },
     "execution_count": 10,
     "metadata": {},
     "output_type": "execute_result"
    }
   ],
   "source": [
    "msg # 본문, 파일이 들어가 있음."
   ]
  },
  {
   "cell_type": "code",
   "execution_count": 13,
   "metadata": {},
   "outputs": [],
   "source": [
    "send_mails(smtp, toAddr, msg) # 용량이 커서 오래걸림...."
   ]
  }
 ],
 "metadata": {
  "kernelspec": {
   "display_name": "Python 3",
   "language": "python",
   "name": "python3"
  },
  "language_info": {
   "codemirror_mode": {
    "name": "ipython",
    "version": 3
   },
   "file_extension": ".py",
   "mimetype": "text/x-python",
   "name": "python",
   "nbconvert_exporter": "python",
   "pygments_lexer": "ipython3",
   "version": "3.6.4"
  }
 },
 "nbformat": 4,
 "nbformat_minor": 2
}
