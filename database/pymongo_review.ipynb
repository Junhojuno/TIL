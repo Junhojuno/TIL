{
 "cells": [
  {
   "cell_type": "markdown",
   "metadata": {},
   "source": [
    "### 온수동 주변 매물확인해보자"
   ]
  },
  {
   "cell_type": "code",
   "execution_count": 1,
   "metadata": {},
   "outputs": [],
   "source": [
    "import pymongo, requests"
   ]
  },
  {
   "cell_type": "code",
   "execution_count": 2,
   "metadata": {},
   "outputs": [
    {
     "data": {
      "text/plain": [
       "MongoClient(host=['13.125.237.246:27017'], document_class=dict, tz_aware=False, connect=True)"
      ]
     },
     "execution_count": 2,
     "metadata": {},
     "output_type": "execute_result"
    }
   ],
   "source": [
    "client = pymongo.MongoClient(\"mongodb://13.125.237.246:27017\")\n",
    "client"
   ]
  },
  {
   "cell_type": "code",
   "execution_count": 5,
   "metadata": {},
   "outputs": [],
   "source": [
    "url = \"https://api.zigbang.com/v3/items?detail=true&item_ids=[12061465,12089516,12094787,12274719,12063717,11417937,12262949,12231696,12130348,12273053,12149204,12261851,12273037,12151054,12260719,12229421,12261664,12072783,12273021,12088600,12143407,11684988,12143437,12089014,12089602,12177568,12201979,12205350,12187374,12066729,12245246,12273187,12197533,11231778,12229145,10595524,11899704,12211795,12061416,12202044,12171055,12009868,12256030,11832031,12200786,12055392,12265747,12140689,12091910,12157789,12045622,12273115,12255346,11643177,12221060,12263899,12232702,12124998,12114653,12114825]\""
   ]
  },
  {
   "cell_type": "code",
   "execution_count": 6,
   "metadata": {},
   "outputs": [
    {
     "data": {
      "text/plain": [
       "<Response [200]>"
      ]
     },
     "execution_count": 6,
     "metadata": {},
     "output_type": "execute_result"
    }
   ],
   "source": [
    "response = requests.get(url)\n",
    "response"
   ]
  },
  {
   "cell_type": "code",
   "execution_count": 7,
   "metadata": {},
   "outputs": [
    {
     "data": {
      "text/plain": [
       "60"
      ]
     },
     "execution_count": 7,
     "metadata": {},
     "output_type": "execute_result"
    }
   ],
   "source": [
    "onsu_dict = response.json().get(\"items\")\n",
    "len(onsu_dict)"
   ]
  },
  {
   "cell_type": "code",
   "execution_count": 8,
   "metadata": {},
   "outputs": [
    {
     "data": {
      "text/plain": [
       "60"
      ]
     },
     "execution_count": 8,
     "metadata": {},
     "output_type": "execute_result"
    }
   ],
   "source": [
    "items = [item['item'] for item in onsu_dict]\n",
    "len(items)"
   ]
  },
  {
   "cell_type": "code",
   "execution_count": 9,
   "metadata": {
    "collapsed": true
   },
   "outputs": [
    {
     "data": {
      "text/plain": [
       "{'id': 12061465,\n",
       " 'images': [{'index': 0,\n",
       "   'count': 1,\n",
       "   'url': 'https://ic.zigbang.com/ic/users/3436504/photos/uploads/b2e7379ccf7904682d3289fc51c8aa7d1f213a26.148726.JPG'},\n",
       "  {'index': 1,\n",
       "   'count': 2,\n",
       "   'url': 'https://ic.zigbang.com/ic/users/3436504/photos/uploads/56608ad6476a82a05bb13f18da60fb3b88720d51.94412.JPG'},\n",
       "  {'index': 2,\n",
       "   'count': 3,\n",
       "   'url': 'https://ic.zigbang.com/ic/users/3436504/photos/uploads/473f22f05d9803bf8d0488b15600ea44433084c9.97144.JPG'},\n",
       "  {'index': 3,\n",
       "   'count': 4,\n",
       "   'url': 'https://ic.zigbang.com/ic/users/3436504/photos/uploads/3502345d4ce2ee5234bbe1fc2c6c2c72d361bd66.107920.JPG'},\n",
       "  {'index': 4,\n",
       "   'count': 5,\n",
       "   'url': 'https://ic.zigbang.com/ic/users/3436504/photos/uploads/4c863f44726c0b16146470d65aa2ede49b59aa12.121688.JPG'},\n",
       "  {'index': 5,\n",
       "   'count': 6,\n",
       "   'url': 'https://ic.zigbang.com/ic/users/3436504/photos/uploads/7d7d15f3ec338b18065bd4c0f3dcd7b7099a04e9.160716.JPG'}],\n",
       " 'is_realestate': True,\n",
       " 'is_direct': False,\n",
       " 'is_room': False,\n",
       " 'is_type_room': False,\n",
       " 'rent': 0,\n",
       " 'deposit': 16000,\n",
       " 'is_deposit_only': True,\n",
       " 'floor': '2층',\n",
       " '_floor': '2층',\n",
       " 'floor_all': '5층',\n",
       " 'local1': '서울시',\n",
       " 'local2': '구로구',\n",
       " 'local3': '온수동',\n",
       " 'title': '1.7호선 온수역 역세권 금방 나가는 2룸 신축 첫입주 입니다.',\n",
       " 'room_type': '투룸',\n",
       " 'room_type_code': '04',\n",
       " 'building_type': '다세대건물',\n",
       " 'room_gubun_code': '01',\n",
       " 'status': '광고중',\n",
       " 'is_status_open': True,\n",
       " 'is_status_close': False,\n",
       " 'view_count': 520,\n",
       " 'updated_at': '23일 전',\n",
       " 'updated_at2': '2018-07-03',\n",
       " 'read_updated_at': '2001-01-01',\n",
       " 'size_m2': 38.02,\n",
       " 'size': 11.5,\n",
       " 'size_m2_contract': '-',\n",
       " 'size_contract': 0,\n",
       " 'address1': '서울시 구로구 온수동',\n",
       " 'near_subways': '온수역(1호선,7호선), 역곡역(1호선), 까치울역(7호선)',\n",
       " 'random_location': '37.49483524649195,126.8179181519341',\n",
       " 'options': '옷장,신발장,싱크대',\n",
       " 'manage_cost': '3만원',\n",
       " 'manage_cost_inc': '-',\n",
       " 'parking': '가능',\n",
       " 'elevator': '있음',\n",
       " 'movein_date': '즉시입주',\n",
       " 'description': '-신축 첫 입주 입니다. \\n\\n-전세대출가능하며 전입신고가능한 안전한 매물. \\n\\n-온수역 도보5분거리. 주변에 편의시설 Good \\n\\n-안전한 대로변에 위치해있어 여성분들이 선호 \\n\\n-깨끗하고 신혼부부 강추!!  \\n\\n-전세시세는 층수나 평형에따라 다름\\n\\n-솔직/평가: 역세권 가성비 좋은 전세매물이라 생각됨.\\n',\n",
       " 'description_og': '-신축 첫 입주 입니다. \\n\\n-전세대출가능하며 전입신고가능한 안전한 매물. \\n\\n-온수역 도보5분거리. 주변에 편의시설 Good \\n\\n-안전한 대로변에 위치해있어 여성분들이 선호 \\n\\n-깨끗하고 신혼부부 강추!!  \\n\\n-전세시세는 층수나 평형에따라 다름\\n\\n-솔직/평가: 역세권 가성비 좋은 전세매물이라 생각됨.\\n',\n",
       " 'pets_text': '확인필요',\n",
       " 'loan_text': '확인필요',\n",
       " 'room_direction_text': '확인필요',\n",
       " 'is_owner': False,\n",
       " 'images_thumbnail': '/users/3436504/photos/uploads/b2e7379ccf7904682d3289fc51c8aa7d1f213a26.148726.JPG',\n",
       " 'is_zzim': False,\n",
       " 'secret_memo': None,\n",
       " 'user_no': 3436504,\n",
       " 'user_has_penalty': False,\n",
       " 'user_has_no_penalty': True,\n",
       " 'user_name': '중개보조원 박선민',\n",
       " 'user_phone': '0507-1280-1244',\n",
       " 'original_user_phone': '010-2787-0286',\n",
       " 'user_mobile': '0507-1280-1244',\n",
       " 'user_email': 'veneco@naver.com',\n",
       " 'user_intro': '',\n",
       " 'agent_name': '한양공인중개사(홍춘유)',\n",
       " 'agent_no': 38411,\n",
       " 'agent_phone': '02-2060-8939',\n",
       " 'agent_mobile': '0507-1281-3576',\n",
       " 'agent_email': 'veneco@naver.com',\n",
       " 'agent_local1': '서울시',\n",
       " 'agent_local2': '구로구',\n",
       " 'agent_address1': '서울특별시 구로구 개봉로23가길 10 104호',\n",
       " 'agent_lng': 126.85687255859402,\n",
       " 'agent_lat': 37.4953193664551,\n",
       " 'building': None,\n",
       " 'contract': '서울특별시',\n",
       " 'bjd_code': '1153011000',\n",
       " 'bonbun_code': '76',\n",
       " 'bubun_code': '2',\n",
       " 'address2': '76-2',\n",
       " 'address3': None,\n",
       " 'is_premium': True,\n",
       " 'is_premium2': True,\n",
       " 'is_homepage': False,\n",
       " 'profile_url': None,\n",
       " 'agent_comment': '♣ 내집 구한다는 마음으로 성심/성의를 다하겠습니다. \\n\\n♣ 허위매물 없는 실제방임을 약속드립니다. \\n\\n♣ 정직한 권리분석으로 안전한 입주 도와드리겠습니다. \\n\\n♣ 현 매물외 다양한 매물 보유하고 있습니다. 연락주세요 ',\n",
       " 'premium_items': []}"
      ]
     },
     "execution_count": 9,
     "metadata": {},
     "output_type": "execute_result"
    }
   ],
   "source": [
    "items[0]"
   ]
  },
  {
   "cell_type": "code",
   "execution_count": 10,
   "metadata": {},
   "outputs": [
    {
     "data": {
      "text/plain": [
       "<pymongo.results.InsertManyResult at 0x1a439e6e4c8>"
      ]
     },
     "execution_count": 10,
     "metadata": {},
     "output_type": "execute_result"
    }
   ],
   "source": [
    "collection = client.zigbang.onsu\n",
    "result_onsu = collection.insert_many(items)\n",
    "result_onsu"
   ]
  },
  {
   "cell_type": "code",
   "execution_count": 12,
   "metadata": {
    "collapsed": true
   },
   "outputs": [
    {
     "data": {
      "text/plain": [
       "[ObjectId('5b598d0233868e37b02e2001'),\n",
       " ObjectId('5b598d0233868e37b02e2002'),\n",
       " ObjectId('5b598d0233868e37b02e2003'),\n",
       " ObjectId('5b598d0233868e37b02e2004'),\n",
       " ObjectId('5b598d0233868e37b02e2005'),\n",
       " ObjectId('5b598d0233868e37b02e2006'),\n",
       " ObjectId('5b598d0233868e37b02e2007'),\n",
       " ObjectId('5b598d0233868e37b02e2008'),\n",
       " ObjectId('5b598d0233868e37b02e2009'),\n",
       " ObjectId('5b598d0233868e37b02e200a'),\n",
       " ObjectId('5b598d0233868e37b02e200b'),\n",
       " ObjectId('5b598d0233868e37b02e200c'),\n",
       " ObjectId('5b598d0233868e37b02e200d'),\n",
       " ObjectId('5b598d0233868e37b02e200e'),\n",
       " ObjectId('5b598d0233868e37b02e200f'),\n",
       " ObjectId('5b598d0233868e37b02e2010'),\n",
       " ObjectId('5b598d0233868e37b02e2011'),\n",
       " ObjectId('5b598d0233868e37b02e2012'),\n",
       " ObjectId('5b598d0233868e37b02e2013'),\n",
       " ObjectId('5b598d0233868e37b02e2014'),\n",
       " ObjectId('5b598d0233868e37b02e2015'),\n",
       " ObjectId('5b598d0233868e37b02e2016'),\n",
       " ObjectId('5b598d0233868e37b02e2017'),\n",
       " ObjectId('5b598d0233868e37b02e2018'),\n",
       " ObjectId('5b598d0233868e37b02e2019'),\n",
       " ObjectId('5b598d0233868e37b02e201a'),\n",
       " ObjectId('5b598d0233868e37b02e201b'),\n",
       " ObjectId('5b598d0233868e37b02e201c'),\n",
       " ObjectId('5b598d0233868e37b02e201d'),\n",
       " ObjectId('5b598d0233868e37b02e201e'),\n",
       " ObjectId('5b598d0233868e37b02e201f'),\n",
       " ObjectId('5b598d0233868e37b02e2020'),\n",
       " ObjectId('5b598d0233868e37b02e2021'),\n",
       " ObjectId('5b598d0233868e37b02e2022'),\n",
       " ObjectId('5b598d0233868e37b02e2023'),\n",
       " ObjectId('5b598d0233868e37b02e2024'),\n",
       " ObjectId('5b598d0233868e37b02e2025'),\n",
       " ObjectId('5b598d0233868e37b02e2026'),\n",
       " ObjectId('5b598d0233868e37b02e2027'),\n",
       " ObjectId('5b598d0233868e37b02e2028'),\n",
       " ObjectId('5b598d0233868e37b02e2029'),\n",
       " ObjectId('5b598d0233868e37b02e202a'),\n",
       " ObjectId('5b598d0233868e37b02e202b'),\n",
       " ObjectId('5b598d0233868e37b02e202c'),\n",
       " ObjectId('5b598d0233868e37b02e202d'),\n",
       " ObjectId('5b598d0233868e37b02e202e'),\n",
       " ObjectId('5b598d0233868e37b02e202f'),\n",
       " ObjectId('5b598d0233868e37b02e2030'),\n",
       " ObjectId('5b598d0233868e37b02e2031'),\n",
       " ObjectId('5b598d0233868e37b02e2032'),\n",
       " ObjectId('5b598d0233868e37b02e2033'),\n",
       " ObjectId('5b598d0233868e37b02e2034'),\n",
       " ObjectId('5b598d0233868e37b02e2035'),\n",
       " ObjectId('5b598d0233868e37b02e2036'),\n",
       " ObjectId('5b598d0233868e37b02e2037'),\n",
       " ObjectId('5b598d0233868e37b02e2038'),\n",
       " ObjectId('5b598d0233868e37b02e2039'),\n",
       " ObjectId('5b598d0233868e37b02e203a'),\n",
       " ObjectId('5b598d0233868e37b02e203b'),\n",
       " ObjectId('5b598d0233868e37b02e203c')]"
      ]
     },
     "execution_count": 12,
     "metadata": {},
     "output_type": "execute_result"
    }
   ],
   "source": [
    "result_onsu.inserted_ids"
   ]
  },
  {
   "cell_type": "code",
   "execution_count": 13,
   "metadata": {},
   "outputs": [
    {
     "data": {
      "text/plain": [
       "<pymongo.cursor.Cursor at 0x1a43a2f7710>"
      ]
     },
     "execution_count": 13,
     "metadata": {},
     "output_type": "execute_result"
    }
   ],
   "source": [
    "query = {\"rent\": {\"$lte\": 50}}\n",
    "documents = collection.find(query)\n",
    "documents"
   ]
  },
  {
   "cell_type": "markdown",
   "metadata": {},
   "source": [
    "cursor에 담겨있다."
   ]
  },
  {
   "cell_type": "code",
   "execution_count": 14,
   "metadata": {},
   "outputs": [
    {
     "data": {
      "text/plain": [
       "57"
      ]
     },
     "execution_count": 14,
     "metadata": {},
     "output_type": "execute_result"
    }
   ],
   "source": [
    "datas = list(documents)\n",
    "len(datas)"
   ]
  },
  {
   "cell_type": "code",
   "execution_count": 19,
   "metadata": {},
   "outputs": [
    {
     "data": {
      "text/html": [
       "<div>\n",
       "<style scoped>\n",
       "    .dataframe tbody tr th:only-of-type {\n",
       "        vertical-align: middle;\n",
       "    }\n",
       "\n",
       "    .dataframe tbody tr th {\n",
       "        vertical-align: top;\n",
       "    }\n",
       "\n",
       "    .dataframe thead th {\n",
       "        text-align: right;\n",
       "    }\n",
       "</style>\n",
       "<table border=\"1\" class=\"dataframe\">\n",
       "  <thead>\n",
       "    <tr style=\"text-align: right;\">\n",
       "      <th></th>\n",
       "      <th>_floor</th>\n",
       "      <th>_id</th>\n",
       "      <th>address1</th>\n",
       "      <th>address2</th>\n",
       "      <th>address3</th>\n",
       "      <th>agent_address1</th>\n",
       "      <th>agent_comment</th>\n",
       "      <th>agent_email</th>\n",
       "      <th>agent_lat</th>\n",
       "      <th>agent_lng</th>\n",
       "      <th>...</th>\n",
       "      <th>updated_at2</th>\n",
       "      <th>user_email</th>\n",
       "      <th>user_has_no_penalty</th>\n",
       "      <th>user_has_penalty</th>\n",
       "      <th>user_intro</th>\n",
       "      <th>user_mobile</th>\n",
       "      <th>user_name</th>\n",
       "      <th>user_no</th>\n",
       "      <th>user_phone</th>\n",
       "      <th>view_count</th>\n",
       "    </tr>\n",
       "  </thead>\n",
       "  <tbody>\n",
       "    <tr>\n",
       "      <th>52</th>\n",
       "      <td>2층</td>\n",
       "      <td>5b598d0233868e37b02e2037</td>\n",
       "      <td>서울시 구로구 궁동</td>\n",
       "      <td>278-4</td>\n",
       "      <td>None</td>\n",
       "      <td>경기도 광명시 도덕로 39 403호</td>\n",
       "      <td></td>\n",
       "      <td>mannic@naver.com</td>\n",
       "      <td>37.468781</td>\n",
       "      <td>126.852193</td>\n",
       "      <td>...</td>\n",
       "      <td>2018-07-20</td>\n",
       "      <td>mannic@naver.com</td>\n",
       "      <td>True</td>\n",
       "      <td>False</td>\n",
       "      <td></td>\n",
       "      <td>0507-1280-8605</td>\n",
       "      <td>대표공인중개사 고봉준</td>\n",
       "      <td>964324</td>\n",
       "      <td>0507-1280-8605</td>\n",
       "      <td>48</td>\n",
       "    </tr>\n",
       "    <tr>\n",
       "      <th>53</th>\n",
       "      <td>6층</td>\n",
       "      <td>5b598d0233868e37b02e2039</td>\n",
       "      <td>경기도 부천시 괴안동</td>\n",
       "      <td>130-98</td>\n",
       "      <td>None</td>\n",
       "      <td>경기도 부천시 역곡동 76-6</td>\n",
       "      <td></td>\n",
       "      <td>jsjw70@hanmail.net</td>\n",
       "      <td>37.486563</td>\n",
       "      <td>126.811177</td>\n",
       "      <td>...</td>\n",
       "      <td>2018-07-21</td>\n",
       "      <td>jsjw70@hanmail.net</td>\n",
       "      <td>True</td>\n",
       "      <td>False</td>\n",
       "      <td></td>\n",
       "      <td>0507-1281-9909</td>\n",
       "      <td>대표공인중개사 이경숙</td>\n",
       "      <td>187595</td>\n",
       "      <td>0507-1281-9909</td>\n",
       "      <td>52</td>\n",
       "    </tr>\n",
       "    <tr>\n",
       "      <th>54</th>\n",
       "      <td>3층</td>\n",
       "      <td>5b598d0233868e37b02e203a</td>\n",
       "      <td>경기도 부천시 역곡동</td>\n",
       "      <td>245-10</td>\n",
       "      <td>None</td>\n",
       "      <td>경기도 부천시 역곡동 76-6</td>\n",
       "      <td></td>\n",
       "      <td>jsjw70@hanmail.net</td>\n",
       "      <td>37.486563</td>\n",
       "      <td>126.811177</td>\n",
       "      <td>...</td>\n",
       "      <td>2018-07-09</td>\n",
       "      <td>jsjw70@hanmail.net</td>\n",
       "      <td>True</td>\n",
       "      <td>False</td>\n",
       "      <td></td>\n",
       "      <td>0507-1281-9909</td>\n",
       "      <td>대표공인중개사 이경숙</td>\n",
       "      <td>187595</td>\n",
       "      <td>0507-1281-9909</td>\n",
       "      <td>267</td>\n",
       "    </tr>\n",
       "    <tr>\n",
       "      <th>55</th>\n",
       "      <td>4층</td>\n",
       "      <td>5b598d0233868e37b02e203b</td>\n",
       "      <td>서울시 구로구 온수동</td>\n",
       "      <td>47-1</td>\n",
       "      <td>None</td>\n",
       "      <td>서울특별시 구로구 서해안로26길 17</td>\n",
       "      <td>★우리부동산은 오류동역에 위치한 중개사무소로 다양한 물건을 확보하고 있어요★\\n\\n...</td>\n",
       "      <td>k96302999@naver.com</td>\n",
       "      <td>37.491978</td>\n",
       "      <td>126.842552</td>\n",
       "      <td>...</td>\n",
       "      <td>2018-07-09</td>\n",
       "      <td>juhwan299@nate.com</td>\n",
       "      <td>True</td>\n",
       "      <td>False</td>\n",
       "      <td>안녕하세요! 오류동역2번출구에 위치한 우리공인중개사 사무소입니다~~\\n\\n오류동 최...</td>\n",
       "      <td>0507-1282-7366</td>\n",
       "      <td>중개보조원 김주환</td>\n",
       "      <td>2007460</td>\n",
       "      <td>0507-1282-7366</td>\n",
       "      <td>475</td>\n",
       "    </tr>\n",
       "    <tr>\n",
       "      <th>56</th>\n",
       "      <td>5층</td>\n",
       "      <td>5b598d0233868e37b02e203c</td>\n",
       "      <td>서울시 구로구 항동</td>\n",
       "      <td>16-9</td>\n",
       "      <td>None</td>\n",
       "      <td>서울특별시 구로구 온수동 23-26</td>\n",
       "      <td></td>\n",
       "      <td>j0793@hanmail.net</td>\n",
       "      <td>37.492191</td>\n",
       "      <td>126.821838</td>\n",
       "      <td>...</td>\n",
       "      <td>2018-07-09</td>\n",
       "      <td>j0793@hanmail.net</td>\n",
       "      <td>True</td>\n",
       "      <td>False</td>\n",
       "      <td></td>\n",
       "      <td>0507-1281-9750</td>\n",
       "      <td>소속공인중개사 정현</td>\n",
       "      <td>1373368</td>\n",
       "      <td>0507-1281-9750</td>\n",
       "      <td>171</td>\n",
       "    </tr>\n",
       "  </tbody>\n",
       "</table>\n",
       "<p>5 rows × 82 columns</p>\n",
       "</div>"
      ],
      "text/plain": [
       "   _floor                       _id     address1 address2 address3  \\\n",
       "52     2층  5b598d0233868e37b02e2037   서울시 구로구 궁동    278-4     None   \n",
       "53     6층  5b598d0233868e37b02e2039  경기도 부천시 괴안동   130-98     None   \n",
       "54     3층  5b598d0233868e37b02e203a  경기도 부천시 역곡동   245-10     None   \n",
       "55     4층  5b598d0233868e37b02e203b  서울시 구로구 온수동     47-1     None   \n",
       "56     5층  5b598d0233868e37b02e203c   서울시 구로구 항동     16-9     None   \n",
       "\n",
       "          agent_address1                                      agent_comment  \\\n",
       "52   경기도 광명시 도덕로 39 403호                                                      \n",
       "53      경기도 부천시 역곡동 76-6                                                      \n",
       "54      경기도 부천시 역곡동 76-6                                                      \n",
       "55  서울특별시 구로구 서해안로26길 17  ★우리부동산은 오류동역에 위치한 중개사무소로 다양한 물건을 확보하고 있어요★\\n\\n...   \n",
       "56   서울특별시 구로구 온수동 23-26                                                      \n",
       "\n",
       "            agent_email  agent_lat   agent_lng    ...     updated_at2  \\\n",
       "52     mannic@naver.com  37.468781  126.852193    ...      2018-07-20   \n",
       "53   jsjw70@hanmail.net  37.486563  126.811177    ...      2018-07-21   \n",
       "54   jsjw70@hanmail.net  37.486563  126.811177    ...      2018-07-09   \n",
       "55  k96302999@naver.com  37.491978  126.842552    ...      2018-07-09   \n",
       "56    j0793@hanmail.net  37.492191  126.821838    ...      2018-07-09   \n",
       "\n",
       "            user_email user_has_no_penalty user_has_penalty  \\\n",
       "52    mannic@naver.com                True            False   \n",
       "53  jsjw70@hanmail.net                True            False   \n",
       "54  jsjw70@hanmail.net                True            False   \n",
       "55  juhwan299@nate.com                True            False   \n",
       "56   j0793@hanmail.net                True            False   \n",
       "\n",
       "                                           user_intro     user_mobile  \\\n",
       "52                                                     0507-1280-8605   \n",
       "53                                                     0507-1281-9909   \n",
       "54                                                     0507-1281-9909   \n",
       "55  안녕하세요! 오류동역2번출구에 위치한 우리공인중개사 사무소입니다~~\\n\\n오류동 최...  0507-1282-7366   \n",
       "56                                                     0507-1281-9750   \n",
       "\n",
       "      user_name  user_no      user_phone view_count  \n",
       "52  대표공인중개사 고봉준   964324  0507-1280-8605         48  \n",
       "53  대표공인중개사 이경숙   187595  0507-1281-9909         52  \n",
       "54  대표공인중개사 이경숙   187595  0507-1281-9909        267  \n",
       "55    중개보조원 김주환  2007460  0507-1282-7366        475  \n",
       "56   소속공인중개사 정현  1373368  0507-1281-9750        171  \n",
       "\n",
       "[5 rows x 82 columns]"
      ]
     },
     "execution_count": 19,
     "metadata": {},
     "output_type": "execute_result"
    }
   ],
   "source": [
    "df = pd.DataFrame(datas)\n",
    "df.tail()"
   ]
  },
  {
   "cell_type": "code",
   "execution_count": 20,
   "metadata": {},
   "outputs": [
    {
     "data": {
      "text/html": [
       "<div>\n",
       "<style scoped>\n",
       "    .dataframe tbody tr th:only-of-type {\n",
       "        vertical-align: middle;\n",
       "    }\n",
       "\n",
       "    .dataframe tbody tr th {\n",
       "        vertical-align: top;\n",
       "    }\n",
       "\n",
       "    .dataframe thead th {\n",
       "        text-align: right;\n",
       "    }\n",
       "</style>\n",
       "<table border=\"1\" class=\"dataframe\">\n",
       "  <thead>\n",
       "    <tr style=\"text-align: right;\">\n",
       "      <th></th>\n",
       "      <th>_floor</th>\n",
       "      <th>size</th>\n",
       "      <th>deposit</th>\n",
       "      <th>rent</th>\n",
       "    </tr>\n",
       "  </thead>\n",
       "  <tbody>\n",
       "    <tr>\n",
       "      <th>52</th>\n",
       "      <td>2층</td>\n",
       "      <td>20.0</td>\n",
       "      <td>21000</td>\n",
       "      <td>0</td>\n",
       "    </tr>\n",
       "    <tr>\n",
       "      <th>53</th>\n",
       "      <td>6층</td>\n",
       "      <td>8.0</td>\n",
       "      <td>500</td>\n",
       "      <td>45</td>\n",
       "    </tr>\n",
       "    <tr>\n",
       "      <th>54</th>\n",
       "      <td>3층</td>\n",
       "      <td>7.0</td>\n",
       "      <td>500</td>\n",
       "      <td>40</td>\n",
       "    </tr>\n",
       "    <tr>\n",
       "      <th>55</th>\n",
       "      <td>4층</td>\n",
       "      <td>7.0</td>\n",
       "      <td>2000</td>\n",
       "      <td>30</td>\n",
       "    </tr>\n",
       "    <tr>\n",
       "      <th>56</th>\n",
       "      <td>5층</td>\n",
       "      <td>20.0</td>\n",
       "      <td>22000</td>\n",
       "      <td>0</td>\n",
       "    </tr>\n",
       "  </tbody>\n",
       "</table>\n",
       "</div>"
      ],
      "text/plain": [
       "   _floor  size  deposit  rent\n",
       "52     2층  20.0    21000     0\n",
       "53     6층   8.0      500    45\n",
       "54     3층   7.0      500    40\n",
       "55     4층   7.0     2000    30\n",
       "56     5층  20.0    22000     0"
      ]
     },
     "execution_count": 20,
     "metadata": {},
     "output_type": "execute_result"
    }
   ],
   "source": [
    "df_selected = df[['_floor','size','deposit','rent']]\n",
    "df_selected.tail()"
   ]
  },
  {
   "cell_type": "code",
   "execution_count": 23,
   "metadata": {},
   "outputs": [
    {
     "data": {
      "text/plain": [
       "<pymongo.cursor.Cursor at 0x1a43a398710>"
      ]
     },
     "execution_count": 23,
     "metadata": {},
     "output_type": "execute_result"
    }
   ],
   "source": [
    "query = {\"rent\":{\"$lte\":50}}\n",
    "# projection\n",
    "documents = collection.find(query, {\"_id\":False, \"_floor\":True,\"size\":True,\"deposit\":True, \"rent\":True})\n",
    "documents"
   ]
  },
  {
   "cell_type": "code",
   "execution_count": 24,
   "metadata": {},
   "outputs": [
    {
     "data": {
      "text/html": [
       "<div>\n",
       "<style scoped>\n",
       "    .dataframe tbody tr th:only-of-type {\n",
       "        vertical-align: middle;\n",
       "    }\n",
       "\n",
       "    .dataframe tbody tr th {\n",
       "        vertical-align: top;\n",
       "    }\n",
       "\n",
       "    .dataframe thead th {\n",
       "        text-align: right;\n",
       "    }\n",
       "</style>\n",
       "<table border=\"1\" class=\"dataframe\">\n",
       "  <thead>\n",
       "    <tr style=\"text-align: right;\">\n",
       "      <th></th>\n",
       "      <th>_floor</th>\n",
       "      <th>deposit</th>\n",
       "      <th>rent</th>\n",
       "      <th>size</th>\n",
       "    </tr>\n",
       "  </thead>\n",
       "  <tbody>\n",
       "    <tr>\n",
       "      <th>52</th>\n",
       "      <td>2층</td>\n",
       "      <td>21000</td>\n",
       "      <td>0</td>\n",
       "      <td>20.0</td>\n",
       "    </tr>\n",
       "    <tr>\n",
       "      <th>53</th>\n",
       "      <td>6층</td>\n",
       "      <td>500</td>\n",
       "      <td>45</td>\n",
       "      <td>8.0</td>\n",
       "    </tr>\n",
       "    <tr>\n",
       "      <th>54</th>\n",
       "      <td>3층</td>\n",
       "      <td>500</td>\n",
       "      <td>40</td>\n",
       "      <td>7.0</td>\n",
       "    </tr>\n",
       "    <tr>\n",
       "      <th>55</th>\n",
       "      <td>4층</td>\n",
       "      <td>2000</td>\n",
       "      <td>30</td>\n",
       "      <td>7.0</td>\n",
       "    </tr>\n",
       "    <tr>\n",
       "      <th>56</th>\n",
       "      <td>5층</td>\n",
       "      <td>22000</td>\n",
       "      <td>0</td>\n",
       "      <td>20.0</td>\n",
       "    </tr>\n",
       "  </tbody>\n",
       "</table>\n",
       "</div>"
      ],
      "text/plain": [
       "   _floor  deposit  rent  size\n",
       "52     2층    21000     0  20.0\n",
       "53     6층      500    45   8.0\n",
       "54     3층      500    40   7.0\n",
       "55     4층     2000    30   7.0\n",
       "56     5층    22000     0  20.0"
      ]
     },
     "execution_count": 24,
     "metadata": {},
     "output_type": "execute_result"
    }
   ],
   "source": [
    "df2 = pd.DataFrame(list(documents))\n",
    "df2.tail()"
   ]
  }
 ],
 "metadata": {
  "kernelspec": {
   "display_name": "Python 3",
   "language": "python",
   "name": "python3"
  },
  "language_info": {
   "codemirror_mode": {
    "name": "ipython",
    "version": 3
   },
   "file_extension": ".py",
   "mimetype": "text/x-python",
   "name": "python",
   "nbconvert_exporter": "python",
   "pygments_lexer": "ipython3",
   "version": "3.6.6"
  }
 },
 "nbformat": 4,
 "nbformat_minor": 2
}
