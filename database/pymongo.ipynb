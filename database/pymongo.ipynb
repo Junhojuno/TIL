{
 "cells": [
  {
   "cell_type": "markdown",
   "metadata": {},
   "source": [
    "### install pymongo package\n",
    "- mac\n",
    "    - pip(3) install pymongo\n",
    "- window\n",
    "    - conda install -c anaconda pymongo"
   ]
  },
  {
   "cell_type": "code",
   "execution_count": 1,
   "metadata": {},
   "outputs": [],
   "source": [
    "import pymongo, requests"
   ]
  },
  {
   "cell_type": "markdown",
   "metadata": {},
   "source": [
    "##### 1. server에 연결(client생성)"
   ]
  },
  {
   "cell_type": "code",
   "execution_count": 2,
   "metadata": {},
   "outputs": [
    {
     "data": {
      "text/plain": [
       "MongoClient(host=['13.125.237.246:27017'], document_class=dict, tz_aware=False, connect=True)"
      ]
     },
     "execution_count": 2,
     "metadata": {},
     "output_type": "execute_result"
    }
   ],
   "source": [
    "client = pymongo.MongoClient('mongodb://13.125.237.246:27017')\n",
    "client"
   ]
  },
  {
   "cell_type": "markdown",
   "metadata": {},
   "source": [
    "##### 2. db선택"
   ]
  },
  {
   "cell_type": "code",
   "execution_count": 3,
   "metadata": {},
   "outputs": [
    {
     "data": {
      "text/plain": [
       "Database(MongoClient(host=['13.125.237.246:27017'], document_class=dict, tz_aware=False, connect=True), 'dss')"
      ]
     },
     "execution_count": 3,
     "metadata": {},
     "output_type": "execute_result"
    }
   ],
   "source": [
    "db = client.dss\n",
    "db"
   ]
  },
  {
   "cell_type": "markdown",
   "metadata": {},
   "source": [
    "##### 3. db의 collection 리스트를 확인"
   ]
  },
  {
   "cell_type": "code",
   "execution_count": 4,
   "metadata": {},
   "outputs": [
    {
     "data": {
      "text/plain": [
       "['user', 'info2', 'info1', 'info']"
      ]
     },
     "execution_count": 4,
     "metadata": {},
     "output_type": "execute_result"
    }
   ],
   "source": [
    "db.collection_names()"
   ]
  },
  {
   "cell_type": "markdown",
   "metadata": {},
   "source": [
    "##### 4. collection 선택"
   ]
  },
  {
   "cell_type": "code",
   "execution_count": 5,
   "metadata": {},
   "outputs": [
    {
     "data": {
      "text/plain": [
       "Collection(Database(MongoClient(host=['13.125.237.246:27017'], document_class=dict, tz_aware=False, connect=True), 'dss'), 'info')"
      ]
     },
     "execution_count": 5,
     "metadata": {},
     "output_type": "execute_result"
    }
   ],
   "source": [
    "collection = db.info\n",
    "collection"
   ]
  },
  {
   "cell_type": "markdown",
   "metadata": {},
   "source": [
    "##### 5. find"
   ]
  },
  {
   "cell_type": "code",
   "execution_count": 8,
   "metadata": {},
   "outputs": [
    {
     "data": {
      "text/plain": [
       "(dict,\n",
       " {'_id': ObjectId('5b5956e6485331f76a0f8eb2'),\n",
       "  'subject': 'java',\n",
       "  'level': 4.0,\n",
       "  'comments': [{'name': 'po', 'msg': 'check'}]})"
      ]
     },
     "execution_count": 8,
     "metadata": {},
     "output_type": "execute_result"
    }
   ],
   "source": [
    "# find_one : 한 개의 document를 가져옵니다.\n",
    "document = collection.find_one({\"subject\" : \"java\"})\n",
    "type(document), document"
   ]
  },
  {
   "cell_type": "code",
   "execution_count": 9,
   "metadata": {},
   "outputs": [
    {
     "data": {
      "text/plain": [
       "<pymongo.cursor.Cursor at 0x1b02146d4e0>"
      ]
     },
     "execution_count": 9,
     "metadata": {},
     "output_type": "execute_result"
    }
   ],
   "source": [
    "# find : 여러 개의 documents를 가져옵니다\n",
    "documents = collection.find({\"subject\": \"java\"})\n",
    "documents"
   ]
  },
  {
   "cell_type": "code",
   "execution_count": 10,
   "metadata": {},
   "outputs": [
    {
     "data": {
      "text/plain": [
       "2"
      ]
     },
     "execution_count": 10,
     "metadata": {},
     "output_type": "execute_result"
    }
   ],
   "source": [
    "datas = list(documents)\n",
    "len(datas)"
   ]
  },
  {
   "cell_type": "code",
   "execution_count": 11,
   "metadata": {},
   "outputs": [
    {
     "data": {
      "text/plain": [
       "[{'_id': ObjectId('5b5956e6485331f76a0f8eb2'),\n",
       "  'subject': 'java',\n",
       "  'level': 4.0,\n",
       "  'comments': [{'name': 'po', 'msg': 'check'}]},\n",
       " {'_id': ObjectId('5b5956e6485331f76a0f8eb6'),\n",
       "  'subject': 'java',\n",
       "  'level': 4.0,\n",
       "  'comments': [{'name': 'alice', 'msg': 'hello'}]}]"
      ]
     },
     "execution_count": 11,
     "metadata": {},
     "output_type": "execute_result"
    }
   ],
   "source": [
    "datas"
   ]
  },
  {
   "cell_type": "code",
   "execution_count": 13,
   "metadata": {},
   "outputs": [
    {
     "data": {
      "text/plain": [
       "[]"
      ]
     },
     "execution_count": 13,
     "metadata": {},
     "output_type": "execute_result"
    }
   ],
   "source": [
    "list(documents)"
   ]
  },
  {
   "cell_type": "markdown",
   "metadata": {},
   "source": [
    "다 사라짐."
   ]
  },
  {
   "cell_type": "code",
   "execution_count": 14,
   "metadata": {},
   "outputs": [
    {
     "data": {
      "text/plain": [
       "8"
      ]
     },
     "execution_count": 14,
     "metadata": {},
     "output_type": "execute_result"
    }
   ],
   "source": [
    "# count - documents의 갯수를 가져오는 함수\n",
    "documents = collection.find()\n",
    "documents.count()"
   ]
  },
  {
   "cell_type": "code",
   "execution_count": 18,
   "metadata": {},
   "outputs": [
    {
     "data": {
      "text/plain": [
       "[{'_id': ObjectId('5b5956e6485331f76a0f8eb3'),\n",
       "  'subject': 'javascript',\n",
       "  'comments': [{'name': 'jin', 'msg': 'nice'}],\n",
       "  'level': 3.0},\n",
       " {'_id': ObjectId('5b5956e6485331f76a0f8eb4'),\n",
       "  'subject': 'html',\n",
       "  'comments': [],\n",
       "  'level': 3.0},\n",
       " {'_id': ObjectId('5b5956e6485331f76a0f8eb1'),\n",
       "  'subject': 'r',\n",
       "  'level': 1.0,\n",
       "  'comments': [{'name': 'jin', 'msg': 'bad'}, {'name': 'alice', 'msg': 'hi'}]},\n",
       " {'_id': ObjectId('5b5956e6485331f76a0f8eb5'),\n",
       "  'subject': 'sass',\n",
       "  'level': 1.0,\n",
       "  'comments': [{'name': 'alice', 'msg': 'hello'}]},\n",
       " {'_id': ObjectId('5b595a4de78ab03356d8bf27'),\n",
       "  'subject': 'less',\n",
       "  'level': 1.0,\n",
       "  'comments': [{'name': 'alice', 'msg': 'hello'}]}]"
      ]
     },
     "execution_count": 18,
     "metadata": {},
     "output_type": "execute_result"
    }
   ],
   "source": [
    "# sort - 정렬\n",
    "documents = collection.find({\"level\":{\"$lte\":3}}).sort(\"level\", pymongo.DESCENDING)\n",
    "list(documents)"
   ]
  },
  {
   "cell_type": "markdown",
   "metadata": {},
   "source": [
    "##### 6. insert"
   ]
  },
  {
   "cell_type": "code",
   "execution_count": 20,
   "metadata": {},
   "outputs": [
    {
     "data": {
      "text/plain": [
       "<pymongo.results.InsertOneResult at 0x1b02153cc18>"
      ]
     },
     "execution_count": 20,
     "metadata": {},
     "output_type": "execute_result"
    }
   ],
   "source": [
    "# insert_one\n",
    "data = {\"subject\":\"css\", \"level\":1, \"comments\":[{\"name\":\"peter\", \"msg\":\"easy\"}]}\n",
    "result = collection.insert_one(data)\n",
    "result"
   ]
  },
  {
   "cell_type": "code",
   "execution_count": 22,
   "metadata": {},
   "outputs": [
    {
     "data": {
      "text/plain": [
       "ObjectId('5b5967ea33868e3478b09182')"
      ]
     },
     "execution_count": 22,
     "metadata": {},
     "output_type": "execute_result"
    }
   ],
   "source": [
    "result.inserted_id"
   ]
  },
  {
   "cell_type": "code",
   "execution_count": 23,
   "metadata": {},
   "outputs": [
    {
     "data": {
      "text/plain": [
       "<pymongo.results.InsertManyResult at 0x1b021484120>"
      ]
     },
     "execution_count": 23,
     "metadata": {},
     "output_type": "execute_result"
    }
   ],
   "source": [
    "# insert_many\n",
    "datas = [\n",
    "     {\"subject\":\"webpack\", \"level\":2, \"comments\":[{\"name\":\"peter\", \"msg\":\"easy\"}]},\n",
    "     {\"subject\":\"gulp\", \"level\":3, \"comments\":[{\"name\":\"peter\", \"msg\":\"easy\"}]},\n",
    "     {\"subject\":\"bower\", \"level\":4, \"comments\":[{\"name\":\"peter\", \"msg\":\"easy\"}]}\n",
    "]\n",
    "result = collection.insert_many(datas)\n",
    "result"
   ]
  },
  {
   "cell_type": "code",
   "execution_count": 24,
   "metadata": {},
   "outputs": [
    {
     "data": {
      "text/plain": [
       "[ObjectId('5b59685e33868e3478b09183'),\n",
       " ObjectId('5b59685e33868e3478b09184'),\n",
       " ObjectId('5b59685e33868e3478b09185')]"
      ]
     },
     "execution_count": 24,
     "metadata": {},
     "output_type": "execute_result"
    }
   ],
   "source": [
    "result.inserted_ids"
   ]
  },
  {
   "cell_type": "markdown",
   "metadata": {},
   "source": [
    "### 직방 데이터 크롤링 후 저장"
   ]
  },
  {
   "cell_type": "code",
   "execution_count": 39,
   "metadata": {},
   "outputs": [],
   "source": [
    "url = \"https://api.zigbang.com/v3/items?detail=true&item_ids=[12258942,12217921,12251354,12042761,12270198,12263778,12149733,12263079,12046500,12227516,12245261,12258364,11741210,11947081,12081429,12248641,12039772,12148952,12271001,12201879,12269163,12268373,12268568,12204018,12247416,12241201,12174611,12254380,12233724,12139836,11869595,12178704,12262681,12261598,12106912,12248115,12154374,12240537,12245412,12155533,12198385,12203883,12251810,12239779,12013638,12218505,12249844,12184761,12258707,12096937,12191641,12256520,12163720,12241556,12245758,12272387,12256200,12260120,12195600,12263256]\""
   ]
  },
  {
   "cell_type": "code",
   "execution_count": 40,
   "metadata": {},
   "outputs": [
    {
     "data": {
      "text/plain": [
       "<Response [200]>"
      ]
     },
     "execution_count": 40,
     "metadata": {},
     "output_type": "execute_result"
    }
   ],
   "source": [
    "response = requests.get(url)\n",
    "response"
   ]
  },
  {
   "cell_type": "code",
   "execution_count": 41,
   "metadata": {
    "scrolled": true
   },
   "outputs": [
    {
     "data": {
      "text/plain": [
       "60"
      ]
     },
     "execution_count": 41,
     "metadata": {},
     "output_type": "execute_result"
    }
   ],
   "source": [
    "# parsing - [{},{},{},{},{},..........]\n",
    "zigbang_dict_list = response.json().get(\"items\") # 최상단 items를 벗겨냄\n",
    "len(zigbang_dict_list)"
   ]
  },
  {
   "cell_type": "code",
   "execution_count": 42,
   "metadata": {},
   "outputs": [
    {
     "data": {
      "text/plain": [
       "60"
      ]
     },
     "execution_count": 42,
     "metadata": {},
     "output_type": "execute_result"
    }
   ],
   "source": [
    "items = [item[\"item\"] for item in zigbang_dict_list]\n",
    "len(items)"
   ]
  },
  {
   "cell_type": "code",
   "execution_count": 43,
   "metadata": {},
   "outputs": [
    {
     "data": {
      "text/plain": [
       "[{'id': 12258942,\n",
       "  'images': [{'index': 0,\n",
       "    'count': 1,\n",
       "    'url': 'https://ic.zigbang.com/ic/users/1560562/photos/uploads/427b772f21a022151c65450b46408f973bdc6b30.2175880.JPG'},\n",
       "   {'index': 1,\n",
       "    'count': 2,\n",
       "    'url': 'https://ic.zigbang.com/ic/users/1560562/photos/uploads/bc53e8df0795485d6dbbc0d9a5b4e9b2e2a8c623.2251266.JPG'},\n",
       "   {'index': 2,\n",
       "    'count': 3,\n",
       "    'url': 'https://ic.zigbang.com/ic/users/1560562/photos/uploads/081448a6977a4636164a589d5c10a7e42d29adee.2673824.JPG'},\n",
       "   {'index': 3,\n",
       "    'count': 4,\n",
       "    'url': 'https://ic.zigbang.com/ic/users/1560562/photos/uploads/c0eb587da049174004f35a968c3f99b294384d3c.2393596.JPG'},\n",
       "   {'index': 4,\n",
       "    'count': 5,\n",
       "    'url': 'https://ic.zigbang.com/ic/users/1560562/photos/uploads/0dc8b5121c0c597de0cdf739ac395a5fe6897b3f.2791090.JPG'},\n",
       "   {'index': 5,\n",
       "    'count': 6,\n",
       "    'url': 'https://ic.zigbang.com/ic/users/1560562/photos/uploads/d2e8fb5f4be6fe0bcaad67e1c222b3928d95e2c8.3091381.JPG'},\n",
       "   {'index': 6,\n",
       "    'count': 7,\n",
       "    'url': 'https://ic.zigbang.com/ic/users/1560562/photos/uploads/b22956bf34475a4e1ad90dc51c1a00051c5a9086.2417621.JPG'}],\n",
       "  'is_realestate': True,\n",
       "  'is_direct': False,\n",
       "  'is_room': False,\n",
       "  'is_type_room': False,\n",
       "  'rent': 0,\n",
       "  'deposit': 12000,\n",
       "  'is_deposit_only': True,\n",
       "  'floor': '2층',\n",
       "  '_floor': '2층',\n",
       "  'floor_all': '5층',\n",
       "  'local1': '서울시',\n",
       "  'local2': '관악구',\n",
       "  'local3': '봉천동',\n",
       "  'title': '고퀄리티 전세! 일반 원룸이 아닙니다!',\n",
       "  'room_type': '오픈형 원룸',\n",
       "  'room_type_code': '01',\n",
       "  'building_type': '다세대건물',\n",
       "  'room_gubun_code': '01',\n",
       "  'status': '광고중',\n",
       "  'is_status_open': True,\n",
       "  'is_status_close': False,\n",
       "  'view_count': 69,\n",
       "  'updated_at': '어제',\n",
       "  'updated_at2': '2018-07-24',\n",
       "  'read_updated_at': '2001-01-01',\n",
       "  'size_m2': 26.45,\n",
       "  'size': 8,\n",
       "  'size_m2_contract': '-',\n",
       "  'size_contract': 0,\n",
       "  'address1': '서울시 관악구 봉천동',\n",
       "  'near_subways': '서울대입구역(2호선), 봉천역(2호선), 낙성대역(2호선)',\n",
       "  'random_location': '37.47843193333698,126.94885313928333',\n",
       "  'options': '에어컨,냉장고,세탁기,인덕션,옷장,신발장,싱크대',\n",
       "  'manage_cost': '7만원',\n",
       "  'manage_cost_inc': '수도,인터넷,TV',\n",
       "  'parking': '가능',\n",
       "  'elevator': '없음',\n",
       "  'movein_date': '협의입주',\n",
       "  'description': '\\n\\n ◎서울대입구역 도보 출퇴근 가능! \\n\\n ◎건물자체 CCTV,현관보안 등 보안시스템이 잘되어있어 여성분들도 안심하고 귀가할 수 있습니다\\n\\n ◎깔끔한 구조의 원룸이며 시세대비 가성비 좋은 방입니다\\n\\n ◎관악구 위치 선호도1위 2호선 가장 인기있는 위치입니다 \\n\\n ◎가격대비 베스트 매물들만 중개하기 위해 최선을 다하겠습니다 \\n\\n ◎의미없는 중개가 아닌 오늘보신 매물이 마음에 안들더라도 다시 찾을 수 있는 부동산이 되겠습니다.\\n\\n퇴근 후,늦은시간 언제든지 상담연락 남겨주시면 최선을 다해 원하시는 방 비교할 수 있도록 도와드리겠습니다.  ',\n",
       "  'description_og': '\\n\\n ◎서울대입구역 도보 출퇴근 가능! \\n\\n ◎건물자체 CCTV,현관보안 등 보안시스템이 잘되어있어 여성분들도 안심하고 귀가할 수 있습니다\\n\\n ◎깔끔한 구조의 원룸이며 시세대비 가성비 좋은 방입니다\\n\\n ◎관악구 위치 선호도1위 2호선 가장 인기있는 위치입니다 \\n\\n ◎가격대비 베스트 매물들만 중개하기 위해 최선을 다하겠습니다 \\n\\n ◎의미없는 중개가 아닌 오늘보신 매물이 마음에 안들더라도 다시 찾을 수 있는 부동산이 되겠습니다.\\n\\n퇴근 후,늦은시간 언제든지 상담연락 남겨주시면 최선을 다해 원하시는 방 비교할 수 있도록 도와드리겠습니다.  ',\n",
       "  'pets_text': '확인필요',\n",
       "  'loan_text': '확인필요',\n",
       "  'room_direction_text': '확인필요',\n",
       "  'is_owner': False,\n",
       "  'images_thumbnail': '/users/1560562/photos/uploads/427b772f21a022151c65450b46408f973bdc6b30.2175880.JPG',\n",
       "  'is_zzim': False,\n",
       "  'secret_memo': None,\n",
       "  'user_no': 1560562,\n",
       "  'user_has_penalty': False,\n",
       "  'user_has_no_penalty': True,\n",
       "  'user_name': '소속공인중개사 조준희',\n",
       "  'user_phone': '0507-1281-5912',\n",
       "  'original_user_phone': '010-5550-4244',\n",
       "  'user_mobile': '0507-1281-5912',\n",
       "  'user_email': 'yeho207@naver.com',\n",
       "  'user_intro': '',\n",
       "  'agent_name': 'COCO공인중개사(이예호)',\n",
       "  'agent_no': 39737,\n",
       "  'agent_phone': '02-882-1178',\n",
       "  'agent_mobile': '0507-1280-6431',\n",
       "  'agent_email': 'yeho207@naver.com',\n",
       "  'agent_local1': '서울시',\n",
       "  'agent_local2': '관악구',\n",
       "  'agent_address1': '서울특별시 관악구 관악로12길 58-2',\n",
       "  'agent_lng': 126.95544433593798,\n",
       "  'agent_lat': 37.4775848388672,\n",
       "  'building': None,\n",
       "  'contract': '서울특별시',\n",
       "  'bjd_code': '1162010100',\n",
       "  'bonbun_code': '1574',\n",
       "  'bubun_code': '6',\n",
       "  'address2': '1574-6',\n",
       "  'address3': None,\n",
       "  'is_premium': True,\n",
       "  'is_premium2': True,\n",
       "  'is_homepage': True,\n",
       "  'profile_url': None,\n",
       "  'agent_comment': '\\n\\n ▶자격증을 겸비한 공인중개사로써 최선을 다해 서비스 해드리겠습니다!\\n\\n ▶고객님 입장에서 원하는 방과 조건에 맞는 방 미리 준비하여 고민을 덜어드리겠습니다!\\n\\n ▶철저한 권리분석과 주변조사를 통해 고객님의 보증금을 지켜드리겠습니다! \\n\\n#원룸#투룸#전,월세#다시 가고싶은 부동산#관악구#동작구#1등부동산# ',\n",
       "  'premium_items': []},\n",
       " {'id': 12217921,\n",
       "  'images': [{'index': 0,\n",
       "    'count': 1,\n",
       "    'url': 'https://ic.zigbang.com/ic/users/2367306/photos/uploads/6dd7a194eaa3bd1740eb7e36001750b4d0c73fd0.144881.JPG'},\n",
       "   {'index': 1,\n",
       "    'count': 2,\n",
       "    'url': 'https://ic.zigbang.com/ic/users/2367306/photos/uploads/2089f5b8042f57348eeda286ab8f8ce12c3d1445.128698.JPG'},\n",
       "   {'index': 2,\n",
       "    'count': 3,\n",
       "    'url': 'https://ic.zigbang.com/ic/users/2367306/photos/uploads/df99006239771919e9982cc8103f1089deabf0e3.129272.JPG'},\n",
       "   {'index': 3,\n",
       "    'count': 4,\n",
       "    'url': 'https://ic.zigbang.com/ic/users/2367306/photos/uploads/bde80b74e0ae6333bdaad613f1b2dedf1ad96776.113732.JPG'},\n",
       "   {'index': 4,\n",
       "    'count': 5,\n",
       "    'url': 'https://ic.zigbang.com/ic/users/2367306/photos/uploads/400708bee1c6f044a8cfe02e883c9c4881535cb4.113281.JPG'},\n",
       "   {'index': 5,\n",
       "    'count': 6,\n",
       "    'url': 'https://ic.zigbang.com/ic/users/2367306/photos/uploads/0eb9222af468314a9de848fa4716b61a3ae370b9.112496.JPG'},\n",
       "   {'index': 6,\n",
       "    'count': 7,\n",
       "    'url': 'https://ic.zigbang.com/ic/users/2367306/photos/uploads/4530061fbbab3b35c5c7fb85a427d39d5804622c.112377.JPG'},\n",
       "   {'index': 7,\n",
       "    'count': 8,\n",
       "    'url': 'https://ic.zigbang.com/ic/users/2367306/photos/uploads/0724800806ebc219f81c50de78e13f111a61c243.74612.JPG'},\n",
       "   {'index': 8,\n",
       "    'count': 9,\n",
       "    'url': 'https://ic.zigbang.com/ic/users/2367306/photos/uploads/3dd3266e6958d04c0b9ad708cb9affe1f4b0eed5.139102.JPG'}],\n",
       "  'is_realestate': True,\n",
       "  'is_direct': False,\n",
       "  'is_room': False,\n",
       "  'is_type_room': False,\n",
       "  'rent': 8,\n",
       "  'deposit': 11000,\n",
       "  'is_deposit_only': False,\n",
       "  'floor': '6층',\n",
       "  '_floor': '6층',\n",
       "  'floor_all': '7층',\n",
       "  'local1': '서울시',\n",
       "  'local2': '관악구',\n",
       "  'local3': '봉천동',\n",
       "  'title': '☑오피스텔느낌원룸!☑전세대출OK☑이게느낌아입니까?☑',\n",
       "  'room_type': '오픈형 원룸',\n",
       "  'room_type_code': '01',\n",
       "  'building_type': '다세대건물',\n",
       "  'room_gubun_code': '01',\n",
       "  'status': '광고중',\n",
       "  'is_status_open': True,\n",
       "  'is_status_close': False,\n",
       "  'view_count': 90,\n",
       "  'updated_at': '5일 전',\n",
       "  'updated_at2': '2018-07-21',\n",
       "  'read_updated_at': '2001-01-01',\n",
       "  'size_m2': 19.83,\n",
       "  'size': 6,\n",
       "  'size_m2_contract': '-',\n",
       "  'size_contract': 0,\n",
       "  'address1': '서울시 관악구 봉천동',\n",
       "  'near_subways': '봉천역(2호선), 서울대입구역(2호선), 숭실대입구역(7호선)',\n",
       "  'random_location': '37.4845942139669,126.94652598175115',\n",
       "  'options': '에어컨,냉장고,세탁기,인덕션,책상,책장,옷장,신발장,싱크대',\n",
       "  'manage_cost': '8만원',\n",
       "  'manage_cost_inc': '수도,인터넷,TV',\n",
       "  'parking': '가능',\n",
       "  'elevator': '있음',\n",
       "  'movein_date': '신축첫입주',\n",
       "  'description': '✔✔ 이방의 꿀팁 정보 ㅇㄱㄹㅇ!!! ✔✔\\n\\n☑ 가격 : 전세 11000만원 전세대출 가능! 채권문제X\\n월세는 보증금 3000만원 월세60만원 가능 조절가능\\n\\n☑ 특징 : 신축첫입주 오픈형이면서 모던한 느낌의 원룸!\\n\\n☑ 위치 : 조용한 주택가라 소음 걱정 No!\\n\\n☑ 교통 : 봉천역 도보 5~6분거리, 버스노선도 Good!!\\n\\n☑ 옵션 : 전부 다 들어가있는 풀옵션 원룸이랍니다~^^\\n\\n☑ 보안 : 1층 현관문과 CCTV가 있어 여성분도 안심!심지어 1층엔 아이언맨이~!\\n',\n",
       "  'description_og': '✔✔ 이방의 꿀팁 정보 ㅇㄱㄹㅇ!!! ✔✔\\n\\n☑ 가격 : 전세 11000만원 전세대출 가능! 채권문제X\\n월세는 보증금 3000만원 월세60만원 가능 조절가능\\n\\n☑ 특징 : 신축첫입주 오픈형이면서 모던한 느낌의 원룸!\\n\\n☑ 위치 : 조용한 주택가라 소음 걱정 No!\\n\\n☑ 교통 : 봉천역 도보 5~6분거리, 버스노선도 Good!!\\n\\n☑ 옵션 : 전부 다 들어가있는 풀옵션 원룸이랍니다~^^\\n\\n☑ 보안 : 1층 현관문과 CCTV가 있어 여성분도 안심!심지어 1층엔 아이언맨이~!\\n',\n",
       "  'pets_text': '확인필요',\n",
       "  'loan_text': '확인필요',\n",
       "  'room_direction_text': '확인필요',\n",
       "  'is_owner': False,\n",
       "  'images_thumbnail': '/users/2367306/photos/uploads/6dd7a194eaa3bd1740eb7e36001750b4d0c73fd0.144881.JPG',\n",
       "  'is_zzim': False,\n",
       "  'secret_memo': None,\n",
       "  'user_no': 2367306,\n",
       "  'user_has_penalty': False,\n",
       "  'user_has_no_penalty': True,\n",
       "  'user_name': '중개보조원 김수빈',\n",
       "  'user_phone': '0507-1282-9362',\n",
       "  'original_user_phone': '010-2003-6784',\n",
       "  'user_mobile': '0507-1282-9362',\n",
       "  'user_email': 'been891107@gmail.com',\n",
       "  'user_intro': '✡관악구 NO.1 119부동산✡\\n◆ 기술이아닌 진심과 신뢰로 중개!\\n◆ 관악 지역 최고 최대 매물 보유!\\n◆ 고객요구를 119% 반영한 중개!\\n◆ 철저한 계약과 중개로 중개사고는 0%!',\n",
       "  'agent_name': '119부동산공인중개사(최승호)',\n",
       "  'agent_no': 26818,\n",
       "  'agent_phone': '02-877-7119',\n",
       "  'agent_mobile': '0507-1282-9387',\n",
       "  'agent_email': 'buyingland@naver.com',\n",
       "  'agent_local1': '서울시',\n",
       "  'agent_local2': '관악구',\n",
       "  'agent_address1': '서울특별시 관악구 남부순환로187길 22',\n",
       "  'agent_lng': 126.933570861816,\n",
       "  'agent_lat': 37.48580932617189,\n",
       "  'building': None,\n",
       "  'contract': '서울특별시',\n",
       "  'bjd_code': '1162010100',\n",
       "  'bonbun_code': '889',\n",
       "  'bubun_code': '34',\n",
       "  'address2': '889-34',\n",
       "  'address3': None,\n",
       "  'is_premium': True,\n",
       "  'is_premium2': True,\n",
       "  'is_homepage': True,\n",
       "  'profile_url': 'http://ic.zigbang.com/vp/profile/2367306/44ed3d3ed7799c43dd4c2df18352d25b3afcd747.jpg',\n",
       "  'agent_comment': '✔✔믿고 보는 체크리스트✔✔\\n\\n☑KAKAO TALK ID(카톡ID) : been891107\\n\\n☑답답한 중개, 허위매물에 지치셨다면,\\n 김팀장에게 연락주세요~!!\\n\\n☑젊은 공인중개사가 내가살고싶은 방만 골라서 보여드립니다!!! \\n\\n☑100%실매물만 보여드립니다!!!허위해물 OUT!!!\\n\\n',\n",
       "  'premium_items': []}]"
      ]
     },
     "execution_count": 43,
     "metadata": {},
     "output_type": "execute_result"
    }
   ],
   "source": [
    "items[:2]"
   ]
  },
  {
   "cell_type": "code",
   "execution_count": 44,
   "metadata": {},
   "outputs": [
    {
     "data": {
      "text/plain": [
       "<pymongo.results.InsertManyResult at 0x1b021468d80>"
      ]
     },
     "execution_count": 44,
     "metadata": {},
     "output_type": "execute_result"
    }
   ],
   "source": [
    "collection = client.crawling.zigbang\n",
    "result_zigbang = collection.insert_many(items)\n",
    "result_zigbang"
   ]
  },
  {
   "cell_type": "markdown",
   "metadata": {},
   "source": [
    "##### 렌트비용이 50이하인 데이터 추출"
   ]
  },
  {
   "cell_type": "code",
   "execution_count": 45,
   "metadata": {},
   "outputs": [
    {
     "data": {
      "text/plain": [
       "<pymongo.cursor.Cursor at 0x1b021999320>"
      ]
     },
     "execution_count": 45,
     "metadata": {},
     "output_type": "execute_result"
    }
   ],
   "source": [
    "query = {\"rent\":{\"$lte\":50}}\n",
    "\n",
    "documents = collection.find(query)\n",
    "documents"
   ]
  },
  {
   "cell_type": "code",
   "execution_count": 46,
   "metadata": {},
   "outputs": [
    {
     "data": {
      "text/plain": [
       "56"
      ]
     },
     "execution_count": 46,
     "metadata": {},
     "output_type": "execute_result"
    }
   ],
   "source": [
    "datas = list(documents)\n",
    "len(datas)"
   ]
  },
  {
   "cell_type": "code",
   "execution_count": 47,
   "metadata": {},
   "outputs": [
    {
     "data": {
      "text/html": [
       "<div>\n",
       "<style scoped>\n",
       "    .dataframe tbody tr th:only-of-type {\n",
       "        vertical-align: middle;\n",
       "    }\n",
       "\n",
       "    .dataframe tbody tr th {\n",
       "        vertical-align: top;\n",
       "    }\n",
       "\n",
       "    .dataframe thead th {\n",
       "        text-align: right;\n",
       "    }\n",
       "</style>\n",
       "<table border=\"1\" class=\"dataframe\">\n",
       "  <thead>\n",
       "    <tr style=\"text-align: right;\">\n",
       "      <th></th>\n",
       "      <th>_floor</th>\n",
       "      <th>_id</th>\n",
       "      <th>address1</th>\n",
       "      <th>address2</th>\n",
       "      <th>address3</th>\n",
       "      <th>agent_address1</th>\n",
       "      <th>agent_comment</th>\n",
       "      <th>agent_email</th>\n",
       "      <th>agent_lat</th>\n",
       "      <th>agent_lng</th>\n",
       "      <th>...</th>\n",
       "      <th>updated_at2</th>\n",
       "      <th>user_email</th>\n",
       "      <th>user_has_no_penalty</th>\n",
       "      <th>user_has_penalty</th>\n",
       "      <th>user_intro</th>\n",
       "      <th>user_mobile</th>\n",
       "      <th>user_name</th>\n",
       "      <th>user_no</th>\n",
       "      <th>user_phone</th>\n",
       "      <th>view_count</th>\n",
       "    </tr>\n",
       "  </thead>\n",
       "  <tbody>\n",
       "    <tr>\n",
       "      <th>51</th>\n",
       "      <td>3층</td>\n",
       "      <td>5b596ef933868e3478b091f9</td>\n",
       "      <td>서울시 동작구 상도동</td>\n",
       "      <td>126-45</td>\n",
       "      <td>None</td>\n",
       "      <td>서울특별시 동작구 상도로15길 112, 101호(상도동)</td>\n",
       "      <td>✔허위매물없는 1억원 책임보헙 가입 되있는 안전한 부동산\\n\\n✔ 전화,문자,카톡 ...</td>\n",
       "      <td>elf2493@hanmail.net</td>\n",
       "      <td>37.504440</td>\n",
       "      <td>126.936951</td>\n",
       "      <td>...</td>\n",
       "      <td>2018-07-26</td>\n",
       "      <td>jilstt@naver.com</td>\n",
       "      <td>True</td>\n",
       "      <td>False</td>\n",
       "      <td>동작구 7호선, 1호선 풀옵션 원룸, 투룸 최다보유 우주부동산입니다. 합리적이고 알...</td>\n",
       "      <td>0507-1280-3389</td>\n",
       "      <td>중개보조원 최재열</td>\n",
       "      <td>597303</td>\n",
       "      <td>0507-1280-3389</td>\n",
       "      <td>5</td>\n",
       "    </tr>\n",
       "    <tr>\n",
       "      <th>52</th>\n",
       "      <td>3층</td>\n",
       "      <td>5b596ef933868e3478b091fa</td>\n",
       "      <td>서울시 관악구 봉천동</td>\n",
       "      <td>41-369</td>\n",
       "      <td>None</td>\n",
       "      <td>서울특별시 관악구 관악로17길 25</td>\n",
       "      <td>반갑습니다.\\n15년 전통의 예림공인중개사무소 임수진 과장입니다.\\n2,7호선의 모...</td>\n",
       "      <td>jaesung0509@naver.com</td>\n",
       "      <td>37.480698</td>\n",
       "      <td>126.950256</td>\n",
       "      <td>...</td>\n",
       "      <td>2018-07-24</td>\n",
       "      <td>jaesung0509@naver.com</td>\n",
       "      <td>True</td>\n",
       "      <td>False</td>\n",
       "      <td></td>\n",
       "      <td>0507-1280-4562</td>\n",
       "      <td>중개보조원 임수진</td>\n",
       "      <td>3712773</td>\n",
       "      <td>0507-1280-4562</td>\n",
       "      <td>72</td>\n",
       "    </tr>\n",
       "    <tr>\n",
       "      <th>53</th>\n",
       "      <td>3층</td>\n",
       "      <td>5b596ef933868e3478b091fb</td>\n",
       "      <td>서울시 관악구 봉천동</td>\n",
       "      <td>876-11</td>\n",
       "      <td>None</td>\n",
       "      <td>서울시 관악구 쑥고개로 45</td>\n",
       "      <td>24시문의가능.</td>\n",
       "      <td>yhcymj@naver.com</td>\n",
       "      <td>37.479528</td>\n",
       "      <td>126.941621</td>\n",
       "      <td>...</td>\n",
       "      <td>2018-07-25</td>\n",
       "      <td>yhcymj@naver.com</td>\n",
       "      <td>True</td>\n",
       "      <td>False</td>\n",
       "      <td></td>\n",
       "      <td>0507-1281-3596</td>\n",
       "      <td>중개보조원 김대환</td>\n",
       "      <td>4103322</td>\n",
       "      <td>0507-1281-3596</td>\n",
       "      <td>82</td>\n",
       "    </tr>\n",
       "    <tr>\n",
       "      <th>54</th>\n",
       "      <td>1층</td>\n",
       "      <td>5b596ef933868e3478b091fc</td>\n",
       "      <td>서울시 관악구 봉천동</td>\n",
       "      <td>941-12</td>\n",
       "      <td>None</td>\n",
       "      <td>서울특별시 관악구 봉천동 933-20</td>\n",
       "      <td></td>\n",
       "      <td>nadoyo2@naver.com</td>\n",
       "      <td>37.484135</td>\n",
       "      <td>126.940536</td>\n",
       "      <td>...</td>\n",
       "      <td>2018-07-17</td>\n",
       "      <td>nadoyo2@naver.com</td>\n",
       "      <td>True</td>\n",
       "      <td>False</td>\n",
       "      <td></td>\n",
       "      <td>0507-1280-2740</td>\n",
       "      <td>중개보조원 윤명철</td>\n",
       "      <td>1434787</td>\n",
       "      <td>0507-1280-2740</td>\n",
       "      <td>219</td>\n",
       "    </tr>\n",
       "    <tr>\n",
       "      <th>55</th>\n",
       "      <td>2층</td>\n",
       "      <td>5b596ef933868e3478b091fd</td>\n",
       "      <td>서울시 관악구 봉천동</td>\n",
       "      <td>1603-18</td>\n",
       "      <td>None</td>\n",
       "      <td>서울특별시 관악구 남부순환로167길 14</td>\n",
       "      <td>\\n☎허위매물 보고 시간낭비는 이제그만!\\n☎전화 한통이면 끝!! 빠른문의 부탁드립...</td>\n",
       "      <td>nam76769470@gmail.com</td>\n",
       "      <td>37.484226</td>\n",
       "      <td>126.923531</td>\n",
       "      <td>...</td>\n",
       "      <td>2018-07-25</td>\n",
       "      <td>nam76769470@gmail.com</td>\n",
       "      <td>True</td>\n",
       "      <td>False</td>\n",
       "      <td></td>\n",
       "      <td>0507-1280-5213</td>\n",
       "      <td>중개보조원 안진수</td>\n",
       "      <td>3383939</td>\n",
       "      <td>0507-1280-5213</td>\n",
       "      <td>135</td>\n",
       "    </tr>\n",
       "  </tbody>\n",
       "</table>\n",
       "<p>5 rows × 82 columns</p>\n",
       "</div>"
      ],
      "text/plain": [
       "   _floor                       _id     address1 address2 address3  \\\n",
       "51     3층  5b596ef933868e3478b091f9  서울시 동작구 상도동   126-45     None   \n",
       "52     3층  5b596ef933868e3478b091fa  서울시 관악구 봉천동   41-369     None   \n",
       "53     3층  5b596ef933868e3478b091fb  서울시 관악구 봉천동   876-11     None   \n",
       "54     1층  5b596ef933868e3478b091fc  서울시 관악구 봉천동   941-12     None   \n",
       "55     2층  5b596ef933868e3478b091fd  서울시 관악구 봉천동  1603-18     None   \n",
       "\n",
       "                     agent_address1  \\\n",
       "51  서울특별시 동작구 상도로15길 112, 101호(상도동)   \n",
       "52              서울특별시 관악구 관악로17길 25   \n",
       "53                  서울시 관악구 쑥고개로 45   \n",
       "54             서울특별시 관악구 봉천동 933-20   \n",
       "55           서울특별시 관악구 남부순환로167길 14   \n",
       "\n",
       "                                        agent_comment            agent_email  \\\n",
       "51  ✔허위매물없는 1억원 책임보헙 가입 되있는 안전한 부동산\\n\\n✔ 전화,문자,카톡 ...    elf2493@hanmail.net   \n",
       "52  반갑습니다.\\n15년 전통의 예림공인중개사무소 임수진 과장입니다.\\n2,7호선의 모...  jaesung0509@naver.com   \n",
       "53                                           24시문의가능.       yhcymj@naver.com   \n",
       "54                                                         nadoyo2@naver.com   \n",
       "55  \\n☎허위매물 보고 시간낭비는 이제그만!\\n☎전화 한통이면 끝!! 빠른문의 부탁드립...  nam76769470@gmail.com   \n",
       "\n",
       "    agent_lat   agent_lng    ...     updated_at2             user_email  \\\n",
       "51  37.504440  126.936951    ...      2018-07-26       jilstt@naver.com   \n",
       "52  37.480698  126.950256    ...      2018-07-24  jaesung0509@naver.com   \n",
       "53  37.479528  126.941621    ...      2018-07-25       yhcymj@naver.com   \n",
       "54  37.484135  126.940536    ...      2018-07-17      nadoyo2@naver.com   \n",
       "55  37.484226  126.923531    ...      2018-07-25  nam76769470@gmail.com   \n",
       "\n",
       "   user_has_no_penalty user_has_penalty  \\\n",
       "51                True            False   \n",
       "52                True            False   \n",
       "53                True            False   \n",
       "54                True            False   \n",
       "55                True            False   \n",
       "\n",
       "                                           user_intro     user_mobile  \\\n",
       "51  동작구 7호선, 1호선 풀옵션 원룸, 투룸 최다보유 우주부동산입니다. 합리적이고 알...  0507-1280-3389   \n",
       "52                                                     0507-1280-4562   \n",
       "53                                                     0507-1281-3596   \n",
       "54                                                     0507-1280-2740   \n",
       "55                                                     0507-1280-5213   \n",
       "\n",
       "    user_name  user_no      user_phone view_count  \n",
       "51  중개보조원 최재열   597303  0507-1280-3389          5  \n",
       "52  중개보조원 임수진  3712773  0507-1280-4562         72  \n",
       "53  중개보조원 김대환  4103322  0507-1281-3596         82  \n",
       "54  중개보조원 윤명철  1434787  0507-1280-2740        219  \n",
       "55  중개보조원 안진수  3383939  0507-1280-5213        135  \n",
       "\n",
       "[5 rows x 82 columns]"
      ]
     },
     "execution_count": 47,
     "metadata": {},
     "output_type": "execute_result"
    }
   ],
   "source": [
    "# pandas로 만들어보자\n",
    "df = pd.DataFrame(datas)\n",
    "df.tail()"
   ]
  },
  {
   "cell_type": "code",
   "execution_count": 34,
   "metadata": {},
   "outputs": [
    {
     "data": {
      "text/html": [
       "<div>\n",
       "<style scoped>\n",
       "    .dataframe tbody tr th:only-of-type {\n",
       "        vertical-align: middle;\n",
       "    }\n",
       "\n",
       "    .dataframe tbody tr th {\n",
       "        vertical-align: top;\n",
       "    }\n",
       "\n",
       "    .dataframe thead th {\n",
       "        text-align: right;\n",
       "    }\n",
       "</style>\n",
       "<table border=\"1\" class=\"dataframe\">\n",
       "  <thead>\n",
       "    <tr style=\"text-align: right;\">\n",
       "      <th></th>\n",
       "      <th>rent</th>\n",
       "      <th>options</th>\n",
       "      <th>size</th>\n",
       "      <th>deposit</th>\n",
       "    </tr>\n",
       "  </thead>\n",
       "  <tbody>\n",
       "    <tr>\n",
       "      <th>51</th>\n",
       "      <td>0</td>\n",
       "      <td>에어컨,냉장고,세탁기,인덕션,전자레인지,책상,책장,옷장,신발장,싱크대</td>\n",
       "      <td>6.5</td>\n",
       "      <td>10000</td>\n",
       "    </tr>\n",
       "    <tr>\n",
       "      <th>52</th>\n",
       "      <td>0</td>\n",
       "      <td>에어컨,냉장고,세탁기,인덕션,책상,책장,옷장,신발장,싱크대</td>\n",
       "      <td>8.0</td>\n",
       "      <td>10000</td>\n",
       "    </tr>\n",
       "    <tr>\n",
       "      <th>53</th>\n",
       "      <td>27</td>\n",
       "      <td>에어컨,냉장고,세탁기,인덕션,전자레인지,책상,책장,침대,옷장,신발장,싱크대</td>\n",
       "      <td>6.0</td>\n",
       "      <td>100</td>\n",
       "    </tr>\n",
       "    <tr>\n",
       "      <th>54</th>\n",
       "      <td>0</td>\n",
       "      <td>에어컨,냉장고,세탁기,인덕션,신발장,싱크대</td>\n",
       "      <td>8.0</td>\n",
       "      <td>6500</td>\n",
       "    </tr>\n",
       "    <tr>\n",
       "      <th>55</th>\n",
       "      <td>26</td>\n",
       "      <td>에어컨,냉장고,세탁기,가스레인지,전자레인지,책상,책장,침대,옷장,신발장,싱크대</td>\n",
       "      <td>5.0</td>\n",
       "      <td>100</td>\n",
       "    </tr>\n",
       "  </tbody>\n",
       "</table>\n",
       "</div>"
      ],
      "text/plain": [
       "    rent                                      options  size  deposit\n",
       "51     0       에어컨,냉장고,세탁기,인덕션,전자레인지,책상,책장,옷장,신발장,싱크대   6.5    10000\n",
       "52     0             에어컨,냉장고,세탁기,인덕션,책상,책장,옷장,신발장,싱크대   8.0    10000\n",
       "53    27    에어컨,냉장고,세탁기,인덕션,전자레인지,책상,책장,침대,옷장,신발장,싱크대   6.0      100\n",
       "54     0                      에어컨,냉장고,세탁기,인덕션,신발장,싱크대   8.0     6500\n",
       "55    26  에어컨,냉장고,세탁기,가스레인지,전자레인지,책상,책장,침대,옷장,신발장,싱크대   5.0      100"
      ]
     },
     "execution_count": 34,
     "metadata": {},
     "output_type": "execute_result"
    }
   ],
   "source": [
    "filtered_df = df[['rent','options','size','deposit']]\n",
    "filtered_df.tail()"
   ]
  },
  {
   "cell_type": "code",
   "execution_count": 35,
   "metadata": {},
   "outputs": [
    {
     "data": {
      "text/plain": [
       "<pymongo.cursor.Cursor at 0x1b021b0e198>"
      ]
     },
     "execution_count": 35,
     "metadata": {},
     "output_type": "execute_result"
    }
   ],
   "source": [
    "query = {\"rent\":{\"$lte\":50}}\n",
    "\n",
    "documents = collection.find(query, {\"_id\":False,\"deposit\":True, \"rent\":True, \"options\":True,\"size\":True})\n",
    "documents"
   ]
  },
  {
   "cell_type": "code",
   "execution_count": 36,
   "metadata": {},
   "outputs": [
    {
     "data": {
      "text/html": [
       "<div>\n",
       "<style scoped>\n",
       "    .dataframe tbody tr th:only-of-type {\n",
       "        vertical-align: middle;\n",
       "    }\n",
       "\n",
       "    .dataframe tbody tr th {\n",
       "        vertical-align: top;\n",
       "    }\n",
       "\n",
       "    .dataframe thead th {\n",
       "        text-align: right;\n",
       "    }\n",
       "</style>\n",
       "<table border=\"1\" class=\"dataframe\">\n",
       "  <thead>\n",
       "    <tr style=\"text-align: right;\">\n",
       "      <th></th>\n",
       "      <th>deposit</th>\n",
       "      <th>options</th>\n",
       "      <th>rent</th>\n",
       "      <th>size</th>\n",
       "    </tr>\n",
       "  </thead>\n",
       "  <tbody>\n",
       "    <tr>\n",
       "      <th>51</th>\n",
       "      <td>10000</td>\n",
       "      <td>에어컨,냉장고,세탁기,인덕션,전자레인지,책상,책장,옷장,신발장,싱크대</td>\n",
       "      <td>0</td>\n",
       "      <td>6.5</td>\n",
       "    </tr>\n",
       "    <tr>\n",
       "      <th>52</th>\n",
       "      <td>10000</td>\n",
       "      <td>에어컨,냉장고,세탁기,인덕션,책상,책장,옷장,신발장,싱크대</td>\n",
       "      <td>0</td>\n",
       "      <td>8.0</td>\n",
       "    </tr>\n",
       "    <tr>\n",
       "      <th>53</th>\n",
       "      <td>100</td>\n",
       "      <td>에어컨,냉장고,세탁기,인덕션,전자레인지,책상,책장,침대,옷장,신발장,싱크대</td>\n",
       "      <td>27</td>\n",
       "      <td>6.0</td>\n",
       "    </tr>\n",
       "    <tr>\n",
       "      <th>54</th>\n",
       "      <td>6500</td>\n",
       "      <td>에어컨,냉장고,세탁기,인덕션,신발장,싱크대</td>\n",
       "      <td>0</td>\n",
       "      <td>8.0</td>\n",
       "    </tr>\n",
       "    <tr>\n",
       "      <th>55</th>\n",
       "      <td>100</td>\n",
       "      <td>에어컨,냉장고,세탁기,가스레인지,전자레인지,책상,책장,침대,옷장,신발장,싱크대</td>\n",
       "      <td>26</td>\n",
       "      <td>5.0</td>\n",
       "    </tr>\n",
       "  </tbody>\n",
       "</table>\n",
       "</div>"
      ],
      "text/plain": [
       "    deposit                                      options  rent  size\n",
       "51    10000       에어컨,냉장고,세탁기,인덕션,전자레인지,책상,책장,옷장,신발장,싱크대     0   6.5\n",
       "52    10000             에어컨,냉장고,세탁기,인덕션,책상,책장,옷장,신발장,싱크대     0   8.0\n",
       "53      100    에어컨,냉장고,세탁기,인덕션,전자레인지,책상,책장,침대,옷장,신발장,싱크대    27   6.0\n",
       "54     6500                      에어컨,냉장고,세탁기,인덕션,신발장,싱크대     0   8.0\n",
       "55      100  에어컨,냉장고,세탁기,가스레인지,전자레인지,책상,책장,침대,옷장,신발장,싱크대    26   5.0"
      ]
     },
     "execution_count": 36,
     "metadata": {},
     "output_type": "execute_result"
    }
   ],
   "source": [
    "df = pd.DataFrame(list(documents))\n",
    "df.tail()"
   ]
  },
  {
   "cell_type": "markdown",
   "metadata": {},
   "source": [
    "##### delete - database"
   ]
  },
  {
   "cell_type": "code",
   "execution_count": 37,
   "metadata": {},
   "outputs": [],
   "source": [
    "client.drop_database(\"crawling\")"
   ]
  },
  {
   "cell_type": "markdown",
   "metadata": {},
   "source": [
    "##### delete - collection"
   ]
  },
  {
   "cell_type": "code",
   "execution_count": 38,
   "metadata": {},
   "outputs": [
    {
     "data": {
      "text/plain": [
       "{'ok': 0.0, 'errmsg': 'ns not found', 'code': 26}"
      ]
     },
     "execution_count": 38,
     "metadata": {},
     "output_type": "execute_result"
    }
   ],
   "source": [
    "client.crawling.drop_collection(\"zigbang\")"
   ]
  }
 ],
 "metadata": {
  "kernelspec": {
   "display_name": "Python 3",
   "language": "python",
   "name": "python3"
  },
  "language_info": {
   "codemirror_mode": {
    "name": "ipython",
    "version": 3
   },
   "file_extension": ".py",
   "mimetype": "text/x-python",
   "name": "python",
   "nbconvert_exporter": "python",
   "pygments_lexer": "ipython3",
   "version": "3.6.6"
  }
 },
 "nbformat": 4,
 "nbformat_minor": 2
}
