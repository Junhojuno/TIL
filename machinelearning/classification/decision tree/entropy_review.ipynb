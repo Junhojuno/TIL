{
 "cells": [
  {
   "cell_type": "markdown",
   "metadata": {},
   "source": [
    "### Entropy\n",
    "- 확률분포들이 가지는 확신의 정도를 말함.\n",
    "- 다시말해, 확률분포가 어느쪽으로 치우쳐 있는가를 재는 척도이다.\n",
    "- 한쪽으로 치우쳐있다 = 확신의 정도가 크다. --> Entropy가 낮다\n",
    "- 반대로 고르게 분포되어있다. = 확신의 정도가 작다(확률이 uniform하니까) --> Entropy가 크다\n",
    "- Entropy가 크다는 것은 우리에게 가져다줄 수 있는 정보의 양이 많다는 의미"
   ]
  },
  {
   "cell_type": "markdown",
   "metadata": {},
   "source": [
    "#### 연습문제 1\n",
    "1. A, B, C, D, E, F, G, H의 8글자로 이루어진 문서가 있고 각각의 글자가 나올 확률이 다음과 같다고 가정하자.\n",
    "2. {1/2,1/4,1/8,1/16,1/64,1/64,1/64,1/64}\n",
    "3. 가변길이 인코딩하여 한글자 인코딩하는 필요한 평균 비트수 계산"
   ]
  },
  {
   "cell_type": "code",
   "execution_count": 3,
   "metadata": {},
   "outputs": [
    {
     "data": {
      "text/plain": [
       "2.0"
      ]
     },
     "execution_count": 3,
     "metadata": {},
     "output_type": "execute_result"
    }
   ],
   "source": [
    "-1/2 * np.log2(1/2) -1/4 * np.log2(1/4) -1/8 * np.log2(1/8) -1/16 * np.log2(1/16) -1/64 * np.log2(1/64) * 4"
   ]
  },
  {
   "cell_type": "markdown",
   "metadata": {},
   "source": [
    "평균 비트수(엔트로피는 2)"
   ]
  }
 ],
 "metadata": {
  "kernelspec": {
   "display_name": "Python 3",
   "language": "python",
   "name": "python3"
  },
  "language_info": {
   "codemirror_mode": {
    "name": "ipython",
    "version": 3
   },
   "file_extension": ".py",
   "mimetype": "text/x-python",
   "name": "python",
   "nbconvert_exporter": "python",
   "pygments_lexer": "ipython3",
   "version": "3.6.6"
  }
 },
 "nbformat": 4,
 "nbformat_minor": 2
}
