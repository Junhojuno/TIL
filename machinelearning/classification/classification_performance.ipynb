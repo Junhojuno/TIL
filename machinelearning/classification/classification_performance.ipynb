{
 "cells": [
  {
   "cell_type": "markdown",
   "metadata": {},
   "source": [
    "##### confusion matrix"
   ]
  },
  {
   "cell_type": "code",
   "execution_count": 1,
   "metadata": {},
   "outputs": [],
   "source": [
    "from sklearn.metrics import confusion_matrix"
   ]
  },
  {
   "cell_type": "code",
   "execution_count": 2,
   "metadata": {},
   "outputs": [],
   "source": [
    "y = [2,0,2,2,0,1]\n",
    "y_hat = [0,0,2,2,0,2]"
   ]
  },
  {
   "cell_type": "code",
   "execution_count": 3,
   "metadata": {},
   "outputs": [
    {
     "data": {
      "text/plain": [
       "array([[2, 0, 0],\n",
       "       [0, 0, 1],\n",
       "       [1, 0, 2]], dtype=int64)"
      ]
     },
     "execution_count": 3,
     "metadata": {},
     "output_type": "execute_result"
    }
   ],
   "source": [
    "confusion_matrix(y,y_hat)"
   ]
  },
  {
   "cell_type": "markdown",
   "metadata": {},
   "source": [
    "##### classification report"
   ]
  },
  {
   "cell_type": "code",
   "execution_count": 4,
   "metadata": {},
   "outputs": [],
   "source": [
    "from sklearn.metrics import classification_report"
   ]
  },
  {
   "cell_type": "code",
   "execution_count": 5,
   "metadata": {},
   "outputs": [
    {
     "name": "stdout",
     "output_type": "stream",
     "text": [
      "             precision    recall  f1-score   support\n",
      "\n",
      "          0       0.75      0.60      0.67         5\n",
      "          1       0.33      0.50      0.40         2\n",
      "\n",
      "avg / total       0.63      0.57      0.59         7\n",
      "\n"
     ]
    }
   ],
   "source": [
    "y = [0,0,0,1,1,0,0]\n",
    "y_hat = [0,0,0,0,1,1,1]\n",
    "\n",
    "print(classification_report(y,y_hat))"
   ]
  },
  {
   "cell_type": "code",
   "execution_count": 6,
   "metadata": {},
   "outputs": [
    {
     "name": "stdout",
     "output_type": "stream",
     "text": [
      "             precision    recall  f1-score   support\n",
      "\n",
      "          0       1.00      1.00      1.00         2\n",
      "          1       0.50      0.50      0.50         2\n",
      "          2       0.67      0.67      0.67         3\n",
      "\n",
      "avg / total       0.71      0.71      0.71         7\n",
      "\n"
     ]
    }
   ],
   "source": [
    "y = [0,0,1,1,2,2,2]\n",
    "y_hat = [0,0,1,2,2,2,1]\n",
    "print(classification_report(y,y_hat))"
   ]
  },
  {
   "cell_type": "markdown",
   "metadata": {},
   "source": [
    "##### ROC 커브"
   ]
  },
  {
   "cell_type": "code",
   "execution_count": 7,
   "metadata": {},
   "outputs": [],
   "source": [
    "from sklearn.datasets import make_classification"
   ]
  },
  {
   "cell_type": "code",
   "execution_count": 9,
   "metadata": {},
   "outputs": [],
   "source": [
    "x,y = make_classification(n_samples=16, n_features=2, n_informative=2, n_redundant=0, random_state=0)"
   ]
  },
  {
   "cell_type": "code",
   "execution_count": 10,
   "metadata": {},
   "outputs": [],
   "source": [
    "from sklearn.linear_model import LogisticRegression"
   ]
  },
  {
   "cell_type": "code",
   "execution_count": 12,
   "metadata": {},
   "outputs": [],
   "source": [
    "model = LogisticRegression().fit(x,y)"
   ]
  },
  {
   "cell_type": "code",
   "execution_count": 20,
   "metadata": {},
   "outputs": [],
   "source": [
    "y_hat = model.predict(x)\n",
    "function_value = model.decision_function(x) "
   ]
  },
  {
   "cell_type": "code",
   "execution_count": 18,
   "metadata": {},
   "outputs": [
    {
     "data": {
      "text/plain": [
       "array([[ 0.43912141,  0.56087859],\n",
       "       [ 0.18509228,  0.81490772],\n",
       "       [ 0.82148388,  0.17851612],\n",
       "       [ 0.26198789,  0.73801211],\n",
       "       [ 0.13453002,  0.86546998],\n",
       "       [ 0.98445817,  0.01554183],\n",
       "       [ 0.76007186,  0.23992814],\n",
       "       [ 0.79118225,  0.20881775],\n",
       "       [ 0.19031813,  0.80968187],\n",
       "       [ 0.64158246,  0.35841754],\n",
       "       [ 0.73648122,  0.26351878],\n",
       "       [ 0.70648747,  0.29351253],\n",
       "       [ 0.51574876,  0.48425124],\n",
       "       [ 0.19265931,  0.80734069],\n",
       "       [ 0.89799543,  0.10200457],\n",
       "       [ 0.10269543,  0.89730457]])"
      ]
     },
     "execution_count": 18,
     "metadata": {},
     "output_type": "execute_result"
    }
   ],
   "source": [
    "model.predict_proba(x)"
   ]
  },
  {
   "cell_type": "code",
   "execution_count": 19,
   "metadata": {},
   "outputs": [
    {
     "data": {
      "text/plain": [
       "array([1, 1, 0, 1, 1, 0, 0, 0, 1, 0, 0, 0, 0, 1, 0, 1])"
      ]
     },
     "execution_count": 19,
     "metadata": {},
     "output_type": "execute_result"
    }
   ],
   "source": [
    "model.predict(x)"
   ]
  },
  {
   "cell_type": "code",
   "execution_count": 28,
   "metadata": {
    "scrolled": true
   },
   "outputs": [
    {
     "data": {
      "text/plain": [
       "array([[ 0.24472855,  1.        ,  0.        ],\n",
       "       [ 1.48222034,  1.        ,  1.        ],\n",
       "       [-1.52643338,  0.        ,  0.        ],\n",
       "       [ 1.03566193,  1.        ,  1.        ],\n",
       "       [ 1.86148532,  1.        ,  1.        ],\n",
       "       [-4.14855612,  0.        ,  0.        ],\n",
       "       [-1.15307353,  0.        ,  0.        ],\n",
       "       [-1.33206647,  0.        ,  0.        ],\n",
       "       [ 1.44794439,  1.        ,  1.        ],\n",
       "       [-0.58223908,  0.        ,  0.        ],\n",
       "       [-1.02775912,  0.        ,  1.        ],\n",
       "       [-0.87838516,  0.        ,  0.        ],\n",
       "       [-0.06301587,  0.        ,  1.        ],\n",
       "       [ 1.43282233,  1.        ,  1.        ],\n",
       "       [-2.17514737,  0.        ,  0.        ],\n",
       "       [ 2.16762769,  1.        ,  1.        ]])"
      ]
     },
     "execution_count": 28,
     "metadata": {},
     "output_type": "execute_result"
    }
   ],
   "source": [
    "np.hstack([function_value.reshape(-1,1), y_hat.reshape(-1,1), y.reshape(-1,1)])"
   ]
  },
  {
   "cell_type": "markdown",
   "metadata": {},
   "source": [
    "그냥 hstack으로 하면 1행으로 합쳐짐...."
   ]
  },
  {
   "cell_type": "code",
   "execution_count": 30,
   "metadata": {},
   "outputs": [
    {
     "data": {
      "text/html": [
       "<div>\n",
       "<style scoped>\n",
       "    .dataframe tbody tr th:only-of-type {\n",
       "        vertical-align: middle;\n",
       "    }\n",
       "\n",
       "    .dataframe tbody tr th {\n",
       "        vertical-align: top;\n",
       "    }\n",
       "\n",
       "    .dataframe thead th {\n",
       "        text-align: right;\n",
       "    }\n",
       "</style>\n",
       "<table border=\"1\" class=\"dataframe\">\n",
       "  <thead>\n",
       "    <tr style=\"text-align: right;\">\n",
       "      <th></th>\n",
       "      <th>f</th>\n",
       "      <th>y_hat</th>\n",
       "      <th>y</th>\n",
       "    </tr>\n",
       "  </thead>\n",
       "  <tbody>\n",
       "    <tr>\n",
       "      <th>0</th>\n",
       "      <td>2.167628</td>\n",
       "      <td>1.0</td>\n",
       "      <td>1.0</td>\n",
       "    </tr>\n",
       "    <tr>\n",
       "      <th>1</th>\n",
       "      <td>1.861485</td>\n",
       "      <td>1.0</td>\n",
       "      <td>1.0</td>\n",
       "    </tr>\n",
       "    <tr>\n",
       "      <th>2</th>\n",
       "      <td>1.482220</td>\n",
       "      <td>1.0</td>\n",
       "      <td>1.0</td>\n",
       "    </tr>\n",
       "    <tr>\n",
       "      <th>3</th>\n",
       "      <td>1.447944</td>\n",
       "      <td>1.0</td>\n",
       "      <td>1.0</td>\n",
       "    </tr>\n",
       "    <tr>\n",
       "      <th>4</th>\n",
       "      <td>1.432822</td>\n",
       "      <td>1.0</td>\n",
       "      <td>1.0</td>\n",
       "    </tr>\n",
       "    <tr>\n",
       "      <th>5</th>\n",
       "      <td>1.035662</td>\n",
       "      <td>1.0</td>\n",
       "      <td>1.0</td>\n",
       "    </tr>\n",
       "    <tr>\n",
       "      <th>6</th>\n",
       "      <td>0.244729</td>\n",
       "      <td>1.0</td>\n",
       "      <td>0.0</td>\n",
       "    </tr>\n",
       "    <tr>\n",
       "      <th>7</th>\n",
       "      <td>-0.063016</td>\n",
       "      <td>0.0</td>\n",
       "      <td>1.0</td>\n",
       "    </tr>\n",
       "    <tr>\n",
       "      <th>8</th>\n",
       "      <td>-0.582239</td>\n",
       "      <td>0.0</td>\n",
       "      <td>0.0</td>\n",
       "    </tr>\n",
       "    <tr>\n",
       "      <th>9</th>\n",
       "      <td>-0.878385</td>\n",
       "      <td>0.0</td>\n",
       "      <td>0.0</td>\n",
       "    </tr>\n",
       "    <tr>\n",
       "      <th>10</th>\n",
       "      <td>-1.027759</td>\n",
       "      <td>0.0</td>\n",
       "      <td>1.0</td>\n",
       "    </tr>\n",
       "    <tr>\n",
       "      <th>11</th>\n",
       "      <td>-1.153074</td>\n",
       "      <td>0.0</td>\n",
       "      <td>0.0</td>\n",
       "    </tr>\n",
       "    <tr>\n",
       "      <th>12</th>\n",
       "      <td>-1.332066</td>\n",
       "      <td>0.0</td>\n",
       "      <td>0.0</td>\n",
       "    </tr>\n",
       "    <tr>\n",
       "      <th>13</th>\n",
       "      <td>-1.526433</td>\n",
       "      <td>0.0</td>\n",
       "      <td>0.0</td>\n",
       "    </tr>\n",
       "    <tr>\n",
       "      <th>14</th>\n",
       "      <td>-2.175147</td>\n",
       "      <td>0.0</td>\n",
       "      <td>0.0</td>\n",
       "    </tr>\n",
       "    <tr>\n",
       "      <th>15</th>\n",
       "      <td>-4.148556</td>\n",
       "      <td>0.0</td>\n",
       "      <td>0.0</td>\n",
       "    </tr>\n",
       "  </tbody>\n",
       "</table>\n",
       "</div>"
      ],
      "text/plain": [
       "           f  y_hat    y\n",
       "0   2.167628    1.0  1.0\n",
       "1   1.861485    1.0  1.0\n",
       "2   1.482220    1.0  1.0\n",
       "3   1.447944    1.0  1.0\n",
       "4   1.432822    1.0  1.0\n",
       "5   1.035662    1.0  1.0\n",
       "6   0.244729    1.0  0.0\n",
       "7  -0.063016    0.0  1.0\n",
       "8  -0.582239    0.0  0.0\n",
       "9  -0.878385    0.0  0.0\n",
       "10 -1.027759    0.0  1.0\n",
       "11 -1.153074    0.0  0.0\n",
       "12 -1.332066    0.0  0.0\n",
       "13 -1.526433    0.0  0.0\n",
       "14 -2.175147    0.0  0.0\n",
       "15 -4.148556    0.0  0.0"
      ]
     },
     "execution_count": 30,
     "metadata": {},
     "output_type": "execute_result"
    }
   ],
   "source": [
    "df = pd.DataFrame(np.hstack([function_value.reshape(-1,1), y_hat.reshape(-1,1), y.reshape(-1,1)]), columns=['f','y_hat','y'])\n",
    "df.sort_values(\"f\", ascending=False).reset_index(drop=True)"
   ]
  },
  {
   "cell_type": "code",
   "execution_count": 31,
   "metadata": {},
   "outputs": [],
   "source": [
    "from sklearn.metrics import roc_curve"
   ]
  },
  {
   "cell_type": "code",
   "execution_count": 32,
   "metadata": {},
   "outputs": [
    {
     "data": {
      "text/plain": [
       "(array([ 0.   ,  0.   ,  0.125,  0.125,  0.375,  0.375,  1.   ]),\n",
       " array([ 0.125,  0.75 ,  0.75 ,  0.875,  0.875,  1.   ,  1.   ]),\n",
       " array([ 2.16762769,  1.03566193,  0.24472855, -0.06301587, -0.87838516,\n",
       "        -1.02775912, -4.14855612]))"
      ]
     },
     "execution_count": 32,
     "metadata": {},
     "output_type": "execute_result"
    }
   ],
   "source": [
    "# fall-out, recall, threshold\n",
    "# threshold를 아래와 같이 바꿀 때마다 recall과 fall-out의 변화하는 모습을 보여줌.\n",
    "fpr, tpr, thresholds = roc_curve(y, model.decision_function(x))\n",
    "fpr, tpr, thresholds"
   ]
  },
  {
   "cell_type": "markdown",
   "metadata": {},
   "source": [
    "decision_function()을 제공하지 않는다면...아래와 같이 predict_proba()으로 적용가능"
   ]
  },
  {
   "cell_type": "code",
   "execution_count": 33,
   "metadata": {},
   "outputs": [
    {
     "data": {
      "text/plain": [
       "(array([ 0.   ,  0.   ,  0.125,  0.125,  0.375,  0.375,  1.   ]),\n",
       " array([ 0.125,  0.75 ,  0.75 ,  0.875,  0.875,  1.   ,  1.   ]),\n",
       " array([ 0.89730457,  0.73801211,  0.56087859,  0.48425124,  0.29351253,\n",
       "         0.26351878,  0.01554183]))"
      ]
     },
     "execution_count": 33,
     "metadata": {},
     "output_type": "execute_result"
    }
   ],
   "source": [
    "# 각 점이 class1에 속할 확률로 적용\n",
    "fpr1, tpr1, thresholds1 = roc_curve(y, model.predict_proba(x)[:,1]) \n",
    "fpr1, tpr1, thresholds1"
   ]
  },
  {
   "cell_type": "code",
   "execution_count": 44,
   "metadata": {},
   "outputs": [
    {
     "data": {
      "image/png": "[encoded data removed]",
      "text/plain": [
       "<matplotlib.figure.Figure at 0x2006c86ac18>"
      ]
     },
     "metadata": {},
     "output_type": "display_data"
    }
   ],
   "source": [
    "plt.plot(fpr, tpr, label=\"Logistic Regression\")\n",
    "plt.plot([0,1],[0,1], 'k--' ,label=\"random guess\") # 최악의 성능을 나타내는 직선\n",
    "plt.xlabel(\"False Positive Rate(fall-out)\")\n",
    "plt.ylabel(\"True Positive Rate(recall)\")\n",
    "plt.title(\"Use decision_function\")\n",
    "plt.legend()\n",
    "plt.show()"
   ]
  },
  {
   "cell_type": "code",
   "execution_count": 42,
   "metadata": {},
   "outputs": [
    {
     "data": {
      "image/png": "[encoded data removed]",
      "text/plain": [
       "<matplotlib.figure.Figure at 0x2006c833550>"
      ]
     },
     "metadata": {},
     "output_type": "display_data"
    }
   ],
   "source": [
    "plt.plot(fpr1, tpr1, label=\"Logistic Regression\")\n",
    "plt.plot([0,1],[0,1], 'k--', label=\"random guess\") # 최악의 성능을 나타내는 직선\n",
    "plt.xlabel(\"False Positive Rate(fall-out)\")\n",
    "plt.ylabel(\"True Positive Rate(recall)\")\n",
    "plt.title(\"No decision_function, Use predict_prob()\")\n",
    "plt.legend()\n",
    "plt.show()"
   ]
  },
  {
   "cell_type": "markdown",
   "metadata": {},
   "source": [
    "decision_function()을 쓰던, 없어서 predict_prob()을 쓰던\n",
    "\n",
    "threshold값들만 다를뿐 fall-out과 recall의 변화는 같다."
   ]
  },
  {
   "cell_type": "markdown",
   "metadata": {},
   "source": [
    "##### classification report가 비슷하게 나와도  ROC커브가 다르게 나타난다?!"
   ]
  },
  {
   "cell_type": "code",
   "execution_count": 45,
   "metadata": {},
   "outputs": [],
   "source": [
    "from sklearn.datasets import make_classification"
   ]
  },
  {
   "cell_type": "code",
   "execution_count": 78,
   "metadata": {},
   "outputs": [],
   "source": [
    "x, y = make_classification(n_samples=10000, weights=[0.9, 0.1], random_state=1)"
   ]
  },
  {
   "cell_type": "code",
   "execution_count": 47,
   "metadata": {},
   "outputs": [],
   "source": [
    "from sklearn.linear_model import LogisticRegression\n",
    "from sklearn.svm import SVC"
   ]
  },
  {
   "cell_type": "code",
   "execution_count": 48,
   "metadata": {},
   "outputs": [],
   "source": [
    "model1 = LogisticRegression().fit(x,y)\n",
    "y_hat1 = model1.predict(x)\n",
    "\n",
    "model2 = SVC(gamma=0.0026, C=10, probability=True).fit(x,y)\n",
    "y_hat2 = model2.predict(x)"
   ]
  },
  {
   "cell_type": "code",
   "execution_count": 49,
   "metadata": {},
   "outputs": [
    {
     "name": "stdout",
     "output_type": "stream",
     "text": [
      "             precision    recall  f1-score   support\n",
      "\n",
      "          0       0.96      0.99      0.97      8947\n",
      "          1       0.87      0.62      0.73      1053\n",
      "\n",
      "avg / total       0.95      0.95      0.95     10000\n",
      "\n"
     ]
    }
   ],
   "source": [
    "print(classification_report(y,y_hat1))"
   ]
  },
  {
   "cell_type": "code",
   "execution_count": 50,
   "metadata": {},
   "outputs": [
    {
     "name": "stdout",
     "output_type": "stream",
     "text": [
      "             precision    recall  f1-score   support\n",
      "\n",
      "          0       0.96      0.99      0.98      8947\n",
      "          1       0.93      0.62      0.74      1053\n",
      "\n",
      "avg / total       0.95      0.95      0.95     10000\n",
      "\n"
     ]
    }
   ],
   "source": [
    "print(classification_report(y,y_hat2))"
   ]
  },
  {
   "cell_type": "markdown",
   "metadata": {},
   "source": [
    "성능은 비슷하다..? 비슷한건가.."
   ]
  },
  {
   "cell_type": "code",
   "execution_count": 52,
   "metadata": {},
   "outputs": [],
   "source": [
    "fpr1, tpr1, thresholds1 = roc_curve(y, model1.decision_function(x))\n",
    "fpr2, tpr2, thresholds2 = roc_curve(y, model2.decision_function(x))"
   ]
  },
  {
   "cell_type": "code",
   "execution_count": 53,
   "metadata": {},
   "outputs": [
    {
     "data": {
      "image/png": "[encoded data removed]",
      "text/plain": [
       "<matplotlib.figure.Figure at 0x2006c8d1cf8>"
      ]
     },
     "metadata": {},
     "output_type": "display_data"
    }
   ],
   "source": [
    "plt.plot(fpr1, tpr1, label=\"Logistic Regression\")\n",
    "plt.plot(fpr2, tpr2, label=\"SVC\")\n",
    "plt.plot([0,1],[0,1], 'k--', label=\"random guess\")\n",
    "plt.xlabel(\"False Positive Rate(fall-out)\")\n",
    "plt.ylabel(\"True Positive Rate(recall)\")\n",
    "plt.title(\"Logistic vs SVC\")\n",
    "plt.legend()\n",
    "plt.show()"
   ]
  },
  {
   "cell_type": "markdown",
   "metadata": {},
   "source": [
    "왼쪽/위로 더 돌출된 SVC가 더 좋은 성능을 보인다. \n",
    "\n",
    "report에서 비슷하게 나온건 fall-out이 0.6정도 되는 구간인듯."
   ]
  },
  {
   "cell_type": "code",
   "execution_count": 61,
   "metadata": {},
   "outputs": [
    {
     "data": {
      "image/png": "[encoded data removed]",
      "text/plain": [
       "<matplotlib.figure.Figure at 0x2006c91cef0>"
      ]
     },
     "metadata": {},
     "output_type": "display_data"
    }
   ],
   "source": [
    "N = 500\n",
    "plt.figure(figsize=(8,5))\n",
    "plt.subplot(211)\n",
    "plt.plot(model1.decision_function(x[:N]) * 0.1 + 1)\n",
    "plt.plot(y[:N], 'o', alpha=0.5)\n",
    "plt.title(\"Logistic Regression\")\n",
    "\n",
    "plt.subplot(212)\n",
    "plt.plot(model2.decision_function(x[:N] + 1))\n",
    "plt.plot(y[:N], 'o', alpha=0.5)\n",
    "plt.title(\"SVC\")\n",
    "\n",
    "plt.xlabel(\"sample number\")\n",
    "plt.show()"
   ]
  },
  {
   "cell_type": "markdown",
   "metadata": {},
   "source": [
    "##### AUC\n",
    "- fall-out 대비 recall값이 클수록 1에 가까운 값이다. "
   ]
  },
  {
   "cell_type": "code",
   "execution_count": 62,
   "metadata": {},
   "outputs": [],
   "source": [
    "from sklearn.metrics import auc"
   ]
  },
  {
   "cell_type": "code",
   "execution_count": 64,
   "metadata": {},
   "outputs": [
    {
     "data": {
      "text/plain": [
       "(0.92278937981408082, 0.94863260918922032)"
      ]
     },
     "execution_count": 64,
     "metadata": {},
     "output_type": "execute_result"
    }
   ],
   "source": [
    "auc(fpr1, tpr1), auc(fpr2, tpr2)"
   ]
  },
  {
   "cell_type": "markdown",
   "metadata": {},
   "source": [
    "##### in multi-class 다중클래스에선...."
   ]
  },
  {
   "cell_type": "code",
   "execution_count": 67,
   "metadata": {},
   "outputs": [],
   "source": [
    "from sklearn.naive_bayes import GaussianNB\n",
    "from sklearn.datasets import load_iris\n",
    "from sklearn.preprocessing import label_binarize\n",
    "\n",
    "iris  = load_iris()\n",
    "x = iris.data\n",
    "y = label_binarize(iris.target, [0,1,2])"
   ]
  },
  {
   "cell_type": "code",
   "execution_count": 69,
   "metadata": {},
   "outputs": [],
   "source": [
    "fpr = [None] * 3\n",
    "tpr = [None] * 3\n",
    "thr = [None] * 3"
   ]
  },
  {
   "cell_type": "code",
   "execution_count": 76,
   "metadata": {},
   "outputs": [
    {
     "data": {
      "image/png": "[encoded data removed]",
      "text/plain": [
       "<matplotlib.figure.Figure at 0x2006c6e0358>"
      ]
     },
     "metadata": {},
     "output_type": "display_data"
    }
   ],
   "source": [
    "for i in range(3):\n",
    "    model = GaussianNB().fit(x,y[:,i])\n",
    "    fpr[i], tpr[i], thr[i] = roc_curve(y[:,i], model.predict_proba(x)[:,1])\n",
    "    plt.plot(fpr[i], tpr[i])\n",
    "plt.xlabel(\"False Positive Rate(fall-out)\")\n",
    "plt.ylabel(\"True Positive Rate(recall)\")\n",
    "plt.show()"
   ]
  },
  {
   "cell_type": "code",
   "execution_count": 74,
   "metadata": {},
   "outputs": [
    {
     "data": {
      "text/plain": [
       "array([[  6.84564194e-010,   9.99999999e-001],\n",
       "       [  3.91649152e-009,   9.99999996e-001],\n",
       "       [  1.02806340e-009,   9.99999999e-001],\n",
       "       [  2.70946461e-009,   9.99999997e-001],\n",
       "       [  2.95377047e-010,   1.00000000e+000],\n",
       "       [  3.63458246e-008,   9.99999964e-001],\n",
       "       [  9.94866861e-010,   9.99999999e-001],\n",
       "       [  1.31755066e-009,   9.99999999e-001],\n",
       "       [  3.95142012e-009,   9.99999996e-001],\n",
       "       [  4.01121911e-009,   9.99999996e-001],\n",
       "       [  1.36682030e-009,   9.99999999e-001],\n",
       "       [  1.84495787e-009,   9.99999998e-001],\n",
       "       [  3.15469153e-009,   9.99999997e-001],\n",
       "       [  4.97223219e-009,   9.99999995e-001],\n",
       "       [  1.98388395e-009,   9.99999998e-001],\n",
       "       [  1.30431513e-009,   9.99999999e-001],\n",
       "       [  2.96220437e-009,   9.99999997e-001],\n",
       "       [  1.60419028e-009,   9.99999998e-001],\n",
       "       [  7.59168776e-008,   9.99999924e-001],\n",
       "       [  4.95239342e-010,   1.00000000e+000],\n",
       "       [  4.43241746e-008,   9.99999956e-001],\n",
       "       [  4.70349984e-009,   9.99999995e-001],\n",
       "       [  6.03488406e-010,   9.99999999e-001],\n",
       "       [  3.06070877e-006,   9.99996939e-001],\n",
       "       [  1.37509569e-007,   9.99999862e-001],\n",
       "       [  1.77151135e-008,   9.99999982e-001],\n",
       "       [  3.65837324e-008,   9.99999963e-001],\n",
       "       [  1.58355864e-009,   9.99999998e-001],\n",
       "       [  1.64830999e-009,   9.99999998e-001],\n",
       "       [  4.14482465e-009,   9.99999996e-001],\n",
       "       [  7.39806117e-009,   9.99999993e-001],\n",
       "       [  8.34883875e-008,   9.99999917e-001],\n",
       "       [  4.83778118e-011,   1.00000000e+000],\n",
       "       [  7.07590259e-011,   1.00000000e+000],\n",
       "       [  4.01121911e-009,   9.99999996e-001],\n",
       "       [  2.22715423e-009,   9.99999998e-001],\n",
       "       [  3.78447123e-009,   9.99999996e-001],\n",
       "       [  4.01121911e-009,   9.99999996e-001],\n",
       "       [  2.30105707e-009,   9.99999998e-001],\n",
       "       [  1.80499677e-009,   9.99999998e-001],\n",
       "       [  1.01737315e-009,   9.99999999e-001],\n",
       "       [  5.49172963e-008,   9.99999945e-001],\n",
       "       [  9.70787675e-010,   9.99999999e-001],\n",
       "       [  7.76186407e-006,   9.99992238e-001],\n",
       "       [  4.37361426e-007,   9.99999563e-001],\n",
       "       [  7.54039347e-009,   9.99999992e-001],\n",
       "       [  4.65119387e-010,   1.00000000e+000],\n",
       "       [  1.09422276e-009,   9.99999999e-001],\n",
       "       [  8.35518330e-010,   9.99999999e-001],\n",
       "       [  1.34300375e-009,   9.99999999e-001],\n",
       "       [  1.00000000e+000,   6.22188980e-109],\n",
       "       [  1.00000000e+000,   5.29161319e-101],\n",
       "       [  1.00000000e+000,   4.86538242e-123],\n",
       "       [  1.00000000e+000,   2.50208110e-069],\n",
       "       [  1.00000000e+000,   8.88472423e-107],\n",
       "       [  1.00000000e+000,   6.50759985e-090],\n",
       "       [  1.00000000e+000,   1.14152548e-114],\n",
       "       [  1.00000000e+000,   3.32849815e-034],\n",
       "       [  1.00000000e+000,   4.36230276e-098],\n",
       "       [  1.00000000e+000,   8.87630091e-069],\n",
       "       [  1.00000000e+000,   1.24636097e-040],\n",
       "       [  1.00000000e+000,   1.97992496e-086],\n",
       "       [  1.00000000e+000,   3.70647880e-060],\n",
       "       [  1.00000000e+000,   8.76651223e-105],\n",
       "       [  1.00000000e+000,   1.05611860e-054],\n",
       "       [  1.00000000e+000,   1.24540410e-093],\n",
       "       [  1.00000000e+000,   2.47912404e-098],\n",
       "       [  1.00000000e+000,   1.14486428e-062],\n",
       "       [  1.00000000e+000,   1.34535483e-101],\n",
       "       [  1.00000000e+000,   5.06880011e-058],\n",
       "       [  1.00000000e+000,   2.62493122e-129],\n",
       "       [  1.00000000e+000,   1.28603145e-070],\n",
       "       [  1.00000000e+000,   8.61203146e-121],\n",
       "       [  1.00000000e+000,   1.27062655e-096],\n",
       "       [  1.00000000e+000,   8.55074834e-084],\n",
       "       [  1.00000000e+000,   2.88455636e-093],\n",
       "       [  1.00000000e+000,   2.86661038e-113],\n",
       "       [  1.00000000e+000,   1.13426379e-137],\n",
       "       [  1.00000000e+000,   8.00274875e-100],\n",
       "       [  1.00000000e+000,   1.93737212e-041],\n",
       "       [  1.00000000e+000,   2.64157216e-054],\n",
       "       [  1.00000000e+000,   1.32140231e-047],\n",
       "       [  1.00000000e+000,   5.75991324e-062],\n",
       "       [  1.00000000e+000,   1.02985601e-134],\n",
       "       [  1.00000000e+000,   7.92237634e-098],\n",
       "       [  1.00000000e+000,   6.26528164e-104],\n",
       "       [  1.00000000e+000,   4.94467141e-112],\n",
       "       [  1.00000000e+000,   1.84961912e-088],\n",
       "       [  1.00000000e+000,   1.98087957e-072],\n",
       "       [  1.00000000e+000,   4.42360982e-069],\n",
       "       [  1.00000000e+000,   2.98056609e-081],\n",
       "       [  1.00000000e+000,   6.64977504e-100],\n",
       "       [  1.00000000e+000,   7.81728776e-066],\n",
       "       [  1.00000000e+000,   1.95898463e-034],\n",
       "       [  1.00000000e+000,   6.31618874e-077],\n",
       "       [  1.00000000e+000,   9.68169495e-073],\n",
       "       [  1.00000000e+000,   6.75907781e-077],\n",
       "       [  1.00000000e+000,   7.03841903e-083],\n",
       "       [  1.00000000e+000,   8.45953299e-030],\n",
       "       [  1.00000000e+000,   4.65192290e-073],\n",
       "       [  1.00000000e+000,   1.64731087e-250],\n",
       "       [  1.00000000e+000,   2.27605267e-151],\n",
       "       [  1.00000000e+000,   6.23605566e-218],\n",
       "       [  1.00000000e+000,   2.52211539e-175],\n",
       "       [  1.00000000e+000,   2.97599943e-215],\n",
       "       [  1.00000000e+000,   2.81192628e-270],\n",
       "       [  1.00000000e+000,   2.75188334e-108],\n",
       "       [  1.00000000e+000,   6.12906138e-227],\n",
       "       [  1.00000000e+000,   2.47074717e-190],\n",
       "       [  1.00000000e+000,   1.09103517e-261],\n",
       "       [  1.00000000e+000,   6.03203541e-160],\n",
       "       [  1.00000000e+000,   9.08088772e-165],\n",
       "       [  1.00000000e+000,   2.54574785e-191],\n",
       "       [  1.00000000e+000,   1.40621761e-152],\n",
       "       [  1.00000000e+000,   2.21383670e-187],\n",
       "       [  1.00000000e+000,   4.12413021e-192],\n",
       "       [  1.00000000e+000,   3.81742143e-170],\n",
       "       [  1.00000000e+000,   4.04633135e-284],\n",
       "       [  1.00000000e+000,   1.54567659e-309],\n",
       "       [  1.00000000e+000,   5.08937150e-125],\n",
       "       [  1.00000000e+000,   1.84679294e-218],\n",
       "       [  1.00000000e+000,   1.01574870e-146],\n",
       "       [  1.00000000e+000,   4.53884442e-272],\n",
       "       [  1.00000000e+000,   8.65149103e-137],\n",
       "       [  1.00000000e+000,   2.93794036e-202],\n",
       "       [  1.00000000e+000,   3.09482199e-205],\n",
       "       [  1.00000000e+000,   3.35197171e-131],\n",
       "       [  1.00000000e+000,   1.97329115e-135],\n",
       "       [  1.00000000e+000,   1.71174024e-195],\n",
       "       [  1.00000000e+000,   1.83297407e-181],\n",
       "       [  1.00000000e+000,   3.32369234e-220],\n",
       "       [  1.00000000e+000,   1.47582233e-249],\n",
       "       [  1.00000000e+000,   9.99807951e-203],\n",
       "       [  1.00000000e+000,   9.47878503e-131],\n",
       "       [  1.00000000e+000,   6.10702137e-154],\n",
       "       [  1.00000000e+000,   2.05194839e-250],\n",
       "       [  1.00000000e+000,   1.10693245e-216],\n",
       "       [  1.00000000e+000,   1.82340408e-169],\n",
       "       [  1.00000000e+000,   4.74751871e-130],\n",
       "       [  1.00000000e+000,   6.63744956e-186],\n",
       "       [  1.00000000e+000,   2.53857954e-219],\n",
       "       [  1.00000000e+000,   4.42685509e-184],\n",
       "       [  1.00000000e+000,   2.27605267e-151],\n",
       "       [  1.00000000e+000,   1.64222229e-230],\n",
       "       [  1.00000000e+000,   2.32530605e-233],\n",
       "       [  1.00000000e+000,   1.68074261e-188],\n",
       "       [  1.00000000e+000,   2.37108019e-148],\n",
       "       [  1.00000000e+000,   9.89985180e-166],\n",
       "       [  1.00000000e+000,   1.78003806e-196],\n",
       "       [  1.00000000e+000,   4.55818703e-145]])"
      ]
     },
     "execution_count": 74,
     "metadata": {},
     "output_type": "execute_result"
    }
   ],
   "source": [
    "model.predict_proba(x)"
   ]
  },
  {
   "cell_type": "markdown",
   "metadata": {},
   "source": [
    "- decision_function() : 해당 데이터의 판별함수값(?)을 보여준다.\n",
    "- predict() : decision_function()값이 양수라면 1, 음수면 0로 y_hat을 구해준다.\n",
    "- predict_proba(): columns을 기준으로 개별데이터가 class0(column=0)에 속할 확률, class1(column=1)에 속할 확률을 보여줌. 큰값에 해당하는 걸 predict()로 뽑는다."
   ]
  },
  {
   "cell_type": "code",
   "execution_count": 81,
   "metadata": {},
   "outputs": [
    {
     "data": {
      "text/plain": [
       "array([[ 0.99732879,  0.00267121],\n",
       "       [ 0.99879266,  0.00120734],\n",
       "       [ 0.91814628,  0.08185372],\n",
       "       ..., \n",
       "       [ 0.99040301,  0.00959699],\n",
       "       [ 0.9919704 ,  0.0080296 ],\n",
       "       [ 0.9770772 ,  0.0229228 ]])"
      ]
     },
     "execution_count": 81,
     "metadata": {},
     "output_type": "execute_result"
    }
   ],
   "source": [
    "model1.predict_proba(x)"
   ]
  }
 ],
 "metadata": {
  "kernelspec": {
   "display_name": "Python 3",
   "language": "python",
   "name": "python3"
  },
  "language_info": {
   "codemirror_mode": {
    "name": "ipython",
    "version": 3
   },
   "file_extension": ".py",
   "mimetype": "text/x-python",
   "name": "python",
   "nbconvert_exporter": "python",
   "pygments_lexer": "ipython3",
   "version": "3.6.6"
  }
 },
 "nbformat": 4,
 "nbformat_minor": 2
}
