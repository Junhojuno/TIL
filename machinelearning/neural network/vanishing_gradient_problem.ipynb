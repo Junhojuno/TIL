{
 "cells": [
  {
   "cell_type": "markdown",
   "metadata": {},
   "source": [
    "### Vanishing Gradient Problem\n",
    "- hidden layer가 증가하면 accuracy 수렴속도가 줄어든다. but 성능(performance)은 높아진다 : 좀 더 과최적화된다고 볼 수 있다.\n",
    "- (hidden layer가 2 이상일때 앞단의 hidden layer는 다른 hidden layer에 비해 weight의 변화 정도가 적다.)\n",
    "- 하지만, layer를 너무 늘려서 parameter의 갯수가 too much로 많아져버리면 오히려 성능이 떨어진다. (gradient=0이 되면서 gradient가 소멸한다)\n",
    "- 이러한 gradient의 소멸문제는 신경망 성능 개선을 통해 해결한다."
   ]
  },
  {
   "cell_type": "code",
   "execution_count": null,
   "metadata": {},
   "outputs": [],
   "source": []
  },
  {
   "cell_type": "code",
   "execution_count": null,
   "metadata": {},
   "outputs": [],
   "source": []
  }
 ],
 "metadata": {
  "kernelspec": {
   "display_name": "Python 3",
   "language": "python",
   "name": "python3"
  },
  "language_info": {
   "codemirror_mode": {
    "name": "ipython",
    "version": 3
   },
   "file_extension": ".py",
   "mimetype": "text/x-python",
   "name": "python",
   "nbconvert_exporter": "python",
   "pygments_lexer": "ipython3",
   "version": "3.6.6"
  }
 },
 "nbformat": 4,
 "nbformat_minor": 2
}
