{
 "cells": [
  {
   "cell_type": "code",
   "execution_count": 1,
   "metadata": {},
   "outputs": [
    {
     "name": "stderr",
     "output_type": "stream",
     "text": [
      "Using TensorFlow backend.\n"
     ]
    }
   ],
   "source": [
    "from keras.datasets import mnist\n",
    "from keras.utils import np_utils\n",
    "\n",
    "(X_train0, y_train0), (X_test0, y_test0) = mnist.load_data()\n",
    "\n",
    "# multi dimension을 가정하기 때문에 60000,28,28,1)로 만들어줘야함\n",
    "X_train = X_train0[:, :, :, np.newaxis].astype('float32') / 255.0 \n",
    "X_test = X_test0[:, :, :, np.newaxis].astype('float32') / 255.0\n",
    "Y_train = np_utils.to_categorical(y_train0, 10)\n",
    "Y_test = np_utils.to_categorical(y_test0, 10)"
   ]
  },
  {
   "cell_type": "code",
   "execution_count": 2,
   "metadata": {},
   "outputs": [
    {
     "data": {
      "text/plain": [
       "(60000, 28, 28, 1)"
      ]
     },
     "execution_count": 2,
     "metadata": {},
     "output_type": "execute_result"
    }
   ],
   "source": [
    "X_train.shape"
   ]
  },
  {
   "cell_type": "code",
   "execution_count": 3,
   "metadata": {},
   "outputs": [],
   "source": [
    "from keras.models import Sequential\n",
    "from keras.layers import Conv2D, MaxPooling2D, Flatten, Dense, Dropout\n",
    "from keras.optimizers import Adadelta\n",
    "from keras.regularizers import l2\n",
    "\n",
    "\n",
    "model1 = Sequential()\n",
    "\n",
    "# 5X5 feature를 4개 쓰겠다!\n",
    "model1.add(Conv2D(4, (5, 5), activation='relu', input_shape=(28, 28, 1), kernel_initializer=\"glorot_uniform\"))\n",
    "model1.add(MaxPooling2D())\n",
    "# 마지막 파이벡터를 만드는 명령어 Flatten()\n",
    "model1.add(Flatten())\n",
    "model1.add(Dense(10, activation='softmax', kernel_initializer=\"glorot_uniform\"))\n",
    "\n",
    "np.random.seed(0)\n",
    "model1.compile(loss='categorical_crossentropy', metrics=['accuracy'], optimizer=Adadelta())"
   ]
  },
  {
   "cell_type": "code",
   "execution_count": 4,
   "metadata": {},
   "outputs": [
    {
     "name": "stdout",
     "output_type": "stream",
     "text": [
      "_________________________________________________________________\n",
      "Layer (type)                 Output Shape              Param #   \n",
      "=================================================================\n",
      "conv2d_1 (Conv2D)            (None, 24, 24, 4)         104       \n",
      "_________________________________________________________________\n",
      "max_pooling2d_1 (MaxPooling2 (None, 12, 12, 4)         0         \n",
      "_________________________________________________________________\n",
      "flatten_1 (Flatten)          (None, 576)               0         \n",
      "_________________________________________________________________\n",
      "dense_1 (Dense)              (None, 10)                5770      \n",
      "=================================================================\n",
      "Total params: 5,874\n",
      "Trainable params: 5,874\n",
      "Non-trainable params: 0\n",
      "_________________________________________________________________\n"
     ]
    }
   ],
   "source": [
    "model1.summary()"
   ]
  },
  {
   "cell_type": "code",
   "execution_count": 5,
   "metadata": {},
   "outputs": [
    {
     "name": "stdout",
     "output_type": "stream",
     "text": [
      "Train on 60000 samples, validate on 10000 samples\n",
      "Epoch 1/10\n",
      " - 11s - loss: 0.8288 - acc: 0.7487 - val_loss: 0.4039 - val_acc: 0.8804\n",
      "Epoch 2/10\n",
      " - 11s - loss: 0.3558 - acc: 0.8960 - val_loss: 0.3317 - val_acc: 0.9018\n",
      "Epoch 3/10\n",
      " - 11s - loss: 0.3074 - acc: 0.9105 - val_loss: 0.2709 - val_acc: 0.9225\n",
      "Epoch 4/10\n",
      " - 11s - loss: 0.2692 - acc: 0.9227 - val_loss: 0.2329 - val_acc: 0.9351\n",
      "Epoch 5/10\n",
      " - 11s - loss: 0.2344 - acc: 0.9339 - val_loss: 0.2061 - val_acc: 0.9429\n",
      "Epoch 6/10\n",
      " - 11s - loss: 0.2066 - acc: 0.9413 - val_loss: 0.1820 - val_acc: 0.9497\n",
      "Epoch 7/10\n",
      " - 11s - loss: 0.1839 - acc: 0.9482 - val_loss: 0.1658 - val_acc: 0.9527\n",
      "Epoch 8/10\n",
      " - 12s - loss: 0.1670 - acc: 0.9537 - val_loss: 0.1482 - val_acc: 0.9578\n",
      "Epoch 9/10\n",
      " - 12s - loss: 0.1532 - acc: 0.9572 - val_loss: 0.1392 - val_acc: 0.9608\n",
      "Epoch 10/10\n",
      " - 12s - loss: 0.1418 - acc: 0.9602 - val_loss: 0.1247 - val_acc: 0.9626\n"
     ]
    }
   ],
   "source": [
    "hist1 = model1.fit(X_train, Y_train, epochs=10, batch_size=600, validation_data=(X_test, Y_test), verbose=2)"
   ]
  },
  {
   "cell_type": "code",
   "execution_count": 6,
   "metadata": {},
   "outputs": [
    {
     "data": {
      "image/png": "[encoded data removed]",
      "text/plain": [
       "<Figure size 432x288 with 1 Axes>"
      ]
     },
     "metadata": {},
     "output_type": "display_data"
    }
   ],
   "source": [
    "plt.plot(hist1.history['acc'], 'b-', label=\"training\")\n",
    "plt.plot(hist1.history['val_acc'], 'r:', label=\"test\")\n",
    "plt.legend()\n",
    "plt.show()"
   ]
  },
  {
   "cell_type": "markdown",
   "metadata": {},
   "source": [
    "#### mnist fashion image"
   ]
  },
  {
   "cell_type": "code",
   "execution_count": 8,
   "metadata": {},
   "outputs": [
    {
     "name": "stdout",
     "output_type": "stream",
     "text": [
      "Downloading data from http://fashion-mnist.s3-website.eu-central-1.amazonaws.com/train-labels-idx1-ubyte.gz\n",
      "32768/29515 [=================================] - 1s 25us/step\n",
      "Downloading data from http://fashion-mnist.s3-website.eu-central-1.amazonaws.com/train-images-idx3-ubyte.gz\n",
      "26427392/26421880 [==============================] - 34s 1us/step\n",
      "Downloading data from http://fashion-mnist.s3-website.eu-central-1.amazonaws.com/t10k-labels-idx1-ubyte.gz\n",
      "8192/5148 [===============================================] - 0s 0us/step\n",
      "Downloading data from http://fashion-mnist.s3-website.eu-central-1.amazonaws.com/t10k-images-idx3-ubyte.gz\n",
      "4423680/4422102 [==============================] - 11s 3us/step\n"
     ]
    }
   ],
   "source": [
    "from keras.datasets import fashion_mnist\n",
    "\n",
    "(X_train0, y_train0), (X_test0, y_test0) = fashion_mnist.load_data()\n",
    "\n",
    "# multi dimension을 가정하기 때문에 60000,28,28,1)로 만들어줘야함\n",
    "X_train = X_train0[:, :, :, np.newaxis].astype('float32') / 255.0 \n",
    "X_test = X_test0[:, :, :, np.newaxis].astype('float32') / 255.0\n",
    "Y_train = np_utils.to_categorical(y_train0, 10)\n",
    "Y_test = np_utils.to_categorical(y_test0, 10)"
   ]
  },
  {
   "cell_type": "code",
   "execution_count": 9,
   "metadata": {},
   "outputs": [
    {
     "data": {
      "text/plain": [
       "((60000, 28, 28, 1), (10000, 28, 28, 1))"
      ]
     },
     "execution_count": 9,
     "metadata": {},
     "output_type": "execute_result"
    }
   ],
   "source": [
    "X_train.shape, X_test.shape"
   ]
  },
  {
   "cell_type": "code",
   "execution_count": 14,
   "metadata": {},
   "outputs": [],
   "source": [
    "from keras.models import Sequential\n",
    "from keras.layers import Conv2D, MaxPooling2D, Flatten, Dense, Dropout\n",
    "from keras.optimizers import Adadelta\n",
    "from keras.regularizers import l2\n",
    "\n",
    "\n",
    "model2 = Sequential()\n",
    "model2.add(Conv2D(4, (5, 5), activation='relu', input_shape=(28, 28, 1), kernel_initializer=\"glorot_uniform\"))\n",
    "model2.add(MaxPooling2D())\n",
    "model2.add(Flatten())\n",
    "model2.add(Dense(10, activation='softmax', kernel_initializer=\"glorot_uniform\"))\n",
    "\n",
    "np.random.seed(0)\n",
    "model2.compile(loss='categorical_crossentropy', metrics=['accuracy'], optimizer=Adadelta())"
   ]
  },
  {
   "cell_type": "code",
   "execution_count": 15,
   "metadata": {},
   "outputs": [
    {
     "name": "stdout",
     "output_type": "stream",
     "text": [
      "_________________________________________________________________\n",
      "Layer (type)                 Output Shape              Param #   \n",
      "=================================================================\n",
      "conv2d_3 (Conv2D)            (None, 24, 24, 4)         104       \n",
      "_________________________________________________________________\n",
      "max_pooling2d_3 (MaxPooling2 (None, 12, 12, 4)         0         \n",
      "_________________________________________________________________\n",
      "flatten_3 (Flatten)          (None, 576)               0         \n",
      "_________________________________________________________________\n",
      "dense_3 (Dense)              (None, 10)                5770      \n",
      "=================================================================\n",
      "Total params: 5,874\n",
      "Trainable params: 5,874\n",
      "Non-trainable params: 0\n",
      "_________________________________________________________________\n"
     ]
    }
   ],
   "source": [
    "model2.summary()"
   ]
  },
  {
   "cell_type": "code",
   "execution_count": 16,
   "metadata": {},
   "outputs": [
    {
     "name": "stdout",
     "output_type": "stream",
     "text": [
      "Train on 60000 samples, validate on 10000 samples\n",
      "Epoch 1/20\n",
      " - 11s - loss: 1.0134 - acc: 0.6651 - val_loss: 0.6946 - val_acc: 0.7460\n",
      "Epoch 2/20\n",
      " - 11s - loss: 0.6398 - acc: 0.7707 - val_loss: 0.6011 - val_acc: 0.7808\n",
      "Epoch 3/20\n",
      " - 11s - loss: 0.5573 - acc: 0.8010 - val_loss: 0.5374 - val_acc: 0.8096\n",
      "Epoch 4/20\n",
      " - 11s - loss: 0.5105 - acc: 0.8178 - val_loss: 0.5166 - val_acc: 0.8129\n",
      "Epoch 5/20\n",
      " - 11s - loss: 0.4844 - acc: 0.8288 - val_loss: 0.5127 - val_acc: 0.8074\n",
      "Epoch 6/20\n",
      " - 11s - loss: 0.4656 - acc: 0.8358 - val_loss: 0.4792 - val_acc: 0.8282\n",
      "Epoch 7/20\n",
      " - 12s - loss: 0.4515 - acc: 0.8416 - val_loss: 0.4593 - val_acc: 0.8367\n",
      "Epoch 8/20\n",
      " - 11s - loss: 0.4384 - acc: 0.8475 - val_loss: 0.4535 - val_acc: 0.8423\n",
      "Epoch 9/20\n",
      " - 11s - loss: 0.4284 - acc: 0.8504 - val_loss: 0.4447 - val_acc: 0.8401\n",
      "Epoch 10/20\n",
      " - 12s - loss: 0.4199 - acc: 0.8533 - val_loss: 0.4399 - val_acc: 0.8447\n",
      "Epoch 11/20\n",
      " - 12s - loss: 0.4124 - acc: 0.8566 - val_loss: 0.4261 - val_acc: 0.8492\n",
      "Epoch 12/20\n",
      " - 12s - loss: 0.4035 - acc: 0.8603 - val_loss: 0.4195 - val_acc: 0.8522\n",
      "Epoch 13/20\n",
      " - 12s - loss: 0.3978 - acc: 0.8612 - val_loss: 0.4213 - val_acc: 0.8468\n",
      "Epoch 14/20\n",
      " - 12s - loss: 0.3920 - acc: 0.8628 - val_loss: 0.4136 - val_acc: 0.8517\n",
      "Epoch 15/20\n",
      " - 12s - loss: 0.3862 - acc: 0.8659 - val_loss: 0.4283 - val_acc: 0.8442\n",
      "Epoch 16/20\n",
      " - 12s - loss: 0.3802 - acc: 0.8673 - val_loss: 0.4112 - val_acc: 0.8517\n",
      "Epoch 17/20\n",
      " - 12s - loss: 0.3779 - acc: 0.8673 - val_loss: 0.3951 - val_acc: 0.8568\n",
      "Epoch 18/20\n",
      " - 12s - loss: 0.3722 - acc: 0.8691 - val_loss: 0.4016 - val_acc: 0.8546\n",
      "Epoch 19/20\n",
      " - 12s - loss: 0.3699 - acc: 0.8702 - val_loss: 0.3985 - val_acc: 0.8590\n",
      "Epoch 20/20\n",
      " - 12s - loss: 0.3655 - acc: 0.8729 - val_loss: 0.3960 - val_acc: 0.8564\n"
     ]
    }
   ],
   "source": [
    "hist2 = model2.fit(X_train, Y_train, epochs=20, batch_size=600, validation_data=(X_test, Y_test), verbose=2)"
   ]
  },
  {
   "cell_type": "code",
   "execution_count": 13,
   "metadata": {},
   "outputs": [
    {
     "data": {
      "image/png": "[encoded data removed]",
      "text/plain": [
       "<Figure size 432x288 with 1 Axes>"
      ]
     },
     "metadata": {},
     "output_type": "display_data"
    }
   ],
   "source": [
    "# epochs = 10\n",
    "plt.plot(hist2.history['acc'], 'b-', label=\"training\")\n",
    "plt.plot(hist2.history['val_acc'], 'r:', label=\"test\")\n",
    "plt.legend()\n",
    "plt.show()"
   ]
  },
  {
   "cell_type": "code",
   "execution_count": 17,
   "metadata": {},
   "outputs": [
    {
     "data": {
      "image/png": "[encoded data removed]",
      "text/plain": [
       "<Figure size 432x288 with 1 Axes>"
      ]
     },
     "metadata": {},
     "output_type": "display_data"
    }
   ],
   "source": [
    "# epochs = 20\n",
    "plt.plot(hist2.history['acc'], 'b-', label=\"training\")\n",
    "plt.plot(hist2.history['val_acc'], 'r:', label=\"test\")\n",
    "plt.legend()\n",
    "plt.show()"
   ]
  },
  {
   "cell_type": "code",
   "execution_count": 25,
   "metadata": {},
   "outputs": [],
   "source": [
    "np.random.seed(0)\n",
    "\n",
    "model3 = Sequential()\n",
    "\n",
    "model3.add(Conv2D(4, (5, 5), activation='relu', input_shape=(28, 28, 1), kernel_initializer=\"glorot_uniform\"))\n",
    "model3.add(MaxPooling2D())\n",
    "model3.add(Conv2D(4, (5, 5), activation='relu', kernel_initializer=\"glorot_uniform\"))\n",
    "model3.add(MaxPooling2D())\n",
    "model3.add(Flatten())\n",
    "model3.add(Dense(10, activation='softmax', kernel_initializer=\"glorot_uniform\"))\n",
    "model3.compile(loss='categorical_crossentropy', metrics=['accuracy'], optimizer=Adadelta())"
   ]
  },
  {
   "cell_type": "code",
   "execution_count": 26,
   "metadata": {},
   "outputs": [
    {
     "name": "stdout",
     "output_type": "stream",
     "text": [
      "Train on 60000 samples, validate on 10000 samples\n",
      "Epoch 1/10\n",
      " - 13s - loss: 1.2832 - acc: 0.5554 - val_loss: 0.7593 - val_acc: 0.7159\n",
      "Epoch 2/10\n",
      " - 13s - loss: 0.6818 - acc: 0.7482 - val_loss: 0.6313 - val_acc: 0.7699\n",
      "Epoch 3/10\n",
      " - 13s - loss: 0.5989 - acc: 0.7806 - val_loss: 0.5959 - val_acc: 0.7848\n",
      "Epoch 4/10\n",
      " - 13s - loss: 0.5562 - acc: 0.7977 - val_loss: 0.5581 - val_acc: 0.8011\n",
      "Epoch 5/10\n",
      " - 14s - loss: 0.5304 - acc: 0.8090 - val_loss: 0.5416 - val_acc: 0.8077\n",
      "Epoch 6/10\n",
      " - 15s - loss: 0.5127 - acc: 0.8167 - val_loss: 0.5191 - val_acc: 0.8124\n",
      "Epoch 7/10\n",
      " - 14s - loss: 0.4986 - acc: 0.8222 - val_loss: 0.5111 - val_acc: 0.8193\n",
      "Epoch 8/10\n",
      " - 14s - loss: 0.4879 - acc: 0.8257 - val_loss: 0.5069 - val_acc: 0.8196\n",
      "Epoch 9/10\n",
      " - 14s - loss: 0.4795 - acc: 0.8282 - val_loss: 0.5013 - val_acc: 0.8188\n",
      "Epoch 10/10\n",
      " - 14s - loss: 0.4716 - acc: 0.8323 - val_loss: 0.4878 - val_acc: 0.8260\n"
     ]
    }
   ],
   "source": [
    "hist3 = model3.fit(X_train, Y_train, epochs=10, batch_size=600, validation_data=(X_test, Y_test), verbose=2)"
   ]
  },
  {
   "cell_type": "code",
   "execution_count": 27,
   "metadata": {},
   "outputs": [
    {
     "data": {
      "image/png": "[encoded data removed]",
      "text/plain": [
       "<Figure size 432x288 with 1 Axes>"
      ]
     },
     "metadata": {},
     "output_type": "display_data"
    }
   ],
   "source": [
    "# epochs = 10\n",
    "plt.plot(hist3.history['acc'], 'b-', label=\"training\")\n",
    "plt.plot(hist3.history['val_acc'], 'r:', label='test')\n",
    "plt.legend()\n",
    "plt.show()"
   ]
  },
  {
   "cell_type": "code",
   "execution_count": 23,
   "metadata": {},
   "outputs": [
    {
     "data": {
      "image/png": "[encoded data removed]",
      "text/plain": [
       "<Figure size 432x288 with 1 Axes>"
      ]
     },
     "metadata": {},
     "output_type": "display_data"
    }
   ],
   "source": [
    "# epochs = 20\n",
    "plt.plot(hist3.history['acc'], 'b-', label=\"training\")\n",
    "plt.plot(hist3.history['val_acc'], 'r:', label='test')\n",
    "plt.legend()\n",
    "plt.show()"
   ]
  },
  {
   "cell_type": "code",
   "execution_count": 28,
   "metadata": {},
   "outputs": [],
   "source": [
    "from keras.applications.vgg16 import VGG16, decode_predictions"
   ]
  },
  {
   "cell_type": "code",
   "execution_count": 30,
   "metadata": {},
   "outputs": [
    {
     "name": "stdout",
     "output_type": "stream",
     "text": [
      "Downloading data from https://github.com/fchollet/deep-learning-models/releases/download/v0.1/vgg16_weights_tf_dim_ordering_tf_kernels.h5\n",
      "553467904/553467096 [==============================] - 1764s 3us/step\n"
     ]
    }
   ],
   "source": [
    "model = VGG16()"
   ]
  },
  {
   "cell_type": "code",
   "execution_count": 31,
   "metadata": {},
   "outputs": [],
   "source": [
    "model.compile(loss='categorical_crossentropy', optimizer='adadelta', metrics=[\"accuracy\"])"
   ]
  },
  {
   "cell_type": "markdown",
   "metadata": {},
   "source": [
    "이후 pickle이 실행되지 않음"
   ]
  }
 ],
 "metadata": {
  "kernelspec": {
   "display_name": "Python 3",
   "language": "python",
   "name": "python3"
  },
  "language_info": {
   "codemirror_mode": {
    "name": "ipython",
    "version": 3
   },
   "file_extension": ".py",
   "mimetype": "text/x-python",
   "name": "python",
   "nbconvert_exporter": "python",
   "pygments_lexer": "ipython3",
   "version": "3.6.6"
  }
 },
 "nbformat": 4,
 "nbformat_minor": 2
}
