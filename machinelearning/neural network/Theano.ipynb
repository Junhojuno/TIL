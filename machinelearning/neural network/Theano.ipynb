{
 "cells": [
  {
   "cell_type": "code",
   "execution_count": 1,
   "metadata": {},
   "outputs": [],
   "source": [
    "import os"
   ]
  },
  {
   "cell_type": "code",
   "execution_count": 2,
   "metadata": {},
   "outputs": [],
   "source": [
    "os.environ['MKL_THREADING_LAYER'] = 'GNU'"
   ]
  },
  {
   "cell_type": "code",
   "execution_count": 3,
   "metadata": {
    "scrolled": false
   },
   "outputs": [],
   "source": [
    "import theano"
   ]
  },
  {
   "cell_type": "code",
   "execution_count": 4,
   "metadata": {},
   "outputs": [],
   "source": [
    "import theano.tensor as T"
   ]
  },
  {
   "cell_type": "markdown",
   "metadata": {},
   "source": [
    "### Theano \n",
    "1. 심볼 변수 정의\n",
    "2. 심볼 관계 정의\n",
    "3. 심볼 함수 정의\n",
    "4. 심볼 함수 사용"
   ]
  },
  {
   "cell_type": "markdown",
   "metadata": {},
   "source": [
    "#### 1. 심볼 변수 정의\n",
    "- dscalar : 스칼라 정의\n",
    "- vector : 벡터 정의\n",
    "- dmatrix : 매트릭스 정의"
   ]
  },
  {
   "cell_type": "code",
   "execution_count": 5,
   "metadata": {},
   "outputs": [],
   "source": [
    "x1 = T.dscalar('x1')\n",
    "y1 = T.dscalar('y1')"
   ]
  },
  {
   "cell_type": "code",
   "execution_count": 6,
   "metadata": {},
   "outputs": [
    {
     "data": {
      "text/plain": [
       "(theano.tensor.var.TensorVariable, theano.tensor.var.TensorVariable)"
      ]
     },
     "execution_count": 6,
     "metadata": {},
     "output_type": "execute_result"
    }
   ],
   "source": [
    "type(x1), type(y1)"
   ]
  },
  {
   "cell_type": "code",
   "execution_count": 7,
   "metadata": {},
   "outputs": [
    {
     "data": {
      "text/plain": [
       "(theano.tensor.var.TensorVariable, theano.tensor.var.TensorVariable)"
      ]
     },
     "execution_count": 7,
     "metadata": {},
     "output_type": "execute_result"
    }
   ],
   "source": [
    "x2 = T.dvector('x2')\n",
    "y2 = T.dvector('y2')\n",
    "type(x2), type(y2)"
   ]
  },
  {
   "cell_type": "code",
   "execution_count": 8,
   "metadata": {},
   "outputs": [
    {
     "data": {
      "text/plain": [
       "(theano.tensor.var.TensorVariable, theano.tensor.var.TensorVariable)"
      ]
     },
     "execution_count": 8,
     "metadata": {},
     "output_type": "execute_result"
    }
   ],
   "source": [
    "x3 = T.dmatrix('x3')\n",
    "y3 = T.dmatrix('y3')\n",
    "type(x3), type(y3)"
   ]
  },
  {
   "cell_type": "markdown",
   "metadata": {},
   "source": [
    "#### 2. 심볼 관계 정의"
   ]
  },
  {
   "cell_type": "code",
   "execution_count": 9,
   "metadata": {},
   "outputs": [
    {
     "data": {
      "text/plain": [
       "theano.tensor.var.TensorVariable"
      ]
     },
     "execution_count": 9,
     "metadata": {},
     "output_type": "execute_result"
    }
   ],
   "source": [
    "z1 = x1 + y1\n",
    "type(z1)"
   ]
  },
  {
   "cell_type": "code",
   "execution_count": 10,
   "metadata": {},
   "outputs": [
    {
     "data": {
      "text/plain": [
       "theano.tensor.var.TensorVariable"
      ]
     },
     "execution_count": 10,
     "metadata": {},
     "output_type": "execute_result"
    }
   ],
   "source": [
    "u1 = T.exp(z1)\n",
    "type(u1)"
   ]
  },
  {
   "cell_type": "code",
   "execution_count": 11,
   "metadata": {},
   "outputs": [
    {
     "data": {
      "text/plain": [
       "theano.tensor.var.TensorVariable"
      ]
     },
     "execution_count": 11,
     "metadata": {},
     "output_type": "execute_result"
    }
   ],
   "source": [
    "z2 = T.dot(x2,y2)\n",
    "type(z2)"
   ]
  },
  {
   "cell_type": "code",
   "execution_count": 12,
   "metadata": {},
   "outputs": [
    {
     "data": {
      "text/plain": [
       "theano.tensor.var.TensorVariable"
      ]
     },
     "execution_count": 12,
     "metadata": {},
     "output_type": "execute_result"
    }
   ],
   "source": [
    "z3 = T.sum(x3) + T.sum(y3)\n",
    "type(z3)"
   ]
  },
  {
   "cell_type": "markdown",
   "metadata": {},
   "source": [
    "##### *심볼 프린트"
   ]
  },
  {
   "cell_type": "code",
   "execution_count": 13,
   "metadata": {},
   "outputs": [
    {
     "data": {
      "text/plain": [
       "'x1'"
      ]
     },
     "execution_count": 13,
     "metadata": {},
     "output_type": "execute_result"
    }
   ],
   "source": [
    "theano.printing.pprint(x1)"
   ]
  },
  {
   "cell_type": "code",
   "execution_count": 14,
   "metadata": {},
   "outputs": [
    {
     "data": {
      "text/plain": [
       "'y1'"
      ]
     },
     "execution_count": 14,
     "metadata": {},
     "output_type": "execute_result"
    }
   ],
   "source": [
    "theano.printing.pprint(y1)"
   ]
  },
  {
   "cell_type": "code",
   "execution_count": 15,
   "metadata": {},
   "outputs": [
    {
     "data": {
      "text/plain": [
       "'exp((x1 + y1))'"
      ]
     },
     "execution_count": 15,
     "metadata": {},
     "output_type": "execute_result"
    }
   ],
   "source": [
    "theano.printing.pprint(u1)"
   ]
  },
  {
   "cell_type": "code",
   "execution_count": 16,
   "metadata": {},
   "outputs": [
    {
     "data": {
      "text/plain": [
       "'(x2 \\\\dot y2)'"
      ]
     },
     "execution_count": 16,
     "metadata": {},
     "output_type": "execute_result"
    }
   ],
   "source": [
    "theano.printing.pprint(z2)"
   ]
  },
  {
   "cell_type": "code",
   "execution_count": 17,
   "metadata": {},
   "outputs": [],
   "source": [
    "from IPython.display import SVG"
   ]
  },
  {
   "cell_type": "code",
   "execution_count": 18,
   "metadata": {},
   "outputs": [
    {
     "data": {
      "image/svg+xml": [
       "<svg height=\"204pt\" viewBox=\"0.00 0.00 480.00 204.00\" width=\"480pt\" xmlns=\"http://www.w3.org/2000/svg\" xmlns:xlink=\"http://www.w3.org/1999/xlink\">\n",
       "<g class=\"graph\" id=\"graph0\" transform=\"scale(1 1) rotate(0) translate(4 200)\">\n",
       "<title>G</title>\n",
       "<polygon fill=\"white\" points=\"-4,4 -4,-200 476,-200 476,4 -4,4\" stroke=\"none\"/>\n",
       "<!-- 2365207632136 -->\n",
       "<g class=\"node\" id=\"node1\"><title>2365207632136</title>\n",
       "<ellipse cx=\"235.5\" cy=\"-91\" fill=\"#ffaabb\" rx=\"109.381\" ry=\"18\" stroke=\"black\"/>\n",
       "<text font-family=\"Times New Roman,serif\" font-size=\"14.00\" text-anchor=\"middle\" x=\"235.5\" y=\"-87.3\">Elemwise{add,no_inplace}</text>\n",
       "</g>\n",
       "<!-- 2365207632304 -->\n",
       "<g class=\"node\" id=\"node4\"><title>2365207632304</title>\n",
       "<polygon fill=\"blue\" points=\"322,-36 149,-36 149,-0 322,-0 322,-36\" stroke=\"black\"/>\n",
       "<text font-family=\"Times New Roman,serif\" font-size=\"14.00\" text-anchor=\"middle\" x=\"235.5\" y=\"-14.3\">TensorType(float64, scalar)</text>\n",
       "</g>\n",
       "<!-- 2365207632136&#45;&gt;2365207632304 -->\n",
       "<g class=\"edge\" id=\"edge3\"><title>2365207632136-&gt;2365207632304</title>\n",
       "<path d=\"M235.5,-72.8129C235.5,-64.7895 235.5,-55.0475 235.5,-46.0691\" fill=\"none\" stroke=\"black\"/>\n",
       "<polygon fill=\"black\" points=\"239,-46.0288 235.5,-36.0288 232,-46.0289 239,-46.0288\" stroke=\"black\"/>\n",
       "</g>\n",
       "<!-- 2365207631800 -->\n",
       "<g class=\"node\" id=\"node2\"><title>2365207631800</title>\n",
       "<polygon fill=\"green\" points=\"227,-196 0,-196 0,-160 227,-160 227,-196\" stroke=\"black\"/>\n",
       "<text font-family=\"Times New Roman,serif\" font-size=\"14.00\" text-anchor=\"middle\" x=\"113.5\" y=\"-174.3\">name=x1 TensorType(float64, scalar)</text>\n",
       "</g>\n",
       "<!-- 2365207631800&#45;&gt;2365207632136 -->\n",
       "<g class=\"edge\" id=\"edge1\"><title>2365207631800-&gt;2365207632136</title>\n",
       "<path d=\"M138.189,-159.799C156.953,-146.725 182.925,-128.63 203.318,-114.422\" fill=\"none\" stroke=\"black\"/>\n",
       "<polygon fill=\"black\" points=\"205.474,-117.185 211.678,-108.597 201.473,-111.442 205.474,-117.185\" stroke=\"black\"/>\n",
       "<text font-family=\"Times New Roman,serif\" font-size=\"14.00\" text-anchor=\"middle\" x=\"186\" y=\"-130.8\">0</text>\n",
       "</g>\n",
       "<!-- 2365207632024 -->\n",
       "<g class=\"node\" id=\"node3\"><title>2365207632024</title>\n",
       "<polygon fill=\"green\" points=\"472,-196 245,-196 245,-160 472,-160 472,-196\" stroke=\"black\"/>\n",
       "<text font-family=\"Times New Roman,serif\" font-size=\"14.00\" text-anchor=\"middle\" x=\"358.5\" y=\"-174.3\">name=y1 TensorType(float64, scalar)</text>\n",
       "</g>\n",
       "<!-- 2365207632024&#45;&gt;2365207632136 -->\n",
       "<g class=\"edge\" id=\"edge2\"><title>2365207632024-&gt;2365207632136</title>\n",
       "<path d=\"M333.609,-159.799C314.691,-146.725 288.506,-128.63 267.946,-114.422\" fill=\"none\" stroke=\"black\"/>\n",
       "<polygon fill=\"black\" points=\"269.733,-111.403 259.517,-108.597 265.754,-117.162 269.733,-111.403\" stroke=\"black\"/>\n",
       "<text font-family=\"Times New Roman,serif\" font-size=\"14.00\" text-anchor=\"middle\" x=\"308\" y=\"-130.8\">1</text>\n",
       "</g>\n",
       "</g>\n",
       "</svg>"
      ],
      "text/plain": [
       "<IPython.core.display.SVG object>"
      ]
     },
     "execution_count": 18,
     "metadata": {},
     "output_type": "execute_result"
    }
   ],
   "source": [
    "SVG(theano.printing.pydotprint(z1, return_image=True, format='svg'))"
   ]
  },
  {
   "cell_type": "code",
   "execution_count": 19,
   "metadata": {},
   "outputs": [
    {
     "data": {
      "image/svg+xml": [
       "<svg height=\"291pt\" viewBox=\"0.00 0.00 480.00 291.00\" width=\"480pt\" xmlns=\"http://www.w3.org/2000/svg\" xmlns:xlink=\"http://www.w3.org/1999/xlink\">\n",
       "<g class=\"graph\" id=\"graph0\" transform=\"scale(1 1) rotate(0) translate(4 287)\">\n",
       "<title>G</title>\n",
       "<polygon fill=\"white\" points=\"-4,4 -4,-287 476,-287 476,4 -4,4\" stroke=\"none\"/>\n",
       "<!-- 2365208458912 -->\n",
       "<g class=\"node\" id=\"node1\"><title>2365208458912</title>\n",
       "<ellipse cx=\"235.5\" cy=\"-178\" fill=\"#ffaabb\" rx=\"109.381\" ry=\"18\" stroke=\"black\"/>\n",
       "<text font-family=\"Times New Roman,serif\" font-size=\"14.00\" text-anchor=\"middle\" x=\"235.5\" y=\"-174.3\">Elemwise{add,no_inplace}</text>\n",
       "</g>\n",
       "<!-- 2365208459136 -->\n",
       "<g class=\"node\" id=\"node4\"><title>2365208459136</title>\n",
       "<ellipse cx=\"235.5\" cy=\"-91\" fill=\"#ffaabb\" rx=\"108.581\" ry=\"18\" stroke=\"black\"/>\n",
       "<text font-family=\"Times New Roman,serif\" font-size=\"14.00\" text-anchor=\"middle\" x=\"235.5\" y=\"-87.3\">Elemwise{exp,no_inplace}</text>\n",
       "</g>\n",
       "<!-- 2365208458912&#45;&gt;2365208459136 -->\n",
       "<g class=\"edge\" id=\"edge3\"><title>2365208458912-&gt;2365208459136</title>\n",
       "<path d=\"M235.5,-159.799C235.5,-148.163 235.5,-132.548 235.5,-119.237\" fill=\"none\" stroke=\"black\"/>\n",
       "<polygon fill=\"black\" points=\"239,-119.175 235.5,-109.175 232,-119.175 239,-119.175\" stroke=\"black\"/>\n",
       "<text font-family=\"Times New Roman,serif\" font-size=\"14.00\" text-anchor=\"middle\" x=\"314\" y=\"-130.8\">TensorType(float64, scalar)</text>\n",
       "</g>\n",
       "<!-- 2365208458464 -->\n",
       "<g class=\"node\" id=\"node2\"><title>2365208458464</title>\n",
       "<polygon fill=\"green\" points=\"227,-283 0,-283 0,-247 227,-247 227,-283\" stroke=\"black\"/>\n",
       "<text font-family=\"Times New Roman,serif\" font-size=\"14.00\" text-anchor=\"middle\" x=\"113.5\" y=\"-261.3\">name=x1 TensorType(float64, scalar)</text>\n",
       "</g>\n",
       "<!-- 2365208458464&#45;&gt;2365208458912 -->\n",
       "<g class=\"edge\" id=\"edge1\"><title>2365208458464-&gt;2365208458912</title>\n",
       "<path d=\"M138.189,-246.799C156.953,-233.725 182.925,-215.63 203.318,-201.422\" fill=\"none\" stroke=\"black\"/>\n",
       "<polygon fill=\"black\" points=\"205.474,-204.185 211.678,-195.597 201.473,-198.442 205.474,-204.185\" stroke=\"black\"/>\n",
       "<text font-family=\"Times New Roman,serif\" font-size=\"14.00\" text-anchor=\"middle\" x=\"186\" y=\"-217.8\">0</text>\n",
       "</g>\n",
       "<!-- 2365208458800 -->\n",
       "<g class=\"node\" id=\"node3\"><title>2365208458800</title>\n",
       "<polygon fill=\"green\" points=\"472,-283 245,-283 245,-247 472,-247 472,-283\" stroke=\"black\"/>\n",
       "<text font-family=\"Times New Roman,serif\" font-size=\"14.00\" text-anchor=\"middle\" x=\"358.5\" y=\"-261.3\">name=y1 TensorType(float64, scalar)</text>\n",
       "</g>\n",
       "<!-- 2365208458800&#45;&gt;2365208458912 -->\n",
       "<g class=\"edge\" id=\"edge2\"><title>2365208458800-&gt;2365208458912</title>\n",
       "<path d=\"M333.609,-246.799C314.691,-233.725 288.506,-215.63 267.946,-201.422\" fill=\"none\" stroke=\"black\"/>\n",
       "<polygon fill=\"black\" points=\"269.733,-198.403 259.517,-195.597 265.754,-204.162 269.733,-198.403\" stroke=\"black\"/>\n",
       "<text font-family=\"Times New Roman,serif\" font-size=\"14.00\" text-anchor=\"middle\" x=\"308\" y=\"-217.8\">1</text>\n",
       "</g>\n",
       "<!-- 2365208459248 -->\n",
       "<g class=\"node\" id=\"node5\"><title>2365208459248</title>\n",
       "<polygon fill=\"blue\" points=\"322,-36 149,-36 149,-0 322,-0 322,-36\" stroke=\"black\"/>\n",
       "<text font-family=\"Times New Roman,serif\" font-size=\"14.00\" text-anchor=\"middle\" x=\"235.5\" y=\"-14.3\">TensorType(float64, scalar)</text>\n",
       "</g>\n",
       "<!-- 2365208459136&#45;&gt;2365208459248 -->\n",
       "<g class=\"edge\" id=\"edge4\"><title>2365208459136-&gt;2365208459248</title>\n",
       "<path d=\"M235.5,-72.8129C235.5,-64.7895 235.5,-55.0475 235.5,-46.0691\" fill=\"none\" stroke=\"black\"/>\n",
       "<polygon fill=\"black\" points=\"239,-46.0288 235.5,-36.0288 232,-46.0289 239,-46.0288\" stroke=\"black\"/>\n",
       "</g>\n",
       "</g>\n",
       "</svg>"
      ],
      "text/plain": [
       "<IPython.core.display.SVG object>"
      ]
     },
     "execution_count": 19,
     "metadata": {},
     "output_type": "execute_result"
    }
   ],
   "source": [
    "SVG(theano.printing.pydotprint(u1, return_image=True, format='svg'))"
   ]
  },
  {
   "cell_type": "markdown",
   "metadata": {},
   "source": [
    "#### 3. 심볼 함수 정의\n",
    "- theano.function 명령으로 심볼함수 정의\n",
    "- 입력 심볼변수, 출력 심볼변수 지정\n",
    "- 출력 심볼변수는 입력변수의 연산으로 정의되어야 함."
   ]
  },
  {
   "cell_type": "code",
   "execution_count": 20,
   "metadata": {},
   "outputs": [],
   "source": [
    "f1 = theano.function(inputs=[x1, y1], outputs=z1)"
   ]
  },
  {
   "cell_type": "code",
   "execution_count": 21,
   "metadata": {},
   "outputs": [],
   "source": [
    "f2 = theano.function([x2, y2], z2)"
   ]
  },
  {
   "cell_type": "code",
   "execution_count": 22,
   "metadata": {},
   "outputs": [
    {
     "data": {
      "text/plain": [
       "array(3.)"
      ]
     },
     "execution_count": 22,
     "metadata": {},
     "output_type": "execute_result"
    }
   ],
   "source": [
    "f1(1,2)"
   ]
  },
  {
   "cell_type": "code",
   "execution_count": 32,
   "metadata": {},
   "outputs": [
    {
     "data": {
      "text/plain": [
       "array(11.)"
      ]
     },
     "execution_count": 32,
     "metadata": {},
     "output_type": "execute_result"
    }
   ],
   "source": [
    "f2([1,2],[3,4])"
   ]
  },
  {
   "cell_type": "code",
   "execution_count": 28,
   "metadata": {},
   "outputs": [],
   "source": [
    "f3 = theano.function(inputs=[x3,y3], outputs=z3)"
   ]
  },
  {
   "cell_type": "code",
   "execution_count": 29,
   "metadata": {},
   "outputs": [
    {
     "data": {
      "text/plain": [
       "'(Sum{acc_dtype=float64}(x3) + Sum{acc_dtype=float64}(y3))'"
      ]
     },
     "execution_count": 29,
     "metadata": {},
     "output_type": "execute_result"
    }
   ],
   "source": [
    "theano.printing.pprint(z3)"
   ]
  },
  {
   "cell_type": "code",
   "execution_count": 33,
   "metadata": {},
   "outputs": [
    {
     "data": {
      "text/plain": [
       "array(10.)"
      ]
     },
     "execution_count": 33,
     "metadata": {},
     "output_type": "execute_result"
    }
   ],
   "source": [
    "f3([[1,2]],[[3,4]])"
   ]
  },
  {
   "cell_type": "code",
   "execution_count": 34,
   "metadata": {},
   "outputs": [
    {
     "data": {
      "text/plain": [
       "array(10.)"
      ]
     },
     "execution_count": 34,
     "metadata": {},
     "output_type": "execute_result"
    }
   ],
   "source": [
    "f3([[1],[2]],[[3],[4]])"
   ]
  },
  {
   "cell_type": "code",
   "execution_count": 36,
   "metadata": {},
   "outputs": [
    {
     "data": {
      "text/plain": [
       "array(0.73105858)"
      ]
     },
     "execution_count": 36,
     "metadata": {},
     "output_type": "execute_result"
    }
   ],
   "source": [
    "# 로지스틱함수\n",
    "s1 = 1 / (1 + T.exp(-x1))\n",
    "logistic = theano.function(inputs=[x1], outputs=s1)\n",
    "logistic(1)"
   ]
  },
  {
   "cell_type": "markdown",
   "metadata": {},
   "source": [
    "s1으로 변수관계설정, logistic으로 함수정의"
   ]
  },
  {
   "cell_type": "code",
   "execution_count": 37,
   "metadata": {},
   "outputs": [
    {
     "data": {
      "text/plain": [
       "array([0.5       , 0.73105858])"
      ]
     },
     "execution_count": 37,
     "metadata": {},
     "output_type": "execute_result"
    }
   ],
   "source": [
    "s2 = 1 / (1 + T.exp(-x2))\n",
    "logistic2 = theano.function([x2], s2)\n",
    "logistic2([0,1])"
   ]
  },
  {
   "cell_type": "code",
   "execution_count": 40,
   "metadata": {},
   "outputs": [],
   "source": [
    "# 난수 발생\n",
    "# RandomStreams\n",
    "from theano.tensor.shared_randomstreams import RandomStreams\n",
    "srng = RandomStreams(0)"
   ]
  },
  {
   "cell_type": "code",
   "execution_count": 41,
   "metadata": {},
   "outputs": [],
   "source": [
    "rv_u = srng.uniform()\n",
    "f_rv_u = theano.function([], rv_u)"
   ]
  },
  {
   "cell_type": "code",
   "execution_count": 42,
   "metadata": {},
   "outputs": [
    {
     "data": {
      "text/plain": [
       "(array(0.48604732), array(0.68571232), array(0.98557605), array(0.19559641))"
      ]
     },
     "execution_count": 42,
     "metadata": {},
     "output_type": "execute_result"
    }
   ],
   "source": [
    "f_rv_u(), f_rv_u(), f_rv_u(), f_rv_u()"
   ]
  },
  {
   "cell_type": "markdown",
   "metadata": {},
   "source": [
    "### 변수 갱신\n",
    "예를 들어 $w_{(k+1)}$ = $w_{k}$+ x 와 같은 형태"
   ]
  },
  {
   "cell_type": "code",
   "execution_count": 43,
   "metadata": {},
   "outputs": [],
   "source": [
    "x = T.dscalar('x')\n",
    "y = x\n",
    "w = theano.shared(0.0, name='w') # 초기값 0\n",
    "update = theano.function([x],y, updates=[(w, w+x)])"
   ]
  },
  {
   "cell_type": "code",
   "execution_count": 46,
   "metadata": {},
   "outputs": [
    {
     "data": {
      "text/plain": [
       "array(0.58341167)"
      ]
     },
     "execution_count": 46,
     "metadata": {},
     "output_type": "execute_result"
    }
   ],
   "source": [
    "w.set_value(f_rv_u())\n",
    "w.get_value()"
   ]
  },
  {
   "cell_type": "code",
   "execution_count": 47,
   "metadata": {},
   "outputs": [
    {
     "data": {
      "text/plain": [
       "array(1.58341167)"
      ]
     },
     "execution_count": 47,
     "metadata": {},
     "output_type": "execute_result"
    }
   ],
   "source": [
    "update(1)\n",
    "w.get_value()"
   ]
  },
  {
   "cell_type": "code",
   "execution_count": 48,
   "metadata": {},
   "outputs": [
    {
     "data": {
      "text/plain": [
       "array(3.58341167)"
      ]
     },
     "execution_count": 48,
     "metadata": {},
     "output_type": "execute_result"
    }
   ],
   "source": [
    "update(2)\n",
    "w.get_value()"
   ]
  },
  {
   "cell_type": "markdown",
   "metadata": {},
   "source": [
    "### 그래프 최적화\n",
    "- 빠른 함수 계산을 위한 계산지원"
   ]
  },
  {
   "cell_type": "code",
   "execution_count": 51,
   "metadata": {},
   "outputs": [],
   "source": [
    "x1 = T.dvector('x1')\n",
    "y1 = x1 ** 10\n",
    "f1 = theano.function([x1], y1)"
   ]
  },
  {
   "cell_type": "code",
   "execution_count": 52,
   "metadata": {},
   "outputs": [
    {
     "data": {
      "image/svg+xml": [
       "<svg height=\"188pt\" viewBox=\"0.00 0.00 408.36 188.00\" width=\"408pt\" xmlns=\"http://www.w3.org/2000/svg\" xmlns:xlink=\"http://www.w3.org/1999/xlink\">\n",
       "<g class=\"graph\" id=\"graph0\" transform=\"scale(1 1) rotate(0) translate(4 184)\">\n",
       "<title>G</title>\n",
       "<polygon fill=\"white\" points=\"-4,4 -4,-184 404.364,-184 404.364,4 -4,4\" stroke=\"none\"/>\n",
       "<!-- 2365207855904 -->\n",
       "<g class=\"node\" id=\"node1\"><title>2365207855904</title>\n",
       "<ellipse cx=\"200.182\" cy=\"-90\" fill=\"#ffaabb\" rx=\"200.365\" ry=\"18\" stroke=\"black\"/>\n",
       "<text font-family=\"Times New Roman,serif\" font-size=\"14.00\" text-anchor=\"middle\" x=\"200.182\" y=\"-86.3\">Elemwise{Composite{(sqr(sqr(sqr(i0))) * sqr(i0))}}</text>\n",
       "</g>\n",
       "<!-- 2365207855400 -->\n",
       "<g class=\"node\" id=\"node3\"><title>2365207855400</title>\n",
       "<polygon fill=\"blue\" points=\"288.182,-36 112.182,-36 112.182,-0 288.182,-0 288.182,-36\" stroke=\"black\"/>\n",
       "<text font-family=\"Times New Roman,serif\" font-size=\"14.00\" text-anchor=\"middle\" x=\"200.182\" y=\"-14.3\">TensorType(float64, vector)</text>\n",
       "</g>\n",
       "<!-- 2365207855904&#45;&gt;2365207855400 -->\n",
       "<g class=\"edge\" id=\"edge2\"><title>2365207855904-&gt;2365207855400</title>\n",
       "<path d=\"M200.182,-71.6966C200.182,-63.9827 200.182,-54.7125 200.182,-46.1124\" fill=\"none\" stroke=\"black\"/>\n",
       "<polygon fill=\"black\" points=\"203.682,-46.1043 200.182,-36.1043 196.682,-46.1044 203.682,-46.1043\" stroke=\"black\"/>\n",
       "</g>\n",
       "<!-- 2365213006200 -->\n",
       "<g class=\"node\" id=\"node2\"><title>2365213006200</title>\n",
       "<polygon fill=\"green\" points=\"315.182,-180 85.1822,-180 85.1822,-144 315.182,-144 315.182,-180\" stroke=\"black\"/>\n",
       "<text font-family=\"Times New Roman,serif\" font-size=\"14.00\" text-anchor=\"middle\" x=\"200.182\" y=\"-158.3\">name=x1 TensorType(float64, vector)</text>\n",
       "</g>\n",
       "<!-- 2365213006200&#45;&gt;2365207855904 -->\n",
       "<g class=\"edge\" id=\"edge1\"><title>2365213006200-&gt;2365207855904</title>\n",
       "<path d=\"M200.182,-143.697C200.182,-135.983 200.182,-126.712 200.182,-118.112\" fill=\"none\" stroke=\"black\"/>\n",
       "<polygon fill=\"black\" points=\"203.682,-118.104 200.182,-108.104 196.682,-118.104 203.682,-118.104\" stroke=\"black\"/>\n",
       "</g>\n",
       "</g>\n",
       "</svg>"
      ],
      "text/plain": [
       "<IPython.core.display.SVG object>"
      ]
     },
     "execution_count": 52,
     "metadata": {},
     "output_type": "execute_result"
    }
   ],
   "source": [
    "SVG(theano.printing.pydotprint(f1, return_image=True, format='svg'))"
   ]
  },
  {
   "cell_type": "markdown",
   "metadata": {},
   "source": [
    "x1의 10제곱을 하나하나 하지 않고, x^2^2^2 * x^2...형태로 계산 \n",
    "\n",
    "계산량이 곱하기 9번에서 4번으로 감소"
   ]
  },
  {
   "cell_type": "markdown",
   "metadata": {},
   "source": [
    "### 미분 "
   ]
  },
  {
   "cell_type": "code",
   "execution_count": 53,
   "metadata": {},
   "outputs": [],
   "source": [
    "x1 = T.dscalar('x1')\n",
    "y1 = x1 ** 2\n",
    "gy1 = T.grad(y1, x1)\n",
    "fy1 = theano.function([x1], y1)\n",
    "fgy1 = theano.function([x1], gy1)"
   ]
  },
  {
   "cell_type": "code",
   "execution_count": 54,
   "metadata": {},
   "outputs": [
    {
     "data": {
      "image/svg+xml": [
       "<svg height=\"188pt\" viewBox=\"0.00 0.00 235.00 188.00\" width=\"235pt\" xmlns=\"http://www.w3.org/2000/svg\" xmlns:xlink=\"http://www.w3.org/1999/xlink\">\n",
       "<g class=\"graph\" id=\"graph0\" transform=\"scale(1 1) rotate(0) translate(4 184)\">\n",
       "<title>G</title>\n",
       "<polygon fill=\"white\" points=\"-4,4 -4,-184 231,-184 231,4 -4,4\" stroke=\"none\"/>\n",
       "<!-- 2365213327144 -->\n",
       "<g class=\"node\" id=\"node1\"><title>2365213327144</title>\n",
       "<ellipse cx=\"113.5\" cy=\"-90\" fill=\"#ffaabb\" rx=\"107.482\" ry=\"18\" stroke=\"black\"/>\n",
       "<text font-family=\"Times New Roman,serif\" font-size=\"14.00\" text-anchor=\"middle\" x=\"113.5\" y=\"-86.3\">Elemwise{sqr,no_inplace}</text>\n",
       "</g>\n",
       "<!-- 2365213323952 -->\n",
       "<g class=\"node\" id=\"node3\"><title>2365213323952</title>\n",
       "<polygon fill=\"blue\" points=\"200,-36 27,-36 27,-0 200,-0 200,-36\" stroke=\"black\"/>\n",
       "<text font-family=\"Times New Roman,serif\" font-size=\"14.00\" text-anchor=\"middle\" x=\"113.5\" y=\"-14.3\">TensorType(float64, scalar)</text>\n",
       "</g>\n",
       "<!-- 2365213327144&#45;&gt;2365213323952 -->\n",
       "<g class=\"edge\" id=\"edge2\"><title>2365213327144-&gt;2365213323952</title>\n",
       "<path d=\"M113.5,-71.6966C113.5,-63.9827 113.5,-54.7125 113.5,-46.1124\" fill=\"none\" stroke=\"black\"/>\n",
       "<polygon fill=\"black\" points=\"117,-46.1043 113.5,-36.1043 110,-46.1044 117,-46.1043\" stroke=\"black\"/>\n",
       "</g>\n",
       "<!-- 2365213324120 -->\n",
       "<g class=\"node\" id=\"node2\"><title>2365213324120</title>\n",
       "<polygon fill=\"green\" points=\"227,-180 0,-180 0,-144 227,-144 227,-180\" stroke=\"black\"/>\n",
       "<text font-family=\"Times New Roman,serif\" font-size=\"14.00\" text-anchor=\"middle\" x=\"113.5\" y=\"-158.3\">name=x1 TensorType(float64, scalar)</text>\n",
       "</g>\n",
       "<!-- 2365213324120&#45;&gt;2365213327144 -->\n",
       "<g class=\"edge\" id=\"edge1\"><title>2365213324120-&gt;2365213327144</title>\n",
       "<path d=\"M113.5,-143.697C113.5,-135.983 113.5,-126.712 113.5,-118.112\" fill=\"none\" stroke=\"black\"/>\n",
       "<polygon fill=\"black\" points=\"117,-118.104 113.5,-108.104 110,-118.104 117,-118.104\" stroke=\"black\"/>\n",
       "</g>\n",
       "</g>\n",
       "</svg>"
      ],
      "text/plain": [
       "<IPython.core.display.SVG object>"
      ]
     },
     "execution_count": 54,
     "metadata": {},
     "output_type": "execute_result"
    }
   ],
   "source": [
    "SVG(theano.printing.pydotprint(fy1, return_image=True, format='svg'))"
   ]
  },
  {
   "cell_type": "code",
   "execution_count": 55,
   "metadata": {},
   "outputs": [
    {
     "data": {
      "image/svg+xml": [
       "<svg height=\"204pt\" viewBox=\"0.00 0.00 471.50 204.00\" width=\"472pt\" xmlns=\"http://www.w3.org/2000/svg\" xmlns:xlink=\"http://www.w3.org/1999/xlink\">\n",
       "<g class=\"graph\" id=\"graph0\" transform=\"scale(1 1) rotate(0) translate(4 200)\">\n",
       "<title>G</title>\n",
       "<polygon fill=\"white\" points=\"-4,4 -4,-200 467.5,-200 467.5,4 -4,4\" stroke=\"none\"/>\n",
       "<!-- 2365213509952 -->\n",
       "<g class=\"node\" id=\"node1\"><title>2365213509952</title>\n",
       "<ellipse cx=\"229\" cy=\"-91\" fill=\"#ffaabb\" rx=\"108.581\" ry=\"18\" stroke=\"black\"/>\n",
       "<text font-family=\"Times New Roman,serif\" font-size=\"14.00\" text-anchor=\"middle\" x=\"229\" y=\"-87.3\">Elemwise{mul,no_inplace}</text>\n",
       "</g>\n",
       "<!-- 2365213510120 -->\n",
       "<g class=\"node\" id=\"node4\"><title>2365213510120</title>\n",
       "<polygon fill=\"blue\" points=\"315.5,-36 142.5,-36 142.5,-0 315.5,-0 315.5,-36\" stroke=\"black\"/>\n",
       "<text font-family=\"Times New Roman,serif\" font-size=\"14.00\" text-anchor=\"middle\" x=\"229\" y=\"-14.3\">TensorType(float64, scalar)</text>\n",
       "</g>\n",
       "<!-- 2365213509952&#45;&gt;2365213510120 -->\n",
       "<g class=\"edge\" id=\"edge3\"><title>2365213509952-&gt;2365213510120</title>\n",
       "<path d=\"M229,-72.8129C229,-64.7895 229,-55.0475 229,-46.0691\" fill=\"none\" stroke=\"black\"/>\n",
       "<polygon fill=\"black\" points=\"232.5,-46.0288 229,-36.0288 225.5,-46.0289 232.5,-46.0288\" stroke=\"black\"/>\n",
       "</g>\n",
       "<!-- 2365213509336 -->\n",
       "<g class=\"node\" id=\"node2\"><title>2365213509336</title>\n",
       "<polygon fill=\"green\" points=\"218,-196 0,-196 0,-160 218,-160 218,-196\" stroke=\"black\"/>\n",
       "<text font-family=\"Times New Roman,serif\" font-size=\"14.00\" text-anchor=\"middle\" x=\"109\" y=\"-174.3\">val=2.0 TensorType(float64, scalar)</text>\n",
       "</g>\n",
       "<!-- 2365213509336&#45;&gt;2365213509952 -->\n",
       "<g class=\"edge\" id=\"edge1\"><title>2365213509336-&gt;2365213509952</title>\n",
       "<path d=\"M133.284,-159.799C151.741,-146.725 177.287,-128.63 197.345,-114.422\" fill=\"none\" stroke=\"black\"/>\n",
       "<polygon fill=\"black\" points=\"199.432,-117.233 205.569,-108.597 195.386,-111.521 199.432,-117.233\" stroke=\"black\"/>\n",
       "<text font-family=\"Times New Roman,serif\" font-size=\"14.00\" text-anchor=\"middle\" x=\"180.5\" y=\"-130.8\">0</text>\n",
       "</g>\n",
       "<!-- 2365213488856 -->\n",
       "<g class=\"node\" id=\"node3\"><title>2365213488856</title>\n",
       "<polygon fill=\"green\" points=\"463.5,-196 236.5,-196 236.5,-160 463.5,-160 463.5,-196\" stroke=\"black\"/>\n",
       "<text font-family=\"Times New Roman,serif\" font-size=\"14.00\" text-anchor=\"middle\" x=\"350\" y=\"-174.3\">name=x1 TensorType(float64, scalar)</text>\n",
       "</g>\n",
       "<!-- 2365213488856&#45;&gt;2365213509952 -->\n",
       "<g class=\"edge\" id=\"edge2\"><title>2365213488856-&gt;2365213509952</title>\n",
       "<path d=\"M325.514,-159.799C306.903,-146.725 281.144,-128.63 260.919,-114.422\" fill=\"none\" stroke=\"black\"/>\n",
       "<polygon fill=\"black\" points=\"262.821,-111.481 252.626,-108.597 258.797,-117.209 262.821,-111.481\" stroke=\"black\"/>\n",
       "<text font-family=\"Times New Roman,serif\" font-size=\"14.00\" text-anchor=\"middle\" x=\"300.5\" y=\"-130.8\">1</text>\n",
       "</g>\n",
       "</g>\n",
       "</svg>"
      ],
      "text/plain": [
       "<IPython.core.display.SVG object>"
      ]
     },
     "execution_count": 55,
     "metadata": {},
     "output_type": "execute_result"
    }
   ],
   "source": [
    "SVG(theano.printing.pydotprint(fgy1, return_image=True, format='svg'))"
   ]
  },
  {
   "cell_type": "code",
   "execution_count": 56,
   "metadata": {},
   "outputs": [],
   "source": [
    "# 로지스틱\n",
    "x1 = T.dscalar('x1')\n",
    "s1 = 1 / (1 + T.exp(-x1))\n",
    "logistic = theano.function([x1],s1)\n",
    "gs1 = T.grad(s1, x1)\n",
    "glogistic = theano.function([x1],gs1)"
   ]
  },
  {
   "cell_type": "code",
   "execution_count": 57,
   "metadata": {},
   "outputs": [
    {
     "data": {
      "image/svg+xml": [
       "<svg height=\"188pt\" viewBox=\"0.00 0.00 235.00 188.00\" width=\"235pt\" xmlns=\"http://www.w3.org/2000/svg\" xmlns:xlink=\"http://www.w3.org/1999/xlink\">\n",
       "<g class=\"graph\" id=\"graph0\" transform=\"scale(1 1) rotate(0) translate(4 184)\">\n",
       "<title>G</title>\n",
       "<polygon fill=\"white\" points=\"-4,4 -4,-184 231,-184 231,4 -4,4\" stroke=\"none\"/>\n",
       "<!-- 2365212817560 -->\n",
       "<g class=\"node\" id=\"node1\"><title>2365212817560</title>\n",
       "<ellipse cx=\"113.5\" cy=\"-90\" fill=\"#ffaabb\" rx=\"39.7935\" ry=\"18\" stroke=\"black\"/>\n",
       "<text font-family=\"Times New Roman,serif\" font-size=\"14.00\" text-anchor=\"middle\" x=\"113.5\" y=\"-86.3\">sigmoid</text>\n",
       "</g>\n",
       "<!-- 2365212817728 -->\n",
       "<g class=\"node\" id=\"node3\"><title>2365212817728</title>\n",
       "<polygon fill=\"blue\" points=\"200,-36 27,-36 27,-0 200,-0 200,-36\" stroke=\"black\"/>\n",
       "<text font-family=\"Times New Roman,serif\" font-size=\"14.00\" text-anchor=\"middle\" x=\"113.5\" y=\"-14.3\">TensorType(float64, scalar)</text>\n",
       "</g>\n",
       "<!-- 2365212817560&#45;&gt;2365212817728 -->\n",
       "<g class=\"edge\" id=\"edge2\"><title>2365212817560-&gt;2365212817728</title>\n",
       "<path d=\"M113.5,-71.6966C113.5,-63.9827 113.5,-54.7125 113.5,-46.1124\" fill=\"none\" stroke=\"black\"/>\n",
       "<polygon fill=\"black\" points=\"117,-46.1043 113.5,-36.1043 110,-46.1044 117,-46.1043\" stroke=\"black\"/>\n",
       "</g>\n",
       "<!-- 2365213020056 -->\n",
       "<g class=\"node\" id=\"node2\"><title>2365213020056</title>\n",
       "<polygon fill=\"green\" points=\"227,-180 0,-180 0,-144 227,-144 227,-180\" stroke=\"black\"/>\n",
       "<text font-family=\"Times New Roman,serif\" font-size=\"14.00\" text-anchor=\"middle\" x=\"113.5\" y=\"-158.3\">name=x1 TensorType(float64, scalar)</text>\n",
       "</g>\n",
       "<!-- 2365213020056&#45;&gt;2365212817560 -->\n",
       "<g class=\"edge\" id=\"edge1\"><title>2365213020056-&gt;2365212817560</title>\n",
       "<path d=\"M113.5,-143.697C113.5,-135.983 113.5,-126.712 113.5,-118.112\" fill=\"none\" stroke=\"black\"/>\n",
       "<polygon fill=\"black\" points=\"117,-118.104 113.5,-108.104 110,-118.104 117,-118.104\" stroke=\"black\"/>\n",
       "</g>\n",
       "</g>\n",
       "</svg>"
      ],
      "text/plain": [
       "<IPython.core.display.SVG object>"
      ]
     },
     "execution_count": 57,
     "metadata": {},
     "output_type": "execute_result"
    }
   ],
   "source": [
    "SVG(theano.printing.pydotprint(logistic, return_image=True, format='svg'))"
   ]
  },
  {
   "cell_type": "markdown",
   "metadata": {},
   "source": [
    "알아서 sigmoid함수라고 인식하고 이미 내장되어있는 sigmoid함수를 불러와 연산속도를 높임"
   ]
  },
  {
   "cell_type": "code",
   "execution_count": 58,
   "metadata": {},
   "outputs": [
    {
     "data": {
      "image/svg+xml": [
       "<svg height=\"188pt\" viewBox=\"0.00 0.00 527.95 188.00\" width=\"528pt\" xmlns=\"http://www.w3.org/2000/svg\" xmlns:xlink=\"http://www.w3.org/1999/xlink\">\n",
       "<g class=\"graph\" id=\"graph0\" transform=\"scale(1 1) rotate(0) translate(4 184)\">\n",
       "<title>G</title>\n",
       "<polygon fill=\"white\" points=\"-4,4 -4,-184 523.954,-184 523.954,4 -4,4\" stroke=\"none\"/>\n",
       "<!-- 2365214034128 -->\n",
       "<g class=\"node\" id=\"node1\"><title>2365214034128</title>\n",
       "<ellipse cx=\"259.977\" cy=\"-90\" fill=\"#ffaabb\" rx=\"259.954\" ry=\"18\" stroke=\"black\"/>\n",
       "<text font-family=\"Times New Roman,serif\" font-size=\"14.00\" text-anchor=\"middle\" x=\"259.977\" y=\"-86.3\">Elemwise{Composite{(scalar_sigmoid((-i0)) * scalar_sigmoid(i0))}}</text>\n",
       "</g>\n",
       "<!-- 2365214034296 -->\n",
       "<g class=\"node\" id=\"node3\"><title>2365214034296</title>\n",
       "<polygon fill=\"blue\" points=\"346.477,-36 173.477,-36 173.477,-0 346.477,-0 346.477,-36\" stroke=\"black\"/>\n",
       "<text font-family=\"Times New Roman,serif\" font-size=\"14.00\" text-anchor=\"middle\" x=\"259.977\" y=\"-14.3\">TensorType(float64, scalar)</text>\n",
       "</g>\n",
       "<!-- 2365214034128&#45;&gt;2365214034296 -->\n",
       "<g class=\"edge\" id=\"edge2\"><title>2365214034128-&gt;2365214034296</title>\n",
       "<path d=\"M259.977,-71.6966C259.977,-63.9827 259.977,-54.7125 259.977,-46.1124\" fill=\"none\" stroke=\"black\"/>\n",
       "<polygon fill=\"black\" points=\"263.477,-46.1043 259.977,-36.1043 256.477,-46.1044 263.477,-46.1043\" stroke=\"black\"/>\n",
       "</g>\n",
       "<!-- 2365213670144 -->\n",
       "<g class=\"node\" id=\"node2\"><title>2365213670144</title>\n",
       "<polygon fill=\"green\" points=\"373.477,-180 146.477,-180 146.477,-144 373.477,-144 373.477,-180\" stroke=\"black\"/>\n",
       "<text font-family=\"Times New Roman,serif\" font-size=\"14.00\" text-anchor=\"middle\" x=\"259.977\" y=\"-158.3\">name=x1 TensorType(float64, scalar)</text>\n",
       "</g>\n",
       "<!-- 2365213670144&#45;&gt;2365214034128 -->\n",
       "<g class=\"edge\" id=\"edge1\"><title>2365213670144-&gt;2365214034128</title>\n",
       "<path d=\"M259.977,-143.697C259.977,-135.983 259.977,-126.712 259.977,-118.112\" fill=\"none\" stroke=\"black\"/>\n",
       "<polygon fill=\"black\" points=\"263.477,-118.104 259.977,-108.104 256.477,-118.104 263.477,-118.104\" stroke=\"black\"/>\n",
       "</g>\n",
       "</g>\n",
       "</svg>"
      ],
      "text/plain": [
       "<IPython.core.display.SVG object>"
      ]
     },
     "execution_count": 58,
     "metadata": {},
     "output_type": "execute_result"
    }
   ],
   "source": [
    "SVG(theano.printing.pydotprint(glogistic, return_image=True, format='svg'))"
   ]
  },
  {
   "cell_type": "code",
   "execution_count": 59,
   "metadata": {},
   "outputs": [
    {
     "data": {
      "image/png": "[encoded data removed]",
      "text/plain": [
       "<Figure size 432x288 with 1 Axes>"
      ]
     },
     "metadata": {},
     "output_type": "display_data"
    }
   ],
   "source": [
    "xx = np.linspace(-5, 5, 100)\n",
    "y1 = np.hstack([logistic(xi) for xi in xx])\n",
    "y2 = np.hstack([glogistic(xi) for xi in xx])\n",
    "\n",
    "plt.plot(xx, y1, label=\"Logistic\")\n",
    "plt.plot(xx, y2, label=\"Derivative of Logistic\")\n",
    "plt.legend()\n",
    "plt.show()"
   ]
  },
  {
   "cell_type": "markdown",
   "metadata": {},
   "source": [
    "### 퍼셉트론 구현"
   ]
  },
  {
   "cell_type": "code",
   "execution_count": 71,
   "metadata": {},
   "outputs": [],
   "source": [
    "from sklearn.datasets import load_iris\n",
    "iris = load_iris()"
   ]
  },
  {
   "cell_type": "code",
   "execution_count": 72,
   "metadata": {},
   "outputs": [],
   "source": [
    "idx = np.in1d(iris.target, [0,2])\n",
    "x = iris.data[idx, 0:2]\n",
    "y = iris.target[idx] - 1 # y값이 1 or -1 값을 가지도록..."
   ]
  },
  {
   "cell_type": "code",
   "execution_count": 62,
   "metadata": {},
   "outputs": [
    {
     "data": {
      "image/png": "[encoded data removed]",
      "text/plain": [
       "<Figure size 720x480 with 1 Axes>"
      ]
     },
     "metadata": {},
     "output_type": "display_data"
    }
   ],
   "source": [
    "plt.figure(figsize=(12,8), dpi=60)\n",
    "plt.scatter(x[:,0], x[:,1], c=y, s=100, edgecolors='k')\n",
    "plt.show()"
   ]
  },
  {
   "cell_type": "code",
   "execution_count": 77,
   "metadata": {},
   "outputs": [],
   "source": [
    "X = T.dmatrix('x')\n",
    "Y = T.dvector('y')\n",
    "np.random.seed(0)\n",
    "w = theano.shared(0.001 * np.random.randn(2), name='w')\n",
    "b = theano.shared(0.001 * np.random.randn(1)[0], name='b')\n",
    "z = T.tanh(T.dot(X,w) + b) # heavy side function\n",
    "cost = T.sum(T.maximum(0, -Y*z))"
   ]
  },
  {
   "cell_type": "code",
   "execution_count": 78,
   "metadata": {},
   "outputs": [],
   "source": [
    "gw, gb = T.grad(cost, [w,b]) # cost함수를 w, b로 각각 미분한 값을 gw, gb로 받는다.\n",
    "mu = 1e-7\n",
    "train = theano.function([X,Y], cost, updates=[(w, w - mu*gw), (b, b-mu*gb)])"
   ]
  },
  {
   "cell_type": "markdown",
   "metadata": {},
   "source": [
    "w를 w-mu * gw로 대체, b를 b-mu * gb로 대체하여 최적값을 찾아간다."
   ]
  },
  {
   "cell_type": "code",
   "execution_count": 79,
   "metadata": {},
   "outputs": [
    {
     "name": "stdout",
     "output_type": "stream",
     "text": [
      "0 :  0.5588424928848522\n",
      "10 :  0.4645058718722919\n",
      "20 :  0.3701625011442721\n",
      "30 :  0.27581374670328085\n",
      "40 :  0.18146097498533956\n",
      "50 :  0.08710555275029427\n",
      "60 :  0.0017481157550485488\n",
      "70 :  0.0003194822026270444\n",
      "80 :  0.00029294220762885446\n",
      "90 :  0.00029210620994642254\n"
     ]
    }
   ],
   "source": [
    "for i in range(100):\n",
    "    cost_i = train(x, y)\n",
    "    if i % 10 == 0:\n",
    "        print(\"{} : \".format(i), cost_i)"
   ]
  },
  {
   "cell_type": "code",
   "execution_count": 83,
   "metadata": {},
   "outputs": [
    {
     "data": {
      "text/plain": [
       "array([-1., -1., -1., -1., -1., -1., -1., -1., -1., -1., -1., -1., -1.,\n",
       "       -1., -1., -1., -1., -1., -1., -1., -1., -1., -1., -1., -1., -1.,\n",
       "       -1., -1., -1., -1., -1., -1., -1., -1., -1., -1., -1., -1., -1.,\n",
       "       -1., -1.,  1., -1., -1., -1., -1., -1., -1., -1., -1.,  1.,  1.,\n",
       "        1.,  1.,  1.,  1.,  1.,  1.,  1.,  1.,  1.,  1.,  1.,  1.,  1.,\n",
       "        1.,  1.,  1.,  1.,  1.,  1.,  1.,  1.,  1.,  1.,  1.,  1.,  1.,\n",
       "        1.,  1.,  1.,  1.,  1.,  1.,  1.,  1.,  1.,  1.,  1.,  1.,  1.,\n",
       "        1.,  1.,  1.,  1.,  1.,  1.,  1., -1.,  1.])"
      ]
     },
     "execution_count": 83,
     "metadata": {},
     "output_type": "execute_result"
    }
   ],
   "source": [
    "y_pred = T.sgn(z) # -1~1사잇값 ==> -1 또는 1 변환\n",
    "y_pred_func = theano.function([X], y_pred)\n",
    "y_hat = y_pred_func(x)\n",
    "y_hat"
   ]
  },
  {
   "cell_type": "code",
   "execution_count": 84,
   "metadata": {},
   "outputs": [],
   "source": [
    "from sklearn.metrics import confusion_matrix"
   ]
  },
  {
   "cell_type": "code",
   "execution_count": 85,
   "metadata": {},
   "outputs": [
    {
     "data": {
      "text/plain": [
       "array([[49,  1],\n",
       "       [ 1, 49]], dtype=int64)"
      ]
     },
     "execution_count": 85,
     "metadata": {},
     "output_type": "execute_result"
    }
   ],
   "source": [
    "confusion_matrix(y, y_hat)"
   ]
  },
  {
   "cell_type": "markdown",
   "metadata": {},
   "source": [
    "##### 연습문제\n",
    "위 퍼셉트론 코드를 다음과 같이 고쳐라.\n",
    "\n",
    "1. y값은 0과 1이라는 값만 가진다.\n",
    "2. 활성화 함수는 로지스틱 함수를 사용한다.\n",
    "3. 코스트 함수는 다음과 같은 오차 제곱 함수를 사용한다.\n",
    "$$ C=∑_{i=1}^N (y−y_{hat})^2 $$"
   ]
  },
  {
   "cell_type": "code",
   "execution_count": 128,
   "metadata": {},
   "outputs": [],
   "source": [
    "# y값을 0, 1로 바꾸자\n",
    "idx = np.in1d(iris.target, [0,2])\n",
    "x = iris.data[idx,0:2]\n",
    "y = iris.target[idx] * 0.5"
   ]
  },
  {
   "cell_type": "code",
   "execution_count": 197,
   "metadata": {},
   "outputs": [],
   "source": [
    "# 활성화함수를 tanh가 아닌 logistic으로 바꿔준다\n",
    "X = T.dmatrix('X')\n",
    "Y = T.vector('Y')\n",
    "np.random.seed(0)\n",
    "w = theano.shared(0.01 * np.random.randn(2), name='w')\n",
    "b = theano.shared(0.01 * np.random.randn(1)[0], name='b')\n",
    "a = T.dot(X,w) + b\n",
    "z = 1 / (1 + T.exp(-a)) # 0~1값을 갖는다.\n",
    "cost = T.sum((Y - z)**2)"
   ]
  },
  {
   "cell_type": "code",
   "execution_count": 198,
   "metadata": {},
   "outputs": [],
   "source": [
    "gw, gb = T.grad(cost, [w,b])\n",
    "mu = 0.01\n",
    "train = theano.function([X,Y], cost, updates=[(w,w-mu*gw),(b,b-mu*gb)])"
   ]
  },
  {
   "cell_type": "code",
   "execution_count": 199,
   "metadata": {},
   "outputs": [
    {
     "name": "stdout",
     "output_type": "stream",
     "text": [
      "   0:  24.77347311486501\n",
      "  10:  45.533036666210414\n",
      "  20:  27.246506305791826\n",
      "  30:  17.844560887575163\n",
      "  40:  29.517666024609717\n",
      "  50:  4.644198551389643\n",
      "  60:  14.642362476231819\n",
      "  70:  11.634128838441296\n",
      "  80:  2.117699559278093\n",
      "  90:  2.0469300998461377\n"
     ]
    }
   ],
   "source": [
    "for i in range(100):\n",
    "    cost_i = train(x,y)\n",
    "    if i%10 == 0:\n",
    "        print(\"{:4d}: \".format(i), cost_i)"
   ]
  },
  {
   "cell_type": "code",
   "execution_count": 200,
   "metadata": {},
   "outputs": [
    {
     "data": {
      "text/plain": [
       "array([0., 0., 0., 0., 0., 0., 0., 0., 0., 0., 0., 0., 0., 0., 0., 0., 0.,\n",
       "       0., 0., 0., 0., 0., 0., 0., 0., 0., 0., 0., 0., 0., 0., 0., 0., 0.,\n",
       "       0., 0., 0., 0., 0., 0., 0., 1., 0., 0., 0., 0., 0., 0., 0., 0., 1.,\n",
       "       1., 1., 1., 1., 1., 1., 1., 1., 1., 1., 1., 1., 1., 1., 1., 1., 1.,\n",
       "       1., 1., 1., 1., 1., 1., 1., 1., 1., 1., 1., 1., 1., 1., 1., 1., 1.,\n",
       "       1., 1., 1., 1., 1., 1., 1., 1., 1., 1., 1., 1., 1., 1., 1.])"
      ]
     },
     "execution_count": 200,
     "metadata": {},
     "output_type": "execute_result"
    }
   ],
   "source": [
    "y_pred = T.round(z) # sgn이 아니라 round써야함\n",
    "y_pred_func = theano.function([X], y_pred)\n",
    "y_hat = y_pred_func(x)\n",
    "y_hat"
   ]
  },
  {
   "cell_type": "code",
   "execution_count": 201,
   "metadata": {},
   "outputs": [
    {
     "data": {
      "text/plain": [
       "array([[49,  1],\n",
       "       [ 0, 50]], dtype=int64)"
      ]
     },
     "execution_count": 201,
     "metadata": {},
     "output_type": "execute_result"
    }
   ],
   "source": [
    "confusion_matrix(y,y_hat)"
   ]
  },
  {
   "cell_type": "code",
   "execution_count": null,
   "metadata": {},
   "outputs": [],
   "source": []
  }
 ],
 "metadata": {
  "kernelspec": {
   "display_name": "Python 3",
   "language": "python",
   "name": "python3"
  },
  "language_info": {
   "codemirror_mode": {
    "name": "ipython",
    "version": 3
   },
   "file_extension": ".py",
   "mimetype": "text/x-python",
   "name": "python",
   "nbconvert_exporter": "python",
   "pygments_lexer": "ipython3",
   "version": "3.6.6"
  }
 },
 "nbformat": 4,
 "nbformat_minor": 2
}
