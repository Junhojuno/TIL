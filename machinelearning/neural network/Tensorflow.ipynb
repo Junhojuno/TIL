{
 "cells": [
  {
   "cell_type": "markdown",
   "metadata": {},
   "source": [
    "### TensorFlow\n",
    "- 분산처리 기능 강화\n",
    "    - 다른 컴퓨터와 통신을 해야함. (Session 기능추가)"
   ]
  },
  {
   "cell_type": "markdown",
   "metadata": {},
   "source": [
    "##### 1. 심볼변수 정의"
   ]
  },
  {
   "cell_type": "code",
   "execution_count": 1,
   "metadata": {},
   "outputs": [],
   "source": [
    "import tensorflow as tf"
   ]
  },
  {
   "cell_type": "code",
   "execution_count": 2,
   "metadata": {},
   "outputs": [],
   "source": [
    "x = tf.Variable(1.0)\n",
    "y = tf.Variable(2.0)"
   ]
  },
  {
   "cell_type": "code",
   "execution_count": 3,
   "metadata": {},
   "outputs": [
    {
     "data": {
      "text/plain": [
       "(tensorflow.python.ops.variables.Variable,\n",
       " tensorflow.python.ops.variables.Variable)"
      ]
     },
     "execution_count": 3,
     "metadata": {},
     "output_type": "execute_result"
    }
   ],
   "source": [
    "type(x), type(y)"
   ]
  },
  {
   "cell_type": "markdown",
   "metadata": {},
   "source": [
    "##### 2. 심볼관계 정의"
   ]
  },
  {
   "cell_type": "code",
   "execution_count": 4,
   "metadata": {},
   "outputs": [],
   "source": [
    "z = x + y"
   ]
  },
  {
   "cell_type": "code",
   "execution_count": 5,
   "metadata": {},
   "outputs": [
    {
     "data": {
      "text/plain": [
       "tensorflow.python.framework.ops.Tensor"
      ]
     },
     "execution_count": 5,
     "metadata": {},
     "output_type": "execute_result"
    }
   ],
   "source": [
    "type(z)"
   ]
  },
  {
   "cell_type": "code",
   "execution_count": 6,
   "metadata": {},
   "outputs": [
    {
     "data": {
      "text/plain": [
       "tensorflow.python.framework.ops.Tensor"
      ]
     },
     "execution_count": 6,
     "metadata": {},
     "output_type": "execute_result"
    }
   ],
   "source": [
    "u = tf.log(z)\n",
    "type(u)"
   ]
  },
  {
   "cell_type": "markdown",
   "metadata": {},
   "source": [
    "##### 2. Session\n",
    "- function이 아닌 session으로 한다."
   ]
  },
  {
   "cell_type": "code",
   "execution_count": 7,
   "metadata": {},
   "outputs": [
    {
     "name": "stdout",
     "output_type": "stream",
     "text": [
      "3.0\n",
      "1.0986123\n"
     ]
    }
   ],
   "source": [
    "sess = tf.Session()\n",
    "init = tf.global_variables_initializer() # 각 심볼에 들어갈 초기값이 셋팅\n",
    "sess.run(init)\n",
    "print(sess.run(z))\n",
    "print(sess.run(u))\n",
    "sess.close()"
   ]
  },
  {
   "cell_type": "markdown",
   "metadata": {},
   "source": [
    "##### 3. 미분"
   ]
  },
  {
   "cell_type": "code",
   "execution_count": 8,
   "metadata": {},
   "outputs": [
    {
     "name": "stdout",
     "output_type": "stream",
     "text": [
      "1.0\n",
      "[2.0]\n"
     ]
    }
   ],
   "source": [
    "f = x**2\n",
    "fx = tf.gradients(f, [x])\n",
    "# with구문으로 close가능\n",
    "with tf.Session() as sess:\n",
    "    init = tf.global_variables_initializer()\n",
    "    sess.run(init)\n",
    "    print(sess.run(f))    \n",
    "    print(sess.run(fx))"
   ]
  },
  {
   "cell_type": "markdown",
   "metadata": {},
   "source": [
    "##### 4. 최적화\n",
    "- GradientDescentOptimizer 등의 클래스를 통해 update그래프가 튀어나온다."
   ]
  },
  {
   "cell_type": "markdown",
   "metadata": {},
   "source": [
    "##### 5. Tensorboard라는 웹 서버\n",
    "- vector, matrix summary는 없음. 대신 히스토그램 제공(scalar summary는 있음, 이미지, 음성도 따로 summary존재)\n",
    "- summary.merge : 원하는 summary들을 하나의 summary로 합침"
   ]
  },
  {
   "cell_type": "code",
   "execution_count": 9,
   "metadata": {},
   "outputs": [],
   "source": [
    "!rm -rf /home/dockeruser/logs/*"
   ]
  },
  {
   "cell_type": "code",
   "execution_count": 24,
   "metadata": {},
   "outputs": [],
   "source": [
    "from sklearn.datasets import load_iris\n",
    "iris = load_iris()\n",
    "\n",
    "idx = np.in1d(iris.target, [0, 2])\n",
    "X_data = iris.data[idx, 0:2]\n",
    "y_data = (iris.target[idx] * 0.5)[:, np.newaxis] # y=1 또는 y=0. 2차원임을 명시"
   ]
  },
  {
   "cell_type": "code",
   "execution_count": 131,
   "metadata": {},
   "outputs": [
    {
     "name": "stdout",
     "output_type": "stream",
     "text": [
      "   0:  26.290276373227286\n",
      "  10:  15.5158459529319\n",
      "  20:  43.06665688541476\n",
      "  30:  42.91550316994202\n",
      "  40:  38.494576725459034\n",
      "  50:  9.009603111032\n",
      "  60:  16.26356489306519\n",
      "  70:  8.208568530968687\n",
      "  80:  2.0904292198174517\n",
      "  90:  2.0311847954025946\n"
     ]
    }
   ],
   "source": [
    "np.random.seed(0)\n",
    "w = tf.Variable(1e-3 * np.random.randn(2,1))\n",
    "b = tf.Variable(1e-3 * np.random.randn(1)[0])\n",
    "d = tf.nn.sigmoid(tf.matmul(X_data, w) + b)\n",
    "\n",
    "# zero = np.zeros(1, dtype=np.float64)[0] # float64 자료형의 0 값 생성 \n",
    "cost = tf.reduce_sum((y_data - d)**2)\n",
    "optimizer = tf.train.GradientDescentOptimizer(0.01)\n",
    "train = optimizer.minimize(cost)\n",
    "\n",
    "sess = tf.Session()\n",
    "\n",
    "w_summary = tf.summary.histogram(\"w\", w)\n",
    "b_summary = tf.summary.histogram(\"b\", b)\n",
    "d_summary = tf.summary.histogram(\"d\", d)\n",
    "cost_summary = tf.summary.histogram(\"cost\", cost)\n",
    "merged = tf.summary.merge([w_summary, b_summary, d_summary, cost_summary])\n",
    "\n",
    "\n",
    "init = tf.global_variables_initializer()\n",
    "sess.run(init)\n",
    "\n",
    "writer = tf.summary.FileWriter(\"C:/home/dockeruser/log\", sess.graph)\n",
    "\n",
    "for i in range(100):\n",
    "    sess.run(train)\n",
    "    summary = sess.run(merged)\n",
    "    writer.add_summary(summary, i)\n",
    "    if i % 10 == 0:\n",
    "        print(\"{:4d}: \".format(i), sess.run(cost))"
   ]
  },
  {
   "cell_type": "code",
   "execution_count": 132,
   "metadata": {},
   "outputs": [],
   "source": [
    "y_pred = sess.run(tf.round(d))"
   ]
  },
  {
   "cell_type": "code",
   "execution_count": 133,
   "metadata": {},
   "outputs": [],
   "source": [
    "sess.close()"
   ]
  },
  {
   "cell_type": "code",
   "execution_count": 134,
   "metadata": {},
   "outputs": [
    {
     "data": {
      "text/plain": [
       "array([[49,  1],\n",
       "       [ 0, 50]], dtype=int64)"
      ]
     },
     "execution_count": 134,
     "metadata": {},
     "output_type": "execute_result"
    }
   ],
   "source": [
    "from sklearn.metrics import confusion_matrix\n",
    "\n",
    "confusion_matrix(y_data, y_pred)"
   ]
  }
 ],
 "metadata": {
  "kernelspec": {
   "display_name": "Python 3",
   "language": "python",
   "name": "python3"
  },
  "language_info": {
   "codemirror_mode": {
    "name": "ipython",
    "version": 3
   },
   "file_extension": ".py",
   "mimetype": "text/x-python",
   "name": "python",
   "nbconvert_exporter": "python",
   "pygments_lexer": "ipython3",
   "version": "3.6.6"
  }
 },
 "nbformat": 4,
 "nbformat_minor": 2
}
