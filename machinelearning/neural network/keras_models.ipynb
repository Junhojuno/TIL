{
 "cells": [
  {
   "cell_type": "code",
   "execution_count": 1,
   "metadata": {},
   "outputs": [],
   "source": [
    "from keras.layers import Input, Dense\n",
    "from keras.models import Model, Sequential"
   ]
  },
  {
   "cell_type": "code",
   "execution_count": 2,
   "metadata": {},
   "outputs": [],
   "source": [
    "# sample weights\n",
    "np.random.seed(0)\n",
    "w = 0.5 * np.random.normal(size=(4, 4))\n",
    "b = np.zeros((4))"
   ]
  },
  {
   "cell_type": "code",
   "execution_count": 3,
   "metadata": {},
   "outputs": [
    {
     "data": {
      "text/plain": [
       "array([0., 0., 0., 0.])"
      ]
     },
     "execution_count": 3,
     "metadata": {},
     "output_type": "execute_result"
    }
   ],
   "source": [
    "np.zeros((4))"
   ]
  },
  {
   "cell_type": "code",
   "execution_count": 4,
   "metadata": {},
   "outputs": [
    {
     "data": {
      "text/plain": [
       "array([0., 0., 0., 0.])"
      ]
     },
     "execution_count": 4,
     "metadata": {},
     "output_type": "execute_result"
    }
   ],
   "source": [
    "np.zeros(4)"
   ]
  },
  {
   "cell_type": "code",
   "execution_count": 5,
   "metadata": {},
   "outputs": [
    {
     "data": {
      "text/plain": [
       "keras.engine.sequential.Sequential"
      ]
     },
     "execution_count": 5,
     "metadata": {},
     "output_type": "execute_result"
    }
   ],
   "source": [
    "model1 = Sequential(name=\"model1\")\n",
    "model1.add(Dense(4, input_shape=(4,), activation='sigmoid', weights=(w,b), name=\"dense1\"))\n",
    "type(model1)"
   ]
  },
  {
   "cell_type": "code",
   "execution_count": 6,
   "metadata": {},
   "outputs": [
    {
     "name": "stdout",
     "output_type": "stream",
     "text": [
      "_________________________________________________________________\n",
      "Layer (type)                 Output Shape              Param #   \n",
      "=================================================================\n",
      "dense1 (Dense)               (None, 4)                 20        \n",
      "=================================================================\n",
      "Total params: 20\n",
      "Trainable params: 20\n",
      "Non-trainable params: 0\n",
      "_________________________________________________________________\n"
     ]
    }
   ],
   "source": [
    "model1.summary()"
   ]
  },
  {
   "cell_type": "code",
   "execution_count": 8,
   "metadata": {},
   "outputs": [
    {
     "data": {
      "image/svg+xml": [
       "<svg height=\"128pt\" viewBox=\"0.00 0.00 231.00 128.00\" width=\"231pt\" xmlns=\"http://www.w3.org/2000/svg\" xmlns:xlink=\"http://www.w3.org/1999/xlink\">\n",
       "<g class=\"graph\" id=\"graph0\" transform=\"scale(1 1) rotate(0) translate(4 124)\">\n",
       "<title>G</title>\n",
       "<polygon fill=\"white\" points=\"-4,4 -4,-124 227,-124 227,4 -4,4\" stroke=\"none\"/>\n",
       "<!-- 2337060044192 -->\n",
       "<g class=\"node\" id=\"node1\"><title>2337060044192</title>\n",
       "<polygon fill=\"none\" points=\"0,-0.5 0,-46.5 223,-46.5 223,-0.5 0,-0.5\" stroke=\"black\"/>\n",
       "<text font-family=\"Times New Roman,serif\" font-size=\"14.00\" text-anchor=\"middle\" x=\"48.5\" y=\"-19.8\">dense1: Dense</text>\n",
       "<polyline fill=\"none\" points=\"97,-0.5 97,-46.5 \" stroke=\"black\"/>\n",
       "<text font-family=\"Times New Roman,serif\" font-size=\"14.00\" text-anchor=\"middle\" x=\"125\" y=\"-31.3\">input:</text>\n",
       "<polyline fill=\"none\" points=\"97,-23.5 153,-23.5 \" stroke=\"black\"/>\n",
       "<text font-family=\"Times New Roman,serif\" font-size=\"14.00\" text-anchor=\"middle\" x=\"125\" y=\"-8.3\">output:</text>\n",
       "<polyline fill=\"none\" points=\"153,-0.5 153,-46.5 \" stroke=\"black\"/>\n",
       "<text font-family=\"Times New Roman,serif\" font-size=\"14.00\" text-anchor=\"middle\" x=\"188\" y=\"-31.3\">(None, 4)</text>\n",
       "<polyline fill=\"none\" points=\"153,-23.5 223,-23.5 \" stroke=\"black\"/>\n",
       "<text font-family=\"Times New Roman,serif\" font-size=\"14.00\" text-anchor=\"middle\" x=\"188\" y=\"-8.3\">(None, 4)</text>\n",
       "</g>\n",
       "<!-- 2336990884248 -->\n",
       "<g class=\"node\" id=\"node2\"><title>2336990884248</title>\n",
       "<polygon fill=\"none\" points=\"59.5,-83.5 59.5,-119.5 163.5,-119.5 163.5,-83.5 59.5,-83.5\" stroke=\"black\"/>\n",
       "<text font-family=\"Times New Roman,serif\" font-size=\"14.00\" text-anchor=\"middle\" x=\"111.5\" y=\"-97.8\">2336990884248</text>\n",
       "</g>\n",
       "<!-- 2336990884248&#45;&gt;2337060044192 -->\n",
       "<g class=\"edge\" id=\"edge1\"><title>2336990884248-&gt;2337060044192</title>\n",
       "<path d=\"M111.5,-83.2544C111.5,-75.3631 111.5,-65.7491 111.5,-56.6025\" fill=\"none\" stroke=\"black\"/>\n",
       "<polygon fill=\"black\" points=\"115,-56.5908 111.5,-46.5908 108,-56.5909 115,-56.5908\" stroke=\"black\"/>\n",
       "</g>\n",
       "</g>\n",
       "</svg>"
      ],
      "text/plain": [
       "<IPython.core.display.SVG object>"
      ]
     },
     "execution_count": 8,
     "metadata": {},
     "output_type": "execute_result"
    }
   ],
   "source": [
    "from IPython.display import SVG\n",
    "from keras.utils.vis_utils import model_to_dot\n",
    "\n",
    "SVG(model_to_dot(model1, show_shapes=True).create(prog='dot', format='svg'))"
   ]
  },
  {
   "cell_type": "code",
   "execution_count": 9,
   "metadata": {},
   "outputs": [
    {
     "data": {
      "text/plain": [
       "keras.engine.training.Model"
      ]
     },
     "execution_count": 9,
     "metadata": {},
     "output_type": "execute_result"
    }
   ],
   "source": [
    "input_layer2 = Input(shape=(4,), name='input2')\n",
    "# layer와 layer 연결\n",
    "hidden_layer2 = Dense(4, activation='sigmoid', weights=(w,b), name=\"dense2\")(input_layer2)\n",
    "model2 = Model(input_layer2, hidden_layer2, name='model2')\n",
    "type(model2)"
   ]
  },
  {
   "cell_type": "code",
   "execution_count": 10,
   "metadata": {},
   "outputs": [
    {
     "name": "stdout",
     "output_type": "stream",
     "text": [
      "_________________________________________________________________\n",
      "Layer (type)                 Output Shape              Param #   \n",
      "=================================================================\n",
      "input2 (InputLayer)          (None, 4)                 0         \n",
      "_________________________________________________________________\n",
      "dense2 (Dense)               (None, 4)                 20        \n",
      "=================================================================\n",
      "Total params: 20\n",
      "Trainable params: 20\n",
      "Non-trainable params: 0\n",
      "_________________________________________________________________\n"
     ]
    }
   ],
   "source": [
    "model2.summary()"
   ]
  },
  {
   "cell_type": "code",
   "execution_count": 11,
   "metadata": {},
   "outputs": [
    {
     "data": {
      "image/svg+xml": [
       "<svg height=\"138pt\" viewBox=\"0.00 0.00 253.00 138.00\" width=\"253pt\" xmlns=\"http://www.w3.org/2000/svg\" xmlns:xlink=\"http://www.w3.org/1999/xlink\">\n",
       "<g class=\"graph\" id=\"graph0\" transform=\"scale(1 1) rotate(0) translate(4 134)\">\n",
       "<title>G</title>\n",
       "<polygon fill=\"white\" points=\"-4,4 -4,-134 249,-134 249,4 -4,4\" stroke=\"none\"/>\n",
       "<!-- 2337062220744 -->\n",
       "<g class=\"node\" id=\"node1\"><title>2337062220744</title>\n",
       "<polygon fill=\"none\" points=\"0,-83.5 0,-129.5 245,-129.5 245,-83.5 0,-83.5\" stroke=\"black\"/>\n",
       "<text font-family=\"Times New Roman,serif\" font-size=\"14.00\" text-anchor=\"middle\" x=\"59.5\" y=\"-102.8\">input2: InputLayer</text>\n",
       "<polyline fill=\"none\" points=\"119,-83.5 119,-129.5 \" stroke=\"black\"/>\n",
       "<text font-family=\"Times New Roman,serif\" font-size=\"14.00\" text-anchor=\"middle\" x=\"147\" y=\"-114.3\">input:</text>\n",
       "<polyline fill=\"none\" points=\"119,-106.5 175,-106.5 \" stroke=\"black\"/>\n",
       "<text font-family=\"Times New Roman,serif\" font-size=\"14.00\" text-anchor=\"middle\" x=\"147\" y=\"-91.3\">output:</text>\n",
       "<polyline fill=\"none\" points=\"175,-83.5 175,-129.5 \" stroke=\"black\"/>\n",
       "<text font-family=\"Times New Roman,serif\" font-size=\"14.00\" text-anchor=\"middle\" x=\"210\" y=\"-114.3\">(None, 4)</text>\n",
       "<polyline fill=\"none\" points=\"175,-106.5 245,-106.5 \" stroke=\"black\"/>\n",
       "<text font-family=\"Times New Roman,serif\" font-size=\"14.00\" text-anchor=\"middle\" x=\"210\" y=\"-91.3\">(None, 4)</text>\n",
       "</g>\n",
       "<!-- 2337062220576 -->\n",
       "<g class=\"node\" id=\"node2\"><title>2337062220576</title>\n",
       "<polygon fill=\"none\" points=\"11,-0.5 11,-46.5 234,-46.5 234,-0.5 11,-0.5\" stroke=\"black\"/>\n",
       "<text font-family=\"Times New Roman,serif\" font-size=\"14.00\" text-anchor=\"middle\" x=\"59.5\" y=\"-19.8\">dense2: Dense</text>\n",
       "<polyline fill=\"none\" points=\"108,-0.5 108,-46.5 \" stroke=\"black\"/>\n",
       "<text font-family=\"Times New Roman,serif\" font-size=\"14.00\" text-anchor=\"middle\" x=\"136\" y=\"-31.3\">input:</text>\n",
       "<polyline fill=\"none\" points=\"108,-23.5 164,-23.5 \" stroke=\"black\"/>\n",
       "<text font-family=\"Times New Roman,serif\" font-size=\"14.00\" text-anchor=\"middle\" x=\"136\" y=\"-8.3\">output:</text>\n",
       "<polyline fill=\"none\" points=\"164,-0.5 164,-46.5 \" stroke=\"black\"/>\n",
       "<text font-family=\"Times New Roman,serif\" font-size=\"14.00\" text-anchor=\"middle\" x=\"199\" y=\"-31.3\">(None, 4)</text>\n",
       "<polyline fill=\"none\" points=\"164,-23.5 234,-23.5 \" stroke=\"black\"/>\n",
       "<text font-family=\"Times New Roman,serif\" font-size=\"14.00\" text-anchor=\"middle\" x=\"199\" y=\"-8.3\">(None, 4)</text>\n",
       "</g>\n",
       "<!-- 2337062220744&#45;&gt;2337062220576 -->\n",
       "<g class=\"edge\" id=\"edge1\"><title>2337062220744-&gt;2337062220576</title>\n",
       "<path d=\"M122.5,-83.3664C122.5,-75.1516 122.5,-65.6579 122.5,-56.7252\" fill=\"none\" stroke=\"black\"/>\n",
       "<polygon fill=\"black\" points=\"126,-56.6068 122.5,-46.6068 119,-56.6069 126,-56.6068\" stroke=\"black\"/>\n",
       "</g>\n",
       "</g>\n",
       "</svg>"
      ],
      "text/plain": [
       "<IPython.core.display.SVG object>"
      ]
     },
     "execution_count": 11,
     "metadata": {},
     "output_type": "execute_result"
    }
   ],
   "source": [
    "SVG(model_to_dot(model2, show_shapes=True).create(prog='dot', format='svg'))"
   ]
  },
  {
   "cell_type": "code",
   "execution_count": 12,
   "metadata": {},
   "outputs": [
    {
     "name": "stdout",
     "output_type": "stream",
     "text": [
      "_________________________________________________________________\n",
      "Layer (type)                 Output Shape              Param #   \n",
      "=================================================================\n",
      "input2 (InputLayer)          (None, 4)                 0         \n",
      "_________________________________________________________________\n",
      "model1 (Sequential)          (None, 4)                 20        \n",
      "=================================================================\n",
      "Total params: 20\n",
      "Trainable params: 20\n",
      "Non-trainable params: 0\n",
      "_________________________________________________________________\n"
     ]
    }
   ],
   "source": [
    "# model1, input_layer2 결합\n",
    "model3 = Model(input_layer2, model1(input_layer2), name='model3')\n",
    "model3.summary()"
   ]
  },
  {
   "cell_type": "code",
   "execution_count": 13,
   "metadata": {},
   "outputs": [
    {
     "data": {
      "image/svg+xml": [
       "<svg height=\"138pt\" viewBox=\"0.00 0.00 256.00 138.00\" width=\"256pt\" xmlns=\"http://www.w3.org/2000/svg\" xmlns:xlink=\"http://www.w3.org/1999/xlink\">\n",
       "<g class=\"graph\" id=\"graph0\" transform=\"scale(1 1) rotate(0) translate(4 134)\">\n",
       "<title>G</title>\n",
       "<polygon fill=\"white\" points=\"-4,4 -4,-134 252,-134 252,4 -4,4\" stroke=\"none\"/>\n",
       "<!-- 2337062220744 -->\n",
       "<g class=\"node\" id=\"node1\"><title>2337062220744</title>\n",
       "<polygon fill=\"none\" points=\"1.5,-83.5 1.5,-129.5 246.5,-129.5 246.5,-83.5 1.5,-83.5\" stroke=\"black\"/>\n",
       "<text font-family=\"Times New Roman,serif\" font-size=\"14.00\" text-anchor=\"middle\" x=\"61\" y=\"-102.8\">input2: InputLayer</text>\n",
       "<polyline fill=\"none\" points=\"120.5,-83.5 120.5,-129.5 \" stroke=\"black\"/>\n",
       "<text font-family=\"Times New Roman,serif\" font-size=\"14.00\" text-anchor=\"middle\" x=\"148.5\" y=\"-114.3\">input:</text>\n",
       "<polyline fill=\"none\" points=\"120.5,-106.5 176.5,-106.5 \" stroke=\"black\"/>\n",
       "<text font-family=\"Times New Roman,serif\" font-size=\"14.00\" text-anchor=\"middle\" x=\"148.5\" y=\"-91.3\">output:</text>\n",
       "<polyline fill=\"none\" points=\"176.5,-83.5 176.5,-129.5 \" stroke=\"black\"/>\n",
       "<text font-family=\"Times New Roman,serif\" font-size=\"14.00\" text-anchor=\"middle\" x=\"211.5\" y=\"-114.3\">(None, 4)</text>\n",
       "<polyline fill=\"none\" points=\"176.5,-106.5 246.5,-106.5 \" stroke=\"black\"/>\n",
       "<text font-family=\"Times New Roman,serif\" font-size=\"14.00\" text-anchor=\"middle\" x=\"211.5\" y=\"-91.3\">(None, 4)</text>\n",
       "</g>\n",
       "<!-- 2337060043800 -->\n",
       "<g class=\"node\" id=\"node2\"><title>2337060043800</title>\n",
       "<polygon fill=\"none\" points=\"0,-0.5 0,-46.5 248,-46.5 248,-0.5 0,-0.5\" stroke=\"black\"/>\n",
       "<text font-family=\"Times New Roman,serif\" font-size=\"14.00\" text-anchor=\"middle\" x=\"61\" y=\"-19.8\">model1: Sequential</text>\n",
       "<polyline fill=\"none\" points=\"122,-0.5 122,-46.5 \" stroke=\"black\"/>\n",
       "<text font-family=\"Times New Roman,serif\" font-size=\"14.00\" text-anchor=\"middle\" x=\"150\" y=\"-31.3\">input:</text>\n",
       "<polyline fill=\"none\" points=\"122,-23.5 178,-23.5 \" stroke=\"black\"/>\n",
       "<text font-family=\"Times New Roman,serif\" font-size=\"14.00\" text-anchor=\"middle\" x=\"150\" y=\"-8.3\">output:</text>\n",
       "<polyline fill=\"none\" points=\"178,-0.5 178,-46.5 \" stroke=\"black\"/>\n",
       "<text font-family=\"Times New Roman,serif\" font-size=\"14.00\" text-anchor=\"middle\" x=\"213\" y=\"-31.3\">(None, 4)</text>\n",
       "<polyline fill=\"none\" points=\"178,-23.5 248,-23.5 \" stroke=\"black\"/>\n",
       "<text font-family=\"Times New Roman,serif\" font-size=\"14.00\" text-anchor=\"middle\" x=\"213\" y=\"-8.3\">(None, 4)</text>\n",
       "</g>\n",
       "<!-- 2337062220744&#45;&gt;2337060043800 -->\n",
       "<g class=\"edge\" id=\"edge1\"><title>2337062220744-&gt;2337060043800</title>\n",
       "<path d=\"M124,-83.3664C124,-75.1516 124,-65.6579 124,-56.7252\" fill=\"none\" stroke=\"black\"/>\n",
       "<polygon fill=\"black\" points=\"127.5,-56.6068 124,-46.6068 120.5,-56.6069 127.5,-56.6068\" stroke=\"black\"/>\n",
       "</g>\n",
       "</g>\n",
       "</svg>"
      ],
      "text/plain": [
       "<IPython.core.display.SVG object>"
      ]
     },
     "execution_count": 13,
     "metadata": {},
     "output_type": "execute_result"
    }
   ],
   "source": [
    "SVG(model_to_dot(model3, show_shapes=True).create(prog='dot', format='svg'))"
   ]
  },
  {
   "cell_type": "code",
   "execution_count": 14,
   "metadata": {},
   "outputs": [
    {
     "name": "stdout",
     "output_type": "stream",
     "text": [
      "_________________________________________________________________\n",
      "Layer (type)                 Output Shape              Param #   \n",
      "=================================================================\n",
      "input4 (InputLayer)          (None, 4)                 0         \n",
      "_________________________________________________________________\n",
      "model2 (Model)               (None, 4)                 20        \n",
      "=================================================================\n",
      "Total params: 20\n",
      "Trainable params: 20\n",
      "Non-trainable params: 0\n",
      "_________________________________________________________________\n"
     ]
    }
   ],
   "source": [
    "input_layer4 = Input(shape=(4,), name='input4')\n",
    "model4 = Model(input_layer4, model2(input_layer4), name='model4')\n",
    "model4.summary()"
   ]
  },
  {
   "cell_type": "code",
   "execution_count": 15,
   "metadata": {},
   "outputs": [
    {
     "data": {
      "image/svg+xml": [
       "<svg height=\"138pt\" viewBox=\"0.00 0.00 253.00 138.00\" width=\"253pt\" xmlns=\"http://www.w3.org/2000/svg\" xmlns:xlink=\"http://www.w3.org/1999/xlink\">\n",
       "<g class=\"graph\" id=\"graph0\" transform=\"scale(1 1) rotate(0) translate(4 134)\">\n",
       "<title>G</title>\n",
       "<polygon fill=\"white\" points=\"-4,4 -4,-134 249,-134 249,4 -4,4\" stroke=\"none\"/>\n",
       "<!-- 2337062675120 -->\n",
       "<g class=\"node\" id=\"node1\"><title>2337062675120</title>\n",
       "<polygon fill=\"none\" points=\"0,-83.5 0,-129.5 245,-129.5 245,-83.5 0,-83.5\" stroke=\"black\"/>\n",
       "<text font-family=\"Times New Roman,serif\" font-size=\"14.00\" text-anchor=\"middle\" x=\"59.5\" y=\"-102.8\">input4: InputLayer</text>\n",
       "<polyline fill=\"none\" points=\"119,-83.5 119,-129.5 \" stroke=\"black\"/>\n",
       "<text font-family=\"Times New Roman,serif\" font-size=\"14.00\" text-anchor=\"middle\" x=\"147\" y=\"-114.3\">input:</text>\n",
       "<polyline fill=\"none\" points=\"119,-106.5 175,-106.5 \" stroke=\"black\"/>\n",
       "<text font-family=\"Times New Roman,serif\" font-size=\"14.00\" text-anchor=\"middle\" x=\"147\" y=\"-91.3\">output:</text>\n",
       "<polyline fill=\"none\" points=\"175,-83.5 175,-129.5 \" stroke=\"black\"/>\n",
       "<text font-family=\"Times New Roman,serif\" font-size=\"14.00\" text-anchor=\"middle\" x=\"210\" y=\"-114.3\">(None, 4)</text>\n",
       "<polyline fill=\"none\" points=\"175,-106.5 245,-106.5 \" stroke=\"black\"/>\n",
       "<text font-family=\"Times New Roman,serif\" font-size=\"14.00\" text-anchor=\"middle\" x=\"210\" y=\"-91.3\">(None, 4)</text>\n",
       "</g>\n",
       "<!-- 2337062223600 -->\n",
       "<g class=\"node\" id=\"node2\"><title>2337062223600</title>\n",
       "<polygon fill=\"none\" points=\"9,-0.5 9,-46.5 236,-46.5 236,-0.5 9,-0.5\" stroke=\"black\"/>\n",
       "<text font-family=\"Times New Roman,serif\" font-size=\"14.00\" text-anchor=\"middle\" x=\"59.5\" y=\"-19.8\">model2: Model</text>\n",
       "<polyline fill=\"none\" points=\"110,-0.5 110,-46.5 \" stroke=\"black\"/>\n",
       "<text font-family=\"Times New Roman,serif\" font-size=\"14.00\" text-anchor=\"middle\" x=\"138\" y=\"-31.3\">input:</text>\n",
       "<polyline fill=\"none\" points=\"110,-23.5 166,-23.5 \" stroke=\"black\"/>\n",
       "<text font-family=\"Times New Roman,serif\" font-size=\"14.00\" text-anchor=\"middle\" x=\"138\" y=\"-8.3\">output:</text>\n",
       "<polyline fill=\"none\" points=\"166,-0.5 166,-46.5 \" stroke=\"black\"/>\n",
       "<text font-family=\"Times New Roman,serif\" font-size=\"14.00\" text-anchor=\"middle\" x=\"201\" y=\"-31.3\">(None, 4)</text>\n",
       "<polyline fill=\"none\" points=\"166,-23.5 236,-23.5 \" stroke=\"black\"/>\n",
       "<text font-family=\"Times New Roman,serif\" font-size=\"14.00\" text-anchor=\"middle\" x=\"201\" y=\"-8.3\">(None, 4)</text>\n",
       "</g>\n",
       "<!-- 2337062675120&#45;&gt;2337062223600 -->\n",
       "<g class=\"edge\" id=\"edge1\"><title>2337062675120-&gt;2337062223600</title>\n",
       "<path d=\"M122.5,-83.3664C122.5,-75.1516 122.5,-65.6579 122.5,-56.7252\" fill=\"none\" stroke=\"black\"/>\n",
       "<polygon fill=\"black\" points=\"126,-56.6068 122.5,-46.6068 119,-56.6069 126,-56.6068\" stroke=\"black\"/>\n",
       "</g>\n",
       "</g>\n",
       "</svg>"
      ],
      "text/plain": [
       "<IPython.core.display.SVG object>"
      ]
     },
     "execution_count": 15,
     "metadata": {},
     "output_type": "execute_result"
    }
   ],
   "source": [
    "SVG(model_to_dot(model4, show_shapes=True).create(prog='dot', format='svg'))"
   ]
  },
  {
   "cell_type": "code",
   "execution_count": 19,
   "metadata": {},
   "outputs": [
    {
     "data": {
      "text/plain": [
       "array([[1., 1., 1., 1.]])"
      ]
     },
     "execution_count": 19,
     "metadata": {},
     "output_type": "execute_result"
    }
   ],
   "source": [
    "data = np.ones((1,4))\n",
    "data"
   ]
  },
  {
   "cell_type": "code",
   "execution_count": 17,
   "metadata": {},
   "outputs": [
    {
     "data": {
      "text/plain": [
       "array([[0.89517384],\n",
       "       [0.49439434],\n",
       "       [0.7787448 ],\n",
       "       [0.87421386]])"
      ]
     },
     "execution_count": 17,
     "metadata": {},
     "output_type": "execute_result"
    }
   ],
   "source": [
    "y = 1 / (1 + np.exp(-(w.T).dot(data.T)))\n",
    "y"
   ]
  },
  {
   "cell_type": "code",
   "execution_count": 18,
   "metadata": {},
   "outputs": [
    {
     "data": {
      "text/plain": [
       "array([[0.89517385, 0.49439433, 0.7787448 , 0.8742138 ]], dtype=float32)"
      ]
     },
     "execution_count": 18,
     "metadata": {},
     "output_type": "execute_result"
    }
   ],
   "source": [
    "model1.predict(data)"
   ]
  },
  {
   "cell_type": "code",
   "execution_count": 20,
   "metadata": {},
   "outputs": [
    {
     "data": {
      "text/plain": [
       "array([[0.89517385, 0.49439433, 0.7787448 , 0.8742138 ]], dtype=float32)"
      ]
     },
     "execution_count": 20,
     "metadata": {},
     "output_type": "execute_result"
    }
   ],
   "source": [
    "model2.predict(data)"
   ]
  },
  {
   "cell_type": "code",
   "execution_count": 21,
   "metadata": {},
   "outputs": [
    {
     "data": {
      "text/plain": [
       "array([[0.89517385, 0.49439433, 0.7787448 , 0.8742138 ]], dtype=float32)"
      ]
     },
     "execution_count": 21,
     "metadata": {},
     "output_type": "execute_result"
    }
   ],
   "source": [
    "model3.predict(data)"
   ]
  },
  {
   "cell_type": "code",
   "execution_count": 22,
   "metadata": {},
   "outputs": [
    {
     "data": {
      "text/plain": [
       "array([[0.89517385, 0.49439433, 0.7787448 , 0.8742138 ]], dtype=float32)"
      ]
     },
     "execution_count": 22,
     "metadata": {},
     "output_type": "execute_result"
    }
   ],
   "source": [
    "model4.predict(data)"
   ]
  },
  {
   "cell_type": "markdown",
   "metadata": {},
   "source": [
    "##### model끼리 연결하기"
   ]
  },
  {
   "cell_type": "code",
   "execution_count": 23,
   "metadata": {},
   "outputs": [
    {
     "name": "stdout",
     "output_type": "stream",
     "text": [
      "_________________________________________________________________\n",
      "Layer (type)                 Output Shape              Param #   \n",
      "=================================================================\n",
      "input5 (InputLayer)          (None, 4)                 0         \n",
      "_________________________________________________________________\n",
      "model1 (Sequential)          (None, 4)                 20        \n",
      "_________________________________________________________________\n",
      "model2 (Model)               (None, 4)                 20        \n",
      "=================================================================\n",
      "Total params: 40\n",
      "Trainable params: 40\n",
      "Non-trainable params: 0\n",
      "_________________________________________________________________\n"
     ]
    }
   ],
   "source": [
    "input_layer5 = Input(shape=(4,), name=\"input5\")\n",
    "model5 = Model(input_layer5, model2(model1(input_layer5)), name=\"model5\")\n",
    "model5.summary()"
   ]
  },
  {
   "cell_type": "code",
   "execution_count": 24,
   "metadata": {},
   "outputs": [
    {
     "data": {
      "image/svg+xml": [
       "<svg height=\"221pt\" viewBox=\"0.00 0.00 256.00 221.00\" width=\"256pt\" xmlns=\"http://www.w3.org/2000/svg\" xmlns:xlink=\"http://www.w3.org/1999/xlink\">\n",
       "<g class=\"graph\" id=\"graph0\" transform=\"scale(1 1) rotate(0) translate(4 217)\">\n",
       "<title>G</title>\n",
       "<polygon fill=\"white\" points=\"-4,4 -4,-217 252,-217 252,4 -4,4\" stroke=\"none\"/>\n",
       "<!-- 2337062709064 -->\n",
       "<g class=\"node\" id=\"node1\"><title>2337062709064</title>\n",
       "<polygon fill=\"none\" points=\"1.5,-166.5 1.5,-212.5 246.5,-212.5 246.5,-166.5 1.5,-166.5\" stroke=\"black\"/>\n",
       "<text font-family=\"Times New Roman,serif\" font-size=\"14.00\" text-anchor=\"middle\" x=\"61\" y=\"-185.8\">input5: InputLayer</text>\n",
       "<polyline fill=\"none\" points=\"120.5,-166.5 120.5,-212.5 \" stroke=\"black\"/>\n",
       "<text font-family=\"Times New Roman,serif\" font-size=\"14.00\" text-anchor=\"middle\" x=\"148.5\" y=\"-197.3\">input:</text>\n",
       "<polyline fill=\"none\" points=\"120.5,-189.5 176.5,-189.5 \" stroke=\"black\"/>\n",
       "<text font-family=\"Times New Roman,serif\" font-size=\"14.00\" text-anchor=\"middle\" x=\"148.5\" y=\"-174.3\">output:</text>\n",
       "<polyline fill=\"none\" points=\"176.5,-166.5 176.5,-212.5 \" stroke=\"black\"/>\n",
       "<text font-family=\"Times New Roman,serif\" font-size=\"14.00\" text-anchor=\"middle\" x=\"211.5\" y=\"-197.3\">(None, 4)</text>\n",
       "<polyline fill=\"none\" points=\"176.5,-189.5 246.5,-189.5 \" stroke=\"black\"/>\n",
       "<text font-family=\"Times New Roman,serif\" font-size=\"14.00\" text-anchor=\"middle\" x=\"211.5\" y=\"-174.3\">(None, 4)</text>\n",
       "</g>\n",
       "<!-- 2337060043800 -->\n",
       "<g class=\"node\" id=\"node2\"><title>2337060043800</title>\n",
       "<polygon fill=\"none\" points=\"0,-83.5 0,-129.5 248,-129.5 248,-83.5 0,-83.5\" stroke=\"black\"/>\n",
       "<text font-family=\"Times New Roman,serif\" font-size=\"14.00\" text-anchor=\"middle\" x=\"61\" y=\"-102.8\">model1: Sequential</text>\n",
       "<polyline fill=\"none\" points=\"122,-83.5 122,-129.5 \" stroke=\"black\"/>\n",
       "<text font-family=\"Times New Roman,serif\" font-size=\"14.00\" text-anchor=\"middle\" x=\"150\" y=\"-114.3\">input:</text>\n",
       "<polyline fill=\"none\" points=\"122,-106.5 178,-106.5 \" stroke=\"black\"/>\n",
       "<text font-family=\"Times New Roman,serif\" font-size=\"14.00\" text-anchor=\"middle\" x=\"150\" y=\"-91.3\">output:</text>\n",
       "<polyline fill=\"none\" points=\"178,-83.5 178,-129.5 \" stroke=\"black\"/>\n",
       "<text font-family=\"Times New Roman,serif\" font-size=\"14.00\" text-anchor=\"middle\" x=\"213\" y=\"-114.3\">(None, 4)</text>\n",
       "<polyline fill=\"none\" points=\"178,-106.5 248,-106.5 \" stroke=\"black\"/>\n",
       "<text font-family=\"Times New Roman,serif\" font-size=\"14.00\" text-anchor=\"middle\" x=\"213\" y=\"-91.3\">(None, 4)</text>\n",
       "</g>\n",
       "<!-- 2337062709064&#45;&gt;2337060043800 -->\n",
       "<g class=\"edge\" id=\"edge1\"><title>2337062709064-&gt;2337060043800</title>\n",
       "<path d=\"M124,-166.366C124,-158.152 124,-148.658 124,-139.725\" fill=\"none\" stroke=\"black\"/>\n",
       "<polygon fill=\"black\" points=\"127.5,-139.607 124,-129.607 120.5,-139.607 127.5,-139.607\" stroke=\"black\"/>\n",
       "</g>\n",
       "<!-- 2337062223600 -->\n",
       "<g class=\"node\" id=\"node3\"><title>2337062223600</title>\n",
       "<polygon fill=\"none\" points=\"10.5,-0.5 10.5,-46.5 237.5,-46.5 237.5,-0.5 10.5,-0.5\" stroke=\"black\"/>\n",
       "<text font-family=\"Times New Roman,serif\" font-size=\"14.00\" text-anchor=\"middle\" x=\"61\" y=\"-19.8\">model2: Model</text>\n",
       "<polyline fill=\"none\" points=\"111.5,-0.5 111.5,-46.5 \" stroke=\"black\"/>\n",
       "<text font-family=\"Times New Roman,serif\" font-size=\"14.00\" text-anchor=\"middle\" x=\"139.5\" y=\"-31.3\">input:</text>\n",
       "<polyline fill=\"none\" points=\"111.5,-23.5 167.5,-23.5 \" stroke=\"black\"/>\n",
       "<text font-family=\"Times New Roman,serif\" font-size=\"14.00\" text-anchor=\"middle\" x=\"139.5\" y=\"-8.3\">output:</text>\n",
       "<polyline fill=\"none\" points=\"167.5,-0.5 167.5,-46.5 \" stroke=\"black\"/>\n",
       "<text font-family=\"Times New Roman,serif\" font-size=\"14.00\" text-anchor=\"middle\" x=\"202.5\" y=\"-31.3\">(None, 4)</text>\n",
       "<polyline fill=\"none\" points=\"167.5,-23.5 237.5,-23.5 \" stroke=\"black\"/>\n",
       "<text font-family=\"Times New Roman,serif\" font-size=\"14.00\" text-anchor=\"middle\" x=\"202.5\" y=\"-8.3\">(None, 4)</text>\n",
       "</g>\n",
       "<!-- 2337060043800&#45;&gt;2337062223600 -->\n",
       "<g class=\"edge\" id=\"edge2\"><title>2337060043800-&gt;2337062223600</title>\n",
       "<path d=\"M124,-83.3664C124,-75.1516 124,-65.6579 124,-56.7252\" fill=\"none\" stroke=\"black\"/>\n",
       "<polygon fill=\"black\" points=\"127.5,-56.6068 124,-46.6068 120.5,-56.6069 127.5,-56.6068\" stroke=\"black\"/>\n",
       "</g>\n",
       "</g>\n",
       "</svg>"
      ],
      "text/plain": [
       "<IPython.core.display.SVG object>"
      ]
     },
     "execution_count": 24,
     "metadata": {},
     "output_type": "execute_result"
    }
   ],
   "source": [
    "SVG(model_to_dot(model5, show_shapes=True).create(prog='dot', format='svg'))"
   ]
  },
  {
   "cell_type": "code",
   "execution_count": 25,
   "metadata": {},
   "outputs": [
    {
     "data": {
      "text/plain": [
       "array([[0.82399994, 0.53757536, 0.71565944, 0.8425977 ]], dtype=float32)"
      ]
     },
     "execution_count": 25,
     "metadata": {},
     "output_type": "execute_result"
    }
   ],
   "source": [
    "model5.predict(data)"
   ]
  },
  {
   "cell_type": "code",
   "execution_count": 26,
   "metadata": {},
   "outputs": [
    {
     "data": {
      "text/plain": [
       "array([[0.82399994, 0.5375754 , 0.71565945, 0.84259771]])"
      ]
     },
     "execution_count": 26,
     "metadata": {},
     "output_type": "execute_result"
    }
   ],
   "source": [
    "y2 = 1 / (1 + np.exp(-(w.T).dot(y)))\n",
    "y2.T"
   ]
  },
  {
   "cell_type": "markdown",
   "metadata": {},
   "source": [
    "sigmoid를 두 번 겪은 결과값"
   ]
  }
 ],
 "metadata": {
  "kernelspec": {
   "display_name": "Python 3",
   "language": "python",
   "name": "python3"
  },
  "language_info": {
   "codemirror_mode": {
    "name": "ipython",
    "version": 3
   },
   "file_extension": ".py",
   "mimetype": "text/x-python",
   "name": "python",
   "nbconvert_exporter": "python",
   "pygments_lexer": "ipython3",
   "version": "3.6.6"
  }
 },
 "nbformat": 4,
 "nbformat_minor": 2
}
