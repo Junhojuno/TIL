{
 "cells": [
  {
   "cell_type": "code",
   "execution_count": 16,
   "metadata": {},
   "outputs": [],
   "source": [
    "from sklearn.datasets import load_boston\n",
    "\n",
    "boston = load_boston()\n",
    "dfX0_boston = pd.DataFrame(boston.data, columns=boston.feature_names)\n",
    "# dfX_boston = sm.add_constant(dfX0_boston)\n",
    "dfy_boston = pd.DataFrame(boston.target, columns=[\"MEDV\"])\n",
    "df_boston = pd.concat([dfX0_boston, dfy_boston], axis=1)"
   ]
  },
  {
   "cell_type": "code",
   "execution_count": 21,
   "metadata": {},
   "outputs": [
    {
     "name": "stdout",
     "output_type": "stream",
     "text": [
      "                            OLS Regression Results                            \n",
      "==============================================================================\n",
      "Dep. Variable:                   MEDV   R-squared:                       0.741\n",
      "Model:                            OLS   Adj. R-squared:                  0.734\n",
      "Method:                 Least Squares   F-statistic:                     108.1\n",
      "Date:                Sat, 30 Jun 2018   Prob (F-statistic):          6.95e-135\n",
      "Time:                        14:59:25   Log-Likelihood:                -1498.8\n",
      "No. Observations:                 506   AIC:                             3026.\n",
      "Df Residuals:                     492   BIC:                             3085.\n",
      "Df Model:                          13                                         \n",
      "Covariance Type:            nonrobust                                         \n",
      "================================================================================\n",
      "                   coef    std err          t      P>|t|      [0.025      0.975]\n",
      "--------------------------------------------------------------------------------\n",
      "C(CHAS)[0.0]    36.4911      5.104      7.149      0.000      26.462      46.520\n",
      "C(CHAS)[1.0]    39.1797      5.154      7.603      0.000      29.054      49.305\n",
      "CRIM            -0.1072      0.033     -3.276      0.001      -0.171      -0.043\n",
      "ZN               0.0464      0.014      3.380      0.001       0.019       0.073\n",
      "INDUS            0.0209      0.061      0.339      0.735      -0.100       0.142\n",
      "NOX            -17.7958      3.821     -4.658      0.000     -25.302     -10.289\n",
      "RM               3.8048      0.418      9.102      0.000       2.983       4.626\n",
      "AGE              0.0008      0.013      0.057      0.955      -0.025       0.027\n",
      "DIS             -1.4758      0.199     -7.398      0.000      -1.868      -1.084\n",
      "RAD              0.3057      0.066      4.608      0.000       0.175       0.436\n",
      "TAX             -0.0123      0.004     -3.278      0.001      -0.020      -0.005\n",
      "PTRATIO         -0.9535      0.131     -7.287      0.000      -1.211      -0.696\n",
      "B                0.0094      0.003      3.500      0.001       0.004       0.015\n",
      "LSTAT           -0.5255      0.051    -10.366      0.000      -0.625      -0.426\n",
      "==============================================================================\n",
      "Omnibus:                      178.029   Durbin-Watson:                   1.078\n",
      "Prob(Omnibus):                  0.000   Jarque-Bera (JB):              782.015\n",
      "Skew:                           1.521   Prob(JB):                    1.54e-170\n",
      "Kurtosis:                       8.276   Cond. No.                     2.01e+04\n",
      "==============================================================================\n",
      "\n",
      "Warnings:\n",
      "[1] Standard Errors assume that the covariance matrix of the errors is correctly specified.\n",
      "[2] The condition number is large, 2.01e+04. This might indicate that there are\n",
      "strong multicollinearity or other numerical problems.\n"
     ]
    }
   ],
   "source": [
    "model = sm.OLS.from_formula(\"MEDV ~ CRIM + ZN + INDUS + NOX + RM + AGE + DIS + RAD + TAX + PTRATIO + B + LSTAT + C(CHAS) - 1\", df_boston)\n",
    "result = model.fit()\n",
    "print(result.summary())"
   ]
  },
  {
   "cell_type": "code",
   "execution_count": 12,
   "metadata": {},
   "outputs": [],
   "source": [
    "from sklearn.datasets import load_boston\n",
    "\n",
    "boston = load_boston()\n",
    "dfX0_boston = pd.DataFrame(boston.data, columns=boston.feature_names)\n",
    "dfX_boston = sm.add_constant(dfX0_boston)\n",
    "dfy_boston = pd.DataFrame(boston.target, columns=[\"MEDV\"])\n",
    "df_boston = pd.concat([dfX_boston, dfy_boston], axis=1)"
   ]
  },
  {
   "cell_type": "code",
   "execution_count": 25,
   "metadata": {},
   "outputs": [
    {
     "name": "stdout",
     "output_type": "stream",
     "text": [
      "                            OLS Regression Results                            \n",
      "==============================================================================\n",
      "Dep. Variable:                   MEDV   R-squared:                       0.741\n",
      "Model:                            OLS   Adj. R-squared:                  0.734\n",
      "Method:                 Least Squares   F-statistic:                     108.1\n",
      "Date:                Sat, 30 Jun 2018   Prob (F-statistic):          6.95e-135\n",
      "Time:                        16:12:56   Log-Likelihood:                -1498.8\n",
      "No. Observations:                 506   AIC:                             3026.\n",
      "Df Residuals:                     492   BIC:                             3085.\n",
      "Df Model:                          13                                         \n",
      "Covariance Type:            nonrobust                                         \n",
      "================================================================================\n",
      "                   coef    std err          t      P>|t|      [0.025      0.975]\n",
      "--------------------------------------------------------------------------------\n",
      "C(CHAS)[0.0]    36.4911      5.104      7.149      0.000      26.462      46.520\n",
      "C(CHAS)[1.0]    39.1797      5.154      7.603      0.000      29.054      49.305\n",
      "CRIM            -0.1072      0.033     -3.276      0.001      -0.171      -0.043\n",
      "ZN               0.0464      0.014      3.380      0.001       0.019       0.073\n",
      "INDUS            0.0209      0.061      0.339      0.735      -0.100       0.142\n",
      "NOX            -17.7958      3.821     -4.658      0.000     -25.302     -10.289\n",
      "RM               3.8048      0.418      9.102      0.000       2.983       4.626\n",
      "AGE              0.0008      0.013      0.057      0.955      -0.025       0.027\n",
      "DIS             -1.4758      0.199     -7.398      0.000      -1.868      -1.084\n",
      "RAD              0.3057      0.066      4.608      0.000       0.175       0.436\n",
      "TAX             -0.0123      0.004     -3.278      0.001      -0.020      -0.005\n",
      "PTRATIO         -0.9535      0.131     -7.287      0.000      -1.211      -0.696\n",
      "B                0.0094      0.003      3.500      0.001       0.004       0.015\n",
      "LSTAT           -0.5255      0.051    -10.366      0.000      -0.625      -0.426\n",
      "==============================================================================\n",
      "Omnibus:                      178.029   Durbin-Watson:                   1.078\n",
      "Prob(Omnibus):                  0.000   Jarque-Bera (JB):              782.015\n",
      "Skew:                           1.521   Prob(JB):                    1.54e-170\n",
      "Kurtosis:                       8.276   Cond. No.                     2.01e+04\n",
      "==============================================================================\n",
      "\n",
      "Warnings:\n",
      "[1] Standard Errors assume that the covariance matrix of the errors is correctly specified.\n",
      "[2] The condition number is large, 2.01e+04. This might indicate that there are\n",
      "strong multicollinearity or other numerical problems.\n"
     ]
    }
   ],
   "source": [
    "model = sm.OLS.from_formula(\"MEDV ~ CRIM + ZN + INDUS + NOX + RM + AGE + DIS + RAD + TAX + PTRATIO + B + LSTAT + C(CHAS) -1\", df_boston)\n",
    "result = model.fit()\n",
    "print(result.summary())"
   ]
  },
  {
   "cell_type": "code",
   "execution_count": null,
   "metadata": {},
   "outputs": [],
   "source": []
  }
 ],
 "metadata": {
  "kernelspec": {
   "display_name": "Python 3",
   "language": "python",
   "name": "python3"
  },
  "language_info": {
   "codemirror_mode": {
    "name": "ipython",
    "version": 3
   },
   "file_extension": ".py",
   "mimetype": "text/x-python",
   "name": "python",
   "nbconvert_exporter": "python",
   "pygments_lexer": "ipython3",
   "version": "3.6.4"
  }
 },
 "nbformat": 4,
 "nbformat_minor": 2
}
