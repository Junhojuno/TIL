{
 "cells": [
  {
   "cell_type": "markdown",
   "metadata": {},
   "source": [
    "## Scikit-Learn \n",
    "- 머신러닝 교육 및 실무를 위한 파이썬 패키지\n",
    "    - 벤치마크용 샘플 데이터 세트\n",
    "    - 데이터 전처리(preprocessing) 기능\n",
    "    - 지도 학습(Supervised learning) 모형\n",
    "    - 비지도 학습(Unsupervised learning) 모형\n",
    "    - 모형 평가 및 선택\n",
    "- 참고 사이트 : http://scikit-learn.org"
   ]
  },
  {
   "cell_type": "markdown",
   "metadata": {},
   "source": [
    "#### 지도학습(Supervised learning) 모형\n",
    "- http://scikit-learn.org/stable/supervised_learning.html\n",
    "Generalized Linear Models\n",
    "    - Ordinary Least Squares\n",
    "    - Ridge/Lasso/Elastic Net Regression\n",
    "    - Logistic regression\n",
    "    - Polynomial regression\n",
    "    - Perceptron\n",
    "- Linear and Quadratic Discriminant Analysis\n",
    "- Support Vector Machines\n",
    "- Stochastic Gradient Descent\n",
    "- Nearest Neighbor Algorithms\n",
    "- Gaussian Processes\n",
    "- Naive Bayes\n",
    "- Decision Trees\n",
    "- Ensemble methods\n",
    "    - Random Forests\n",
    "    - AdaBoost"
   ]
  },
  {
   "cell_type": "markdown",
   "metadata": {},
   "source": [
    "#### 비지도학습(Unsupervised learning) 모형\n",
    "- http://scikit-learn.org/stable/unsupervised_learning.html\n",
    "- Gaussian mixture models\n",
    "- Manifold learning\n",
    "- Clustering\n",
    "    - K-means\n",
    "    - DBSCAN\n",
    "- Biclustering\n",
    "- Decomposing\n",
    "    - Principal component analysis (PCA)\n",
    "    - Factor Analysis\n",
    "    - Independent component analysis (ICA)\n",
    "    - Latent Dirichlet Allocation (LDA)\n",
    "- Covariance estimation\n",
    "- Novelty and Outlier Detection\n",
    "- Density Estimation"
   ]
  },
  {
   "cell_type": "markdown",
   "metadata": {},
   "source": [
    "#### 데이터셋 불러오는 명령(세가지 계열)\n",
    "- load 계열 명령: 저장된 dataset import (scikit learn 설치와 동시에 다운)\n",
    "- fetch 계열 명령: 인터넷에서 캐쉬로 download 후 import (용량이 커서)\n",
    "- make 계열 명령: 가상 dataset을 생성"
   ]
  },
  {
   "cell_type": "markdown",
   "metadata": {},
   "source": [
    "#### 데이터 셋 형식\n",
    "- data: (필수) 독립 변수 ndarray 배열\n",
    "- target: (필수) 종속 변수 ndarray 배열\n",
    "- feature_names: (옵션) 독립 변수 이름 리스트\n",
    "- target_names: (옵션) 종속 변수 이름 리스트\n",
    "- DESCR: (옵션) 자료에 대한 설명"
   ]
  }
 ],
 "metadata": {
  "kernelspec": {
   "display_name": "Python 3",
   "language": "python",
   "name": "python3"
  },
  "language_info": {
   "codemirror_mode": {
    "name": "ipython",
    "version": 3
   },
   "file_extension": ".py",
   "mimetype": "text/x-python",
   "name": "python",
   "nbconvert_exporter": "python",
   "pygments_lexer": "ipython3",
   "version": "3.6.4"
  }
 },
 "nbformat": 4,
 "nbformat_minor": 2
}
